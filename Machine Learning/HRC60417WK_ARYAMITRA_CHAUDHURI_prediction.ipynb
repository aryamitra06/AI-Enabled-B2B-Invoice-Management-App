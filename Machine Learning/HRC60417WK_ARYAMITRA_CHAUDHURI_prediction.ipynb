{
 "cells": [
  {
   "cell_type": "markdown",
   "id": "wcq6dWzy1ZR0",
   "metadata": {
    "id": "wcq6dWzy1ZR0"
   },
   "source": [
    "# Payment Date Prediction "
   ]
  },
  {
   "cell_type": "markdown",
   "id": "2778654e",
   "metadata": {
    "id": "2778654e"
   },
   "source": [
    "\n",
    "### Importing related Libraries "
   ]
  },
  {
   "cell_type": "code",
   "execution_count": 1,
   "id": "304c9e38",
   "metadata": {
    "id": "304c9e38"
   },
   "outputs": [],
   "source": [
    "import pandas as pd\n",
    "import numpy as np \n",
    "from sklearn.feature_selection import VarianceThreshold\n",
    "from sklearn.model_selection import train_test_split\n",
    "import matplotlib.pyplot as plt\n",
    "from matplotlib import style\n",
    "import seaborn as sns\n",
    "from category_encoders import TargetEncoder\n",
    "from sklearn.preprocessing import StandardScaler, MinMaxScaler, LabelEncoder\n",
    "import warnings\n",
    "warnings.filterwarnings('ignore')"
   ]
  },
  {
   "cell_type": "markdown",
   "id": "8724f5ee",
   "metadata": {
    "id": "8724f5ee"
   },
   "source": [
    "### Store the dataset into the Dataframe\n"
   ]
  },
  {
   "cell_type": "code",
   "execution_count": 2,
   "id": "415db50a",
   "metadata": {
    "id": "415db50a"
   },
   "outputs": [],
   "source": [
    "df = pd.read_csv(\"dataset.csv\")"
   ]
  },
  {
   "cell_type": "markdown",
   "id": "42e37f05",
   "metadata": {
    "id": "42e37f05"
   },
   "source": [
    "### Check the shape of the dataframe\n"
   ]
  },
  {
   "cell_type": "code",
   "execution_count": 3,
   "id": "27cc0907",
   "metadata": {
    "id": "27cc0907"
   },
   "outputs": [
    {
     "data": {
      "text/plain": [
       "(50000, 19)"
      ]
     },
     "execution_count": 3,
     "metadata": {},
     "output_type": "execute_result"
    }
   ],
   "source": [
    "df.shape"
   ]
  },
  {
   "cell_type": "markdown",
   "id": "b68c955d",
   "metadata": {
    "id": "b68c955d"
   },
   "source": [
    "### Check the Detail information of the dataframe"
   ]
  },
  {
   "cell_type": "code",
   "execution_count": 4,
   "id": "e092ec9e",
   "metadata": {
    "id": "e092ec9e"
   },
   "outputs": [
    {
     "name": "stdout",
     "output_type": "stream",
     "text": [
      "<class 'pandas.core.frame.DataFrame'>\n",
      "RangeIndex: 50000 entries, 0 to 49999\n",
      "Data columns (total 19 columns):\n",
      " #   Column                  Non-Null Count  Dtype  \n",
      "---  ------                  --------------  -----  \n",
      " 0   business_code           50000 non-null  object \n",
      " 1   cust_number             50000 non-null  object \n",
      " 2   name_customer           50000 non-null  object \n",
      " 3   clear_date              40000 non-null  object \n",
      " 4   buisness_year           50000 non-null  int64  \n",
      " 5   doc_id                  50000 non-null  int64  \n",
      " 6   posting_date            50000 non-null  object \n",
      " 7   document_create_date    50000 non-null  int64  \n",
      " 8   document_create_date.1  50000 non-null  int64  \n",
      " 9   due_in_date             50000 non-null  int64  \n",
      " 10  invoice_currency        50000 non-null  object \n",
      " 11  document type           50000 non-null  object \n",
      " 12  posting_id              50000 non-null  int64  \n",
      " 13  area_business           0 non-null      float64\n",
      " 14  total_open_amount       50000 non-null  float64\n",
      " 15  baseline_create_date    50000 non-null  int64  \n",
      " 16  cust_payment_terms      50000 non-null  object \n",
      " 17  invoice_id              49994 non-null  float64\n",
      " 18  isOpen                  50000 non-null  int64  \n",
      "dtypes: float64(3), int64(8), object(8)\n",
      "memory usage: 7.2+ MB\n"
     ]
    }
   ],
   "source": [
    "df.info()"
   ]
  },
  {
   "cell_type": "markdown",
   "id": "112f2d0e",
   "metadata": {
    "id": "112f2d0e"
   },
   "source": [
    "### Display All the column names"
   ]
  },
  {
   "cell_type": "code",
   "execution_count": 5,
   "id": "1416e2fd",
   "metadata": {
    "id": "1416e2fd"
   },
   "outputs": [
    {
     "data": {
      "text/plain": [
       "Index(['business_code', 'cust_number', 'name_customer', 'clear_date',\n",
       "       'buisness_year', 'doc_id', 'posting_date', 'document_create_date',\n",
       "       'document_create_date.1', 'due_in_date', 'invoice_currency',\n",
       "       'document type', 'posting_id', 'area_business', 'total_open_amount',\n",
       "       'baseline_create_date', 'cust_payment_terms', 'invoice_id', 'isOpen'],\n",
       "      dtype='object')"
      ]
     },
     "execution_count": 5,
     "metadata": {},
     "output_type": "execute_result"
    }
   ],
   "source": [
    "df.columns"
   ]
  },
  {
   "cell_type": "markdown",
   "id": "d465ed7a",
   "metadata": {
    "id": "d465ed7a"
   },
   "source": [
    "### Describe the entire dataset"
   ]
  },
  {
   "cell_type": "code",
   "execution_count": 6,
   "id": "25f65e1b",
   "metadata": {
    "id": "25f65e1b"
   },
   "outputs": [
    {
     "data": {
      "text/html": [
       "<div>\n",
       "<style scoped>\n",
       "    .dataframe tbody tr th:only-of-type {\n",
       "        vertical-align: middle;\n",
       "    }\n",
       "\n",
       "    .dataframe tbody tr th {\n",
       "        vertical-align: top;\n",
       "    }\n",
       "\n",
       "    .dataframe thead th {\n",
       "        text-align: right;\n",
       "    }\n",
       "</style>\n",
       "<table border=\"1\" class=\"dataframe\">\n",
       "  <thead>\n",
       "    <tr style=\"text-align: right;\">\n",
       "      <th></th>\n",
       "      <th>buisness_year</th>\n",
       "      <th>doc_id</th>\n",
       "      <th>document_create_date</th>\n",
       "      <th>document_create_date.1</th>\n",
       "      <th>due_in_date</th>\n",
       "      <th>posting_id</th>\n",
       "      <th>area_business</th>\n",
       "      <th>total_open_amount</th>\n",
       "      <th>baseline_create_date</th>\n",
       "      <th>invoice_id</th>\n",
       "      <th>isOpen</th>\n",
       "    </tr>\n",
       "  </thead>\n",
       "  <tbody>\n",
       "    <tr>\n",
       "      <th>count</th>\n",
       "      <td>50000.000000</td>\n",
       "      <td>5.000000e+04</td>\n",
       "      <td>5.000000e+04</td>\n",
       "      <td>5.000000e+04</td>\n",
       "      <td>5.000000e+04</td>\n",
       "      <td>50000.0</td>\n",
       "      <td>0.0</td>\n",
       "      <td>50000.000000</td>\n",
       "      <td>5.000000e+04</td>\n",
       "      <td>4.999400e+04</td>\n",
       "      <td>50000.000000</td>\n",
       "    </tr>\n",
       "    <tr>\n",
       "      <th>mean</th>\n",
       "      <td>2019.305700</td>\n",
       "      <td>2.012238e+09</td>\n",
       "      <td>2.019351e+07</td>\n",
       "      <td>2.019354e+07</td>\n",
       "      <td>2.019368e+07</td>\n",
       "      <td>1.0</td>\n",
       "      <td>NaN</td>\n",
       "      <td>32337.021651</td>\n",
       "      <td>2.019354e+07</td>\n",
       "      <td>2.011340e+09</td>\n",
       "      <td>0.200000</td>\n",
       "    </tr>\n",
       "    <tr>\n",
       "      <th>std</th>\n",
       "      <td>0.460708</td>\n",
       "      <td>2.885235e+08</td>\n",
       "      <td>4.496041e+03</td>\n",
       "      <td>4.482134e+03</td>\n",
       "      <td>4.470614e+03</td>\n",
       "      <td>0.0</td>\n",
       "      <td>NaN</td>\n",
       "      <td>39205.975231</td>\n",
       "      <td>4.482701e+03</td>\n",
       "      <td>2.766335e+08</td>\n",
       "      <td>0.400004</td>\n",
       "    </tr>\n",
       "    <tr>\n",
       "      <th>min</th>\n",
       "      <td>2019.000000</td>\n",
       "      <td>1.928502e+09</td>\n",
       "      <td>2.018123e+07</td>\n",
       "      <td>2.018123e+07</td>\n",
       "      <td>2.018122e+07</td>\n",
       "      <td>1.0</td>\n",
       "      <td>NaN</td>\n",
       "      <td>0.720000</td>\n",
       "      <td>2.018121e+07</td>\n",
       "      <td>1.928502e+09</td>\n",
       "      <td>0.000000</td>\n",
       "    </tr>\n",
       "    <tr>\n",
       "      <th>25%</th>\n",
       "      <td>2019.000000</td>\n",
       "      <td>1.929342e+09</td>\n",
       "      <td>2.019050e+07</td>\n",
       "      <td>2.019051e+07</td>\n",
       "      <td>2.019052e+07</td>\n",
       "      <td>1.0</td>\n",
       "      <td>NaN</td>\n",
       "      <td>4928.312500</td>\n",
       "      <td>2.019050e+07</td>\n",
       "      <td>1.929342e+09</td>\n",
       "      <td>0.000000</td>\n",
       "    </tr>\n",
       "    <tr>\n",
       "      <th>50%</th>\n",
       "      <td>2019.000000</td>\n",
       "      <td>1.929964e+09</td>\n",
       "      <td>2.019091e+07</td>\n",
       "      <td>2.019091e+07</td>\n",
       "      <td>2.019093e+07</td>\n",
       "      <td>1.0</td>\n",
       "      <td>NaN</td>\n",
       "      <td>17609.010000</td>\n",
       "      <td>2.019091e+07</td>\n",
       "      <td>1.929964e+09</td>\n",
       "      <td>0.000000</td>\n",
       "    </tr>\n",
       "    <tr>\n",
       "      <th>75%</th>\n",
       "      <td>2020.000000</td>\n",
       "      <td>1.930619e+09</td>\n",
       "      <td>2.020013e+07</td>\n",
       "      <td>2.020013e+07</td>\n",
       "      <td>2.020022e+07</td>\n",
       "      <td>1.0</td>\n",
       "      <td>NaN</td>\n",
       "      <td>47133.635000</td>\n",
       "      <td>2.020013e+07</td>\n",
       "      <td>1.930619e+09</td>\n",
       "      <td>0.000000</td>\n",
       "    </tr>\n",
       "    <tr>\n",
       "      <th>max</th>\n",
       "      <td>2020.000000</td>\n",
       "      <td>9.500000e+09</td>\n",
       "      <td>2.020052e+07</td>\n",
       "      <td>2.020052e+07</td>\n",
       "      <td>2.020071e+07</td>\n",
       "      <td>1.0</td>\n",
       "      <td>NaN</td>\n",
       "      <td>668593.360000</td>\n",
       "      <td>2.020052e+07</td>\n",
       "      <td>2.960636e+09</td>\n",
       "      <td>1.000000</td>\n",
       "    </tr>\n",
       "  </tbody>\n",
       "</table>\n",
       "</div>"
      ],
      "text/plain": [
       "       buisness_year        doc_id  document_create_date  \\\n",
       "count   50000.000000  5.000000e+04          5.000000e+04   \n",
       "mean     2019.305700  2.012238e+09          2.019351e+07   \n",
       "std         0.460708  2.885235e+08          4.496041e+03   \n",
       "min      2019.000000  1.928502e+09          2.018123e+07   \n",
       "25%      2019.000000  1.929342e+09          2.019050e+07   \n",
       "50%      2019.000000  1.929964e+09          2.019091e+07   \n",
       "75%      2020.000000  1.930619e+09          2.020013e+07   \n",
       "max      2020.000000  9.500000e+09          2.020052e+07   \n",
       "\n",
       "       document_create_date.1   due_in_date  posting_id  area_business  \\\n",
       "count            5.000000e+04  5.000000e+04     50000.0            0.0   \n",
       "mean             2.019354e+07  2.019368e+07         1.0            NaN   \n",
       "std              4.482134e+03  4.470614e+03         0.0            NaN   \n",
       "min              2.018123e+07  2.018122e+07         1.0            NaN   \n",
       "25%              2.019051e+07  2.019052e+07         1.0            NaN   \n",
       "50%              2.019091e+07  2.019093e+07         1.0            NaN   \n",
       "75%              2.020013e+07  2.020022e+07         1.0            NaN   \n",
       "max              2.020052e+07  2.020071e+07         1.0            NaN   \n",
       "\n",
       "       total_open_amount  baseline_create_date    invoice_id        isOpen  \n",
       "count       50000.000000          5.000000e+04  4.999400e+04  50000.000000  \n",
       "mean        32337.021651          2.019354e+07  2.011340e+09      0.200000  \n",
       "std         39205.975231          4.482701e+03  2.766335e+08      0.400004  \n",
       "min             0.720000          2.018121e+07  1.928502e+09      0.000000  \n",
       "25%          4928.312500          2.019050e+07  1.929342e+09      0.000000  \n",
       "50%         17609.010000          2.019091e+07  1.929964e+09      0.000000  \n",
       "75%         47133.635000          2.020013e+07  1.930619e+09      0.000000  \n",
       "max        668593.360000          2.020052e+07  2.960636e+09      1.000000  "
      ]
     },
     "execution_count": 6,
     "metadata": {},
     "output_type": "execute_result"
    }
   ],
   "source": [
    "df.describe()"
   ]
  },
  {
   "cell_type": "markdown",
   "id": "0f2c8d02",
   "metadata": {
    "id": "0f2c8d02"
   },
   "source": [
    "# Data Cleaning\n",
    "\n",
    "- Show top 5 records from the dataset"
   ]
  },
  {
   "cell_type": "code",
   "execution_count": 7,
   "id": "8f876212",
   "metadata": {
    "id": "8f876212"
   },
   "outputs": [
    {
     "data": {
      "text/html": [
       "<div>\n",
       "<style scoped>\n",
       "    .dataframe tbody tr th:only-of-type {\n",
       "        vertical-align: middle;\n",
       "    }\n",
       "\n",
       "    .dataframe tbody tr th {\n",
       "        vertical-align: top;\n",
       "    }\n",
       "\n",
       "    .dataframe thead th {\n",
       "        text-align: right;\n",
       "    }\n",
       "</style>\n",
       "<table border=\"1\" class=\"dataframe\">\n",
       "  <thead>\n",
       "    <tr style=\"text-align: right;\">\n",
       "      <th></th>\n",
       "      <th>business_code</th>\n",
       "      <th>cust_number</th>\n",
       "      <th>name_customer</th>\n",
       "      <th>clear_date</th>\n",
       "      <th>buisness_year</th>\n",
       "      <th>doc_id</th>\n",
       "      <th>posting_date</th>\n",
       "      <th>document_create_date</th>\n",
       "      <th>document_create_date.1</th>\n",
       "      <th>due_in_date</th>\n",
       "      <th>invoice_currency</th>\n",
       "      <th>document type</th>\n",
       "      <th>posting_id</th>\n",
       "      <th>area_business</th>\n",
       "      <th>total_open_amount</th>\n",
       "      <th>baseline_create_date</th>\n",
       "      <th>cust_payment_terms</th>\n",
       "      <th>invoice_id</th>\n",
       "      <th>isOpen</th>\n",
       "    </tr>\n",
       "  </thead>\n",
       "  <tbody>\n",
       "    <tr>\n",
       "      <th>0</th>\n",
       "      <td>U001</td>\n",
       "      <td>200769623</td>\n",
       "      <td>WAL-MAR corp</td>\n",
       "      <td>11-02-2020 00:00</td>\n",
       "      <td>2020</td>\n",
       "      <td>1930438491</td>\n",
       "      <td>26-01-2020</td>\n",
       "      <td>20200125</td>\n",
       "      <td>20200126</td>\n",
       "      <td>20200210</td>\n",
       "      <td>USD</td>\n",
       "      <td>RV</td>\n",
       "      <td>1</td>\n",
       "      <td>NaN</td>\n",
       "      <td>54273.28</td>\n",
       "      <td>20200126</td>\n",
       "      <td>NAH4</td>\n",
       "      <td>1.930438e+09</td>\n",
       "      <td>0</td>\n",
       "    </tr>\n",
       "    <tr>\n",
       "      <th>1</th>\n",
       "      <td>U001</td>\n",
       "      <td>200980828</td>\n",
       "      <td>BEN E</td>\n",
       "      <td>08-08-2019 00:00</td>\n",
       "      <td>2019</td>\n",
       "      <td>1929646410</td>\n",
       "      <td>22-07-2019</td>\n",
       "      <td>20190722</td>\n",
       "      <td>20190722</td>\n",
       "      <td>20190811</td>\n",
       "      <td>USD</td>\n",
       "      <td>RV</td>\n",
       "      <td>1</td>\n",
       "      <td>NaN</td>\n",
       "      <td>79656.60</td>\n",
       "      <td>20190722</td>\n",
       "      <td>NAD1</td>\n",
       "      <td>1.929646e+09</td>\n",
       "      <td>0</td>\n",
       "    </tr>\n",
       "    <tr>\n",
       "      <th>2</th>\n",
       "      <td>U001</td>\n",
       "      <td>200792734</td>\n",
       "      <td>MDV/ trust</td>\n",
       "      <td>30-12-2019 00:00</td>\n",
       "      <td>2019</td>\n",
       "      <td>1929873765</td>\n",
       "      <td>14-09-2019</td>\n",
       "      <td>20190914</td>\n",
       "      <td>20190914</td>\n",
       "      <td>20190929</td>\n",
       "      <td>USD</td>\n",
       "      <td>RV</td>\n",
       "      <td>1</td>\n",
       "      <td>NaN</td>\n",
       "      <td>2253.86</td>\n",
       "      <td>20190914</td>\n",
       "      <td>NAA8</td>\n",
       "      <td>1.929874e+09</td>\n",
       "      <td>0</td>\n",
       "    </tr>\n",
       "    <tr>\n",
       "      <th>3</th>\n",
       "      <td>CA02</td>\n",
       "      <td>140105686</td>\n",
       "      <td>SYSC llc</td>\n",
       "      <td>NaN</td>\n",
       "      <td>2020</td>\n",
       "      <td>2960623488</td>\n",
       "      <td>30-03-2020</td>\n",
       "      <td>20200330</td>\n",
       "      <td>20200330</td>\n",
       "      <td>20200410</td>\n",
       "      <td>CAD</td>\n",
       "      <td>RV</td>\n",
       "      <td>1</td>\n",
       "      <td>NaN</td>\n",
       "      <td>3299.70</td>\n",
       "      <td>20200331</td>\n",
       "      <td>CA10</td>\n",
       "      <td>2.960623e+09</td>\n",
       "      <td>1</td>\n",
       "    </tr>\n",
       "    <tr>\n",
       "      <th>4</th>\n",
       "      <td>U001</td>\n",
       "      <td>200769623</td>\n",
       "      <td>WAL-MAR foundation</td>\n",
       "      <td>25-11-2019 00:00</td>\n",
       "      <td>2019</td>\n",
       "      <td>1930147974</td>\n",
       "      <td>13-11-2019</td>\n",
       "      <td>20191113</td>\n",
       "      <td>20191113</td>\n",
       "      <td>20191128</td>\n",
       "      <td>USD</td>\n",
       "      <td>RV</td>\n",
       "      <td>1</td>\n",
       "      <td>NaN</td>\n",
       "      <td>33133.29</td>\n",
       "      <td>20191113</td>\n",
       "      <td>NAH4</td>\n",
       "      <td>1.930148e+09</td>\n",
       "      <td>0</td>\n",
       "    </tr>\n",
       "  </tbody>\n",
       "</table>\n",
       "</div>"
      ],
      "text/plain": [
       "  business_code cust_number       name_customer        clear_date  \\\n",
       "0          U001   200769623        WAL-MAR corp  11-02-2020 00:00   \n",
       "1          U001   200980828              BEN E   08-08-2019 00:00   \n",
       "2          U001   200792734          MDV/ trust  30-12-2019 00:00   \n",
       "3          CA02   140105686            SYSC llc               NaN   \n",
       "4          U001   200769623  WAL-MAR foundation  25-11-2019 00:00   \n",
       "\n",
       "   buisness_year      doc_id posting_date  document_create_date  \\\n",
       "0           2020  1930438491   26-01-2020              20200125   \n",
       "1           2019  1929646410   22-07-2019              20190722   \n",
       "2           2019  1929873765   14-09-2019              20190914   \n",
       "3           2020  2960623488   30-03-2020              20200330   \n",
       "4           2019  1930147974   13-11-2019              20191113   \n",
       "\n",
       "   document_create_date.1  due_in_date invoice_currency document type  \\\n",
       "0                20200126     20200210              USD            RV   \n",
       "1                20190722     20190811              USD            RV   \n",
       "2                20190914     20190929              USD            RV   \n",
       "3                20200330     20200410              CAD            RV   \n",
       "4                20191113     20191128              USD            RV   \n",
       "\n",
       "   posting_id  area_business  total_open_amount  baseline_create_date  \\\n",
       "0           1            NaN           54273.28              20200126   \n",
       "1           1            NaN           79656.60              20190722   \n",
       "2           1            NaN            2253.86              20190914   \n",
       "3           1            NaN            3299.70              20200331   \n",
       "4           1            NaN           33133.29              20191113   \n",
       "\n",
       "  cust_payment_terms    invoice_id  isOpen  \n",
       "0               NAH4  1.930438e+09       0  \n",
       "1               NAD1  1.929646e+09       0  \n",
       "2               NAA8  1.929874e+09       0  \n",
       "3               CA10  2.960623e+09       1  \n",
       "4               NAH4  1.930148e+09       0  "
      ]
     },
     "execution_count": 7,
     "metadata": {},
     "output_type": "execute_result"
    }
   ],
   "source": [
    "df.head()"
   ]
  },
  {
   "cell_type": "markdown",
   "id": "92b044e4",
   "metadata": {
    "id": "92b044e4"
   },
   "source": [
    "### Display the Null values percentage against every columns (compare to the total number of records)\n",
    "\n",
    "- Output expected : area_business - 100% null, clear_data = 20% null, invoice_id = 0.12% null"
   ]
  },
  {
   "cell_type": "code",
   "execution_count": 8,
   "id": "24c7b13d",
   "metadata": {
    "id": "24c7b13d"
   },
   "outputs": [
    {
     "data": {
      "text/plain": [
       "business_code               0.000\n",
       "cust_number                 0.000\n",
       "name_customer               0.000\n",
       "clear_date                 20.000\n",
       "buisness_year               0.000\n",
       "doc_id                      0.000\n",
       "posting_date                0.000\n",
       "document_create_date        0.000\n",
       "document_create_date.1      0.000\n",
       "due_in_date                 0.000\n",
       "invoice_currency            0.000\n",
       "document type               0.000\n",
       "posting_id                  0.000\n",
       "area_business             100.000\n",
       "total_open_amount           0.000\n",
       "baseline_create_date        0.000\n",
       "cust_payment_terms          0.000\n",
       "invoice_id                  0.012\n",
       "isOpen                      0.000\n",
       "dtype: float64"
      ]
     },
     "execution_count": 8,
     "metadata": {},
     "output_type": "execute_result"
    }
   ],
   "source": [
    "df.isnull().sum() * 100 / len(df)"
   ]
  },
  {
   "cell_type": "markdown",
   "id": "2c46a98b",
   "metadata": {
    "id": "2c46a98b"
   },
   "source": [
    "### Display Invoice_id and Doc_Id\n",
    "\n",
    "- Note - Many of the would have same invoice_id and doc_id\n"
   ]
  },
  {
   "cell_type": "code",
   "execution_count": 9,
   "id": "038f24bb",
   "metadata": {
    "id": "038f24bb"
   },
   "outputs": [
    {
     "data": {
      "text/html": [
       "<div>\n",
       "<style scoped>\n",
       "    .dataframe tbody tr th:only-of-type {\n",
       "        vertical-align: middle;\n",
       "    }\n",
       "\n",
       "    .dataframe tbody tr th {\n",
       "        vertical-align: top;\n",
       "    }\n",
       "\n",
       "    .dataframe thead th {\n",
       "        text-align: right;\n",
       "    }\n",
       "</style>\n",
       "<table border=\"1\" class=\"dataframe\">\n",
       "  <thead>\n",
       "    <tr style=\"text-align: right;\">\n",
       "      <th></th>\n",
       "      <th>invoice_id</th>\n",
       "      <th>doc_id</th>\n",
       "    </tr>\n",
       "  </thead>\n",
       "  <tbody>\n",
       "    <tr>\n",
       "      <th>0</th>\n",
       "      <td>1.930438e+09</td>\n",
       "      <td>1930438491</td>\n",
       "    </tr>\n",
       "    <tr>\n",
       "      <th>1</th>\n",
       "      <td>1.929646e+09</td>\n",
       "      <td>1929646410</td>\n",
       "    </tr>\n",
       "    <tr>\n",
       "      <th>2</th>\n",
       "      <td>1.929874e+09</td>\n",
       "      <td>1929873765</td>\n",
       "    </tr>\n",
       "    <tr>\n",
       "      <th>3</th>\n",
       "      <td>2.960623e+09</td>\n",
       "      <td>2960623488</td>\n",
       "    </tr>\n",
       "    <tr>\n",
       "      <th>4</th>\n",
       "      <td>1.930148e+09</td>\n",
       "      <td>1930147974</td>\n",
       "    </tr>\n",
       "    <tr>\n",
       "      <th>...</th>\n",
       "      <td>...</td>\n",
       "      <td>...</td>\n",
       "    </tr>\n",
       "    <tr>\n",
       "      <th>49995</th>\n",
       "      <td>1.930797e+09</td>\n",
       "      <td>1930797071</td>\n",
       "    </tr>\n",
       "    <tr>\n",
       "      <th>49996</th>\n",
       "      <td>1.929744e+09</td>\n",
       "      <td>1929744070</td>\n",
       "    </tr>\n",
       "    <tr>\n",
       "      <th>49997</th>\n",
       "      <td>1.930537e+09</td>\n",
       "      <td>1930536775</td>\n",
       "    </tr>\n",
       "    <tr>\n",
       "      <th>49998</th>\n",
       "      <td>1.930199e+09</td>\n",
       "      <td>1930198546</td>\n",
       "    </tr>\n",
       "    <tr>\n",
       "      <th>49999</th>\n",
       "      <td>1.928576e+09</td>\n",
       "      <td>1928576325</td>\n",
       "    </tr>\n",
       "  </tbody>\n",
       "</table>\n",
       "<p>50000 rows × 2 columns</p>\n",
       "</div>"
      ],
      "text/plain": [
       "         invoice_id      doc_id\n",
       "0      1.930438e+09  1930438491\n",
       "1      1.929646e+09  1929646410\n",
       "2      1.929874e+09  1929873765\n",
       "3      2.960623e+09  2960623488\n",
       "4      1.930148e+09  1930147974\n",
       "...             ...         ...\n",
       "49995  1.930797e+09  1930797071\n",
       "49996  1.929744e+09  1929744070\n",
       "49997  1.930537e+09  1930536775\n",
       "49998  1.930199e+09  1930198546\n",
       "49999  1.928576e+09  1928576325\n",
       "\n",
       "[50000 rows x 2 columns]"
      ]
     },
     "execution_count": 9,
     "metadata": {},
     "output_type": "execute_result"
    }
   ],
   "source": [
    "df[[\"invoice_id\", \"doc_id\"]]"
   ]
  },
  {
   "cell_type": "markdown",
   "id": "18cfe10a",
   "metadata": {
    "id": "18cfe10a"
   },
   "source": [
    "#### Write a code to check - 'baseline_create_date',\"document_create_date\",'document_create_date.1' - these columns are almost same.\n",
    "\n",
    "- Please note, if they are same, we need to drop them later\n",
    "\n"
   ]
  },
  {
   "cell_type": "code",
   "execution_count": 10,
   "id": "cf5b40ff",
   "metadata": {
    "id": "cf5b40ff"
   },
   "outputs": [
    {
     "name": "stdout",
     "output_type": "stream",
     "text": [
      "{False: 34037, True: 15963}\n"
     ]
    }
   ],
   "source": [
    "comparison_column = np.where(df[\"baseline_create_date\"] == df[\"document_create_date\"], True, False)\n",
    "df[\"equal\"] = comparison_column\n",
    "plot = dict(df['equal'].value_counts())\n",
    "print(plot)"
   ]
  },
  {
   "cell_type": "code",
   "execution_count": 11,
   "id": "5decc84d",
   "metadata": {},
   "outputs": [
    {
     "name": "stdout",
     "output_type": "stream",
     "text": [
      "{False: 28768, True: 21232}\n"
     ]
    }
   ],
   "source": [
    "comparison_column = np.where(df[\"document_create_date\"] == df[\"document_create_date.1\"], True, False)\n",
    "df[\"equal\"] = comparison_column\n",
    "plot = dict(df['equal'].value_counts())\n",
    "print(plot)"
   ]
  },
  {
   "cell_type": "code",
   "execution_count": 12,
   "id": "14e3ee55",
   "metadata": {},
   "outputs": [
    {
     "name": "stdout",
     "output_type": "stream",
     "text": [
      "{True: 44452, False: 5548}\n"
     ]
    }
   ],
   "source": [
    "comparison_column = np.where(df[\"baseline_create_date\"] == df[\"document_create_date.1\"], True, False)\n",
    "df[\"equal\"] = comparison_column\n",
    "plot = dict(df['equal'].value_counts())\n",
    "print(plot)"
   ]
  },
  {
   "cell_type": "markdown",
   "id": "33110576",
   "metadata": {
    "id": "33110576"
   },
   "source": [
    "#### Please check, Column 'posting_id' is constant columns or not\n"
   ]
  },
  {
   "cell_type": "code",
   "execution_count": 13,
   "id": "ecce2664",
   "metadata": {
    "id": "ecce2664"
   },
   "outputs": [
    {
     "name": "stdout",
     "output_type": "stream",
     "text": [
      "{1: 50000}\n"
     ]
    }
   ],
   "source": [
    "plot = dict(df['posting_id'].value_counts())\n",
    "print(plot)"
   ]
  },
  {
   "cell_type": "markdown",
   "id": "e5fb8daf",
   "metadata": {
    "id": "e5fb8daf"
   },
   "source": [
    "#### Please check 'isOpen' is a constant column and relevant column for this project or not"
   ]
  },
  {
   "cell_type": "code",
   "execution_count": 14,
   "id": "8db9956b",
   "metadata": {
    "id": "8db9956b"
   },
   "outputs": [
    {
     "name": "stdout",
     "output_type": "stream",
     "text": [
      "{0: 40000, 1: 10000}\n"
     ]
    }
   ],
   "source": [
    "plot = dict(df['isOpen'].value_counts())\n",
    "print(plot)\n",
    "#isOpen is not a constant column as I can see it contains 0 and 1."
   ]
  },
  {
   "cell_type": "markdown",
   "id": "45a11a62",
   "metadata": {
    "id": "45a11a62"
   },
   "source": [
    "### Write the code to drop all the following columns from the dataframe\n",
    "\n",
    "- 'area_business'\n",
    "- \"posting_id\"\n",
    "- \"invoice_id\"\n",
    "- \"document_create_date\"\n",
    "- \"isOpen\"\n",
    "- 'document type' \n",
    "- 'document_create_date.1"
   ]
  },
  {
   "cell_type": "code",
   "execution_count": 15,
   "id": "270d85d1",
   "metadata": {
    "id": "270d85d1"
   },
   "outputs": [],
   "source": [
    "df.drop(['area_business', 'posting_id', 'invoice_id', 'document_create_date', 'isOpen', 'document type', 'document_create_date.1', 'equal'], axis = 1, inplace=True)"
   ]
  },
  {
   "cell_type": "markdown",
   "id": "K5LHAM2XVGnk",
   "metadata": {
    "id": "K5LHAM2XVGnk"
   },
   "source": [
    "### Please check from the dataframe whether all the columns are removed or not "
   ]
  },
  {
   "cell_type": "code",
   "execution_count": 16,
   "id": "ef3f7d2b",
   "metadata": {
    "id": "ef3f7d2b"
   },
   "outputs": [
    {
     "data": {
      "text/plain": [
       "Index(['business_code', 'cust_number', 'name_customer', 'clear_date',\n",
       "       'buisness_year', 'doc_id', 'posting_date', 'due_in_date',\n",
       "       'invoice_currency', 'total_open_amount', 'baseline_create_date',\n",
       "       'cust_payment_terms'],\n",
       "      dtype='object')"
      ]
     },
     "execution_count": 16,
     "metadata": {},
     "output_type": "execute_result"
    }
   ],
   "source": [
    "df.columns"
   ]
  },
  {
   "cell_type": "markdown",
   "id": "6bc052c7",
   "metadata": {
    "id": "6bc052c7"
   },
   "source": [
    "### Show all the Duplicate rows from the dataframe"
   ]
  },
  {
   "cell_type": "code",
   "execution_count": 17,
   "id": "1ae3c7e4",
   "metadata": {
    "id": "1ae3c7e4"
   },
   "outputs": [
    {
     "data": {
      "text/html": [
       "<div>\n",
       "<style scoped>\n",
       "    .dataframe tbody tr th:only-of-type {\n",
       "        vertical-align: middle;\n",
       "    }\n",
       "\n",
       "    .dataframe tbody tr th {\n",
       "        vertical-align: top;\n",
       "    }\n",
       "\n",
       "    .dataframe thead th {\n",
       "        text-align: right;\n",
       "    }\n",
       "</style>\n",
       "<table border=\"1\" class=\"dataframe\">\n",
       "  <thead>\n",
       "    <tr style=\"text-align: right;\">\n",
       "      <th></th>\n",
       "      <th>business_code</th>\n",
       "      <th>cust_number</th>\n",
       "      <th>name_customer</th>\n",
       "      <th>clear_date</th>\n",
       "      <th>buisness_year</th>\n",
       "      <th>doc_id</th>\n",
       "      <th>posting_date</th>\n",
       "      <th>due_in_date</th>\n",
       "      <th>invoice_currency</th>\n",
       "      <th>total_open_amount</th>\n",
       "      <th>baseline_create_date</th>\n",
       "      <th>cust_payment_terms</th>\n",
       "    </tr>\n",
       "  </thead>\n",
       "  <tbody>\n",
       "    <tr>\n",
       "      <th>1041</th>\n",
       "      <td>U001</td>\n",
       "      <td>200769623</td>\n",
       "      <td>WAL-MAR in</td>\n",
       "      <td>12-03-2019 00:00</td>\n",
       "      <td>2019</td>\n",
       "      <td>1928870382</td>\n",
       "      <td>28-02-2019</td>\n",
       "      <td>20190315</td>\n",
       "      <td>USD</td>\n",
       "      <td>19557.41</td>\n",
       "      <td>20190228</td>\n",
       "      <td>NAH4</td>\n",
       "    </tr>\n",
       "    <tr>\n",
       "      <th>2400</th>\n",
       "      <td>U001</td>\n",
       "      <td>200769623</td>\n",
       "      <td>WAL-MAR trust</td>\n",
       "      <td>28-08-2019 00:00</td>\n",
       "      <td>2019</td>\n",
       "      <td>1929758460</td>\n",
       "      <td>18-08-2019</td>\n",
       "      <td>20190902</td>\n",
       "      <td>USD</td>\n",
       "      <td>5600.41</td>\n",
       "      <td>20190818</td>\n",
       "      <td>NAH4</td>\n",
       "    </tr>\n",
       "    <tr>\n",
       "      <th>2584</th>\n",
       "      <td>U001</td>\n",
       "      <td>200769623</td>\n",
       "      <td>WAL-MAR corporation</td>\n",
       "      <td>16-12-2019 00:00</td>\n",
       "      <td>2019</td>\n",
       "      <td>1930216806</td>\n",
       "      <td>04-12-2019</td>\n",
       "      <td>20191219</td>\n",
       "      <td>USD</td>\n",
       "      <td>35352.17</td>\n",
       "      <td>20191204</td>\n",
       "      <td>NAH4</td>\n",
       "    </tr>\n",
       "    <tr>\n",
       "      <th>3755</th>\n",
       "      <td>U001</td>\n",
       "      <td>200769623</td>\n",
       "      <td>WAL-MAR</td>\n",
       "      <td>22-11-2019 00:00</td>\n",
       "      <td>2019</td>\n",
       "      <td>1930137035</td>\n",
       "      <td>12-11-2019</td>\n",
       "      <td>20191127</td>\n",
       "      <td>USD</td>\n",
       "      <td>2982.64</td>\n",
       "      <td>20191112</td>\n",
       "      <td>NAH4</td>\n",
       "    </tr>\n",
       "    <tr>\n",
       "      <th>3873</th>\n",
       "      <td>CA02</td>\n",
       "      <td>140104409</td>\n",
       "      <td>LOB associates</td>\n",
       "      <td>NaN</td>\n",
       "      <td>2020</td>\n",
       "      <td>2960628616</td>\n",
       "      <td>14-04-2020</td>\n",
       "      <td>20200425</td>\n",
       "      <td>CAD</td>\n",
       "      <td>82975.82</td>\n",
       "      <td>20200415</td>\n",
       "      <td>CA10</td>\n",
       "    </tr>\n",
       "    <tr>\n",
       "      <th>...</th>\n",
       "      <td>...</td>\n",
       "      <td>...</td>\n",
       "      <td>...</td>\n",
       "      <td>...</td>\n",
       "      <td>...</td>\n",
       "      <td>...</td>\n",
       "      <td>...</td>\n",
       "      <td>...</td>\n",
       "      <td>...</td>\n",
       "      <td>...</td>\n",
       "      <td>...</td>\n",
       "      <td>...</td>\n",
       "    </tr>\n",
       "    <tr>\n",
       "      <th>49928</th>\n",
       "      <td>U001</td>\n",
       "      <td>200915438</td>\n",
       "      <td>GROC trust</td>\n",
       "      <td>15-08-2019 00:00</td>\n",
       "      <td>2019</td>\n",
       "      <td>1929645942</td>\n",
       "      <td>25-07-2019</td>\n",
       "      <td>20190809</td>\n",
       "      <td>USD</td>\n",
       "      <td>6969.00</td>\n",
       "      <td>20190725</td>\n",
       "      <td>NAA8</td>\n",
       "    </tr>\n",
       "    <tr>\n",
       "      <th>49963</th>\n",
       "      <td>U001</td>\n",
       "      <td>200759878</td>\n",
       "      <td>SA us</td>\n",
       "      <td>29-01-2019 00:00</td>\n",
       "      <td>2019</td>\n",
       "      <td>1928613993</td>\n",
       "      <td>13-01-2019</td>\n",
       "      <td>20190128</td>\n",
       "      <td>USD</td>\n",
       "      <td>10968.24</td>\n",
       "      <td>20190113</td>\n",
       "      <td>NAH4</td>\n",
       "    </tr>\n",
       "    <tr>\n",
       "      <th>49986</th>\n",
       "      <td>U001</td>\n",
       "      <td>200772670</td>\n",
       "      <td>ASSOCIAT foundation</td>\n",
       "      <td>12-06-2019 00:00</td>\n",
       "      <td>2019</td>\n",
       "      <td>1929403090</td>\n",
       "      <td>29-05-2019</td>\n",
       "      <td>20190613</td>\n",
       "      <td>USD</td>\n",
       "      <td>155837.53</td>\n",
       "      <td>20190529</td>\n",
       "      <td>NAU5</td>\n",
       "    </tr>\n",
       "    <tr>\n",
       "      <th>49990</th>\n",
       "      <td>U001</td>\n",
       "      <td>200765011</td>\n",
       "      <td>MAINES llc</td>\n",
       "      <td>06-06-2019 00:00</td>\n",
       "      <td>2019</td>\n",
       "      <td>1929365364</td>\n",
       "      <td>22-05-2019</td>\n",
       "      <td>20190606</td>\n",
       "      <td>USD</td>\n",
       "      <td>4008.05</td>\n",
       "      <td>20190522</td>\n",
       "      <td>NAA8</td>\n",
       "    </tr>\n",
       "    <tr>\n",
       "      <th>49991</th>\n",
       "      <td>U001</td>\n",
       "      <td>200704045</td>\n",
       "      <td>RA trust</td>\n",
       "      <td>25-10-2019 00:00</td>\n",
       "      <td>2019</td>\n",
       "      <td>1930001131</td>\n",
       "      <td>10-10-2019</td>\n",
       "      <td>20191025</td>\n",
       "      <td>USD</td>\n",
       "      <td>73002.24</td>\n",
       "      <td>20191010</td>\n",
       "      <td>NAA8</td>\n",
       "    </tr>\n",
       "  </tbody>\n",
       "</table>\n",
       "<p>1161 rows × 12 columns</p>\n",
       "</div>"
      ],
      "text/plain": [
       "      business_code cust_number        name_customer        clear_date  \\\n",
       "1041           U001   200769623           WAL-MAR in  12-03-2019 00:00   \n",
       "2400           U001   200769623        WAL-MAR trust  28-08-2019 00:00   \n",
       "2584           U001   200769623  WAL-MAR corporation  16-12-2019 00:00   \n",
       "3755           U001   200769623             WAL-MAR   22-11-2019 00:00   \n",
       "3873           CA02   140104409       LOB associates               NaN   \n",
       "...             ...         ...                  ...               ...   \n",
       "49928          U001   200915438           GROC trust  15-08-2019 00:00   \n",
       "49963          U001   200759878                SA us  29-01-2019 00:00   \n",
       "49986          U001   200772670  ASSOCIAT foundation  12-06-2019 00:00   \n",
       "49990          U001   200765011           MAINES llc  06-06-2019 00:00   \n",
       "49991          U001   200704045             RA trust  25-10-2019 00:00   \n",
       "\n",
       "       buisness_year      doc_id posting_date  due_in_date invoice_currency  \\\n",
       "1041            2019  1928870382   28-02-2019     20190315              USD   \n",
       "2400            2019  1929758460   18-08-2019     20190902              USD   \n",
       "2584            2019  1930216806   04-12-2019     20191219              USD   \n",
       "3755            2019  1930137035   12-11-2019     20191127              USD   \n",
       "3873            2020  2960628616   14-04-2020     20200425              CAD   \n",
       "...              ...         ...          ...          ...              ...   \n",
       "49928           2019  1929645942   25-07-2019     20190809              USD   \n",
       "49963           2019  1928613993   13-01-2019     20190128              USD   \n",
       "49986           2019  1929403090   29-05-2019     20190613              USD   \n",
       "49990           2019  1929365364   22-05-2019     20190606              USD   \n",
       "49991           2019  1930001131   10-10-2019     20191025              USD   \n",
       "\n",
       "       total_open_amount  baseline_create_date cust_payment_terms  \n",
       "1041            19557.41              20190228               NAH4  \n",
       "2400             5600.41              20190818               NAH4  \n",
       "2584            35352.17              20191204               NAH4  \n",
       "3755             2982.64              20191112               NAH4  \n",
       "3873            82975.82              20200415               CA10  \n",
       "...                  ...                   ...                ...  \n",
       "49928            6969.00              20190725               NAA8  \n",
       "49963           10968.24              20190113               NAH4  \n",
       "49986          155837.53              20190529               NAU5  \n",
       "49990            4008.05              20190522               NAA8  \n",
       "49991           73002.24              20191010               NAA8  \n",
       "\n",
       "[1161 rows x 12 columns]"
      ]
     },
     "execution_count": 17,
     "metadata": {},
     "output_type": "execute_result"
    }
   ],
   "source": [
    "df[df.duplicated()]"
   ]
  },
  {
   "cell_type": "markdown",
   "id": "464fab09",
   "metadata": {
    "id": "464fab09"
   },
   "source": [
    "### Display the Number of Duplicate Rows"
   ]
  },
  {
   "cell_type": "code",
   "execution_count": 18,
   "id": "b1ea2397",
   "metadata": {
    "id": "b1ea2397"
   },
   "outputs": [
    {
     "name": "stdout",
     "output_type": "stream",
     "text": [
      "1161\n"
     ]
    }
   ],
   "source": [
    "print(df.duplicated().sum())"
   ]
  },
  {
   "cell_type": "markdown",
   "id": "827a6718",
   "metadata": {
    "id": "827a6718"
   },
   "source": [
    "### Drop all the Duplicate Rows"
   ]
  },
  {
   "cell_type": "code",
   "execution_count": 19,
   "id": "5d10151c",
   "metadata": {
    "id": "5d10151c"
   },
   "outputs": [],
   "source": [
    "df.drop_duplicates(inplace = True)"
   ]
  },
  {
   "cell_type": "markdown",
   "id": "7e5d1f9b",
   "metadata": {
    "id": "7e5d1f9b"
   },
   "source": [
    "#### Now check for all duplicate rows now\n",
    "\n",
    "- Note - It must be 0 by now"
   ]
  },
  {
   "cell_type": "code",
   "execution_count": 20,
   "id": "9accc9fc",
   "metadata": {
    "id": "9accc9fc"
   },
   "outputs": [
    {
     "name": "stdout",
     "output_type": "stream",
     "text": [
      "0\n"
     ]
    }
   ],
   "source": [
    "print(df.duplicated().sum())"
   ]
  },
  {
   "cell_type": "markdown",
   "id": "d0704898",
   "metadata": {
    "id": "d0704898"
   },
   "source": [
    "### Check for the number of Rows and Columns in your dataset"
   ]
  },
  {
   "cell_type": "code",
   "execution_count": 21,
   "id": "582748a8",
   "metadata": {
    "id": "582748a8"
   },
   "outputs": [
    {
     "data": {
      "text/plain": [
       "(48839, 12)"
      ]
     },
     "execution_count": 21,
     "metadata": {},
     "output_type": "execute_result"
    }
   ],
   "source": [
    "df.shape"
   ]
  },
  {
   "cell_type": "markdown",
   "id": "4o9c5UodWRtl",
   "metadata": {
    "id": "4o9c5UodWRtl"
   },
   "source": [
    "### Find out the total count of null values in each columns"
   ]
  },
  {
   "cell_type": "code",
   "execution_count": 22,
   "id": "b0612cb5",
   "metadata": {
    "id": "b0612cb5"
   },
   "outputs": [
    {
     "data": {
      "text/plain": [
       "business_code              0\n",
       "cust_number                0\n",
       "name_customer              0\n",
       "clear_date              9681\n",
       "buisness_year              0\n",
       "doc_id                     0\n",
       "posting_date               0\n",
       "due_in_date                0\n",
       "invoice_currency           0\n",
       "total_open_amount          0\n",
       "baseline_create_date       0\n",
       "cust_payment_terms         0\n",
       "dtype: int64"
      ]
     },
     "execution_count": 22,
     "metadata": {},
     "output_type": "execute_result"
    }
   ],
   "source": [
    "df.isnull().sum()"
   ]
  },
  {
   "cell_type": "markdown",
   "id": "7abdb98b",
   "metadata": {
    "id": "7abdb98b"
   },
   "source": [
    "#Data type Conversion "
   ]
  },
  {
   "cell_type": "markdown",
   "id": "LPfSUSp-WpPj",
   "metadata": {
    "id": "LPfSUSp-WpPj"
   },
   "source": [
    "### Please check the data type of each column of the dataframe"
   ]
  },
  {
   "cell_type": "code",
   "execution_count": 23,
   "id": "689c8592",
   "metadata": {
    "id": "689c8592"
   },
   "outputs": [
    {
     "data": {
      "text/plain": [
       "business_code            object\n",
       "cust_number              object\n",
       "name_customer            object\n",
       "clear_date               object\n",
       "buisness_year             int64\n",
       "doc_id                    int64\n",
       "posting_date             object\n",
       "due_in_date               int64\n",
       "invoice_currency         object\n",
       "total_open_amount       float64\n",
       "baseline_create_date      int64\n",
       "cust_payment_terms       object\n",
       "dtype: object"
      ]
     },
     "execution_count": 23,
     "metadata": {},
     "output_type": "execute_result"
    }
   ],
   "source": [
    "df.dtypes"
   ]
  },
  {
   "cell_type": "markdown",
   "id": "0nsem0_3XzOt",
   "metadata": {
    "id": "0nsem0_3XzOt"
   },
   "source": [
    "### Check the datatype format of below columns\n",
    "\n",
    "- clear_date  \n",
    "- posting_date\n",
    "- due_in_date \n",
    "- baseline_create_date"
   ]
  },
  {
   "cell_type": "code",
   "execution_count": 24,
   "id": "-yyODyW3X6pL",
   "metadata": {
    "id": "-yyODyW3X6pL"
   },
   "outputs": [
    {
     "name": "stdout",
     "output_type": "stream",
     "text": [
      "object\n",
      "object\n",
      "int64\n",
      "int64\n"
     ]
    }
   ],
   "source": [
    "print(df['clear_date'].dtypes)\n",
    "print(df['posting_date'].dtypes)\n",
    "print(df['due_in_date'].dtypes)\n",
    "print(df['baseline_create_date'].dtypes)"
   ]
  },
  {
   "cell_type": "markdown",
   "id": "11cf9478",
   "metadata": {
    "id": "11cf9478"
   },
   "source": [
    "### converting date columns into date time formats\n",
    "\n",
    "- clear_date  \n",
    "- posting_date\n",
    "- due_in_date \n",
    "- baseline_create_date\n",
    "\n",
    "\n",
    "- **Note - You have to convert all these above columns into \"%Y%m%d\" format**"
   ]
  },
  {
   "cell_type": "code",
   "execution_count": 25,
   "id": "9a8c6c71",
   "metadata": {
    "id": "9a8c6c71"
   },
   "outputs": [],
   "source": [
    "df['clear_date'] = pd.to_datetime(df.clear_date, format='%d-%m-%Y %H:%M')\n",
    "df['clear_date']=df['clear_date'].dt.strftime('%Y%m%d')\n",
    "df['clear_date'] = pd.to_datetime(df['clear_date']).dt.normalize()\n",
    "df['posting_date'] = pd.to_datetime(df['posting_date'])\n",
    "df['due_in_date'] = pd.to_datetime(df['due_in_date'], format='%Y%m%d')\n",
    "df['baseline_create_date'] = pd.to_datetime(df['baseline_create_date'], format='%Y%m%d')"
   ]
  },
  {
   "cell_type": "markdown",
   "id": "7adq0wSIYSCS",
   "metadata": {
    "id": "7adq0wSIYSCS"
   },
   "source": [
    "### Please check the datatype of all the columns after conversion of the above 4 columns"
   ]
  },
  {
   "cell_type": "code",
   "execution_count": 26,
   "id": "837ab55a",
   "metadata": {},
   "outputs": [
    {
     "data": {
      "text/plain": [
       "business_code                   object\n",
       "cust_number                     object\n",
       "name_customer                   object\n",
       "clear_date              datetime64[ns]\n",
       "buisness_year                    int64\n",
       "doc_id                           int64\n",
       "posting_date            datetime64[ns]\n",
       "due_in_date             datetime64[ns]\n",
       "invoice_currency                object\n",
       "total_open_amount              float64\n",
       "baseline_create_date    datetime64[ns]\n",
       "cust_payment_terms              object\n",
       "dtype: object"
      ]
     },
     "execution_count": 26,
     "metadata": {},
     "output_type": "execute_result"
    }
   ],
   "source": [
    "df.dtypes"
   ]
  },
  {
   "cell_type": "code",
   "execution_count": 27,
   "id": "4f80ab99",
   "metadata": {},
   "outputs": [
    {
     "data": {
      "text/html": [
       "<div>\n",
       "<style scoped>\n",
       "    .dataframe tbody tr th:only-of-type {\n",
       "        vertical-align: middle;\n",
       "    }\n",
       "\n",
       "    .dataframe tbody tr th {\n",
       "        vertical-align: top;\n",
       "    }\n",
       "\n",
       "    .dataframe thead th {\n",
       "        text-align: right;\n",
       "    }\n",
       "</style>\n",
       "<table border=\"1\" class=\"dataframe\">\n",
       "  <thead>\n",
       "    <tr style=\"text-align: right;\">\n",
       "      <th></th>\n",
       "      <th>business_code</th>\n",
       "      <th>cust_number</th>\n",
       "      <th>name_customer</th>\n",
       "      <th>clear_date</th>\n",
       "      <th>buisness_year</th>\n",
       "      <th>doc_id</th>\n",
       "      <th>posting_date</th>\n",
       "      <th>due_in_date</th>\n",
       "      <th>invoice_currency</th>\n",
       "      <th>total_open_amount</th>\n",
       "      <th>baseline_create_date</th>\n",
       "      <th>cust_payment_terms</th>\n",
       "    </tr>\n",
       "  </thead>\n",
       "  <tbody>\n",
       "    <tr>\n",
       "      <th>0</th>\n",
       "      <td>U001</td>\n",
       "      <td>200769623</td>\n",
       "      <td>WAL-MAR corp</td>\n",
       "      <td>2020-02-11</td>\n",
       "      <td>2020</td>\n",
       "      <td>1930438491</td>\n",
       "      <td>2020-01-26</td>\n",
       "      <td>2020-02-10</td>\n",
       "      <td>USD</td>\n",
       "      <td>54273.28</td>\n",
       "      <td>2020-01-26</td>\n",
       "      <td>NAH4</td>\n",
       "    </tr>\n",
       "    <tr>\n",
       "      <th>1</th>\n",
       "      <td>U001</td>\n",
       "      <td>200980828</td>\n",
       "      <td>BEN E</td>\n",
       "      <td>2019-08-08</td>\n",
       "      <td>2019</td>\n",
       "      <td>1929646410</td>\n",
       "      <td>2019-07-22</td>\n",
       "      <td>2019-08-11</td>\n",
       "      <td>USD</td>\n",
       "      <td>79656.60</td>\n",
       "      <td>2019-07-22</td>\n",
       "      <td>NAD1</td>\n",
       "    </tr>\n",
       "    <tr>\n",
       "      <th>2</th>\n",
       "      <td>U001</td>\n",
       "      <td>200792734</td>\n",
       "      <td>MDV/ trust</td>\n",
       "      <td>2019-12-30</td>\n",
       "      <td>2019</td>\n",
       "      <td>1929873765</td>\n",
       "      <td>2019-09-14</td>\n",
       "      <td>2019-09-29</td>\n",
       "      <td>USD</td>\n",
       "      <td>2253.86</td>\n",
       "      <td>2019-09-14</td>\n",
       "      <td>NAA8</td>\n",
       "    </tr>\n",
       "    <tr>\n",
       "      <th>3</th>\n",
       "      <td>CA02</td>\n",
       "      <td>140105686</td>\n",
       "      <td>SYSC llc</td>\n",
       "      <td>NaT</td>\n",
       "      <td>2020</td>\n",
       "      <td>2960623488</td>\n",
       "      <td>2020-03-30</td>\n",
       "      <td>2020-04-10</td>\n",
       "      <td>CAD</td>\n",
       "      <td>3299.70</td>\n",
       "      <td>2020-03-31</td>\n",
       "      <td>CA10</td>\n",
       "    </tr>\n",
       "    <tr>\n",
       "      <th>4</th>\n",
       "      <td>U001</td>\n",
       "      <td>200769623</td>\n",
       "      <td>WAL-MAR foundation</td>\n",
       "      <td>2019-11-25</td>\n",
       "      <td>2019</td>\n",
       "      <td>1930147974</td>\n",
       "      <td>2019-11-13</td>\n",
       "      <td>2019-11-28</td>\n",
       "      <td>USD</td>\n",
       "      <td>33133.29</td>\n",
       "      <td>2019-11-13</td>\n",
       "      <td>NAH4</td>\n",
       "    </tr>\n",
       "    <tr>\n",
       "      <th>...</th>\n",
       "      <td>...</td>\n",
       "      <td>...</td>\n",
       "      <td>...</td>\n",
       "      <td>...</td>\n",
       "      <td>...</td>\n",
       "      <td>...</td>\n",
       "      <td>...</td>\n",
       "      <td>...</td>\n",
       "      <td>...</td>\n",
       "      <td>...</td>\n",
       "      <td>...</td>\n",
       "      <td>...</td>\n",
       "    </tr>\n",
       "    <tr>\n",
       "      <th>49995</th>\n",
       "      <td>U001</td>\n",
       "      <td>200561861</td>\n",
       "      <td>CO corporation</td>\n",
       "      <td>NaT</td>\n",
       "      <td>2020</td>\n",
       "      <td>1930797071</td>\n",
       "      <td>2020-04-21</td>\n",
       "      <td>2020-05-06</td>\n",
       "      <td>USD</td>\n",
       "      <td>3187.86</td>\n",
       "      <td>2020-04-21</td>\n",
       "      <td>NAA8</td>\n",
       "    </tr>\n",
       "    <tr>\n",
       "      <th>49996</th>\n",
       "      <td>U001</td>\n",
       "      <td>200769623</td>\n",
       "      <td>WAL-MAR co</td>\n",
       "      <td>2019-09-03</td>\n",
       "      <td>2019</td>\n",
       "      <td>1929744070</td>\n",
       "      <td>2019-08-15</td>\n",
       "      <td>2019-08-30</td>\n",
       "      <td>USD</td>\n",
       "      <td>6766.54</td>\n",
       "      <td>2019-08-15</td>\n",
       "      <td>NAH4</td>\n",
       "    </tr>\n",
       "    <tr>\n",
       "      <th>49997</th>\n",
       "      <td>U001</td>\n",
       "      <td>200772595</td>\n",
       "      <td>SAFEW associates</td>\n",
       "      <td>2020-03-05</td>\n",
       "      <td>2020</td>\n",
       "      <td>1930536775</td>\n",
       "      <td>2020-02-19</td>\n",
       "      <td>2020-03-05</td>\n",
       "      <td>USD</td>\n",
       "      <td>6120.86</td>\n",
       "      <td>2020-02-19</td>\n",
       "      <td>NAA8</td>\n",
       "    </tr>\n",
       "    <tr>\n",
       "      <th>49998</th>\n",
       "      <td>U001</td>\n",
       "      <td>200726979</td>\n",
       "      <td>BJ'S  llc</td>\n",
       "      <td>2019-12-12</td>\n",
       "      <td>2019</td>\n",
       "      <td>1930198546</td>\n",
       "      <td>2019-11-27</td>\n",
       "      <td>2019-12-12</td>\n",
       "      <td>USD</td>\n",
       "      <td>63.48</td>\n",
       "      <td>2019-11-27</td>\n",
       "      <td>NAA8</td>\n",
       "    </tr>\n",
       "    <tr>\n",
       "      <th>49999</th>\n",
       "      <td>U001</td>\n",
       "      <td>200020431</td>\n",
       "      <td>DEC corp</td>\n",
       "      <td>2019-01-15</td>\n",
       "      <td>2019</td>\n",
       "      <td>1928576325</td>\n",
       "      <td>2019-05-01</td>\n",
       "      <td>2019-01-24</td>\n",
       "      <td>USD</td>\n",
       "      <td>1790.30</td>\n",
       "      <td>2019-01-01</td>\n",
       "      <td>NAM4</td>\n",
       "    </tr>\n",
       "  </tbody>\n",
       "</table>\n",
       "<p>48839 rows × 12 columns</p>\n",
       "</div>"
      ],
      "text/plain": [
       "      business_code cust_number       name_customer clear_date  buisness_year  \\\n",
       "0              U001   200769623        WAL-MAR corp 2020-02-11           2020   \n",
       "1              U001   200980828              BEN E  2019-08-08           2019   \n",
       "2              U001   200792734          MDV/ trust 2019-12-30           2019   \n",
       "3              CA02   140105686            SYSC llc        NaT           2020   \n",
       "4              U001   200769623  WAL-MAR foundation 2019-11-25           2019   \n",
       "...             ...         ...                 ...        ...            ...   \n",
       "49995          U001   200561861      CO corporation        NaT           2020   \n",
       "49996          U001   200769623          WAL-MAR co 2019-09-03           2019   \n",
       "49997          U001   200772595    SAFEW associates 2020-03-05           2020   \n",
       "49998          U001   200726979           BJ'S  llc 2019-12-12           2019   \n",
       "49999          U001   200020431            DEC corp 2019-01-15           2019   \n",
       "\n",
       "           doc_id posting_date due_in_date invoice_currency  \\\n",
       "0      1930438491   2020-01-26  2020-02-10              USD   \n",
       "1      1929646410   2019-07-22  2019-08-11              USD   \n",
       "2      1929873765   2019-09-14  2019-09-29              USD   \n",
       "3      2960623488   2020-03-30  2020-04-10              CAD   \n",
       "4      1930147974   2019-11-13  2019-11-28              USD   \n",
       "...           ...          ...         ...              ...   \n",
       "49995  1930797071   2020-04-21  2020-05-06              USD   \n",
       "49996  1929744070   2019-08-15  2019-08-30              USD   \n",
       "49997  1930536775   2020-02-19  2020-03-05              USD   \n",
       "49998  1930198546   2019-11-27  2019-12-12              USD   \n",
       "49999  1928576325   2019-05-01  2019-01-24              USD   \n",
       "\n",
       "       total_open_amount baseline_create_date cust_payment_terms  \n",
       "0               54273.28           2020-01-26               NAH4  \n",
       "1               79656.60           2019-07-22               NAD1  \n",
       "2                2253.86           2019-09-14               NAA8  \n",
       "3                3299.70           2020-03-31               CA10  \n",
       "4               33133.29           2019-11-13               NAH4  \n",
       "...                  ...                  ...                ...  \n",
       "49995            3187.86           2020-04-21               NAA8  \n",
       "49996            6766.54           2019-08-15               NAH4  \n",
       "49997            6120.86           2020-02-19               NAA8  \n",
       "49998              63.48           2019-11-27               NAA8  \n",
       "49999            1790.30           2019-01-01               NAM4  \n",
       "\n",
       "[48839 rows x 12 columns]"
      ]
     },
     "execution_count": 27,
     "metadata": {},
     "output_type": "execute_result"
    }
   ],
   "source": [
    "df"
   ]
  },
  {
   "cell_type": "code",
   "execution_count": 28,
   "id": "fd028c61",
   "metadata": {
    "id": "fd028c61"
   },
   "outputs": [
    {
     "data": {
      "text/plain": [
       "business_code                   object\n",
       "cust_number                     object\n",
       "name_customer                   object\n",
       "clear_date              datetime64[ns]\n",
       "buisness_year                    int64\n",
       "doc_id                           int64\n",
       "posting_date            datetime64[ns]\n",
       "due_in_date             datetime64[ns]\n",
       "invoice_currency                object\n",
       "total_open_amount              float64\n",
       "baseline_create_date    datetime64[ns]\n",
       "cust_payment_terms              object\n",
       "dtype: object"
      ]
     },
     "execution_count": 28,
     "metadata": {},
     "output_type": "execute_result"
    }
   ],
   "source": [
    "df.dtypes"
   ]
  },
  {
   "cell_type": "markdown",
   "id": "8c9882fa",
   "metadata": {
    "id": "8c9882fa"
   },
   "source": [
    "#### the invoice_currency column contains two different categories, USD and CAD\n",
    "\n",
    "- Please do a count of each currency "
   ]
  },
  {
   "cell_type": "code",
   "execution_count": 29,
   "id": "72085397",
   "metadata": {
    "id": "72085397"
   },
   "outputs": [
    {
     "name": "stdout",
     "output_type": "stream",
     "text": [
      "{'USD': 45011, 'CAD': 3828}\n"
     ]
    }
   ],
   "source": [
    "plot = dict(df['invoice_currency'].value_counts())\n",
    "print(plot)"
   ]
  },
  {
   "cell_type": "markdown",
   "id": "6cbe26ee",
   "metadata": {
    "id": "6cbe26ee"
   },
   "source": [
    "#### display the \"total_open_amount\" column value"
   ]
  },
  {
   "cell_type": "code",
   "execution_count": 30,
   "id": "6c49f2ab",
   "metadata": {
    "id": "6c49f2ab"
   },
   "outputs": [
    {
     "data": {
      "text/plain": [
       "0        54273.28\n",
       "1        79656.60\n",
       "2         2253.86\n",
       "3         3299.70\n",
       "4        33133.29\n",
       "           ...   \n",
       "49995     3187.86\n",
       "49996     6766.54\n",
       "49997     6120.86\n",
       "49998       63.48\n",
       "49999     1790.30\n",
       "Name: total_open_amount, Length: 48839, dtype: float64"
      ]
     },
     "execution_count": 30,
     "metadata": {},
     "output_type": "execute_result"
    }
   ],
   "source": [
    "df['total_open_amount']"
   ]
  },
  {
   "cell_type": "markdown",
   "id": "df899966",
   "metadata": {
    "id": "df899966"
   },
   "source": [
    "### Convert all CAD into USD currency of \"total_open_amount\" column\n",
    "\n",
    "- 1 CAD = 0.7 USD\n",
    "- Create a new column i.e \"converted_usd\" and store USD and convered CAD to USD"
   ]
  },
  {
   "cell_type": "code",
   "execution_count": 31,
   "id": "8eb2f1c5",
   "metadata": {
    "id": "8eb2f1c5"
   },
   "outputs": [],
   "source": [
    "rep = {'USD' : 1.0, 'CAD' : 0.7}\n",
    "df.replace(to_replace=rep, inplace=True)\n",
    "df['converted_usd'] = df['total_open_amount'] * df['invoice_currency']"
   ]
  },
  {
   "cell_type": "markdown",
   "id": "f9f6ef1d",
   "metadata": {
    "id": "f9f6ef1d"
   },
   "source": [
    "### Display the new \"converted_usd\" column values"
   ]
  },
  {
   "cell_type": "code",
   "execution_count": 32,
   "id": "1fc1a178",
   "metadata": {
    "id": "1fc1a178"
   },
   "outputs": [
    {
     "data": {
      "text/html": [
       "<div>\n",
       "<style scoped>\n",
       "    .dataframe tbody tr th:only-of-type {\n",
       "        vertical-align: middle;\n",
       "    }\n",
       "\n",
       "    .dataframe tbody tr th {\n",
       "        vertical-align: top;\n",
       "    }\n",
       "\n",
       "    .dataframe thead th {\n",
       "        text-align: right;\n",
       "    }\n",
       "</style>\n",
       "<table border=\"1\" class=\"dataframe\">\n",
       "  <thead>\n",
       "    <tr style=\"text-align: right;\">\n",
       "      <th></th>\n",
       "      <th>converted_usd</th>\n",
       "    </tr>\n",
       "  </thead>\n",
       "  <tbody>\n",
       "    <tr>\n",
       "      <th>0</th>\n",
       "      <td>54273.28</td>\n",
       "    </tr>\n",
       "    <tr>\n",
       "      <th>1</th>\n",
       "      <td>79656.60</td>\n",
       "    </tr>\n",
       "    <tr>\n",
       "      <th>2</th>\n",
       "      <td>2253.86</td>\n",
       "    </tr>\n",
       "    <tr>\n",
       "      <th>3</th>\n",
       "      <td>2309.79</td>\n",
       "    </tr>\n",
       "    <tr>\n",
       "      <th>4</th>\n",
       "      <td>33133.29</td>\n",
       "    </tr>\n",
       "    <tr>\n",
       "      <th>...</th>\n",
       "      <td>...</td>\n",
       "    </tr>\n",
       "    <tr>\n",
       "      <th>49995</th>\n",
       "      <td>3187.86</td>\n",
       "    </tr>\n",
       "    <tr>\n",
       "      <th>49996</th>\n",
       "      <td>6766.54</td>\n",
       "    </tr>\n",
       "    <tr>\n",
       "      <th>49997</th>\n",
       "      <td>6120.86</td>\n",
       "    </tr>\n",
       "    <tr>\n",
       "      <th>49998</th>\n",
       "      <td>63.48</td>\n",
       "    </tr>\n",
       "    <tr>\n",
       "      <th>49999</th>\n",
       "      <td>1790.30</td>\n",
       "    </tr>\n",
       "  </tbody>\n",
       "</table>\n",
       "<p>48839 rows × 1 columns</p>\n",
       "</div>"
      ],
      "text/plain": [
       "       converted_usd\n",
       "0           54273.28\n",
       "1           79656.60\n",
       "2            2253.86\n",
       "3            2309.79\n",
       "4           33133.29\n",
       "...              ...\n",
       "49995        3187.86\n",
       "49996        6766.54\n",
       "49997        6120.86\n",
       "49998          63.48\n",
       "49999        1790.30\n",
       "\n",
       "[48839 rows x 1 columns]"
      ]
     },
     "execution_count": 32,
     "metadata": {},
     "output_type": "execute_result"
    }
   ],
   "source": [
    "df[['converted_usd']]"
   ]
  },
  {
   "cell_type": "markdown",
   "id": "6XLXX17kayuy",
   "metadata": {
    "id": "6XLXX17kayuy"
   },
   "source": [
    "### Display year wise total number of record \n",
    "\n",
    "- Note -  use \"buisness_year\" column for this "
   ]
  },
  {
   "cell_type": "code",
   "execution_count": 33,
   "id": "00c9f6ee",
   "metadata": {
    "id": "00c9f6ee"
   },
   "outputs": [
    {
     "name": "stdout",
     "output_type": "stream",
     "text": [
      "{2019: 33975, 2020: 14864}\n"
     ]
    }
   ],
   "source": [
    "plot = dict(df['buisness_year'].value_counts())\n",
    "print(plot)"
   ]
  },
  {
   "cell_type": "markdown",
   "id": "05c35904",
   "metadata": {
    "id": "05c35904"
   },
   "source": [
    "### Write the code to delete the following columns \n",
    "\n",
    "- 'invoice_currency'\n",
    "- 'total_open_amount', "
   ]
  },
  {
   "cell_type": "code",
   "execution_count": 34,
   "id": "4ac28aa5",
   "metadata": {
    "id": "4ac28aa5"
   },
   "outputs": [],
   "source": [
    "df.drop(['invoice_currency', 'total_open_amount'], axis = 1, inplace=True)"
   ]
  },
  {
   "cell_type": "markdown",
   "id": "bDBJ_Kvwc086",
   "metadata": {
    "id": "bDBJ_Kvwc086"
   },
   "source": [
    "### Write a code to check the number of columns in dataframe"
   ]
  },
  {
   "cell_type": "code",
   "execution_count": 35,
   "id": "ea360a8c",
   "metadata": {
    "id": "ea360a8c"
   },
   "outputs": [
    {
     "data": {
      "text/plain": [
       "11"
      ]
     },
     "execution_count": 35,
     "metadata": {},
     "output_type": "execute_result"
    }
   ],
   "source": [
    "len(df.columns)"
   ]
  },
  {
   "cell_type": "markdown",
   "id": "b8f63655",
   "metadata": {
    "id": "b8f63655"
   },
   "source": [
    "# Splitting the Dataset "
   ]
  },
  {
   "cell_type": "markdown",
   "id": "a00f749d",
   "metadata": {
    "id": "a00f749d"
   },
   "source": [
    "### Look for all columns containing null value\n",
    "\n",
    "- Note - Output expected is only one column "
   ]
  },
  {
   "cell_type": "code",
   "execution_count": 36,
   "id": "148c801e",
   "metadata": {
    "id": "148c801e"
   },
   "outputs": [
    {
     "data": {
      "text/plain": [
       "['clear_date']"
      ]
     },
     "execution_count": 36,
     "metadata": {},
     "output_type": "execute_result"
    }
   ],
   "source": [
    "[col for col in df.columns if df[col].isnull().sum()>0]"
   ]
  },
  {
   "cell_type": "markdown",
   "id": "a094a290",
   "metadata": {
    "id": "a094a290"
   },
   "source": [
    "#### Find out the number of null values from the column that you got from the above code"
   ]
  },
  {
   "cell_type": "code",
   "execution_count": 37,
   "id": "30bfb113",
   "metadata": {
    "id": "30bfb113"
   },
   "outputs": [
    {
     "data": {
      "text/plain": [
       "9681"
      ]
     },
     "execution_count": 37,
     "metadata": {},
     "output_type": "execute_result"
    }
   ],
   "source": [
    "df['clear_date'].isnull().sum()"
   ]
  },
  {
   "cell_type": "markdown",
   "id": "7f6d939b",
   "metadata": {
    "id": "7f6d939b"
   },
   "source": [
    "### On basis of the above column we are spliting data into dataset\n",
    "\n",
    "- First dataframe (refer that as maindata) only containing the rows, that have NO NULL data in that column ( This is going to be our train dataset ) \n",
    "- Second dataframe (refer that as nulldata) that contains the columns, that have Null data in that column ( This is going to be our test dataset ) "
   ]
  },
  {
   "cell_type": "code",
   "execution_count": 38,
   "id": "50ab8342",
   "metadata": {},
   "outputs": [
    {
     "data": {
      "text/html": [
       "<div>\n",
       "<style scoped>\n",
       "    .dataframe tbody tr th:only-of-type {\n",
       "        vertical-align: middle;\n",
       "    }\n",
       "\n",
       "    .dataframe tbody tr th {\n",
       "        vertical-align: top;\n",
       "    }\n",
       "\n",
       "    .dataframe thead th {\n",
       "        text-align: right;\n",
       "    }\n",
       "</style>\n",
       "<table border=\"1\" class=\"dataframe\">\n",
       "  <thead>\n",
       "    <tr style=\"text-align: right;\">\n",
       "      <th></th>\n",
       "      <th>business_code</th>\n",
       "      <th>cust_number</th>\n",
       "      <th>name_customer</th>\n",
       "      <th>clear_date</th>\n",
       "      <th>buisness_year</th>\n",
       "      <th>doc_id</th>\n",
       "      <th>posting_date</th>\n",
       "      <th>due_in_date</th>\n",
       "      <th>baseline_create_date</th>\n",
       "      <th>cust_payment_terms</th>\n",
       "      <th>converted_usd</th>\n",
       "    </tr>\n",
       "  </thead>\n",
       "  <tbody>\n",
       "    <tr>\n",
       "      <th>0</th>\n",
       "      <td>U001</td>\n",
       "      <td>200769623</td>\n",
       "      <td>WAL-MAR corp</td>\n",
       "      <td>2020-02-11</td>\n",
       "      <td>2020</td>\n",
       "      <td>1930438491</td>\n",
       "      <td>2020-01-26</td>\n",
       "      <td>2020-02-10</td>\n",
       "      <td>2020-01-26</td>\n",
       "      <td>NAH4</td>\n",
       "      <td>54273.280</td>\n",
       "    </tr>\n",
       "    <tr>\n",
       "      <th>1</th>\n",
       "      <td>U001</td>\n",
       "      <td>200980828</td>\n",
       "      <td>BEN E</td>\n",
       "      <td>2019-08-08</td>\n",
       "      <td>2019</td>\n",
       "      <td>1929646410</td>\n",
       "      <td>2019-07-22</td>\n",
       "      <td>2019-08-11</td>\n",
       "      <td>2019-07-22</td>\n",
       "      <td>NAD1</td>\n",
       "      <td>79656.600</td>\n",
       "    </tr>\n",
       "    <tr>\n",
       "      <th>2</th>\n",
       "      <td>U001</td>\n",
       "      <td>200792734</td>\n",
       "      <td>MDV/ trust</td>\n",
       "      <td>2019-12-30</td>\n",
       "      <td>2019</td>\n",
       "      <td>1929873765</td>\n",
       "      <td>2019-09-14</td>\n",
       "      <td>2019-09-29</td>\n",
       "      <td>2019-09-14</td>\n",
       "      <td>NAA8</td>\n",
       "      <td>2253.860</td>\n",
       "    </tr>\n",
       "    <tr>\n",
       "      <th>4</th>\n",
       "      <td>U001</td>\n",
       "      <td>200769623</td>\n",
       "      <td>WAL-MAR foundation</td>\n",
       "      <td>2019-11-25</td>\n",
       "      <td>2019</td>\n",
       "      <td>1930147974</td>\n",
       "      <td>2019-11-13</td>\n",
       "      <td>2019-11-28</td>\n",
       "      <td>2019-11-13</td>\n",
       "      <td>NAH4</td>\n",
       "      <td>33133.290</td>\n",
       "    </tr>\n",
       "    <tr>\n",
       "      <th>5</th>\n",
       "      <td>CA02</td>\n",
       "      <td>140106181</td>\n",
       "      <td>THE  corporation</td>\n",
       "      <td>2019-12-04</td>\n",
       "      <td>2019</td>\n",
       "      <td>2960581231</td>\n",
       "      <td>2019-09-20</td>\n",
       "      <td>2019-10-04</td>\n",
       "      <td>2019-09-24</td>\n",
       "      <td>CA10</td>\n",
       "      <td>15558.088</td>\n",
       "    </tr>\n",
       "    <tr>\n",
       "      <th>...</th>\n",
       "      <td>...</td>\n",
       "      <td>...</td>\n",
       "      <td>...</td>\n",
       "      <td>...</td>\n",
       "      <td>...</td>\n",
       "      <td>...</td>\n",
       "      <td>...</td>\n",
       "      <td>...</td>\n",
       "      <td>...</td>\n",
       "      <td>...</td>\n",
       "      <td>...</td>\n",
       "    </tr>\n",
       "    <tr>\n",
       "      <th>49994</th>\n",
       "      <td>U001</td>\n",
       "      <td>200762301</td>\n",
       "      <td>C&amp;S WH trust</td>\n",
       "      <td>2019-07-25</td>\n",
       "      <td>2019</td>\n",
       "      <td>1929600989</td>\n",
       "      <td>2019-10-07</td>\n",
       "      <td>2019-07-25</td>\n",
       "      <td>2019-07-10</td>\n",
       "      <td>NAC6</td>\n",
       "      <td>84780.400</td>\n",
       "    </tr>\n",
       "    <tr>\n",
       "      <th>49996</th>\n",
       "      <td>U001</td>\n",
       "      <td>200769623</td>\n",
       "      <td>WAL-MAR co</td>\n",
       "      <td>2019-09-03</td>\n",
       "      <td>2019</td>\n",
       "      <td>1929744070</td>\n",
       "      <td>2019-08-15</td>\n",
       "      <td>2019-08-30</td>\n",
       "      <td>2019-08-15</td>\n",
       "      <td>NAH4</td>\n",
       "      <td>6766.540</td>\n",
       "    </tr>\n",
       "    <tr>\n",
       "      <th>49997</th>\n",
       "      <td>U001</td>\n",
       "      <td>200772595</td>\n",
       "      <td>SAFEW associates</td>\n",
       "      <td>2020-03-05</td>\n",
       "      <td>2020</td>\n",
       "      <td>1930536775</td>\n",
       "      <td>2020-02-19</td>\n",
       "      <td>2020-03-05</td>\n",
       "      <td>2020-02-19</td>\n",
       "      <td>NAA8</td>\n",
       "      <td>6120.860</td>\n",
       "    </tr>\n",
       "    <tr>\n",
       "      <th>49998</th>\n",
       "      <td>U001</td>\n",
       "      <td>200726979</td>\n",
       "      <td>BJ'S  llc</td>\n",
       "      <td>2019-12-12</td>\n",
       "      <td>2019</td>\n",
       "      <td>1930198546</td>\n",
       "      <td>2019-11-27</td>\n",
       "      <td>2019-12-12</td>\n",
       "      <td>2019-11-27</td>\n",
       "      <td>NAA8</td>\n",
       "      <td>63.480</td>\n",
       "    </tr>\n",
       "    <tr>\n",
       "      <th>49999</th>\n",
       "      <td>U001</td>\n",
       "      <td>200020431</td>\n",
       "      <td>DEC corp</td>\n",
       "      <td>2019-01-15</td>\n",
       "      <td>2019</td>\n",
       "      <td>1928576325</td>\n",
       "      <td>2019-05-01</td>\n",
       "      <td>2019-01-24</td>\n",
       "      <td>2019-01-01</td>\n",
       "      <td>NAM4</td>\n",
       "      <td>1790.300</td>\n",
       "    </tr>\n",
       "  </tbody>\n",
       "</table>\n",
       "<p>39158 rows × 11 columns</p>\n",
       "</div>"
      ],
      "text/plain": [
       "      business_code cust_number       name_customer clear_date  buisness_year  \\\n",
       "0              U001   200769623        WAL-MAR corp 2020-02-11           2020   \n",
       "1              U001   200980828              BEN E  2019-08-08           2019   \n",
       "2              U001   200792734          MDV/ trust 2019-12-30           2019   \n",
       "4              U001   200769623  WAL-MAR foundation 2019-11-25           2019   \n",
       "5              CA02   140106181    THE  corporation 2019-12-04           2019   \n",
       "...             ...         ...                 ...        ...            ...   \n",
       "49994          U001   200762301        C&S WH trust 2019-07-25           2019   \n",
       "49996          U001   200769623          WAL-MAR co 2019-09-03           2019   \n",
       "49997          U001   200772595    SAFEW associates 2020-03-05           2020   \n",
       "49998          U001   200726979           BJ'S  llc 2019-12-12           2019   \n",
       "49999          U001   200020431            DEC corp 2019-01-15           2019   \n",
       "\n",
       "           doc_id posting_date due_in_date baseline_create_date  \\\n",
       "0      1930438491   2020-01-26  2020-02-10           2020-01-26   \n",
       "1      1929646410   2019-07-22  2019-08-11           2019-07-22   \n",
       "2      1929873765   2019-09-14  2019-09-29           2019-09-14   \n",
       "4      1930147974   2019-11-13  2019-11-28           2019-11-13   \n",
       "5      2960581231   2019-09-20  2019-10-04           2019-09-24   \n",
       "...           ...          ...         ...                  ...   \n",
       "49994  1929600989   2019-10-07  2019-07-25           2019-07-10   \n",
       "49996  1929744070   2019-08-15  2019-08-30           2019-08-15   \n",
       "49997  1930536775   2020-02-19  2020-03-05           2020-02-19   \n",
       "49998  1930198546   2019-11-27  2019-12-12           2019-11-27   \n",
       "49999  1928576325   2019-05-01  2019-01-24           2019-01-01   \n",
       "\n",
       "      cust_payment_terms  converted_usd  \n",
       "0                   NAH4      54273.280  \n",
       "1                   NAD1      79656.600  \n",
       "2                   NAA8       2253.860  \n",
       "4                   NAH4      33133.290  \n",
       "5                   CA10      15558.088  \n",
       "...                  ...            ...  \n",
       "49994               NAC6      84780.400  \n",
       "49996               NAH4       6766.540  \n",
       "49997               NAA8       6120.860  \n",
       "49998               NAA8         63.480  \n",
       "49999               NAM4       1790.300  \n",
       "\n",
       "[39158 rows x 11 columns]"
      ]
     },
     "execution_count": 38,
     "metadata": {},
     "output_type": "execute_result"
    }
   ],
   "source": [
    "import copy\n",
    "maindata=copy.deepcopy(df[df['clear_date'].notnull()])\n",
    "maindata"
   ]
  },
  {
   "cell_type": "code",
   "execution_count": 39,
   "id": "a6a72c6a",
   "metadata": {},
   "outputs": [
    {
     "data": {
      "text/html": [
       "<div>\n",
       "<style scoped>\n",
       "    .dataframe tbody tr th:only-of-type {\n",
       "        vertical-align: middle;\n",
       "    }\n",
       "\n",
       "    .dataframe tbody tr th {\n",
       "        vertical-align: top;\n",
       "    }\n",
       "\n",
       "    .dataframe thead th {\n",
       "        text-align: right;\n",
       "    }\n",
       "</style>\n",
       "<table border=\"1\" class=\"dataframe\">\n",
       "  <thead>\n",
       "    <tr style=\"text-align: right;\">\n",
       "      <th></th>\n",
       "      <th>business_code</th>\n",
       "      <th>cust_number</th>\n",
       "      <th>name_customer</th>\n",
       "      <th>clear_date</th>\n",
       "      <th>buisness_year</th>\n",
       "      <th>doc_id</th>\n",
       "      <th>posting_date</th>\n",
       "      <th>due_in_date</th>\n",
       "      <th>baseline_create_date</th>\n",
       "      <th>cust_payment_terms</th>\n",
       "      <th>converted_usd</th>\n",
       "    </tr>\n",
       "  </thead>\n",
       "  <tbody>\n",
       "    <tr>\n",
       "      <th>3</th>\n",
       "      <td>CA02</td>\n",
       "      <td>140105686</td>\n",
       "      <td>SYSC llc</td>\n",
       "      <td>NaT</td>\n",
       "      <td>2020</td>\n",
       "      <td>2960623488</td>\n",
       "      <td>2020-03-30</td>\n",
       "      <td>2020-04-10</td>\n",
       "      <td>2020-03-31</td>\n",
       "      <td>CA10</td>\n",
       "      <td>2309.79</td>\n",
       "    </tr>\n",
       "    <tr>\n",
       "      <th>7</th>\n",
       "      <td>U001</td>\n",
       "      <td>200744019</td>\n",
       "      <td>TARG us</td>\n",
       "      <td>NaT</td>\n",
       "      <td>2020</td>\n",
       "      <td>1930659387</td>\n",
       "      <td>2020-03-19</td>\n",
       "      <td>2020-04-03</td>\n",
       "      <td>2020-03-19</td>\n",
       "      <td>NAA8</td>\n",
       "      <td>11173.02</td>\n",
       "    </tr>\n",
       "    <tr>\n",
       "      <th>10</th>\n",
       "      <td>U001</td>\n",
       "      <td>200418007</td>\n",
       "      <td>AM</td>\n",
       "      <td>NaT</td>\n",
       "      <td>2020</td>\n",
       "      <td>1930610806</td>\n",
       "      <td>2020-11-03</td>\n",
       "      <td>2020-03-26</td>\n",
       "      <td>2020-03-11</td>\n",
       "      <td>NAA8</td>\n",
       "      <td>3525.59</td>\n",
       "    </tr>\n",
       "    <tr>\n",
       "      <th>14</th>\n",
       "      <td>U001</td>\n",
       "      <td>200739534</td>\n",
       "      <td>OK systems</td>\n",
       "      <td>NaT</td>\n",
       "      <td>2020</td>\n",
       "      <td>1930788296</td>\n",
       "      <td>2020-04-15</td>\n",
       "      <td>2020-04-30</td>\n",
       "      <td>2020-04-15</td>\n",
       "      <td>NAA8</td>\n",
       "      <td>121105.65</td>\n",
       "    </tr>\n",
       "    <tr>\n",
       "      <th>15</th>\n",
       "      <td>U001</td>\n",
       "      <td>200353024</td>\n",
       "      <td>DECA corporation</td>\n",
       "      <td>NaT</td>\n",
       "      <td>2020</td>\n",
       "      <td>1930817482</td>\n",
       "      <td>2020-04-23</td>\n",
       "      <td>2020-04-26</td>\n",
       "      <td>2020-04-16</td>\n",
       "      <td>NAM2</td>\n",
       "      <td>3726.06</td>\n",
       "    </tr>\n",
       "    <tr>\n",
       "      <th>...</th>\n",
       "      <td>...</td>\n",
       "      <td>...</td>\n",
       "      <td>...</td>\n",
       "      <td>...</td>\n",
       "      <td>...</td>\n",
       "      <td>...</td>\n",
       "      <td>...</td>\n",
       "      <td>...</td>\n",
       "      <td>...</td>\n",
       "      <td>...</td>\n",
       "      <td>...</td>\n",
       "    </tr>\n",
       "    <tr>\n",
       "      <th>49975</th>\n",
       "      <td>U001</td>\n",
       "      <td>200769623</td>\n",
       "      <td>WAL-MAR in</td>\n",
       "      <td>NaT</td>\n",
       "      <td>2020</td>\n",
       "      <td>1930624804</td>\n",
       "      <td>2020-10-03</td>\n",
       "      <td>2020-03-25</td>\n",
       "      <td>2020-03-10</td>\n",
       "      <td>NAH4</td>\n",
       "      <td>13114.99</td>\n",
       "    </tr>\n",
       "    <tr>\n",
       "      <th>49980</th>\n",
       "      <td>U001</td>\n",
       "      <td>200769623</td>\n",
       "      <td>WAL-MAR corporation</td>\n",
       "      <td>NaT</td>\n",
       "      <td>2020</td>\n",
       "      <td>1930850962</td>\n",
       "      <td>2020-03-05</td>\n",
       "      <td>2020-05-18</td>\n",
       "      <td>2020-05-03</td>\n",
       "      <td>NAH4</td>\n",
       "      <td>8899.71</td>\n",
       "    </tr>\n",
       "    <tr>\n",
       "      <th>49982</th>\n",
       "      <td>U001</td>\n",
       "      <td>200148860</td>\n",
       "      <td>DOLLA co</td>\n",
       "      <td>NaT</td>\n",
       "      <td>2020</td>\n",
       "      <td>1930637779</td>\n",
       "      <td>2020-11-03</td>\n",
       "      <td>2020-03-26</td>\n",
       "      <td>2020-03-11</td>\n",
       "      <td>NAA8</td>\n",
       "      <td>4967.06</td>\n",
       "    </tr>\n",
       "    <tr>\n",
       "      <th>49992</th>\n",
       "      <td>U001</td>\n",
       "      <td>200900909</td>\n",
       "      <td>SYSCO co</td>\n",
       "      <td>NaT</td>\n",
       "      <td>2020</td>\n",
       "      <td>1930702251</td>\n",
       "      <td>2020-03-25</td>\n",
       "      <td>2020-04-09</td>\n",
       "      <td>2020-03-25</td>\n",
       "      <td>NAA8</td>\n",
       "      <td>1998.64</td>\n",
       "    </tr>\n",
       "    <tr>\n",
       "      <th>49995</th>\n",
       "      <td>U001</td>\n",
       "      <td>200561861</td>\n",
       "      <td>CO corporation</td>\n",
       "      <td>NaT</td>\n",
       "      <td>2020</td>\n",
       "      <td>1930797071</td>\n",
       "      <td>2020-04-21</td>\n",
       "      <td>2020-05-06</td>\n",
       "      <td>2020-04-21</td>\n",
       "      <td>NAA8</td>\n",
       "      <td>3187.86</td>\n",
       "    </tr>\n",
       "  </tbody>\n",
       "</table>\n",
       "<p>9681 rows × 11 columns</p>\n",
       "</div>"
      ],
      "text/plain": [
       "      business_code cust_number        name_customer clear_date  \\\n",
       "3              CA02   140105686             SYSC llc        NaT   \n",
       "7              U001   200744019              TARG us        NaT   \n",
       "10             U001   200418007                  AM         NaT   \n",
       "14             U001   200739534           OK systems        NaT   \n",
       "15             U001   200353024     DECA corporation        NaT   \n",
       "...             ...         ...                  ...        ...   \n",
       "49975          U001   200769623           WAL-MAR in        NaT   \n",
       "49980          U001   200769623  WAL-MAR corporation        NaT   \n",
       "49982          U001   200148860             DOLLA co        NaT   \n",
       "49992          U001   200900909             SYSCO co        NaT   \n",
       "49995          U001   200561861       CO corporation        NaT   \n",
       "\n",
       "       buisness_year      doc_id posting_date due_in_date  \\\n",
       "3               2020  2960623488   2020-03-30  2020-04-10   \n",
       "7               2020  1930659387   2020-03-19  2020-04-03   \n",
       "10              2020  1930610806   2020-11-03  2020-03-26   \n",
       "14              2020  1930788296   2020-04-15  2020-04-30   \n",
       "15              2020  1930817482   2020-04-23  2020-04-26   \n",
       "...              ...         ...          ...         ...   \n",
       "49975           2020  1930624804   2020-10-03  2020-03-25   \n",
       "49980           2020  1930850962   2020-03-05  2020-05-18   \n",
       "49982           2020  1930637779   2020-11-03  2020-03-26   \n",
       "49992           2020  1930702251   2020-03-25  2020-04-09   \n",
       "49995           2020  1930797071   2020-04-21  2020-05-06   \n",
       "\n",
       "      baseline_create_date cust_payment_terms  converted_usd  \n",
       "3               2020-03-31               CA10        2309.79  \n",
       "7               2020-03-19               NAA8       11173.02  \n",
       "10              2020-03-11               NAA8        3525.59  \n",
       "14              2020-04-15               NAA8      121105.65  \n",
       "15              2020-04-16               NAM2        3726.06  \n",
       "...                    ...                ...            ...  \n",
       "49975           2020-03-10               NAH4       13114.99  \n",
       "49980           2020-05-03               NAH4        8899.71  \n",
       "49982           2020-03-11               NAA8        4967.06  \n",
       "49992           2020-03-25               NAA8        1998.64  \n",
       "49995           2020-04-21               NAA8        3187.86  \n",
       "\n",
       "[9681 rows x 11 columns]"
      ]
     },
     "execution_count": 39,
     "metadata": {},
     "output_type": "execute_result"
    }
   ],
   "source": [
    "nulldata=copy.deepcopy(df[df['clear_date'].isnull()])\n",
    "nulldata"
   ]
  },
  {
   "cell_type": "markdown",
   "id": "3P8riRBHd_r6",
   "metadata": {
    "id": "3P8riRBHd_r6"
   },
   "source": [
    "### Check the number of Rows and Columns for both the dataframes "
   ]
  },
  {
   "cell_type": "code",
   "execution_count": 40,
   "id": "0693a464",
   "metadata": {
    "id": "0693a464"
   },
   "outputs": [
    {
     "data": {
      "text/plain": [
       "(39158, 11)"
      ]
     },
     "execution_count": 40,
     "metadata": {},
     "output_type": "execute_result"
    }
   ],
   "source": [
    "maindata.shape"
   ]
  },
  {
   "cell_type": "code",
   "execution_count": 41,
   "id": "7f86bc74",
   "metadata": {
    "id": "7f86bc74"
   },
   "outputs": [
    {
     "data": {
      "text/plain": [
       "(9681, 11)"
      ]
     },
     "execution_count": 41,
     "metadata": {},
     "output_type": "execute_result"
    }
   ],
   "source": [
    "nulldata.shape"
   ]
  },
  {
   "cell_type": "markdown",
   "id": "0747165d",
   "metadata": {
    "id": "0747165d"
   },
   "source": [
    "### Display the 5 records from maindata and nulldata dataframes"
   ]
  },
  {
   "cell_type": "code",
   "execution_count": 42,
   "id": "dec2ec36",
   "metadata": {
    "id": "dec2ec36"
   },
   "outputs": [
    {
     "data": {
      "text/html": [
       "<div>\n",
       "<style scoped>\n",
       "    .dataframe tbody tr th:only-of-type {\n",
       "        vertical-align: middle;\n",
       "    }\n",
       "\n",
       "    .dataframe tbody tr th {\n",
       "        vertical-align: top;\n",
       "    }\n",
       "\n",
       "    .dataframe thead th {\n",
       "        text-align: right;\n",
       "    }\n",
       "</style>\n",
       "<table border=\"1\" class=\"dataframe\">\n",
       "  <thead>\n",
       "    <tr style=\"text-align: right;\">\n",
       "      <th></th>\n",
       "      <th>business_code</th>\n",
       "      <th>cust_number</th>\n",
       "      <th>name_customer</th>\n",
       "      <th>clear_date</th>\n",
       "      <th>buisness_year</th>\n",
       "      <th>doc_id</th>\n",
       "      <th>posting_date</th>\n",
       "      <th>due_in_date</th>\n",
       "      <th>baseline_create_date</th>\n",
       "      <th>cust_payment_terms</th>\n",
       "      <th>converted_usd</th>\n",
       "    </tr>\n",
       "  </thead>\n",
       "  <tbody>\n",
       "    <tr>\n",
       "      <th>0</th>\n",
       "      <td>U001</td>\n",
       "      <td>200769623</td>\n",
       "      <td>WAL-MAR corp</td>\n",
       "      <td>2020-02-11</td>\n",
       "      <td>2020</td>\n",
       "      <td>1930438491</td>\n",
       "      <td>2020-01-26</td>\n",
       "      <td>2020-02-10</td>\n",
       "      <td>2020-01-26</td>\n",
       "      <td>NAH4</td>\n",
       "      <td>54273.280</td>\n",
       "    </tr>\n",
       "    <tr>\n",
       "      <th>1</th>\n",
       "      <td>U001</td>\n",
       "      <td>200980828</td>\n",
       "      <td>BEN E</td>\n",
       "      <td>2019-08-08</td>\n",
       "      <td>2019</td>\n",
       "      <td>1929646410</td>\n",
       "      <td>2019-07-22</td>\n",
       "      <td>2019-08-11</td>\n",
       "      <td>2019-07-22</td>\n",
       "      <td>NAD1</td>\n",
       "      <td>79656.600</td>\n",
       "    </tr>\n",
       "    <tr>\n",
       "      <th>2</th>\n",
       "      <td>U001</td>\n",
       "      <td>200792734</td>\n",
       "      <td>MDV/ trust</td>\n",
       "      <td>2019-12-30</td>\n",
       "      <td>2019</td>\n",
       "      <td>1929873765</td>\n",
       "      <td>2019-09-14</td>\n",
       "      <td>2019-09-29</td>\n",
       "      <td>2019-09-14</td>\n",
       "      <td>NAA8</td>\n",
       "      <td>2253.860</td>\n",
       "    </tr>\n",
       "    <tr>\n",
       "      <th>4</th>\n",
       "      <td>U001</td>\n",
       "      <td>200769623</td>\n",
       "      <td>WAL-MAR foundation</td>\n",
       "      <td>2019-11-25</td>\n",
       "      <td>2019</td>\n",
       "      <td>1930147974</td>\n",
       "      <td>2019-11-13</td>\n",
       "      <td>2019-11-28</td>\n",
       "      <td>2019-11-13</td>\n",
       "      <td>NAH4</td>\n",
       "      <td>33133.290</td>\n",
       "    </tr>\n",
       "    <tr>\n",
       "      <th>5</th>\n",
       "      <td>CA02</td>\n",
       "      <td>140106181</td>\n",
       "      <td>THE  corporation</td>\n",
       "      <td>2019-12-04</td>\n",
       "      <td>2019</td>\n",
       "      <td>2960581231</td>\n",
       "      <td>2019-09-20</td>\n",
       "      <td>2019-10-04</td>\n",
       "      <td>2019-09-24</td>\n",
       "      <td>CA10</td>\n",
       "      <td>15558.088</td>\n",
       "    </tr>\n",
       "  </tbody>\n",
       "</table>\n",
       "</div>"
      ],
      "text/plain": [
       "  business_code cust_number       name_customer clear_date  buisness_year  \\\n",
       "0          U001   200769623        WAL-MAR corp 2020-02-11           2020   \n",
       "1          U001   200980828              BEN E  2019-08-08           2019   \n",
       "2          U001   200792734          MDV/ trust 2019-12-30           2019   \n",
       "4          U001   200769623  WAL-MAR foundation 2019-11-25           2019   \n",
       "5          CA02   140106181    THE  corporation 2019-12-04           2019   \n",
       "\n",
       "       doc_id posting_date due_in_date baseline_create_date  \\\n",
       "0  1930438491   2020-01-26  2020-02-10           2020-01-26   \n",
       "1  1929646410   2019-07-22  2019-08-11           2019-07-22   \n",
       "2  1929873765   2019-09-14  2019-09-29           2019-09-14   \n",
       "4  1930147974   2019-11-13  2019-11-28           2019-11-13   \n",
       "5  2960581231   2019-09-20  2019-10-04           2019-09-24   \n",
       "\n",
       "  cust_payment_terms  converted_usd  \n",
       "0               NAH4      54273.280  \n",
       "1               NAD1      79656.600  \n",
       "2               NAA8       2253.860  \n",
       "4               NAH4      33133.290  \n",
       "5               CA10      15558.088  "
      ]
     },
     "execution_count": 42,
     "metadata": {},
     "output_type": "execute_result"
    }
   ],
   "source": [
    "maindata.head()"
   ]
  },
  {
   "cell_type": "code",
   "execution_count": 43,
   "id": "eee2d68a",
   "metadata": {
    "id": "eee2d68a"
   },
   "outputs": [
    {
     "data": {
      "text/html": [
       "<div>\n",
       "<style scoped>\n",
       "    .dataframe tbody tr th:only-of-type {\n",
       "        vertical-align: middle;\n",
       "    }\n",
       "\n",
       "    .dataframe tbody tr th {\n",
       "        vertical-align: top;\n",
       "    }\n",
       "\n",
       "    .dataframe thead th {\n",
       "        text-align: right;\n",
       "    }\n",
       "</style>\n",
       "<table border=\"1\" class=\"dataframe\">\n",
       "  <thead>\n",
       "    <tr style=\"text-align: right;\">\n",
       "      <th></th>\n",
       "      <th>business_code</th>\n",
       "      <th>cust_number</th>\n",
       "      <th>name_customer</th>\n",
       "      <th>clear_date</th>\n",
       "      <th>buisness_year</th>\n",
       "      <th>doc_id</th>\n",
       "      <th>posting_date</th>\n",
       "      <th>due_in_date</th>\n",
       "      <th>baseline_create_date</th>\n",
       "      <th>cust_payment_terms</th>\n",
       "      <th>converted_usd</th>\n",
       "    </tr>\n",
       "  </thead>\n",
       "  <tbody>\n",
       "    <tr>\n",
       "      <th>3</th>\n",
       "      <td>CA02</td>\n",
       "      <td>140105686</td>\n",
       "      <td>SYSC llc</td>\n",
       "      <td>NaT</td>\n",
       "      <td>2020</td>\n",
       "      <td>2960623488</td>\n",
       "      <td>2020-03-30</td>\n",
       "      <td>2020-04-10</td>\n",
       "      <td>2020-03-31</td>\n",
       "      <td>CA10</td>\n",
       "      <td>2309.79</td>\n",
       "    </tr>\n",
       "    <tr>\n",
       "      <th>7</th>\n",
       "      <td>U001</td>\n",
       "      <td>200744019</td>\n",
       "      <td>TARG us</td>\n",
       "      <td>NaT</td>\n",
       "      <td>2020</td>\n",
       "      <td>1930659387</td>\n",
       "      <td>2020-03-19</td>\n",
       "      <td>2020-04-03</td>\n",
       "      <td>2020-03-19</td>\n",
       "      <td>NAA8</td>\n",
       "      <td>11173.02</td>\n",
       "    </tr>\n",
       "    <tr>\n",
       "      <th>10</th>\n",
       "      <td>U001</td>\n",
       "      <td>200418007</td>\n",
       "      <td>AM</td>\n",
       "      <td>NaT</td>\n",
       "      <td>2020</td>\n",
       "      <td>1930610806</td>\n",
       "      <td>2020-11-03</td>\n",
       "      <td>2020-03-26</td>\n",
       "      <td>2020-03-11</td>\n",
       "      <td>NAA8</td>\n",
       "      <td>3525.59</td>\n",
       "    </tr>\n",
       "    <tr>\n",
       "      <th>14</th>\n",
       "      <td>U001</td>\n",
       "      <td>200739534</td>\n",
       "      <td>OK systems</td>\n",
       "      <td>NaT</td>\n",
       "      <td>2020</td>\n",
       "      <td>1930788296</td>\n",
       "      <td>2020-04-15</td>\n",
       "      <td>2020-04-30</td>\n",
       "      <td>2020-04-15</td>\n",
       "      <td>NAA8</td>\n",
       "      <td>121105.65</td>\n",
       "    </tr>\n",
       "    <tr>\n",
       "      <th>15</th>\n",
       "      <td>U001</td>\n",
       "      <td>200353024</td>\n",
       "      <td>DECA corporation</td>\n",
       "      <td>NaT</td>\n",
       "      <td>2020</td>\n",
       "      <td>1930817482</td>\n",
       "      <td>2020-04-23</td>\n",
       "      <td>2020-04-26</td>\n",
       "      <td>2020-04-16</td>\n",
       "      <td>NAM2</td>\n",
       "      <td>3726.06</td>\n",
       "    </tr>\n",
       "  </tbody>\n",
       "</table>\n",
       "</div>"
      ],
      "text/plain": [
       "   business_code cust_number     name_customer clear_date  buisness_year  \\\n",
       "3           CA02   140105686          SYSC llc        NaT           2020   \n",
       "7           U001   200744019           TARG us        NaT           2020   \n",
       "10          U001   200418007               AM         NaT           2020   \n",
       "14          U001   200739534        OK systems        NaT           2020   \n",
       "15          U001   200353024  DECA corporation        NaT           2020   \n",
       "\n",
       "        doc_id posting_date due_in_date baseline_create_date  \\\n",
       "3   2960623488   2020-03-30  2020-04-10           2020-03-31   \n",
       "7   1930659387   2020-03-19  2020-04-03           2020-03-19   \n",
       "10  1930610806   2020-11-03  2020-03-26           2020-03-11   \n",
       "14  1930788296   2020-04-15  2020-04-30           2020-04-15   \n",
       "15  1930817482   2020-04-23  2020-04-26           2020-04-16   \n",
       "\n",
       "   cust_payment_terms  converted_usd  \n",
       "3                CA10        2309.79  \n",
       "7                NAA8       11173.02  \n",
       "10               NAA8        3525.59  \n",
       "14               NAA8      121105.65  \n",
       "15               NAM2        3726.06  "
      ]
     },
     "execution_count": 43,
     "metadata": {},
     "output_type": "execute_result"
    }
   ],
   "source": [
    "nulldata.head()"
   ]
  },
  {
   "cell_type": "markdown",
   "id": "24aa6746",
   "metadata": {
    "id": "24aa6746"
   },
   "source": [
    "## Considering the **maindata**"
   ]
  },
  {
   "cell_type": "markdown",
   "id": "f92c4aa7",
   "metadata": {
    "id": "f92c4aa7"
   },
   "source": [
    "#### Generate a new column \"Delay\" from the existing columns\n",
    "\n",
    "- Note - You are expected to create a new column 'Delay' from two existing columns, \"clear_date\" and \"due_in_date\" \n",
    "- Formula - Delay = clear_date - due_in_date"
   ]
  },
  {
   "cell_type": "code",
   "execution_count": 44,
   "id": "8eeceb9c",
   "metadata": {
    "id": "8eeceb9c"
   },
   "outputs": [],
   "source": [
    "maindata['Delay'] = maindata['clear_date'] - maindata['due_in_date']"
   ]
  },
  {
   "cell_type": "markdown",
   "id": "f482144e",
   "metadata": {
    "id": "f482144e"
   },
   "source": [
    "### Generate a new column \"avgdelay\" from the existing columns\n",
    "\n",
    "- Note - You are expected to make a new column \"avgdelay\" by grouping \"name_customer\" column with reapect to mean of the \"Delay\" column.\n",
    "- This new column \"avg_delay\" is meant to store \"customer_name\" wise delay\n",
    "- groupby('name_customer')['Delay'].mean(numeric_only=False)\n",
    "- Display the new \"avg_delay\" column"
   ]
  },
  {
   "cell_type": "code",
   "execution_count": 45,
   "id": "d18d2f8d",
   "metadata": {
    "id": "d18d2f8d"
   },
   "outputs": [
    {
     "data": {
      "text/plain": [
       "name_customer\n",
       "11078 us                 17 days 00:00:00\n",
       "17135 associates       -10 days +00:00:00\n",
       "17135 llc               -3 days +00:00:00\n",
       "236008 associates       -3 days +00:00:00\n",
       "99 CE                     2 days 00:00:00\n",
       "                              ...        \n",
       "YEN BROS corp             0 days 00:00:00\n",
       "YEN BROS corporation    -1 days +12:00:00\n",
       "YEN BROS llc            -2 days +00:00:00\n",
       "ZARCO co                -1 days +00:00:00\n",
       "ZIYAD  us                 6 days 00:00:00\n",
       "Name: Delay, Length: 3889, dtype: timedelta64[ns]"
      ]
     },
     "execution_count": 45,
     "metadata": {},
     "output_type": "execute_result"
    }
   ],
   "source": [
    "temp=maindata['avg_delay'] = maindata.groupby('name_customer')['Delay'].mean(numeric_only=False)\n",
    "temp_list=[temp[i] for i in maindata['name_customer']]\n",
    "maindata['avg_delay']=pd.Series(temp_list,index=maindata.index)\n",
    "temp"
   ]
  },
  {
   "cell_type": "markdown",
   "id": "64b995e8",
   "metadata": {
    "id": "64b995e8"
   },
   "source": [
    "You need to add the \"avg_delay\" column with the maindata, mapped with \"name_customer\" column\n",
    "\n",
    " - Note - You need to use map function to map the avgdelay with respect to \"name_customer\" column"
   ]
  },
  {
   "cell_type": "code",
   "execution_count": 46,
   "id": "e1e1f3d9",
   "metadata": {
    "id": "e1e1f3d9"
   },
   "outputs": [
    {
     "name": "stdout",
     "output_type": "stream",
     "text": [
      "{'11078 us': Timedelta('17 days 00:00:00'), '17135 associates': Timedelta('-10 days +00:00:00'), '17135 llc': Timedelta('-3 days +00:00:00'), '236008 associates': Timedelta('-3 days +00:00:00'), '99 CE ': Timedelta('2 days 00:00:00'), '99 CE associates': Timedelta('2 days 00:00:00'), '99 CE co': Timedelta('3 days 00:00:00'), '99 CE corporation': Timedelta('1 days 00:00:00'), '99 CE foundation': Timedelta('9 days 00:00:00'), '99 CE in': Timedelta('2 days 00:00:00'), '99 CE llc': Timedelta('3 days 00:00:00'), '99 CE systems': Timedelta('2 days 14:24:00'), '99 CE trust': Timedelta('1 days 00:00:00'), '99 CE us': Timedelta('1 days 00:00:00'), 'A & W F ': Timedelta('2 days 00:00:00'), 'A & W F associates': Timedelta('1 days 12:00:00'), 'A & W F co': Timedelta('-5 days +12:00:00'), 'A & W F corp': Timedelta('0 days 00:00:00'), 'A & W F corporation': Timedelta('-1 days +09:36:00'), 'A & W F foundation': Timedelta('1 days 08:00:00'), 'A & W F llc': Timedelta('1 days 12:00:00'), 'A & W F systems': Timedelta('6 days 00:00:00'), 'A & W F trust': Timedelta('3 days 00:00:00'), 'A & W F us': Timedelta('-2 days +16:00:00'), 'A LA CAR corp': Timedelta('-8 days +00:00:00'), 'ABC B corporation': Timedelta('4 days 00:00:00'), 'ACE  associates': Timedelta('2 days 00:00:00'), 'ACE  co': Timedelta('-3 days +00:00:00'), 'ACE  corporation': Timedelta('0 days 00:00:00'), 'ACE  systems': Timedelta('0 days 00:00:00'), 'ACTIVE M co': Timedelta('17 days 00:00:00'), 'AFFI ': Timedelta('-5 days +00:00:00'), 'AFFI associates': Timedelta('-5 days +12:00:00'), 'AFFI corporation': Timedelta('-1 days +00:00:00'), 'AFFI foundation': Timedelta('-5 days +12:00:00'), 'AFFI llc': Timedelta('1 days 00:00:00'), 'AFFI us': Timedelta('-7 days +12:00:00'), 'AFFILI ': Timedelta('-4 days +00:00:00'), 'AFFILI associates': Timedelta('-5 days +00:00:00'), 'AFFILI co': Timedelta('-7 days +19:12:00'), 'AFFILI corp': Timedelta('-6 days +00:00:00'), 'AFFILI corporation': Timedelta('-31 days +00:00:00'), 'AFFILI foundation': Timedelta('-5 days +08:00:00'), 'AFFILI in': Timedelta('-2 days +00:00:00'), 'AFFILI llc': Timedelta('-5 days +08:00:00'), 'AFFILI systems': Timedelta('-11 days +09:36:00'), 'AFFILI trust': Timedelta('-7 days +13:42:51.428571429'), 'AFFILI us': Timedelta('-6 days +16:00:00'), 'AGR ': Timedelta('-13 days +00:00:00'), 'AGR associates': Timedelta('-18 days +00:00:00'), 'AGR co': Timedelta('-5 days +08:00:00'), 'AGR corp': Timedelta('-18 days +16:00:00'), 'AGR corporation': Timedelta('-18 days +00:00:00'), 'AGR foundation': Timedelta('-13 days +08:00:00'), 'AGR in': Timedelta('-13 days +12:00:00'), 'AGR llc': Timedelta('-15 days +16:00:00'), 'AGR systems': Timedelta('-13 days +00:00:00'), 'AGR trust': Timedelta('-15 days +12:00:00'), 'AGR us': Timedelta('-13 days +06:00:00'), 'AIR C co': Timedelta('20 days 00:00:00'), 'AJINOMO corporation': Timedelta('6 days 00:00:00'), 'AL ': Timedelta('0 days 05:32:18.461538461'), 'AL MAJ corp': Timedelta('115 days 00:00:00'), 'AL MAJ in': Timedelta('3 days 00:00:00'), 'AL associates': Timedelta('0 days 16:00:00'), 'AL co': Timedelta('1 days 00:00:00'), 'AL corp': Timedelta('2 days 00:00:00'), 'AL corporation': Timedelta('1 days 09:00:00'), 'AL foundation': Timedelta('1 days 00:00:00'), 'AL in': Timedelta('-8 days +06:51:25.714285715'), 'AL llc': Timedelta('1 days 12:00:00'), 'AL systems': Timedelta('0 days 02:00:00'), 'AL trust': Timedelta('0 days 08:00:00'), 'AL us': Timedelta('0 days 02:24:00'), 'ALBE corporation': Timedelta('0 days 00:00:00'), 'ALBER ': Timedelta('0 days 10:40:00'), 'ALBER associates': Timedelta('0 days 08:00:00'), 'ALBER co': Timedelta('0 days 19:38:10.909090909'), 'ALBER corp': Timedelta('0 days 03:25:42.857142857'), 'ALBER corporation': Timedelta('10 days 18:00:00'), 'ALBER foundation': Timedelta('0 days 06:32:43.636363636'), 'ALBER in': Timedelta('0 days 12:00:00'), 'ALBER llc': Timedelta('0 days 13:05:27.272727272'), 'ALBER systems': Timedelta('0 days 18:00:00'), 'ALBER trust': Timedelta('0 days 03:00:00'), 'ALBER us': Timedelta('0 days 13:05:27.272727272'), 'ALBERT ': Timedelta('1 days 00:00:00'), 'ALBERT associates': Timedelta('0 days 19:12:00'), 'ALBERT co': Timedelta('0 days 04:48:00'), 'ALBERT corp': Timedelta('0 days 12:28:48'), 'ALBERT corporation': Timedelta('2 days 02:24:00'), 'ALBERT foundation': Timedelta('0 days 18:46:57.391304347'), 'ALBERT in': Timedelta('0 days 09:49:05.454545454'), 'ALBERT llc': Timedelta('0 days 09:00:00'), 'ALBERT systems': Timedelta('0 days 16:21:49.090909090'), 'ALBERT trust': Timedelta('-1 days +12:00:00'), 'ALBERT us': Timedelta('0 days 20:00:00'), 'ALD corporation': Timedelta('0 days 00:00:00'), 'ALI ': Timedelta('-1 days +00:00:00'), 'ALI in': Timedelta('-2 days +00:00:00'), 'ALI llc': Timedelta('-2 days +12:00:00'), 'ALI us': Timedelta('-1 days +00:00:00'), 'ALIME corporation': Timedelta('-1 days +00:00:00'), 'ALIMEN ': Timedelta('-8 days +00:00:00'), 'ALIMEN corporation': Timedelta('0 days 00:00:00'), 'ALIMEN foundation': Timedelta('0 days 00:00:00'), 'ALIMEN trust': Timedelta('-5 days +00:00:00'), 'ALL co': Timedelta('0 days 00:00:00'), 'ALLE associates': Timedelta('0 days 00:00:00'), 'ALLIED co': Timedelta('2 days 00:00:00'), 'ALP systems': Timedelta('-4 days +00:00:00'), 'ALVARE trust': Timedelta('9 days 00:00:00'), 'AM ': Timedelta('-4 days +19:38:10.909090910'), 'AM associates': Timedelta('1 days 17:51:37.674418604'), 'AM co': Timedelta('-4 days +01:13:50.769230770'), 'AM corp': Timedelta('-3 days +20:12:37.894736843'), 'AM corporation': Timedelta('-3 days +17:38:49.411764706'), 'AM foundation': Timedelta('0 days 16:14:07.058823529'), 'AM in': Timedelta('-3 days +00:29:23.265306124'), 'AM llc': Timedelta('-3 days +15:20:00'), 'AM systems': Timedelta('2 days 16:12:58.378378378'), 'AM trust': Timedelta('-11 days +09:36:00'), 'AM us': Timedelta('1 days 04:25:15.789473684'), 'AMALGA ': Timedelta('-6 days +00:00:00'), 'AMALGA corp': Timedelta('-3 days +00:00:00'), 'AMALGA in': Timedelta('-4 days +00:00:00'), 'AMALGA llc': Timedelta('-4 days +00:00:00'), 'AMALGA systems': Timedelta('-5 days +00:00:00'), 'AMAZO ': Timedelta('44 days 00:00:00'), 'AMAZO associates': Timedelta('6 days 04:00:00'), 'AMAZO co': Timedelta('10 days 00:00:00'), 'AMAZO corp': Timedelta('4 days 16:00:00'), 'AMAZO corporation': Timedelta('3 days 08:00:00'), 'AMAZO foundation': Timedelta('3 days 19:12:00'), 'AMAZO in': Timedelta('0 days 00:00:00'), 'AMAZO llc': Timedelta('6 days 12:00:00'), 'AMAZO systems': Timedelta('3 days 16:00:00'), 'AMAZO trust': Timedelta('3 days 00:00:00'), 'AMAZO us': Timedelta('9 days 00:00:00'), 'AMERIC ': Timedelta('-2 days +00:00:00'), 'AMERIC associates': Timedelta('2 days 00:00:00'), 'AMERIC co': Timedelta('1 days 00:00:00'), 'AMERIC corporation': Timedelta('-6 days +00:00:00'), 'AMERIC foundation': Timedelta('-5 days +12:00:00'), 'AMERIC llc': Timedelta('-1 days +00:00:00'), 'AMERIC trust': Timedelta('-1 days +00:00:00'), 'AMERIC us': Timedelta('-2 days +00:00:00'), 'AMERICAN trust': Timedelta('1 days 00:00:00'), 'AMI co': Timedelta('8 days 00:00:00'), 'AMI in': Timedelta('16 days 00:00:00'), 'AMI llc': Timedelta('5 days 00:00:00'), 'AMY associates': Timedelta('-5 days +00:00:00'), 'AMY co': Timedelta('-2 days +00:00:00'), 'AMY corp': Timedelta('-2 days +00:00:00'), 'AMY foundation': Timedelta('25 days 00:00:00'), 'AMY in': Timedelta('9 days 00:00:00'), 'AMY llc': Timedelta('13 days 00:00:00'), 'AMY systems': Timedelta('7 days 00:00:00'), 'AMY us': Timedelta('1 days 00:00:00'), 'AN in': Timedelta('-1 days +00:00:00'), 'ANHA ': Timedelta('-3 days +00:00:00'), 'ANHA co': Timedelta('-2 days +00:00:00'), 'ANHA foundation': Timedelta('-5 days +12:00:00'), 'ANHA in': Timedelta('0 days 00:00:00'), 'ANHA llc': Timedelta('-13 days +00:00:00'), 'ANTONIO corp': Timedelta('4 days 00:00:00'), 'ANTONIO llc': Timedelta('-1 days +00:00:00'), 'ANTONIO trust': Timedelta('2 days 00:00:00'), 'AOF SER co': Timedelta('-1 days +00:00:00'), 'AOF SER corporation': Timedelta('-2 days +12:00:00'), 'AOF SER foundation': Timedelta('-3 days +00:00:00'), 'AOF SER systems': Timedelta('-2 days +00:00:00'), 'APPE ': Timedelta('2 days 00:00:00'), 'APPE associates': Timedelta('3 days 12:00:00'), 'APPE co': Timedelta('6 days 00:00:00'), 'APPE corp': Timedelta('0 days 00:00:00'), 'APPE corporation': Timedelta('0 days 00:00:00'), 'APPE in': Timedelta('3 days 00:00:00'), 'APPE systems': Timedelta('2 days 00:00:00'), 'APPE trust': Timedelta('0 days 00:00:00'), 'AR co': Timedelta('4 days 00:00:00'), 'AR corporation': Timedelta('6 days 00:00:00'), 'AR foundation': Timedelta('2 days 00:00:00'), 'AR systems': Timedelta('2 days 00:00:00'), 'AR us': Timedelta('-5 days +00:00:00'), 'ARIZON co': Timedelta('4 days 00:00:00'), 'ARKANS associates': Timedelta('1 days 00:00:00'), 'ARKANS systems': Timedelta('-5 days +00:00:00'), 'ARMY associates': Timedelta('12 days 16:00:00'), 'ARMY co': Timedelta('17 days 00:00:00'), 'ARMY corporation': Timedelta('0 days 00:00:00'), 'ARMY systems': Timedelta('8 days 12:00:00'), 'ARMY trust': Timedelta('16 days 00:00:00'), 'ARMY us': Timedelta('7 days 00:00:00'), 'ASSOC G ': Timedelta('-1 days +18:00:00'), 'ASSOC G associates': Timedelta('2 days 16:00:00'), 'ASSOC G co': Timedelta('-2 days +00:00:00'), 'ASSOC G corp': Timedelta('-1 days +20:00:00'), 'ASSOC G foundation': Timedelta('-2 days +00:00:00'), 'ASSOC G in': Timedelta('-1 days +08:00:00'), 'ASSOC G llc': Timedelta('-1 days +00:00:00'), 'ASSOC G systems': Timedelta('0 days 00:00:00'), 'ASSOC G trust': Timedelta('2 days 00:00:00'), 'ASSOCI ': Timedelta('4 days 09:36:00'), 'ASSOCI associates': Timedelta('0 days 00:00:00'), 'ASSOCI co': Timedelta('4 days 18:00:00'), 'ASSOCI corp': Timedelta('0 days 00:00:00'), 'ASSOCI corporation': Timedelta('-1 days +18:00:00'), 'ASSOCI foundation': Timedelta('0 days 12:00:00'), 'ASSOCI in': Timedelta('0 days 06:00:00'), 'ASSOCI llc': Timedelta('0 days 00:00:00'), 'ASSOCI systems': Timedelta('-1 days +06:00:00'), 'ASSOCI trust': Timedelta('4 days 00:00:00'), 'ASSOCI us': Timedelta('1 days 00:00:00'), 'ASSOCIA ': Timedelta('11 days 00:00:00'), 'ASSOCIA associates': Timedelta('2 days 00:00:00'), 'ASSOCIA co': Timedelta('1 days 09:36:00'), 'ASSOCIA corp': Timedelta('1 days 08:00:00'), 'ASSOCIA corporation': Timedelta('8 days 08:00:00'), 'ASSOCIA foundation': Timedelta('3 days 06:00:00'), 'ASSOCIA in': Timedelta('4 days 00:00:00'), 'ASSOCIA llc': Timedelta('4 days 08:00:00'), 'ASSOCIA systems': Timedelta('3 days 09:36:00'), 'ASSOCIA trust': Timedelta('2 days 00:00:00'), 'ASSOCIA us': Timedelta('7 days 12:00:00'), 'ASSOCIAT ': Timedelta('1 days 01:23:28.695652173'), 'ASSOCIAT associates': Timedelta('2 days 06:51:25.714285714'), 'ASSOCIAT co': Timedelta('1 days 05:17:38.823529411'), 'ASSOCIAT corp': Timedelta('1 days 02:12:55.384615384'), 'ASSOCIAT corporation': Timedelta('1 days 03:40:00'), 'ASSOCIAT foundation': Timedelta('0 days 21:38:01.690140845'), 'ASSOCIAT in': Timedelta('3 days 11:04:36.923076923'), 'ASSOCIAT llc': Timedelta('2 days 07:36:00'), 'ASSOCIAT systems': Timedelta('2 days 08:40:00'), 'ASSOCIAT trust': Timedelta('1 days 00:29:23.265306122'), 'ASSOCIAT us': Timedelta('0 days 18:31:34.736842105'), 'ASTR co': Timedelta('18 days 12:00:00'), 'ASTR corp': Timedelta('59 days 00:00:00'), 'ATLANT ': Timedelta('-2 days +16:00:00'), 'ATLANT co': Timedelta('1 days 12:00:00'), 'ATLANT corp': Timedelta('0 days 00:00:00'), 'ATLANT corporation': Timedelta('0 days 00:00:00'), 'ATLANT foundation': Timedelta('0 days 08:00:00'), 'ATLANT in': Timedelta('0 days 19:12:00'), 'ATLANT llc': Timedelta('4 days 00:00:00'), 'ATLANT systems': Timedelta('-1 days +00:00:00'), 'ATLANT trust': Timedelta('-1 days +00:00:00'), 'ATLANT us': Timedelta('16 days 00:00:00'), 'ATLANTA  corp': Timedelta('5 days 00:00:00'), 'ATLANTA  corporation': Timedelta('6 days 00:00:00'), 'ATLANTA  in': Timedelta('6 days 00:00:00'), 'ATLANTA  trust': Timedelta('8 days 16:00:00'), 'ATLANTA  us': Timedelta('9 days 00:00:00'), 'ATLAS W foundation': Timedelta('2 days 00:00:00'), 'ATLAS W systems': Timedelta('-11 days +00:00:00'), 'AUTO in': Timedelta('-3 days +00:00:00'), 'AVRO associates': Timedelta('-3 days +00:00:00'), 'AVRO corporation': Timedelta('1 days 00:00:00'), 'B C C foundation': Timedelta('-1 days +00:00:00'), 'B FERN ': Timedelta('4 days 00:00:00'), 'B FERN associates': Timedelta('4 days 12:00:00'), 'B FERN in': Timedelta('2 days 00:00:00'), 'B K MI us': Timedelta('0 days 00:00:00'), 'BAKE foundation': Timedelta('0 days 00:00:00'), 'BAKEMAR ': Timedelta('0 days 12:00:00'), 'BAKEMAR associates': Timedelta('6 days 00:00:00'), 'BAKEMAR co': Timedelta('3 days 00:00:00'), 'BAKEMAR corporation': Timedelta('6 days 00:00:00'), 'BAKEMAR in': Timedelta('4 days 00:00:00'), 'BAKEMAR us': Timedelta('7 days 00:00:00'), 'BALLES corp': Timedelta('2 days 00:00:00'), 'BALLES in': Timedelta('7 days 00:00:00'), 'BANNER associates': Timedelta('0 days 00:00:00'), 'BANNER trust': Timedelta('3 days 00:00:00'), 'BAR associates': Timedelta('-1 days +00:00:00'), 'BAR co': Timedelta('0 days 00:00:00'), 'BAR corp': Timedelta('0 days 00:00:00'), 'BAR corporation': Timedelta('-2 days +00:00:00'), 'BAR foundation': Timedelta('0 days 00:00:00'), 'BAR in': Timedelta('0 days 00:00:00'), 'BAR llc': Timedelta('0 days 00:00:00'), 'BAR systems': Timedelta('0 days 00:00:00'), 'BAR us': Timedelta('1 days 12:00:00'), 'BARB associates': Timedelta('-10 days +00:00:00'), 'BARB co': Timedelta('-7 days +00:00:00'), 'BARB foundation': Timedelta('7 days 00:00:00'), 'BARGAIN  ': Timedelta('0 days 20:00:00'), 'BARGAIN  associates': Timedelta('3 days 12:00:00'), 'BARGAIN  co': Timedelta('3 days 04:48:00'), 'BARGAIN  corp': Timedelta('1 days 20:00:00'), 'BARGAIN  corporation': Timedelta('1 days 21:00:00'), 'BARGAIN  foundation': Timedelta('4 days 00:00:00'), 'BARGAIN  in': Timedelta('2 days 06:51:25.714285714'), 'BARGAIN  llc': Timedelta('4 days 16:00:00'), 'BARGAIN  systems': Timedelta('4 days 00:00:00'), 'BARGAIN  trust': Timedelta('2 days 12:00:00'), 'BARGAIN  us': Timedelta('4 days 00:00:00'), 'BART corporation': Timedelta('3 days 00:00:00'), 'BAS ': Timedelta('-3 days +12:00:00'), 'BAS associates': Timedelta('-1 days +06:00:00'), 'BAS co': Timedelta('-1 days +06:00:00'), 'BAS corp': Timedelta('-2 days +18:00:00'), 'BAS corporation': Timedelta('-1 days +12:00:00'), 'BAS foundation': Timedelta('-1 days +16:00:00'), 'BAS in': Timedelta('-1 days +00:00:00'), 'BAS llc': Timedelta('-1 days +08:00:00'), 'BAS systems': Timedelta('0 days 08:00:00'), 'BASIX  co': Timedelta('-6 days +00:00:00'), 'BASIX  foundation': Timedelta('-12 days +00:00:00'), 'BASIX  llc': Timedelta('-5 days +00:00:00'), 'BASIX  trust': Timedelta('-11 days +00:00:00'), 'BAUGH SU ': Timedelta('1 days 12:00:00'), 'BAUGH SU associates': Timedelta('2 days 04:48:00'), 'BAUGH SU co': Timedelta('1 days 16:00:00'), 'BAUGH SU corp': Timedelta('2 days 06:51:25.714285714'), 'BAUGH SU corporation': Timedelta('2 days 04:48:00'), 'BAUGH SU foundation': Timedelta('2 days 12:00:00'), 'BAUGH SU in': Timedelta('0 days 19:12:00'), 'BAUGH SU llc': Timedelta('0 days 00:00:00'), 'BAUGH SU systems': Timedelta('1 days 08:00:00'), 'BAUGH SU trust': Timedelta('1 days 15:16:21.818181818'), 'BAUGH SU us': Timedelta('-1 days +21:20:00'), 'BAY  ': Timedelta('5 days 00:00:00'), 'BAY  associates': Timedelta('2 days 08:00:00'), 'BAY  corp': Timedelta('3 days 00:00:00'), 'BAY  corporation': Timedelta('4 days 00:00:00'), 'BAY  in': Timedelta('8 days 00:00:00'), 'BAY  llc': Timedelta('10 days 00:00:00'), 'BE ': Timedelta('-2 days +00:00:00'), 'BE associates': Timedelta('-4 days +08:00:00'), 'BE co': Timedelta('-2 days +00:00:00'), 'BE corp': Timedelta('-8 days +00:00:00'), 'BE corporation': Timedelta('-8 days +12:00:00'), 'BE foundation': Timedelta('-5 days +08:00:00'), 'BE in': Timedelta('-7 days +16:00:00'), 'BE llc': Timedelta('-7 days +00:00:00'), 'BE systems': Timedelta('-5 days +00:00:00'), 'BE trust': Timedelta('-4 days +12:00:00'), 'BE us': Timedelta('-3 days +00:00:00'), 'BEEF co': Timedelta('-14 days +00:00:00'), 'BELL co': Timedelta('6 days 12:00:00'), 'BELL corp': Timedelta('-1 days +00:00:00'), 'BELL corporation': Timedelta('3 days 00:00:00'), 'BELL foundation': Timedelta('9 days 00:00:00'), 'BELL trust': Timedelta('15 days 00:00:00'), 'BELL us': Timedelta('8 days 00:00:00'), 'BEN  ': Timedelta('9 days 12:00:00'), 'BEN  associates': Timedelta('-5 days +04:48:00'), 'BEN  co': Timedelta('-8 days +00:00:00'), 'BEN  corp': Timedelta('-1 days +08:00:00'), 'BEN  corporation': Timedelta('-7 days +00:00:00'), 'BEN  in': Timedelta('-2 days +00:00:00'), 'BEN  llc': Timedelta('-7 days +06:00:00'), 'BEN  systems': Timedelta('4 days 00:00:00'), 'BEN  trust': Timedelta('-2 days +08:00:00'), 'BEN  us': Timedelta('-4 days +00:00:00'), 'BEN E ': Timedelta('19 days 00:00:00'), 'BEN E KE co': Timedelta('-1 days +00:00:00'), 'BEN E associates': Timedelta('-4 days +13:42:51.428571429'), 'BEN E co': Timedelta('-7 days +16:00:00'), 'BEN E corp': Timedelta('-4 days +00:00:00'), 'BEN E corporation': Timedelta('-2 days +08:00:00'), 'BEN E foundation': Timedelta('-5 days +12:00:00'), 'BEN E in': Timedelta('-4 days +16:00:00'), 'BEN E llc': Timedelta('-8 days +19:12:00'), 'BEN E systems': Timedelta('-7 days +16:48:00'), 'BEN E trust': Timedelta('-6 days +00:00:00'), 'BEN E us': Timedelta('-9 days +00:00:00'), 'BERN corp': Timedelta('9 days 00:00:00'), 'BERN systems': Timedelta('12 days 00:00:00'), 'BEST  foundation': Timedelta('-25 days +00:00:00'), 'BEST  in': Timedelta('-15 days +00:00:00'), 'BI ': Timedelta('11 days 08:00:00'), 'BI MA ': Timedelta('2 days 00:00:00'), 'BI MA corp': Timedelta('1 days 00:00:00'), 'BI MA in': Timedelta('1 days 00:00:00'), 'BI MA trust': Timedelta('4 days 00:00:00'), 'BI MA us': Timedelta('1 days 00:00:00'), 'BI associates': Timedelta('0 days 00:00:00'), 'BI corp': Timedelta('4 days 00:00:00'), 'BI corporation': Timedelta('-2 days +00:00:00'), 'BI foundation': Timedelta('-3 days +12:00:00'), 'BI llc': Timedelta('-6 days +12:00:00'), 'BI systems': Timedelta('3 days 12:00:00'), 'BI trust': Timedelta('5 days 12:00:00'), 'BI us': Timedelta('-12 days +08:00:00'), 'BI-RIT trust': Timedelta('1 days 00:00:00'), 'BICKEL us': Timedelta('3 days 00:00:00'), 'BIG APP systems': Timedelta('-1 days +00:00:00'), 'BIG corporation': Timedelta('-31 days +00:00:00'), 'BIRD-I ': Timedelta('5 days 00:00:00'), 'BIRD-I in': Timedelta('6 days 12:00:00'), 'BIRD-I llc': Timedelta('3 days 00:00:00'), \"BJ'S  \": Timedelta('1 days 03:53:30.810810810'), \"BJ'S  associates\": Timedelta('1 days 20:37:10.985915492'), \"BJ'S  co\": Timedelta('2 days 04:22:46.423357664'), \"BJ'S  corp\": Timedelta('1 days 03:10:35.294117647'), \"BJ'S  corporation\": Timedelta('1 days 12:56:50.526315789'), \"BJ'S  foundation\": Timedelta('0 days 18:53:37.021276595'), \"BJ'S  in\": Timedelta('0 days 21:38:21.639344262'), \"BJ'S  llc\": Timedelta('1 days 13:36:42.985074626'), \"BJ'S  systems\": Timedelta('0 days 22:40:29.447852760'), \"BJ'S  trust\": Timedelta('0 days 23:20:00'), \"BJ'S  us\": Timedelta('1 days 14:24:00'), 'BLOU ': Timedelta('2 days 12:00:00'), 'BLOU co': Timedelta('0 days 18:00:00'), 'BLOU corp': Timedelta('0 days 00:00:00'), 'BLOU foundation': Timedelta('2 days 00:00:00'), 'BLOU in': Timedelta('-1 days +00:00:00'), 'BLOU us': Timedelta('1 days 12:00:00'), 'BOARD ': Timedelta('0 days 12:00:00'), 'BOARD co': Timedelta('-4 days +00:00:00'), 'BOARD corp': Timedelta('-6 days +00:00:00'), 'BOARD corporation': Timedelta('-3 days +12:00:00'), 'BOARD foundation': Timedelta('0 days 00:00:00'), 'BOARD trust': Timedelta('-3 days +00:00:00'), 'BOARD us': Timedelta('12 days 00:00:00'), 'BOB E foundation': Timedelta('7 days 00:00:00'), 'BOB E trust': Timedelta('3 days 00:00:00'), 'BOBBY S trust': Timedelta('-1 days +00:00:00'), 'BODAC in': Timedelta('-2 days +00:00:00'), 'BON  foundation': Timedelta('7 days 00:00:00'), 'BON  in': Timedelta('2 days 00:00:00'), 'BOVA F in': Timedelta('-4 days +00:00:00'), 'BOZZU ': Timedelta('1 days 08:00:00'), 'BOZZU associates': Timedelta('2 days 09:36:00'), 'BOZZU co': Timedelta('2 days 04:21:49.090909090'), 'BOZZU corp': Timedelta('2 days 08:00:00'), 'BOZZU corporation': Timedelta('2 days 00:00:00'), 'BOZZU foundation': Timedelta('2 days 09:36:00'), 'BOZZU in': Timedelta('1 days 21:20:00'), 'BOZZU llc': Timedelta('1 days 22:00:00'), 'BOZZU systems': Timedelta('2 days 00:00:00'), 'BOZZU trust': Timedelta('2 days 00:00:00'), 'BOZZU us': Timedelta('1 days 04:48:00'), 'BRADY ': Timedelta('31 days 00:00:00'), 'BRADY associates': Timedelta('56 days 16:00:00'), 'BRADY corp': Timedelta('33 days 00:00:00'), 'BRADY corporation': Timedelta('34 days 00:00:00'), 'BRADY foundation': Timedelta('33 days 19:12:00'), 'BRADY in': Timedelta('42 days 00:00:00'), 'BRADY llc': Timedelta('31 days 00:00:00'), 'BRADY systems': Timedelta('40 days 12:00:00'), 'BRADY trust': Timedelta('111 days 00:00:00'), 'BRADY us': Timedelta('31 days 00:00:00'), 'BRENH systems': Timedelta('-2 days +00:00:00'), 'BROOKS ': Timedelta('1 days 06:51:25.714285714'), 'BROOKS associates': Timedelta('-8 days +15:00:00'), 'BROOKS co': Timedelta('-4 days +13:20:00'), 'BROOKS corp': Timedelta('1 days 16:00:00'), 'BROOKS corporation': Timedelta('2 days 00:00:00'), 'BROOKS foundation': Timedelta('1 days 18:40:00'), 'BROOKS in': Timedelta('0 days 19:12:00'), 'BROOKS llc': Timedelta('-17 days +20:00:00'), 'BROOKS systems': Timedelta('0 days 21:00:00'), 'BROOKS trust': Timedelta('-1 days +19:12:00'), 'BROOKS us': Timedelta('0 days 00:00:00'), 'BROW llc': Timedelta('3 days 00:00:00'), 'BRUN corp': Timedelta('3 days 00:00:00'), 'BRUN trust': Timedelta('-1 days +00:00:00'), 'BULK  ': Timedelta('16 days 00:00:00'), 'BULK  foundation': Timedelta('16 days 00:00:00'), 'BUNZ associates': Timedelta('5 days 00:00:00'), 'BUR ': Timedelta('-3 days +00:00:00'), 'BUR associates': Timedelta('-3 days +08:00:00'), 'BUR foundation': Timedelta('2 days 00:00:00'), 'BUR llc': Timedelta('-2 days +00:00:00'), 'BURR ': Timedelta('1 days 18:00:00'), 'BURR associates': Timedelta('0 days 00:00:00'), 'BURR co': Timedelta('4 days 14:24:00'), 'BURR corp': Timedelta('7 days 16:48:00'), 'BURR corporation': Timedelta('15 days 08:00:00'), 'BURR foundation': Timedelta('4 days 00:00:00'), 'BURR in': Timedelta('1 days 04:00:00'), 'BURR llc': Timedelta('2 days 12:00:00'), 'BURR systems': Timedelta('0 days 18:00:00'), 'BURR trust': Timedelta('3 days 00:00:00'), 'BURR us': Timedelta('0 days 00:00:00'), 'BUTTE ': Timedelta('-4 days +00:00:00'), 'BUTTE associates': Timedelta('-6 days +00:00:00'), 'BUTTE corp': Timedelta('-2 days +12:00:00'), 'BUTTE corporation': Timedelta('-5 days +12:00:00'), 'BUTTE foundation': Timedelta('-8 days +00:00:00'), 'BUTTE in': Timedelta('-6 days +12:00:00'), 'BUTTE llc': Timedelta('-5 days +00:00:00'), 'BUTTE trust': Timedelta('-6 days +16:00:00'), 'BUTTE us': Timedelta('-5 days +12:00:00'), 'BUY- ': Timedelta('-2 days +00:00:00'), 'BUY- associates': Timedelta('-2 days +08:00:00'), 'BUY- corp': Timedelta('2 days 19:12:00'), 'BUY- corporation': Timedelta('2 days 12:00:00'), 'BUY- in': Timedelta('0 days 06:00:00'), 'BUY- llc': Timedelta('0 days 00:00:00'), 'BUY- systems': Timedelta('0 days 06:00:00'), 'BUY- trust': Timedelta('-4 days +00:00:00'), 'BUY- us': Timedelta('5 days 00:00:00'), 'C ': Timedelta('4 days 05:38:49.411764705'), 'C  co': Timedelta('-1 days +00:00:00'), 'C  corporation': Timedelta('4 days 00:00:00'), 'C associates': Timedelta('4 days 12:00:00'), 'C co': Timedelta('6 days 04:48:00'), 'C corp': Timedelta('2 days 16:00:00'), 'C corporation': Timedelta('9 days 00:00:00'), 'C foundation': Timedelta('10 days 04:48:00'), 'C in': Timedelta('7 days 00:00:00'), 'C llc': Timedelta('3 days 10:54:32.727272727'), 'C systems': Timedelta('4 days 21:00:00'), 'C trust': Timedelta('4 days 03:25:42.857142857'), 'C us': Timedelta('3 days 13:05:27.272727272'), 'C& ': Timedelta('5 days 12:00:00'), 'C& co': Timedelta('2 days 12:00:00'), 'C& corp': Timedelta('0 days 12:00:00'), 'C& corporation': Timedelta('-6 days +00:00:00'), 'C& foundation': Timedelta('0 days 00:00:00'), 'C& in': Timedelta('-6 days +19:12:00'), 'C& llc': Timedelta('2 days 00:00:00'), 'C& systems': Timedelta('-2 days +20:34:17.142857143'), 'C& trust': Timedelta('-2 days +00:00:00'), 'C& us': Timedelta('-2 days +00:00:00'), 'C&S W ': Timedelta('1 days 12:00:00'), 'C&S W associates': Timedelta('0 days 16:00:00'), 'C&S W co': Timedelta('0 days 16:00:00'), 'C&S W corp': Timedelta('0 days 18:00:00'), 'C&S W corporation': Timedelta('0 days 00:00:00'), 'C&S W foundation': Timedelta('-1 days +00:00:00'), 'C&S W in': Timedelta('0 days 00:00:00'), 'C&S W llc': Timedelta('1 days 00:00:00'), 'C&S W systems': Timedelta('-50 days +00:00:00'), 'C&S W trust': Timedelta('1 days 00:00:00'), 'C&S W us': Timedelta('0 days 19:12:00'), 'C&S WH ': Timedelta('-1 days +03:18:37.241379311'), 'C&S WH associates': Timedelta('0 days 05:16:48'), 'C&S WH co': Timedelta('0 days 01:32:09.600000'), 'C&S WH corp': Timedelta('-2 days +00:00:00'), 'C&S WH corporation': Timedelta('-1 days +08:24:36.923076924'), 'C&S WH foundation': Timedelta('1 days 01:30:48.648648648'), 'C&S WH in': Timedelta('0 days 20:00:00'), 'C&S WH llc': Timedelta('0 days 02:13:20'), 'C&S WH systems': Timedelta('-2 days +18:00:00'), 'C&S WH trust': Timedelta('-1 days +14:45:00'), 'C&S WH us': Timedelta('-1 days +04:40:21.238938054'), 'CALC trust': Timedelta('4 days 00:00:00'), 'CALC us': Timedelta('25 days 00:00:00'), 'CALD associates': Timedelta('-2 days +00:00:00'), 'CALD corporation': Timedelta('1 days 12:00:00'), 'CALD foundation': Timedelta('1 days 00:00:00'), 'CALD trust': Timedelta('-2 days +00:00:00'), 'CALD us': Timedelta('1 days 00:00:00'), 'CALIFO ': Timedelta('-26 days +00:00:00'), 'CALIFO associates': Timedelta('15 days 00:00:00'), 'CALIFO co': Timedelta('-12 days +12:00:00'), 'CALIFO corp': Timedelta('0 days 08:00:00'), 'CALIFO corporation': Timedelta('-9 days +00:00:00'), 'CALIFO in': Timedelta('0 days 06:00:00'), 'CALIFO us': Timedelta('-4 days +00:00:00'), 'CAMP corp': Timedelta('0 days 00:00:00'), 'CAMP foundation': Timedelta('9 days 00:00:00'), 'CAMP llc': Timedelta('0 days 00:00:00'), 'CANADI ': Timedelta('8 days 00:00:00'), 'CANADI co': Timedelta('53 days 00:00:00'), 'CANADI foundation': Timedelta('4 days 00:00:00'), 'CANADI llc': Timedelta('4 days 00:00:00'), 'CANADI systems': Timedelta('11 days 00:00:00'), 'CAPITAL associates': Timedelta('0 days 00:00:00'), 'CAPITAL co': Timedelta('4 days 00:00:00'), 'CAPITAL corp': Timedelta('2 days 00:00:00'), 'CAPITAL in': Timedelta('8 days 00:00:00'), 'CAPITAL systems': Timedelta('-5 days +00:00:00'), 'CAPITAL trust': Timedelta('2 days 00:00:00'), 'CAPITAL us': Timedelta('-1 days +00:00:00'), 'CAR in': Timedelta('-2 days +00:00:00'), 'CAR us': Timedelta('-2 days +00:00:00'), 'CARA foundation': Timedelta('0 days 00:00:00'), 'CARA llc': Timedelta('1 days 00:00:00'), 'CARA systems': Timedelta('-1 days +12:00:00'), 'CARIB corporation': Timedelta('-4 days +00:00:00'), 'CARIB us': Timedelta('-6 days +12:00:00'), 'CARIBB ': Timedelta('1 days 00:00:00'), 'CARIBB trust': Timedelta('2 days 00:00:00'), 'CARO llc': Timedelta('-10 days +00:00:00'), 'CAS I us': Timedelta('4 days 00:00:00'), 'CASC ': Timedelta('-89 days +00:00:00'), 'CASC associates': Timedelta('30 days 00:00:00'), 'CASC corporation': Timedelta('30 days 00:00:00'), 'CASC foundation': Timedelta('25 days 00:00:00'), 'CASC trust': Timedelta('17 days 00:00:00'), 'CASEY ': Timedelta('-9 days +00:00:00'), 'CASEY co': Timedelta('-9 days +12:00:00'), 'CASEY llc': Timedelta('-3 days +12:00:00'), 'CASEY trust': Timedelta('4 days 00:00:00'), 'CASEY us': Timedelta('-5 days +08:00:00'), 'CASH-W associates': Timedelta('0 days 00:00:00'), 'CASH-W us': Timedelta('-1 days +00:00:00'), 'CASSE llc': Timedelta('-4 days +00:00:00'), 'CD F trust': Timedelta('5 days 00:00:00'), 'CE ': Timedelta('0 days 00:00:00'), 'CE associates': Timedelta('-2 days +19:12:00'), 'CE co': Timedelta('-1 days +12:00:00'), 'CE corp': Timedelta('0 days 00:00:00'), 'CE foundation': Timedelta('-1 days +12:00:00'), 'CE in': Timedelta('0 days 08:00:00'), 'CE llc': Timedelta('-1 days +12:00:00'), 'CE systems': Timedelta('-1 days +18:00:00'), 'CE trust': Timedelta('0 days 12:00:00'), 'CE us': Timedelta('-2 days +00:00:00'), 'CEDARS ': Timedelta('3 days 00:00:00'), 'CENTRAL  llc': Timedelta('-3 days +00:00:00'), 'CFA llc': Timedelta('12 days 00:00:00'), 'CHAIN DI systems': Timedelta('-1 days +00:00:00'), 'CHAIR associates': Timedelta('-1 days +00:00:00'), 'CHAMB trust': Timedelta('-7 days +00:00:00'), 'CHAR ': Timedelta('-5 days +00:00:00'), 'CHAR co': Timedelta('18 days 00:00:00'), 'CHAR llc': Timedelta('-5 days +00:00:00'), 'CHARLOTT us': Timedelta('62 days 00:00:00'), 'CHEE us': Timedelta('5 days 12:00:00'), 'CHEES associates': Timedelta('0 days 00:00:00'), 'CHEES corp': Timedelta('0 days 00:00:00'), 'CHEES llc': Timedelta('1 days 12:00:00'), 'CHEES systems': Timedelta('-1 days +12:00:00'), 'CHEES us': Timedelta('0 days 00:00:00'), 'CHEN ': Timedelta('-1 days +12:00:00'), 'CHEN associates': Timedelta('3 days 00:00:00'), 'CHEN co': Timedelta('7 days 00:00:00'), 'CHEN corp': Timedelta('1 days 04:48:00'), 'CHEN corporation': Timedelta('4 days 12:00:00'), 'CHEN foundation': Timedelta('1 days 18:00:00'), 'CHEN in': Timedelta('-2 days +00:00:00'), 'CHEN llc': Timedelta('5 days 00:00:00'), 'CHEN trust': Timedelta('2 days 19:12:00'), 'CHEN us': Timedelta('12 days 00:00:00'), 'CHENE ': Timedelta('1 days 00:00:00'), 'CHENE associates': Timedelta('3 days 12:00:00'), 'CHENE co': Timedelta('0 days 00:00:00'), 'CHENE corporation': Timedelta('8 days 00:00:00'), 'CHENE in': Timedelta('1 days 12:00:00'), 'CHENE systems': Timedelta('-1 days +00:00:00'), 'CHENE trust': Timedelta('1 days 00:00:00'), 'CHENS E ': Timedelta('10 days 00:00:00'), 'CHENS E co': Timedelta('9 days 00:00:00'), 'CHENS E llc': Timedelta('5 days 12:00:00'), 'CHENS E trust': Timedelta('56 days 00:00:00'), 'CHICAGO  llc': Timedelta('8 days 00:00:00'), 'CHICKE associates': Timedelta('-13 days +00:00:00'), 'CHICKE in': Timedelta('-13 days +00:00:00'), 'CHICKE systems': Timedelta('10 days 00:00:00'), 'CHIHAD co': Timedelta('10 days 12:00:00'), 'CHIHAD corp': Timedelta('5 days 00:00:00'), 'CHIHAD corporation': Timedelta('5 days 00:00:00'), 'CHIHAD foundation': Timedelta('-2 days +00:00:00'), 'CHIHAD systems': Timedelta('-2 days +00:00:00'), 'CHRIS in': Timedelta('-16 days +00:00:00'), 'CHUD corporation': Timedelta('16 days 00:00:00'), 'CHUD llc': Timedelta('4 days 00:00:00'), 'CIE CO foundation': Timedelta('-4 days +00:00:00'), 'CINCIN us': Timedelta('31 days 00:00:00'), 'CINNAR corp': Timedelta('2 days 00:00:00'), 'CINNAR systems': Timedelta('-1 days +00:00:00'), 'CINNAR trust': Timedelta('0 days 00:00:00'), 'CIRC co': Timedelta('0 days 00:00:00'), 'CIRC foundation': Timedelta('0 days 00:00:00'), 'CIRC in': Timedelta('0 days 00:00:00'), 'CIRC llc': Timedelta('0 days 00:00:00'), 'CIRC us': Timedelta('2 days 00:00:00'), 'CITI-BA associates': Timedelta('9 days 00:00:00'), 'CITY L us': Timedelta('-5 days +00:00:00'), 'CJ  foundation': Timedelta('22 days 00:00:00'), 'CJR WH ': Timedelta('0 days 00:00:00'), 'CJR WH associates': Timedelta('-2 days +06:00:00'), 'CJR WH co': Timedelta('1 days 06:00:00'), 'CJR WH corp': Timedelta('0 days 00:00:00'), 'CJR WH llc': Timedelta('4 days 08:00:00'), 'CJR WH systems': Timedelta('-4 days +00:00:00'), 'CJR WH us': Timedelta('-2 days +00:00:00'), 'CLAS corporation': Timedelta('4 days 00:00:00'), 'CLAS trust': Timedelta('-9 days +00:00:00'), 'CLEMEN us': Timedelta('13 days 00:00:00'), 'CO ': Timedelta('2 days 04:48:00'), 'CO associates': Timedelta('0 days 00:00:00'), 'CO co': Timedelta('-1 days +06:51:25.714285715'), 'CO corp': Timedelta('0 days 04:48:00'), 'CO corporation': Timedelta('-1 days +17:08:34.285714286'), 'CO foundation': Timedelta('0 days 13:42:51.428571428'), 'CO in': Timedelta('0 days 21:36:00'), 'CO llc': Timedelta('-1 days +12:00:00'), 'CO systems': Timedelta('-1 days +19:12:00'), 'CO trust': Timedelta('-1 days +12:00:00'), 'CO us': Timedelta('-1 days +12:00:00'), 'COAS ': Timedelta('-1 days +14:24:00'), 'COAS associates': Timedelta('0 days 03:41:32.307692307'), 'COAS co': Timedelta('0 days 00:00:00'), 'COAS corp': Timedelta('0 days 00:00:00'), 'COAS corporation': Timedelta('-1 days +00:00:00'), 'COAS foundation': Timedelta('-1 days +20:34:17.142857143'), 'COAS in': Timedelta('-2 days +16:00:00'), 'COAS llc': Timedelta('0 days 00:00:00'), 'COAS systems': Timedelta('-1 days +22:17:08.571428572'), 'COAS trust': Timedelta('-2 days +09:36:00'), 'COAS us': Timedelta('0 days 03:25:42.857142857'), 'COASTAL  corp': Timedelta('0 days 00:00:00'), 'COASTAL  us': Timedelta('0 days 00:00:00'), 'COB corporation': Timedelta('0 days 00:00:00'), 'COLABOR  ': Timedelta('6 days 13:05:27.272727272'), 'COLABOR  associates': Timedelta('2 days 16:00:00'), 'COLABOR  co': Timedelta('2 days 04:21:49.090909090'), 'COLABOR  corp': Timedelta('1 days 16:00:00'), 'COLABOR  corporation': Timedelta('3 days 16:00:00'), 'COLABOR  foundation': Timedelta('3 days 05:32:18.461538461'), 'COLABOR  in': Timedelta('3 days 12:00:00'), 'COLABOR  llc': Timedelta('2 days 14:24:00'), 'COLABOR  systems': Timedelta('3 days 09:00:00'), 'COLABOR  trust': Timedelta('3 days 00:00:00'), 'COLABOR  us': Timedelta('3 days 04:48:00'), 'COLDST corporation': Timedelta('0 days 00:00:00'), 'COLDST llc': Timedelta('2 days 00:00:00'), 'COLDST us': Timedelta('0 days 12:00:00'), 'COLOM ': Timedelta('1 days 12:00:00'), 'COLOM associates': Timedelta('2 days 00:00:00'), 'COLOM corporation': Timedelta('12 days 08:00:00'), 'COLOM foundation': Timedelta('2 days 00:00:00'), 'COLOM trust': Timedelta('3 days 00:00:00'), 'COLOM us': Timedelta('-1 days +00:00:00'), 'COLOME ': Timedelta('3 days 00:00:00'), 'COLOME associates': Timedelta('-2 days +00:00:00'), 'COLOME co': Timedelta('1 days 00:00:00'), 'COLOME corp': Timedelta('-1 days +00:00:00'), 'COLOME corporation': Timedelta('2 days 00:00:00'), 'COLOME llc': Timedelta('-4 days +00:00:00'), 'COLOME systems': Timedelta('1 days 00:00:00'), 'COLOME trust': Timedelta('1 days 12:00:00'), 'COLOME us': Timedelta('2 days 00:00:00'), 'COLORA associates': Timedelta('9 days 00:00:00'), 'COLORA corp': Timedelta('4 days 00:00:00'), 'COLORA in': Timedelta('4 days 00:00:00'), 'COLORA systems': Timedelta('2 days 00:00:00'), 'COLORA trust': Timedelta('2 days 00:00:00'), 'COMERCI ': Timedelta('-6 days +00:00:00'), 'COMERCI co': Timedelta('0 days 12:00:00'), 'COMERCI corp': Timedelta('1 days 00:00:00'), 'COMERCI corporation': Timedelta('-3 days +00:00:00'), 'COMERCI foundation': Timedelta('1 days 00:00:00'), 'COMERCI in': Timedelta('-9 days +00:00:00'), 'COMERCI systems': Timedelta('-2 days +00:00:00'), 'COMERCI trust': Timedelta('-6 days +00:00:00'), 'COMERCI us': Timedelta('-3 days +08:00:00'), 'COMPAC corp': Timedelta('7 days 00:00:00'), 'COMPAC in': Timedelta('-19 days +00:00:00'), 'CON co': Timedelta('-45 days +00:00:00'), 'CON in': Timedelta('14 days 00:00:00'), 'CON llc': Timedelta('-24 days +00:00:00'), 'CONSO systems': Timedelta('1 days 00:00:00'), 'CONSUMER foundation': Timedelta('-2 days +00:00:00'), 'CONW us': Timedelta('7 days 00:00:00'), 'COPPE associates': Timedelta('3 days 00:00:00'), 'CORE-M co': Timedelta('-5 days +00:00:00'), 'CORE-M corp': Timedelta('-9 days +12:00:00'), 'CORE-M in': Timedelta('-9 days +00:00:00'), 'CORE-M systems': Timedelta('-9 days +00:00:00'), 'CORE-M trust': Timedelta('-8 days +00:00:00'), 'CORN associates': Timedelta('1 days 12:00:00'), 'CORN corp': Timedelta('1 days 00:00:00'), 'CORP trust': Timedelta('15 days 00:00:00'), 'CORPOR corporation': Timedelta('6 days 00:00:00'), 'COS ': Timedelta('16 days 00:00:00'), 'COS associates': Timedelta('5 days 16:00:00'), 'COS co': Timedelta('4 days 00:00:00'), 'COS corp': Timedelta('7 days 00:00:00'), 'COS corporation': Timedelta('-14 days +12:00:00'), 'COS foundation': Timedelta('1 days 00:00:00'), 'COS in': Timedelta('6 days 00:00:00'), 'COS llc': Timedelta('5 days 00:00:00'), 'COS systems': Timedelta('-5 days +12:00:00'), 'COS us': Timedelta('-2 days +08:00:00'), 'COST ': Timedelta('-1 days +19:19:28.831168832'), 'COST associates': Timedelta('-1 days +16:06:34.520547946'), 'COST co': Timedelta('-1 days +05:44:20.869565218'), 'COST corp': Timedelta('0 days 01:44:05.783132530'), 'COST corporation': Timedelta('0 days 02:03:25.714285714'), 'COST foundation': Timedelta('-1 days +19:42:18.947368422'), 'COST in': Timedelta('-1 days +04:38:10.909090910'), 'COST llc': Timedelta('-2 days +19:12:00'), 'COST systems': Timedelta('-1 days +08:36:31.304347827'), 'COST trust': Timedelta('0 days 00:32:00'), 'COST us': Timedelta('-2 days +13:38:10.909090910'), 'COSTCO ': Timedelta('3 days 12:36:00'), 'COSTCO associates': Timedelta('3 days 11:04:36.923076923'), 'COSTCO co': Timedelta('3 days 13:01:42.857142857'), 'COSTCO corp': Timedelta('3 days 04:00:00'), 'COSTCO corporation': Timedelta('3 days 01:36:00'), 'COSTCO foundation': Timedelta('7 days 00:48:00'), 'COSTCO in': Timedelta('3 days 18:45:00'), 'COSTCO llc': Timedelta('6 days 09:00:00'), 'COSTCO systems': Timedelta('5 days 22:00:00'), 'COSTCO trust': Timedelta('2 days 21:28:25.263157894'), 'COSTCO us': Timedelta('4 days 02:15:00'), 'COUN trust': Timedelta('6 days 00:00:00'), 'COUNT foundation': Timedelta('3 days 00:00:00'), 'COYOT systems': Timedelta('-21 days +00:00:00'), 'CPG associates': Timedelta('-4 days +00:00:00'), 'CPG co': Timedelta('13 days 00:00:00'), 'CPG trust': Timedelta('-79 days +00:00:00'), 'CPG us': Timedelta('9 days 00:00:00'), 'CRUMB in': Timedelta('-2 days +00:00:00'), 'CSM BAK llc': Timedelta('-10 days +00:00:00'), 'CSM BAK systems': Timedelta('-16 days +00:00:00'), 'CSM BAK trust': Timedelta('-10 days +00:00:00'), 'CSM BAK us': Timedelta('-9 days +00:00:00'), 'CSU  associates': Timedelta('1 days 00:00:00'), 'CTI A associates': Timedelta('-4 days +00:00:00'), 'CTI A corporation': Timedelta('-1 days +00:00:00'), 'CTI A llc': Timedelta('5 days 00:00:00'), 'CTI A systems': Timedelta('0 days 00:00:00'), 'CTI A trust': Timedelta('-3 days +12:00:00'), 'CTI A us': Timedelta('-4 days +12:00:00'), 'CULINAR foundation': Timedelta('1 days 00:00:00'), 'CULINAR systems': Timedelta('5 days 00:00:00'), 'CUMB llc': Timedelta('0 days 00:00:00'), 'CUSTOM ': Timedelta('3 days 16:00:00'), 'CUSTOM associates': Timedelta('4 days 00:00:00'), 'CUSTOM co': Timedelta('4 days 16:00:00'), 'CUSTOM corp': Timedelta('4 days 06:00:00'), 'CUSTOM corporation': Timedelta('4 days 00:00:00'), 'CUSTOM foundation': Timedelta('6 days 00:00:00'), 'CUSTOM in': Timedelta('6 days 00:00:00'), 'CUSTOM llc': Timedelta('5 days 00:00:00'), 'CUSTOM systems': Timedelta('4 days 00:00:00'), 'CUSTOM trust': Timedelta('5 days 00:00:00'), 'CUSTOM us': Timedelta('2 days 00:00:00'), 'CUSTOMI co': Timedelta('1 days 00:00:00'), 'CUSTOMI corporation': Timedelta('0 days 00:00:00'), 'CUSTOMI systems': Timedelta('0 days 00:00:00'), 'CUSTOMI trust': Timedelta('3 days 00:00:00'), 'CUSTOMI us': Timedelta('0 days 12:00:00'), 'D ': Timedelta('-2 days +00:00:00'), 'D &  corp': Timedelta('1 days 00:00:00'), 'D associates': Timedelta('1 days 00:00:00'), 'D co': Timedelta('3 days 00:00:00'), 'D corp': Timedelta('4 days 00:00:00'), 'D corporation': Timedelta('3 days 08:00:00'), 'D in': Timedelta('4 days 00:00:00'), 'D llc': Timedelta('1 days 00:00:00'), 'D systems': Timedelta('1 days 00:00:00'), 'D us': Timedelta('1 days 00:00:00'), \"D'ALB associates\": Timedelta('-4 days +12:00:00'), \"D'ALB corporation\": Timedelta('-5 days +00:00:00'), \"D'ALB foundation\": Timedelta('1 days 00:00:00'), \"D'ALB in\": Timedelta('30 days 00:00:00'), \"D'ALB trust\": Timedelta('-5 days +00:00:00'), \"D'ALB us\": Timedelta('-3 days +00:00:00'), 'DAIRY  co': Timedelta('18 days 00:00:00'), 'DAIRY corp': Timedelta('-10 days +00:00:00'), 'DAIRY foundation': Timedelta('-5 days +00:00:00'), 'DAIRY llc': Timedelta('21 days 00:00:00'), 'DAIRY systems': Timedelta('0 days 00:00:00'), 'DAIRY trust': Timedelta('-6 days +00:00:00'), 'DAIRY us': Timedelta('7 days 00:00:00'), 'DAKO foundation': Timedelta('-15 days +00:00:00'), 'DAKO systems': Timedelta('7 days 00:00:00'), 'DAKO trust': Timedelta('1 days 00:00:00'), 'DAKO us': Timedelta('8 days 00:00:00'), 'DAN- co': Timedelta('8 days 00:00:00'), 'DARDEN ': Timedelta('17 days 00:00:00'), 'DARDEN D ': Timedelta('-1 days +12:00:00'), 'DARDEN D associates': Timedelta('0 days 12:00:00'), 'DARDEN D co': Timedelta('-2 days +18:00:00'), 'DARDEN D corp': Timedelta('-2 days +12:00:00'), 'DARDEN D corporation': Timedelta('4 days 12:00:00'), 'DARDEN D foundation': Timedelta('5 days 12:00:00'), 'DARDEN D in': Timedelta('-2 days +04:00:00'), 'DARDEN D llc': Timedelta('1 days 04:48:00'), 'DARDEN D systems': Timedelta('1 days 00:00:00'), 'DARDEN D trust': Timedelta('1 days 00:00:00'), 'DARDEN D us': Timedelta('-1 days +00:00:00'), 'DASA I ': Timedelta('4 days 12:00:00'), 'DASA I co': Timedelta('2 days 16:00:00'), 'DASA I foundation': Timedelta('5 days 00:00:00'), 'DASA I llc': Timedelta('7 days 00:00:00'), 'DASA I systems': Timedelta('6 days 00:00:00'), 'DASA I trust': Timedelta('3 days 00:00:00'), 'DASA I us': Timedelta('1 days 08:00:00'), 'DAVI co': Timedelta('-3 days +00:00:00'), 'DAVID  ': Timedelta('10 days 00:00:00'), 'DAVIS trust': Timedelta('15 days 00:00:00'), 'DAVISCO co': Timedelta('12 days 00:00:00'), 'DAWN FOO foundation': Timedelta('-8 days +00:00:00'), 'DAWN foundation': Timedelta('11 days 00:00:00'), 'DAWN trust': Timedelta('1 days 00:00:00'), 'DAWN us': Timedelta('1 days 00:00:00'), 'DAYLIGH co': Timedelta('2 days 00:00:00'), 'DAYSTAR  corporation': Timedelta('3 days 00:00:00'), 'DAYSTAR  llc': Timedelta('21 days 00:00:00'), 'DAYSTAR  us': Timedelta('4 days 00:00:00'), 'DEALER associates': Timedelta('5 days 00:00:00'), 'DEALER in': Timedelta('1 days 00:00:00'), 'DEALER systems': Timedelta('9 days 00:00:00'), 'DEC ': Timedelta('-5 days +14:53:47.586206897'), 'DEC associates': Timedelta('-6 days +16:24:29.387755103'), 'DEC co': Timedelta('-6 days +23:45:44.554455446'), 'DEC corp': Timedelta('-4 days +02:20:52.173913044'), 'DEC corporation': Timedelta('-5 days +02:52:48'), 'DEC foundation': Timedelta('-5 days +20:12:37.894736843'), 'DEC in': Timedelta('-6 days +22:52:14.117647059'), 'DEC llc': Timedelta('-5 days +13:13:50.769230770'), 'DEC systems': Timedelta('-5 days +13:55:33.333333334'), 'DEC trust': Timedelta('-4 days +09:15:10.843373494'), 'DEC us': Timedelta('-5 days +19:54:08.780487805'), 'DECA ': Timedelta('-5 days +16:06:18.947368422'), 'DECA associates': Timedelta('-5 days +05:42:51.428571429'), 'DECA co': Timedelta('-4 days +19:28:56.470588236'), 'DECA corp': Timedelta('-5 days +10:04:48'), 'DECA corporation': Timedelta('-5 days +20:34:17.142857143'), 'DECA foundation': Timedelta('-4 days +05:31:02.068965518'), 'DECA in': Timedelta('-4 days +04:55:53.424657535'), 'DECA llc': Timedelta('-5 days +07:25:42.857142858'), 'DECA systems': Timedelta('-5 days +12:10:44.776119403'), 'DECA trust': Timedelta('-6 days +23:06:00'), 'DECA us': Timedelta('-5 days +05:53:12.452830189'), 'DEF. F co': Timedelta('-8 days +00:00:00'), 'DEF. F corp': Timedelta('-7 days +00:00:00'), 'DEF. F foundation': Timedelta('-6 days +00:00:00'), 'DEF. F in': Timedelta('-8 days +00:00:00'), 'DEF. F llc': Timedelta('-8 days +12:00:00'), 'DEF. F trust': Timedelta('-8 days +00:00:00'), 'DEF. F us': Timedelta('-7 days +00:00:00'), 'DELHAIZE ': Timedelta('2 days 05:36:00'), 'DELHAIZE associates': Timedelta('0 days 19:23:04.615384615'), 'DELHAIZE co': Timedelta('2 days 03:38:10.909090909'), 'DELHAIZE corp': Timedelta('4 days 21:10:35.294117647'), 'DELHAIZE corporation': Timedelta('0 days 07:30:00'), 'DELHAIZE foundation': Timedelta('-1 days +10:40:00'), 'DELHAIZE in': Timedelta('1 days 15:00:00'), 'DELHAIZE llc': Timedelta('-1 days +16:17:08.571428572'), 'DELHAIZE systems': Timedelta('2 days 06:37:14.482758620'), 'DELHAIZE trust': Timedelta('-1 days +10:33:36'), 'DELHAIZE us': Timedelta('1 days 06:00:00'), 'DEMOU ': Timedelta('-1 days +05:20:00'), 'DEMOU associates': Timedelta('-1 days +08:00:00'), 'DEMOU co': Timedelta('-1 days +00:00:00'), 'DEMOU corp': Timedelta('-1 days +00:00:00'), 'DEMOU corporation': Timedelta('-1 days +04:00:00'), 'DEMOU foundation': Timedelta('1 days 00:00:00'), 'DEMOU in': Timedelta('-2 days +12:00:00'), 'DEMOU llc': Timedelta('-1 days +00:00:00'), 'DEMOU systems': Timedelta('-3 days +08:00:00'), 'DEMOU trust': Timedelta('0 days 00:00:00'), 'DEMOU us': Timedelta('-1 days +06:00:00'), 'DENNIS trust': Timedelta('-2 days +00:00:00'), 'DENVER ': Timedelta('-4 days +00:00:00'), 'DENVER associates': Timedelta('-6 days +00:00:00'), 'DENVER co': Timedelta('-7 days +12:00:00'), 'DENVER foundation': Timedelta('-7 days +19:12:00'), 'DENVER in': Timedelta('2 days 00:00:00'), 'DENVER systems': Timedelta('-7 days +00:00:00'), 'DENVER us': Timedelta('-7 days +08:00:00'), 'DI ': Timedelta('0 days 07:12:00'), 'DI associates': Timedelta('0 days 00:00:00'), 'DI co': Timedelta('0 days 09:36:00'), 'DI corp': Timedelta('1 days 00:00:00'), 'DI corporation': Timedelta('0 days 12:00:00'), 'DI foundation': Timedelta('0 days 16:00:00'), 'DI in': Timedelta('0 days 08:00:00'), 'DI llc': Timedelta('0 days 12:00:00'), 'DI systems': Timedelta('0 days 16:00:00'), 'DI trust': Timedelta('0 days 14:24:00'), 'DI us': Timedelta('1 days 00:00:00'), 'DIAC ': Timedelta('9 days 00:00:00'), 'DIAL  ': Timedelta('0 days 00:00:00'), 'DIAL  us': Timedelta('0 days 00:00:00'), 'DIAMO llc': Timedelta('38 days 00:00:00'), 'DIAMON co': Timedelta('0 days 00:00:00'), 'DIANA D llc': Timedelta('-3 days +00:00:00'), 'DIANN ': Timedelta('-4 days +00:00:00'), 'DIANN associates': Timedelta('4 days 00:00:00'), 'DIANN corp': Timedelta('-4 days +00:00:00'), 'DIANN llc': Timedelta('2 days 16:00:00'), 'DICA corp': Timedelta('7 days 00:00:00'), 'DICK associates': Timedelta('6 days 00:00:00'), 'DICK corp': Timedelta('0 days 00:00:00'), 'DICK corporation': Timedelta('-20 days +12:00:00'), 'DICK foundation': Timedelta('3 days 00:00:00'), 'DICK in': Timedelta('-3 days +08:00:00'), 'DICK llc': Timedelta('1 days 00:00:00'), 'DICK systems': Timedelta('-1 days +12:00:00'), 'DICK trust': Timedelta('1 days 12:00:00'), 'DIRECT  ': Timedelta('7 days 00:00:00'), 'DIRECT  associates': Timedelta('13 days 12:00:00'), 'DIRECT  co': Timedelta('0 days 00:00:00'), 'DIRECT  corp': Timedelta('6 days 00:00:00'), 'DIRECT  in': Timedelta('14 days 00:00:00'), 'DIRECT  systems': Timedelta('6 days 12:00:00'), 'DIRECT  us': Timedelta('7 days 00:00:00'), 'DIS ': Timedelta('-1 days +12:00:00'), 'DIS llc': Timedelta('4 days 00:00:00'), 'DIS us': Timedelta('-2 days +00:00:00'), 'DISCOU foundation': Timedelta('0 days 00:00:00'), 'DISTRI systems': Timedelta('44 days 00:00:00'), 'DOERLE ': Timedelta('37 days 00:00:00'), 'DOERLE corp': Timedelta('2 days 00:00:00'), 'DOERLE systems': Timedelta('71 days 12:00:00'), 'DOLLA ': Timedelta('-2 days +04:48:00'), 'DOLLA associates': Timedelta('-1 days +19:12:00'), 'DOLLA co': Timedelta('-8 days +08:34:17.142857143'), 'DOLLA corp': Timedelta('-3 days +13:05:27.272727273'), 'DOLLA corporation': Timedelta('-9 days +03:38:10.909090910'), 'DOLLA foundation': Timedelta('-5 days +13:05:27.272727273'), 'DOLLA in': Timedelta('-4 days +17:32:18.461538462'), 'DOLLA llc': Timedelta('0 days 12:28:48'), 'DOLLA systems': Timedelta('-8 days +04:48:00'), 'DOLLA trust': Timedelta('-8 days +05:08:34.285714286'), 'DOLLA us': Timedelta('-8 days +01:05:27.272727273'), 'DOLLAR ': Timedelta('3 days 05:20:00'), 'DOLLAR associates': Timedelta('0 days 07:12:00'), 'DOLLAR co': Timedelta('-7 days +08:00:00'), 'DOLLAR corp': Timedelta('7 days 16:00:00'), 'DOLLAR corporation': Timedelta('0 days 07:23:04.615384615'), 'DOLLAR foundation': Timedelta('0 days 18:00:00'), 'DOLLAR in': Timedelta('2 days 09:00:00'), 'DOLLAR llc': Timedelta('0 days 18:40:00'), 'DOLLAR systems': Timedelta('1 days 12:00:00'), 'DOLLAR trust': Timedelta('1 days 16:00:00'), 'DOLLAR us': Timedelta('1 days 00:00:00'), 'DOLLARA ': Timedelta('0 days 00:00:00'), 'DOLLARA associates': Timedelta('2 days 00:00:00'), 'DOLLARA corp': Timedelta('-1 days +00:00:00'), 'DOLLARA corporation': Timedelta('-3 days +00:00:00'), 'DOLLARA foundation': Timedelta('0 days 12:00:00'), 'DOLLARA in': Timedelta('-1 days +00:00:00'), 'DOLLARA systems': Timedelta('2 days 00:00:00'), 'DOLLARA trust': Timedelta('9 days 12:00:00'), 'DOLLARA us': Timedelta('4 days 00:00:00'), 'DORI foundation': Timedelta('-1 days +00:00:00'), 'DOT ': Timedelta('-8 days +22:41:27.272727273'), 'DOT associates': Timedelta('-7 days +19:25:42.857142859'), 'DOT co': Timedelta('-6 days +00:00:00'), 'DOT corp': Timedelta('-8 days +10:17:08.571428572'), 'DOT corporation': Timedelta('-8 days +18:07:20.816326531'), 'DOT foundation': Timedelta('-5 days +01:30:00'), 'DOT in': Timedelta('-7 days +16:28:39.402985075'), 'DOT llc': Timedelta('-7 days +14:47:40.273972603'), 'DOT systems': Timedelta('-7 days +08:38:24'), 'DOT trust': Timedelta('-7 days +15:02:41.194029851'), 'DOT us': Timedelta('-6 days +07:51:43.448275864'), 'DOWNE us': Timedelta('2 days 00:00:00'), 'DPI MID corporation': Timedelta('-4 days +00:00:00'), 'DRIS ': Timedelta('-1 days +00:00:00'), 'DRIS associates': Timedelta('-1 days +00:00:00'), 'DRIS corporation': Timedelta('-5 days +00:00:00'), 'DRIS foundation': Timedelta('0 days 12:00:00'), 'DRIS in': Timedelta('-1 days +00:00:00'), 'DRIS systems': Timedelta('-2 days +16:00:00'), 'DRIS us': Timedelta('-1 days +00:00:00'), 'DUKE SA corp': Timedelta('1 days 00:00:00'), 'DUKE SA in': Timedelta('-1 days +12:00:00'), 'DUKE SA trust': Timedelta('10 days 12:00:00'), 'DUNKIN associates': Timedelta('3 days 00:00:00'), 'DUNKIN corp': Timedelta('2 days 00:00:00'), 'DUNKIN corporation': Timedelta('1 days 00:00:00'), 'DUNKIN foundation': Timedelta('1 days 00:00:00'), 'DUNKIN llc': Timedelta('3 days 00:00:00'), 'DUNKIN systems': Timedelta('4 days 00:00:00'), 'DUNKIN trust': Timedelta('-4 days +00:00:00'), 'DUNKIN us': Timedelta('2 days 16:00:00'), 'DUTCH  co': Timedelta('-4 days +00:00:00'), 'DUTCH  corp': Timedelta('2 days 00:00:00'), 'DUTCH  foundation': Timedelta('0 days 00:00:00'), 'E G AY corp': Timedelta('0 days 00:00:00'), 'E&S co': Timedelta('2 days 00:00:00'), 'EAGL foundation': Timedelta('2 days 00:00:00'), 'EAGL in': Timedelta('2 days 00:00:00'), 'EB ': Timedelta('2 days 00:00:00'), 'EB associates': Timedelta('1 days 00:00:00'), 'EB co': Timedelta('1 days 00:00:00'), 'EB corporation': Timedelta('0 days 00:00:00'), 'EB in': Timedelta('7 days 00:00:00'), 'EB us': Timedelta('-46 days +00:00:00'), 'EBER ': Timedelta('5 days 00:00:00'), 'EBER us': Timedelta('5 days 00:00:00'), 'EDDY P corporation': Timedelta('0 days 00:00:00'), 'EDDY P foundation': Timedelta('0 days 00:00:00'), 'EDDY P llc': Timedelta('3 days 00:00:00'), 'EDDY P systems': Timedelta('0 days 00:00:00'), 'EL GR ': Timedelta('-4 days +00:00:00'), 'EL GR associates': Timedelta('0 days 00:00:00'), 'EL GR in': Timedelta('-1 days +00:00:00'), 'EL GR trust': Timedelta('-1 days +12:00:00'), 'ELCO  in': Timedelta('51 days 00:00:00'), 'ELLENB corporation': Timedelta('43 days 00:00:00'), 'ELLENB foundation': Timedelta('8 days 00:00:00'), 'ELLIOT systems': Timedelta('9 days 00:00:00'), 'ESSEX  corp': Timedelta('4 days 00:00:00'), 'ESSEX  corporation': Timedelta('-4 days +00:00:00'), 'ESSEX  systems': Timedelta('5 days 08:00:00'), 'ESSEX  trust': Timedelta('0 days 00:00:00'), 'ESSEX  us': Timedelta('4 days 00:00:00'), 'ESSEX G systems': Timedelta('6 days 00:00:00'), 'ETAK I corp': Timedelta('7 days 00:00:00'), 'EWT-EU associates': Timedelta('6 days 00:00:00'), 'EWT-EU co': Timedelta('0 days 00:00:00'), 'EWT-EU corporation': Timedelta('-1 days +00:00:00'), 'EWT-EU in': Timedelta('1 days 00:00:00'), 'EWT-EU systems': Timedelta('-5 days +12:00:00'), 'EWT-EU us': Timedelta('10 days 00:00:00'), 'EXCEL PRI associates': Timedelta('5 days 00:00:00'), 'EXCEL PRI co': Timedelta('2 days 00:00:00'), 'EXCEL PRI corp': Timedelta('9 days 00:00:00'), 'EXCEL PRI us': Timedelta('0 days 00:00:00'), 'F ': Timedelta('1 days 00:00:00'), 'F & corp': Timedelta('2 days 00:00:00'), 'F & foundation': Timedelta('0 days 00:00:00'), 'F & llc': Timedelta('0 days 00:00:00'), 'F J W corp': Timedelta('-5 days +00:00:00'), 'F J W us': Timedelta('3 days 00:00:00'), 'F co': Timedelta('1 days 00:00:00'), 'F corp': Timedelta('14 days 00:00:00'), 'F corporation': Timedelta('2 days 03:25:42.857142857'), 'F in': Timedelta('1 days 00:00:00'), 'F llc': Timedelta('1 days 00:00:00'), 'F systems': Timedelta('3 days 00:00:00'), 'F trust': Timedelta('12 days 00:00:00'), 'F us': Timedelta('5 days 00:00:00'), 'F. M associates': Timedelta('-4 days +00:00:00'), 'F.I associates': Timedelta('1 days 00:00:00'), 'FACE corp': Timedelta('12 days 00:00:00'), 'FACE corporation': Timedelta('1 days 00:00:00'), 'FACE foundation': Timedelta('19 days 00:00:00'), 'FACE in': Timedelta('34 days 00:00:00'), 'FACE us': Timedelta('11 days 12:00:00'), 'FAMI us': Timedelta('-1 days +00:00:00'), 'FAMILY ': Timedelta('-1 days +12:00:00'), 'FAMILY associates': Timedelta('-1 days +06:51:25.714285715'), 'FAMILY co': Timedelta('-2 days +18:00:00'), 'FAMILY corp': Timedelta('-2 days +00:00:00'), 'FAMILY corporation': Timedelta('-3 days +21:20:00'), 'FAMILY foundation': Timedelta('10 days 20:00:00'), 'FAMILY in': Timedelta('-2 days +04:00:00'), 'FAMILY llc': Timedelta('-1 days +08:00:00'), 'FAMILY systems': Timedelta('4 days 17:08:34.285714285'), 'FAMILY trust': Timedelta('0 days 16:48:00'), 'FAMILY us': Timedelta('-1 days +03:00:00'), 'FAMOS foundation': Timedelta('0 days 00:00:00'), 'FAR W associates': Timedelta('-3 days +00:00:00'), 'FAR W corporation': Timedelta('-4 days +00:00:00'), 'FAR W foundation': Timedelta('-4 days +00:00:00'), 'FAR W systems': Timedelta('-4 days +00:00:00'), 'FAR W trust': Timedelta('-4 days +00:00:00'), 'FAR W us': Timedelta('-3 days +00:00:00'), 'FAREW ': Timedelta('-4 days +00:00:00'), 'FAREW associates': Timedelta('-1 days +06:00:00'), 'FAREW co': Timedelta('-1 days +12:00:00'), 'FAREW corporation': Timedelta('-2 days +00:00:00'), 'FAREW foundation': Timedelta('0 days 00:00:00'), 'FAREW in': Timedelta('-1 days +00:00:00'), 'FAREW llc': Timedelta('-2 days +06:00:00'), 'FAREW trust': Timedelta('-1 days +00:00:00'), 'FAREW us': Timedelta('-3 days +08:00:00'), 'FARN co': Timedelta('-1 days +12:00:00'), 'FARN foundation': Timedelta('0 days 00:00:00'), 'FARN in': Timedelta('0 days 00:00:00'), 'FARN llc': Timedelta('0 days 00:00:00'), 'FARN us': Timedelta('0 days 00:00:00'), 'FATH associates': Timedelta('1 days 00:00:00'), 'FATH co': Timedelta('0 days 12:00:00'), 'FATH corporation': Timedelta('1 days 00:00:00'), 'FATH foundation': Timedelta('1 days 00:00:00'), 'FATH llc': Timedelta('0 days 00:00:00'), 'FAVAZZ corporation': Timedelta('10 days 00:00:00'), 'FEDER ': Timedelta('10 days 06:00:00'), 'FEDER associates': Timedelta('7 days 14:24:00'), 'FEDER co': Timedelta('6 days 06:51:25.714285714'), 'FEDER corp': Timedelta('-1 days +00:00:00'), 'FEDER corporation': Timedelta('-3 days +00:00:00'), 'FEDER foundation': Timedelta('-5 days +18:00:00'), 'FEDER in': Timedelta('-5 days +06:00:00'), 'FEDER llc': Timedelta('-2 days +09:00:00'), 'FEDER systems': Timedelta('0 days 12:00:00'), 'FEDER trust': Timedelta('-1 days +06:00:00'), 'FEDER us': Timedelta('2 days 21:00:00'), 'FELI ': Timedelta('1 days 00:00:00'), 'FELI in': Timedelta('-2 days +00:00:00'), 'FELI systems': Timedelta('0 days 00:00:00'), 'FELI trust': Timedelta('-1 days +00:00:00'), 'FERR ': Timedelta('-15 days +00:00:00'), 'FERR corp': Timedelta('7 days 00:00:00'), 'FERR foundation': Timedelta('-5 days +00:00:00'), 'FERR in': Timedelta('12 days 00:00:00'), 'FERR systems': Timedelta('-21 days +00:00:00'), 'FINDLAY associates': Timedelta('3 days 00:00:00'), 'FINDLAY co': Timedelta('1 days 00:00:00'), 'FINDLAY corporation': Timedelta('0 days 00:00:00'), 'FINDLAY in': Timedelta('8 days 00:00:00'), 'FINDLAY systems': Timedelta('3 days 12:00:00'), 'FINDLAY trust': Timedelta('1 days 00:00:00'), 'FINDLAY us': Timedelta('2 days 00:00:00'), 'FISCHER in': Timedelta('11 days 00:00:00'), 'FLAGS corporation': Timedelta('3 days 00:00:00'), 'FLAGS in': Timedelta('3 days 00:00:00'), 'FLANAG associates': Timedelta('16 days 00:00:00'), 'FLANAG corp': Timedelta('7 days 00:00:00'), 'FLANAG corporation': Timedelta('4 days 00:00:00'), 'FLANAG foundation': Timedelta('5 days 00:00:00'), 'FLANAG in': Timedelta('6 days 00:00:00'), 'FLANAG llc': Timedelta('2 days 00:00:00'), 'FLANAG systems': Timedelta('14 days 00:00:00'), 'FLANAG trust': Timedelta('0 days 00:00:00'), 'FO corporation': Timedelta('2 days 00:00:00'), 'FOC ': Timedelta('10 days 00:00:00'), 'FOC associates': Timedelta('3 days 00:00:00'), 'FOC co': Timedelta('11 days 00:00:00'), 'FOC corp': Timedelta('10 days 00:00:00'), 'FOC foundation': Timedelta('2 days 00:00:00'), 'FOC in': Timedelta('7 days 00:00:00'), 'FOC trust': Timedelta('13 days 00:00:00'), 'FOC us': Timedelta('8 days 00:00:00'), 'FOOD  associates': Timedelta('0 days 00:00:00'), 'FOOD  co': Timedelta('0 days 00:00:00'), 'FOOD  corp': Timedelta('0 days 12:00:00'), 'FOOD  corporation': Timedelta('0 days 00:00:00'), 'FOOD  foundation': Timedelta('-1 days +00:00:00'), 'FOOD  in': Timedelta('0 days 00:00:00'), 'FOOD  llc': Timedelta('0 days 09:36:00'), 'FOOD  trust': Timedelta('-1 days +00:00:00'), 'FOOD  us': Timedelta('0 days 00:00:00'), 'FOOD 4 ': Timedelta('0 days 00:00:00'), 'FOOD 4 corp': Timedelta('0 days 12:00:00'), 'FOOD 4 corporation': Timedelta('0 days 04:00:00'), 'FOOD 4 foundation': Timedelta('0 days 00:00:00'), 'FOOD 4 in': Timedelta('0 days 12:00:00'), 'FOOD 4 systems': Timedelta('0 days 06:00:00'), 'FOOD 4 us': Timedelta('0 days 00:00:00'), 'FOOD A co': Timedelta('0 days 00:00:00'), 'FOOD A corp': Timedelta('-1 days +12:00:00'), 'FOOD A llc': Timedelta('1 days 00:00:00'), 'FOOD S ': Timedelta('22 days 00:00:00'), 'FOOD S corp': Timedelta('1 days 00:00:00'), 'FOOD co': Timedelta('2 days 00:00:00'), 'FOOD corp': Timedelta('-6 days +00:00:00'), 'FOOD corporation': Timedelta('-1 days +00:00:00'), 'FOOD foundation': Timedelta('2 days 00:00:00'), 'FOOD llc': Timedelta('-4 days +00:00:00'), 'FOOD systems': Timedelta('-2 days +00:00:00'), 'FOOD trust': Timedelta('-1 days +00:00:00'), 'FOOD us': Timedelta('8 days 00:00:00'), 'FOODL ': Timedelta('0 days 00:00:00'), 'FOODL associates': Timedelta('1 days 00:00:00'), 'FOODL co': Timedelta('2 days 00:00:00'), 'FOODL corporation': Timedelta('2 days 00:00:00'), 'FOODL foundation': Timedelta('1 days 14:24:00'), 'FOODL in': Timedelta('3 days 00:00:00'), 'FOODL llc': Timedelta('0 days 00:00:00'), 'FOODL systems': Timedelta('2 days 00:00:00'), 'FOODL trust': Timedelta('2 days 12:00:00'), 'FOODL us': Timedelta('1 days 09:36:00'), 'FORT foundation': Timedelta('0 days 00:00:00'), 'FORT in': Timedelta('0 days 00:00:00'), 'FOST corporation': Timedelta('-7 days +00:00:00'), 'FOST trust': Timedelta('-3 days +00:00:00'), 'FOST us': Timedelta('-5 days +00:00:00'), 'FOX  ': Timedelta('2 days 00:00:00'), 'FOX  in': Timedelta('1 days 00:00:00'), 'FOX  systems': Timedelta('1 days 00:00:00'), 'FOX  us': Timedelta('-2 days +00:00:00'), 'FR ': Timedelta('1 days 01:20:00'), 'FR associates': Timedelta('-1 days +05:32:18.461538462'), 'FR co': Timedelta('0 days 18:40:00'), 'FR corp': Timedelta('1 days 09:36:00'), 'FR corporation': Timedelta('2 days 06:00:00'), 'FR foundation': Timedelta('0 days 21:00:00'), 'FR in': Timedelta('0 days 13:20:00'), 'FR llc': Timedelta('0 days 10:17:08.571428571'), 'FR systems': Timedelta('0 days 03:25:42.857142857'), 'FR trust': Timedelta('0 days 13:42:51.428571428'), 'FR us': Timedelta('0 days 04:00:00'), 'FRANQUICI foundation': Timedelta('1 days 00:00:00'), 'FRANQUICI in': Timedelta('6 days 00:00:00'), 'FRESH  corp': Timedelta('0 days 00:00:00'), \"FRICK' us\": Timedelta('20 days 00:00:00'), 'FRISC us': Timedelta('10 days 00:00:00'), 'FRY foundation': Timedelta('12 days 00:00:00'), 'FRY llc': Timedelta('14 days 00:00:00'), 'FSA  associates': Timedelta('5 days 00:00:00'), 'FSA  trust': Timedelta('6 days 00:00:00'), 'FSA  us': Timedelta('5 days 00:00:00'), 'FXM I corporation': Timedelta('0 days 00:00:00'), 'FXM I foundation': Timedelta('2 days 00:00:00'), 'FXM I in': Timedelta('5 days 00:00:00'), 'FXM I llc': Timedelta('8 days 00:00:00'), 'FXM I systems': Timedelta('3 days 00:00:00'), 'G & C  ': Timedelta('5 days 00:00:00'), 'G & C  co': Timedelta('0 days 00:00:00'), 'G & C  in': Timedelta('-4 days +00:00:00'), 'G & L  associates': Timedelta('0 days 00:00:00'), 'G T  ': Timedelta('1 days 00:00:00'), 'G T  associates': Timedelta('-1 days +00:00:00'), 'G T  co': Timedelta('2 days 00:00:00'), 'G T  corp': Timedelta('6 days 06:00:00'), 'G T  corporation': Timedelta('0 days 00:00:00'), 'G T  foundation': Timedelta('2 days 08:00:00'), 'G T  llc': Timedelta('1 days 00:00:00'), 'G T  systems': Timedelta('1 days 18:00:00'), 'G T  trust': Timedelta('-4 days +16:00:00'), 'G T  us': Timedelta('-2 days +00:00:00'), 'G&K llc': Timedelta('7 days 00:00:00'), 'GAD  ': Timedelta('0 days 00:00:00'), 'GAD  corp': Timedelta('0 days 00:00:00'), 'GAD  foundation': Timedelta('1 days 00:00:00'), 'GAD  in': Timedelta('1 days 00:00:00'), 'GAMA corporation': Timedelta('-8 days +00:00:00'), 'GARDEN associates': Timedelta('-3 days +00:00:00'), 'GE associates': Timedelta('1 days 16:00:00'), 'GE co': Timedelta('0 days 00:00:00'), 'GE corp': Timedelta('3 days 16:00:00'), 'GE corporation': Timedelta('0 days 00:00:00'), 'GE foundation': Timedelta('0 days 00:00:00'), 'GE in': Timedelta('1 days 00:00:00'), 'GENE ': Timedelta('2 days 08:00:00'), 'GENE associates': Timedelta('1 days 00:00:00'), 'GENE co': Timedelta('6 days 00:00:00'), 'GENE in': Timedelta('2 days 00:00:00'), 'GENE systems': Timedelta('2 days 00:00:00'), 'GENE trust': Timedelta('1 days 00:00:00'), 'GENERAL ': Timedelta('1 days 00:00:00'), 'GENERAL associates': Timedelta('-1 days +08:00:00'), 'GENERAL co': Timedelta('2 days 08:00:00'), 'GENERAL corporation': Timedelta('0 days 09:36:00'), 'GENERAL foundation': Timedelta('1 days 00:00:00'), 'GENERAL in': Timedelta('0 days 04:48:00'), 'GENERAL llc': Timedelta('0 days 00:00:00'), 'GENERAL systems': Timedelta('0 days 19:12:00'), 'GENERAL us': Timedelta('0 days 08:00:00'), 'GEOR associates': Timedelta('30 days 00:00:00'), 'GEOR co': Timedelta('1 days 00:00:00'), 'GEOR corp': Timedelta('14 days 00:00:00'), 'GEOR corporation': Timedelta('0 days 00:00:00'), 'GEOR in': Timedelta('0 days 12:00:00'), 'GEOR llc': Timedelta('1 days 00:00:00'), 'GEOR systems': Timedelta('-1 days +00:00:00'), 'GET  in': Timedelta('-7 days +00:00:00'), 'GET  systems': Timedelta('5 days 00:00:00'), 'GHC  ': Timedelta('0 days 00:00:00'), 'GHC  associates': Timedelta('1 days 00:00:00'), 'GHC  corporation': Timedelta('0 days 00:00:00'), 'GHC  llc': Timedelta('1 days 00:00:00'), 'GHC  trust': Timedelta('0 days 00:00:00'), 'GI co': Timedelta('2 days 12:00:00'), 'GI corp': Timedelta('-2 days +00:00:00'), 'GI in': Timedelta('2 days 00:00:00'), 'GI llc': Timedelta('-1 days +00:00:00'), 'GI trust': Timedelta('-23 days +12:00:00'), 'GI us': Timedelta('0 days 00:00:00'), 'GILSTE ': Timedelta('4 days 12:00:00'), 'GILSTE associates': Timedelta('10 days 00:00:00'), 'GILSTE co': Timedelta('5 days 08:00:00'), 'GILSTE corp': Timedelta('8 days 06:00:00'), 'GILSTE corporation': Timedelta('8 days 00:00:00'), 'GILSTE foundation': Timedelta('5 days 00:00:00'), 'GILSTE in': Timedelta('5 days 12:00:00'), 'GILSTE systems': Timedelta('8 days 00:00:00'), 'GILSTE trust': Timedelta('5 days 00:00:00'), 'GIV llc': Timedelta('12 days 00:00:00'), 'GIV us': Timedelta('8 days 00:00:00'), 'GIZE in': Timedelta('0 days 00:00:00'), 'GIZE systems': Timedelta('1 days 00:00:00'), 'GLA ': Timedelta('1 days 19:12:00'), 'GLA associates': Timedelta('1 days 00:00:00'), 'GLA co': Timedelta('-2 days +16:00:00'), 'GLA corp': Timedelta('1 days 00:00:00'), 'GLA corporation': Timedelta('3 days 00:00:00'), 'GLA foundation': Timedelta('-4 days +09:36:00'), 'GLA in': Timedelta('2 days 09:36:00'), 'GLA llc': Timedelta('-1 days +19:12:00'), 'GLA systems': Timedelta('0 days 00:00:00'), 'GLA trust': Timedelta('-1 days +00:00:00'), 'GLA us': Timedelta('0 days 08:00:00'), 'GLACIE associates': Timedelta('1 days 00:00:00'), 'GLACIE in': Timedelta('1 days 00:00:00'), 'GLACIE llc': Timedelta('1 days 08:00:00'), 'GLOB foundation': Timedelta('0 days 00:00:00'), 'GLOB us': Timedelta('0 days 00:00:00'), 'GLOBA ': Timedelta('1 days 00:00:00'), 'GLOBA associates': Timedelta('0 days 00:00:00'), 'GLOBA co': Timedelta('3 days 00:00:00'), 'GLOBA in': Timedelta('-5 days +00:00:00'), 'GLOBA llc': Timedelta('-3 days +12:00:00'), 'GLOBA systems': Timedelta('0 days 00:00:00'), 'GLOBA trust': Timedelta('-2 days +00:00:00'), 'GLOBA us': Timedelta('1 days 00:00:00'), 'GO ': Timedelta('2 days 10:17:08.571428571'), 'GO associates': Timedelta('0 days 00:00:00'), 'GO co': Timedelta('3 days 12:00:00'), 'GO corp': Timedelta('0 days 04:48:00'), 'GO corporation': Timedelta('-1 days +20:34:17.142857143'), 'GO foundation': Timedelta('0 days 00:00:00'), 'GO in': Timedelta('2 days 00:00:00'), 'GO llc': Timedelta('2 days 00:00:00'), 'GO systems': Timedelta('1 days 00:00:00'), 'GO trust': Timedelta('0 days 00:00:00'), 'GO us': Timedelta('1 days 04:48:00'), 'GODL corp': Timedelta('-19 days +00:00:00'), 'GOLD  corp': Timedelta('9 days 00:00:00'), 'GOLD  foundation': Timedelta('3 days 00:00:00'), 'GOLD  systems': Timedelta('9 days 00:00:00'), 'GOLD  us': Timedelta('4 days 00:00:00'), 'GOLD corp': Timedelta('-5 days +00:00:00'), 'GOLD corporation': Timedelta('-4 days +00:00:00'), 'GOLD foundation': Timedelta('-2 days +00:00:00'), 'GOLD systems': Timedelta('-3 days +00:00:00'), 'GOLD trust': Timedelta('-5 days +00:00:00'), 'GOLDEN trust': Timedelta('4 days 00:00:00'), 'GORDO ': Timedelta('-3 days +09:08:34.285714286'), 'GORDO associates': Timedelta('2 days 17:46:40'), 'GORDO co': Timedelta('0 days 01:12:00'), 'GORDO corp': Timedelta('3 days 04:48:00'), 'GORDO corporation': Timedelta('-3 days +17:41:03.157894737'), 'GORDO foundation': Timedelta('-2 days +08:24:00'), 'GORDO in': Timedelta('-1 days +08:00:00'), 'GORDO llc': Timedelta('-1 days +06:00:00'), 'GORDO systems': Timedelta('1 days 10:40:00'), 'GORDO trust': Timedelta('-5 days +22:09:13.846153847'), 'GORDO us': Timedelta('-4 days +18:21:10.588235295'), 'GORDON F ': Timedelta('2 days 00:00:00'), 'GORDON F associates': Timedelta('1 days 17:20:00'), 'GORDON F co': Timedelta('4 days 20:12:37.894736842'), 'GORDON F corp': Timedelta('6 days 15:16:21.818181818'), 'GORDON F corporation': Timedelta('3 days 14:40:00'), 'GORDON F foundation': Timedelta('2 days 10:00:00'), 'GORDON F in': Timedelta('4 days 12:00:00'), 'GORDON F llc': Timedelta('2 days 15:25:42.857142857'), 'GORDON F systems': Timedelta('3 days 16:00:00'), 'GORDON F trust': Timedelta('3 days 20:48:00'), 'GORDON F us': Timedelta('8 days 07:12:00'), 'GOUR systems': Timedelta('-4 days +00:00:00'), 'GOURM llc': Timedelta('7 days 00:00:00'), 'GR JEA corporation': Timedelta('4 days 00:00:00'), 'GR JEA in': Timedelta('9 days 00:00:00'), 'GR JEA us': Timedelta('7 days 00:00:00'), 'GREA ': Timedelta('1 days 00:00:00'), 'GREA co': Timedelta('1 days 00:00:00'), 'GREA corporation': Timedelta('0 days 12:00:00'), 'GREA foundation': Timedelta('0 days 00:00:00'), 'GREA in': Timedelta('6 days 00:00:00'), 'GREA llc': Timedelta('-16 days +00:00:00'), 'GREAT  associates': Timedelta('-1 days +00:00:00'), 'GREC associates': Timedelta('-1 days +00:00:00'), 'GREC corp': Timedelta('10 days 00:00:00'), 'GREC corporation': Timedelta('19 days 00:00:00'), 'GREC in': Timedelta('10 days 00:00:00'), 'GRECO  co': Timedelta('5 days 00:00:00'), 'GRECO  llc': Timedelta('7 days 00:00:00'), 'GRECO  us': Timedelta('-1 days +00:00:00'), 'GREE corporation': Timedelta('-5 days +12:00:00'), 'GREE systems': Timedelta('1 days 00:00:00'), 'GREE trust': Timedelta('-29 days +00:00:00'), 'GREEN  ': Timedelta('9 days 00:00:00'), 'GREEN  associates': Timedelta('81 days 00:00:00'), 'GREEN  corp': Timedelta('-1 days +06:00:00'), 'GREEN  corporation': Timedelta('6 days 00:00:00'), 'GREEN  in': Timedelta('11 days 00:00:00'), 'GREEN  llc': Timedelta('-1 days +00:00:00'), 'GREEN  trust': Timedelta('-10 days +00:00:00'), 'GREEN  us': Timedelta('-3 days +16:00:00'), 'GRO associates': Timedelta('1 days 00:00:00'), 'GRO corporation': Timedelta('0 days 00:00:00'), 'GROC ': Timedelta('0 days 07:12:00'), 'GROC associates': Timedelta('4 days 06:18:56.842105263'), 'GROC co': Timedelta('0 days 19:38:10.909090909'), 'GROC corp': Timedelta('0 days 13:05:27.272727272'), 'GROC corporation': Timedelta('7 days 22:17:08.571428571'), 'GROC foundation': Timedelta('41 days 04:48:00'), 'GROC in': Timedelta('3 days 03:25:42.857142857'), 'GROC llc': Timedelta('0 days 12:00:00'), 'GROC systems': Timedelta('1 days 15:00:00'), 'GROC trust': Timedelta('1 days 16:00:00'), 'GROC us': Timedelta('1 days 18:27:41.538461538'), 'GROCE ': Timedelta('0 days 00:00:00'), 'GROCE associates': Timedelta('2 days 00:00:00'), 'GROCE corporation': Timedelta('0 days 00:00:00'), 'GROCE foundation': Timedelta('0 days 00:00:00'), 'GROCE llc': Timedelta('0 days 00:00:00'), 'GROCE systems': Timedelta('0 days 00:00:00'), 'GROUPE  corporation': Timedelta('-3 days +12:00:00'), 'H &  co': Timedelta('5 days 00:00:00'), 'H &  corporation': Timedelta('-1 days +12:00:00'), 'H &  foundation': Timedelta('4 days 16:00:00'), 'H &  in': Timedelta('1 days 00:00:00'), 'H &  trust': Timedelta('2 days 00:00:00'), 'H E BUT ': Timedelta('-4 days +14:24:00'), 'H E BUT associates': Timedelta('-1 days +11:31:12'), 'H E BUT co': Timedelta('-2 days +03:00:00'), 'H E BUT corp': Timedelta('-4 days +06:58:03.870967742'), 'H E BUT corporation': Timedelta('-6 days +17:08:34.285714286'), 'H E BUT foundation': Timedelta('-4 days +03:52:15.483870968'), 'H E BUT in': Timedelta('-4 days +06:00:00'), 'H E BUT llc': Timedelta('-1 days +07:32:34.285714286'), 'H E BUT systems': Timedelta('-3 days +03:05:48.387096775'), 'H E BUT trust': Timedelta('-4 days +15:31:45.882352942'), 'H E BUT us': Timedelta('-3 days +12:42:21.176470589'), 'H SC corporation': Timedelta('-2 days +00:00:00'), 'H SC trust': Timedelta('-1 days +00:00:00'), 'H T  corp': Timedelta('5 days 00:00:00'), 'H T  trust': Timedelta('0 days 00:00:00'), 'H T H ': Timedelta('-1 days +04:00:00'), 'H T H associates': Timedelta('0 days 17:08:34.285714285'), 'H T H co': Timedelta('1 days 00:00:00'), 'H T H corp': Timedelta('3 days 17:08:34.285714285'), 'H T H corporation': Timedelta('-10 days +00:00:00'), 'H T H foundation': Timedelta('-12 days +18:40:00'), 'H T H in': Timedelta('-13 days +19:12:00'), 'H T H llc': Timedelta('2 days 20:34:17.142857142'), 'H T H systems': Timedelta('-4 days +12:00:00'), 'H T H trust': Timedelta('-1 days +08:00:00'), 'H T H us': Timedelta('0 days 09:00:00'), 'H Y LO corp': Timedelta('4 days 00:00:00'), 'H Y LO foundation': Timedelta('3 days 00:00:00'), 'H Y LO in': Timedelta('4 days 00:00:00'), 'H Y LO us': Timedelta('0 days 00:00:00'), 'H.J. HE ': Timedelta('79 days 00:00:00'), 'H.J. HE associates': Timedelta('50 days 00:00:00'), 'H.J. HE trust': Timedelta('95 days 00:00:00'), 'H.J. HEI ': Timedelta('-11 days +00:00:00'), 'H.J. HEI corp': Timedelta('10 days 12:00:00'), 'H.J. HEI llc': Timedelta('6 days 12:00:00'), 'H.J. HEI systems': Timedelta('7 days 00:00:00'), 'H.J. HEI us': Timedelta('-6 days +12:00:00'), 'HACKN co': Timedelta('-1 days +00:00:00'), 'HACKN corp': Timedelta('-2 days +00:00:00'), 'HACKN trust': Timedelta('1 days 00:00:00'), 'HACKN us': Timedelta('1 days 00:00:00'), 'HAN associates': Timedelta('-1 days +00:00:00'), 'HAR ': Timedelta('0 days 10:17:08.571428571'), 'HAR associates': Timedelta('-1 days +12:00:00'), 'HAR co': Timedelta('-1 days +06:00:00'), 'HAR corp': Timedelta('1 days 00:00:00'), 'HAR corporation': Timedelta('0 days 06:32:43.636363636'), 'HAR foundation': Timedelta('1 days 09:00:00'), 'HAR in': Timedelta('-1 days +12:00:00'), 'HAR llc': Timedelta('-1 days +08:00:00'), 'HAR systems': Timedelta('-4 days +09:36:00'), 'HAR trust': Timedelta('0 days 16:00:00'), 'HAR us': Timedelta('0 days 12:00:00'), 'HARB associates': Timedelta('-1 days +00:00:00'), 'HARB in': Timedelta('2 days 00:00:00'), 'HARRY systems': Timedelta('-2 days +00:00:00'), 'HAWAI ': Timedelta('-2 days +00:00:00'), 'HEARTHSI ': Timedelta('13 days 00:00:00'), 'HEARTHSI associates': Timedelta('19 days 00:00:00'), 'HEARTHSI co': Timedelta('0 days 00:00:00'), 'HEARTHSI corporation': Timedelta('0 days 00:00:00'), 'HEARTHSI foundation': Timedelta('-8 days +00:00:00'), 'HEARTHSI in': Timedelta('-2 days +00:00:00'), 'HEARTHSI llc': Timedelta('29 days 12:00:00'), 'HEARTHSI systems': Timedelta('-7 days +00:00:00'), 'HEARTHSI trust': Timedelta('38 days 00:00:00'), 'HEARTHSI us': Timedelta('1 days 06:00:00'), 'HEI corporation': Timedelta('0 days 00:00:00'), 'HEI trust': Timedelta('-6 days +00:00:00'), 'HEI us': Timedelta('0 days 00:00:00'), 'HEIN ': Timedelta('10 days 00:00:00'), 'HEIN associates': Timedelta('30 days 18:00:00'), 'HEIN co': Timedelta('38 days 00:00:00'), 'HEIN corp': Timedelta('72 days 00:00:00'), 'HEIN corporation': Timedelta('-6 days +12:00:00'), 'HEIN foundation': Timedelta('26 days 00:00:00'), 'HEIN in': Timedelta('17 days 09:36:00'), 'HEIN llc': Timedelta('34 days 00:00:00'), 'HEIN systems': Timedelta('40 days 00:00:00'), 'HEIN trust': Timedelta('13 days 00:00:00'), 'HEIN us': Timedelta('21 days 12:00:00'), 'HEINZ ': Timedelta('30 days 20:00:00'), 'HEINZ  associates': Timedelta('88 days 00:00:00'), 'HEINZ  co': Timedelta('75 days 00:00:00'), 'HEINZ  corp': Timedelta('60 days 00:00:00'), 'HEINZ  in': Timedelta('98 days 00:00:00'), 'HEINZ  trust': Timedelta('57 days 00:00:00'), 'HEINZ  us': Timedelta('123 days 00:00:00'), 'HEINZ AF co': Timedelta('-9 days +00:00:00'), 'HEINZ AF corp': Timedelta('5 days 00:00:00'), 'HEINZ AF foundation': Timedelta('1 days 00:00:00'), 'HEINZ AF in': Timedelta('-12 days +12:00:00'), 'HEINZ AF systems': Timedelta('26 days 00:00:00'), 'HEINZ AF trust': Timedelta('-10 days +00:00:00'), 'HEINZ AF us': Timedelta('-6 days +08:00:00'), 'HEINZ associates': Timedelta('22 days 08:00:00'), 'HEINZ co': Timedelta('13 days 12:00:00'), 'HEINZ corp': Timedelta('32 days 08:00:00'), 'HEINZ corporation': Timedelta('10 days 00:00:00'), 'HEINZ foundation': Timedelta('36 days 00:00:00'), 'HEINZ in': Timedelta('23 days 00:00:00'), 'HEINZ llc': Timedelta('27 days 12:00:00'), 'HEINZ systems': Timedelta('54 days 06:00:00'), 'HEINZ trust': Timedelta('-1 days +00:00:00'), 'HEINZ us': Timedelta('43 days 12:00:00'), 'HELU trust': Timedelta('10 days 00:00:00'), 'HENR in': Timedelta('-9 days +00:00:00'), 'HENR llc': Timedelta('-3 days +00:00:00'), 'HERITA co': Timedelta('4 days 00:00:00'), 'HERITA corporation': Timedelta('-2 days +00:00:00'), 'HERR associates': Timedelta('-4 days +00:00:00'), 'HERR foundation': Timedelta('-2 days +00:00:00'), 'HIGHB corporation': Timedelta('-24 days +00:00:00'), 'HIGHLAN in': Timedelta('-3 days +00:00:00'), 'HIGHLAN llc': Timedelta('9 days 00:00:00'), 'HIGHLAN systems': Timedelta('4 days 00:00:00'), 'HIGHLAN us': Timedelta('16 days 00:00:00'), 'HILL corp': Timedelta('27 days 00:00:00'), 'HILL llc': Timedelta('1 days 00:00:00'), 'HILL trust': Timedelta('5 days 00:00:00'), 'HILL us': Timedelta('2 days 00:00:00'), 'HILLCR foundation': Timedelta('0 days 00:00:00'), 'HOB associates': Timedelta('0 days 00:00:00'), 'HOGG  co': Timedelta('-2 days +00:00:00'), 'HOLI associates': Timedelta('-4 days +00:00:00'), 'HOME ': Timedelta('17 days 00:00:00'), 'HOME R ': Timedelta('0 days 00:00:00'), 'HOME R in': Timedelta('1 days 00:00:00'), 'HOME R systems': Timedelta('-1 days +08:00:00'), 'HOME R trust': Timedelta('-1 days +12:00:00'), 'HOME R us': Timedelta('0 days 00:00:00'), 'HONOR  trust': Timedelta('6 days 00:00:00'), 'HORM systems': Timedelta('27 days 00:00:00'), 'HPC  associates': Timedelta('-2 days +00:00:00'), 'HPC  corporation': Timedelta('2 days 00:00:00'), 'HPC  llc': Timedelta('1 days 00:00:00'), 'HPC  trust': Timedelta('-2 days +00:00:00'), 'HT H corp': Timedelta('3 days 00:00:00'), 'HT H llc': Timedelta('-3 days +00:00:00'), 'HT H trust': Timedelta('5 days 00:00:00'), 'HT H us': Timedelta('14 days 00:00:00'), 'HT HA corporation': Timedelta('-1 days +00:00:00'), 'HT HA llc': Timedelta('-1 days +00:00:00'), 'HT HA systems': Timedelta('0 days 00:00:00'), 'HT HA trust': Timedelta('0 days 00:00:00'), 'HT HAC ': Timedelta('-5 days +00:00:00'), 'HT HAC corporation': Timedelta('1 days 00:00:00'), 'HT HAC in': Timedelta('8 days 00:00:00'), 'HT HAC us': Timedelta('15 days 00:00:00'), 'HUB  ': Timedelta('-1 days +00:00:00'), 'HUB  in': Timedelta('-5 days +00:00:00'), 'HUDD ': Timedelta('-5 days +00:00:00'), 'HUDD llc': Timedelta('-1 days +00:00:00'), 'HY -  ': Timedelta('2 days 17:08:34.285714285'), 'HY -  associates': Timedelta('2 days 00:00:00'), 'HY -  co': Timedelta('2 days 17:08:34.285714285'), 'HY -  corp': Timedelta('3 days 21:00:00'), 'HY -  corporation': Timedelta('2 days 06:00:00'), 'HY -  foundation': Timedelta('2 days 04:00:00'), 'HY -  in': Timedelta('2 days 16:48:00'), 'HY -  llc': Timedelta('2 days 10:17:08.571428571'), 'HY -  systems': Timedelta('1 days 18:00:00'), 'HY -  trust': Timedelta('2 days 04:48:00'), 'HY -  us': Timedelta('2 days 00:00:00'), 'I SUPP associates': Timedelta('-1 days +00:00:00'), 'I SUPP in': Timedelta('0 days 00:00:00'), 'IA in': Timedelta('-33 days +00:00:00'), 'IMCOM co': Timedelta('5 days 12:00:00'), 'IMPERI trust': Timedelta('-1 days +00:00:00'), 'IN-N ': Timedelta('3 days 00:00:00'), 'IN-N associates': Timedelta('3 days 00:00:00'), 'IN-N co': Timedelta('-1 days +12:00:00'), 'IN-N corp': Timedelta('-5 days +12:00:00'), 'IN-N corporation': Timedelta('-2 days +00:00:00'), 'IN-N foundation': Timedelta('-3 days +18:00:00'), 'IN-N in': Timedelta('-3 days +16:00:00'), 'IN-N llc': Timedelta('2 days 00:00:00'), 'IN-N systems': Timedelta('-3 days +00:00:00'), 'IN-N trust': Timedelta('-3 days +00:00:00'), 'IN-N us': Timedelta('-1 days +00:00:00'), 'IN-N- ': Timedelta('3 days 00:00:00'), 'IN-N- co': Timedelta('13 days 00:00:00'), 'IN-N- corp': Timedelta('4 days 00:00:00'), 'IN-N- foundation': Timedelta('5 days 00:00:00'), 'IN-N- in': Timedelta('6 days 00:00:00'), 'IN-N- llc': Timedelta('2 days 00:00:00'), 'IN-N- systems': Timedelta('3 days 12:00:00'), 'IN-N- us': Timedelta('7 days 00:00:00'), 'IND co': Timedelta('32 days 00:00:00'), 'IND corp': Timedelta('-4 days +00:00:00'), 'IND corporation': Timedelta('3 days 00:00:00'), 'IND foundation': Timedelta('-2 days +00:00:00'), 'IND systems': Timedelta('14 days 16:00:00'), 'IND us': Timedelta('-19 days +08:00:00'), 'INDIANH associates': Timedelta('15 days 00:00:00'), 'INDIANH co': Timedelta('-1 days +00:00:00'), 'INDIANH corporation': Timedelta('90 days 00:00:00'), 'INDIV associates': Timedelta('0 days 00:00:00'), 'INDIV corp': Timedelta('6 days 12:00:00'), 'INDIV llc': Timedelta('-1 days +00:00:00'), 'INDOFI trust': Timedelta('1 days 00:00:00'), 'INGL ': Timedelta('0 days 08:00:00'), 'INGL associates': Timedelta('0 days 18:00:00'), 'INGL co': Timedelta('1 days 20:34:17.142857142'), 'INGL corp': Timedelta('0 days 18:00:00'), 'INGL corporation': Timedelta('2 days 00:00:00'), 'INGL foundation': Timedelta('2 days 12:00:00'), 'INGL in': Timedelta('-16 days +08:00:00'), 'INGL llc': Timedelta('2 days 12:00:00'), 'INGL systems': Timedelta('3 days 00:00:00'), 'INGL trust': Timedelta('-14 days +00:00:00'), 'INGL us': Timedelta('4 days 00:00:00'), 'INGRED foundation': Timedelta('-12 days +00:00:00'), 'INGRED llc': Timedelta('-9 days +00:00:00'), 'INN llc': Timedelta('4 days 00:00:00'), 'INN systems': Timedelta('-14 days +00:00:00'), \"INT'L  associates\": Timedelta('-14 days +00:00:00'), 'INTER associates': Timedelta('-1 days +00:00:00'), 'INTER corp': Timedelta('6 days 00:00:00'), 'INTER llc': Timedelta('1 days 00:00:00'), 'INTER trust': Timedelta('0 days 00:00:00'), 'INTER us': Timedelta('7 days 12:00:00'), 'INTERN foundation': Timedelta('-23 days +00:00:00'), 'INTERN systems': Timedelta('-25 days +00:00:00'), 'INTERN trust': Timedelta('-2 days +00:00:00'), 'INTERR ': Timedelta('-3 days +00:00:00'), 'INTERR associates': Timedelta('-4 days +04:48:00'), 'INTERR co': Timedelta('-3 days +16:00:00'), 'INTERR corp': Timedelta('6 days 00:00:00'), 'INTERR corporation': Timedelta('-1 days +00:00:00'), 'INTERR in': Timedelta('-2 days +00:00:00'), 'INTERR llc': Timedelta('-2 days +12:00:00'), 'INTERR systems': Timedelta('-3 days +12:00:00'), 'INTERR us': Timedelta('-1 days +00:00:00'), 'INTERSTA co': Timedelta('1 days 00:00:00'), 'IRA HI co': Timedelta('-1 days +00:00:00'), 'IRA HI foundation': Timedelta('-3 days +00:00:00'), 'IRA HI systems': Timedelta('0 days 00:00:00'), 'ISLAND associates': Timedelta('0 days 00:00:00'), 'ISLAND trust': Timedelta('-1 days +00:00:00'), 'ITTELL corporation': Timedelta('32 days 00:00:00'), 'ITWA co': Timedelta('-2 days +16:00:00'), 'ITWA corp': Timedelta('0 days 08:00:00'), 'ITWA corporation': Timedelta('28 days 18:00:00'), 'ITWA foundation': Timedelta('-2 days +18:00:00'), 'ITWA in': Timedelta('2 days 00:00:00'), 'ITWA llc': Timedelta('0 days 00:00:00'), 'ITWA systems': Timedelta('0 days 00:00:00'), 'ITWA trust': Timedelta('0 days 12:00:00'), 'ITWA us': Timedelta('-4 days +12:00:00'), 'J  associates': Timedelta('0 days 00:00:00'), 'J  corp': Timedelta('0 days 00:00:00'), 'J  corporation': Timedelta('0 days 00:00:00'), 'J  foundation': Timedelta('-2 days +00:00:00'), 'J  in': Timedelta('-1 days +16:00:00'), 'J  llc': Timedelta('-1 days +00:00:00'), 'J  systems': Timedelta('0 days 00:00:00'), 'J  us': Timedelta('-1 days +00:00:00'), 'J &  corp': Timedelta('-5 days +00:00:00'), 'J & J  ': Timedelta('0 days 00:00:00'), 'J & J  llc': Timedelta('0 days 00:00:00'), 'J & J  systems': Timedelta('-1 days +00:00:00'), 'J & J  trust': Timedelta('0 days 00:00:00'), 'J & J  us': Timedelta('0 days 16:00:00'), 'J & J systems': Timedelta('0 days 00:00:00'), 'J & J us': Timedelta('0 days 00:00:00'), 'J KIN corp': Timedelta('1 days 00:00:00'), 'J KIN corporation': Timedelta('0 days 00:00:00'), 'J&J S associates': Timedelta('-8 days +00:00:00'), 'J&J S co': Timedelta('-1 days +00:00:00'), 'J&J S corporation': Timedelta('-8 days +00:00:00'), 'J&J S us': Timedelta('-1 days +00:00:00'), 'J.B. H systems': Timedelta('0 days 00:00:00'), 'J.B. H trust': Timedelta('8 days 00:00:00'), 'JACK D foundation': Timedelta('-7 days +00:00:00'), 'JACMAR ': Timedelta('4 days 00:00:00'), 'JACMAR co': Timedelta('1 days 12:00:00'), 'JACMAR corporation': Timedelta('1 days 00:00:00'), 'JACMAR foundation': Timedelta('5 days 00:00:00'), 'JACMAR in': Timedelta('-2 days +00:00:00'), 'JACMAR systems': Timedelta('2 days 00:00:00'), 'JACMAR us': Timedelta('2 days 16:00:00'), 'JAKE in': Timedelta('7 days 00:00:00'), 'JALI ': Timedelta('5 days 00:00:00'), 'JALI corp': Timedelta('6 days 00:00:00'), 'JAM ': Timedelta('0 days 00:00:00'), 'JAM co': Timedelta('1 days 00:00:00'), 'JAM corp': Timedelta('0 days 00:00:00'), 'JAM foundation': Timedelta('8 days 00:00:00'), 'JAM in': Timedelta('2 days 00:00:00'), 'JAM llc': Timedelta('0 days 00:00:00'), 'JAMES foundation': Timedelta('0 days 00:00:00'), 'JAVA ': Timedelta('2 days 00:00:00'), 'JAVA corporation': Timedelta('1 days 00:00:00'), 'JAVA in': Timedelta('1 days 00:00:00'), 'JAVA us': Timedelta('0 days 00:00:00'), 'JET ': Timedelta('1 days 17:36:00'), 'JET associates': Timedelta('-1 days +02:00:00'), 'JET co': Timedelta('-2 days +18:00:00'), 'JET corp': Timedelta('1 days 12:00:00'), 'JET corporation': Timedelta('0 days 12:48:00'), 'JET foundation': Timedelta('-1 days +17:36:00'), 'JET in': Timedelta('1 days 00:00:00'), 'JET llc': Timedelta('1 days 02:24:00'), 'JET systems': Timedelta('7 days 07:12:00'), 'JET trust': Timedelta('2 days 09:00:00'), 'JET us': Timedelta('-2 days +06:24:00'), 'JETR ': Timedelta('-5 days +13:20:00'), 'JETR associates': Timedelta('2 days 12:00:00'), 'JETR co': Timedelta('-3 days +08:43:38.181818182'), 'JETR corp': Timedelta('0 days 00:00:00'), 'JETR corporation': Timedelta('-10 days +12:00:00'), 'JETR foundation': Timedelta('0 days 21:00:00'), 'JETR in': Timedelta('1 days 12:55:23.076923076'), 'JETR llc': Timedelta('0 days 16:00:00'), 'JETR systems': Timedelta('-1 days +02:24:00'), 'JETR trust': Timedelta('4 days 06:00:00'), 'JETR us': Timedelta('1 days 12:00:00'), 'JETRO ': Timedelta('2 days 12:00:00'), 'JETRO associates': Timedelta('3 days 12:00:00'), 'JETRO co': Timedelta('1 days 06:00:00'), 'JETRO corp': Timedelta('5 days 00:00:00'), 'JETRO corporation': Timedelta('3 days 08:00:00'), 'JETRO foundation': Timedelta('1 days 00:00:00'), 'JETRO in': Timedelta('2 days 00:00:00'), 'JETRO llc': Timedelta('1 days 16:00:00'), 'JETRO systems': Timedelta('2 days 12:00:00'), 'JETRO trust': Timedelta('0 days 19:12:00'), 'JETRO us': Timedelta('2 days 12:00:00'), 'JOHN  corp': Timedelta('2 days 00:00:00'), 'JOHN  trust': Timedelta('3 days 00:00:00'), 'JOHN H associates': Timedelta('0 days 00:00:00'), 'JOR co': Timedelta('-7 days +00:00:00'), 'JOR corp': Timedelta('-6 days +00:00:00'), 'JOR trust': Timedelta('-6 days +00:00:00'), 'JOSE co': Timedelta('-1 days +00:00:00'), 'JOSE corporation': Timedelta('7 days 00:00:00'), 'JOSE foundation': Timedelta('4 days 00:00:00'), 'JOSE in': Timedelta('6 days 12:00:00'), 'JOSE llc': Timedelta('6 days 00:00:00'), 'JOSE systems': Timedelta('13 days 00:00:00'), 'JRD ': Timedelta('0 days 16:36:55.384615384'), 'JRD associates': Timedelta('0 days 01:15:47.368421052'), 'JRD co': Timedelta('0 days 06:51:25.714285714'), 'JRD corp': Timedelta('2 days 18:00:00'), 'JRD corporation': Timedelta('0 days 02:24:00'), 'JRD foundation': Timedelta('0 days 01:24:42.352941176'), 'JRD in': Timedelta('1 days 22:17:08.571428571'), 'JRD llc': Timedelta('0 days 12:00:00'), 'JRD systems': Timedelta('1 days 00:00:00'), 'JRD trust': Timedelta('0 days 01:30:00'), 'JRD us': Timedelta('0 days 16:36:55.384615384'), 'JULI associates': Timedelta('-3 days +00:00:00'), 'JULI llc': Timedelta('8 days 00:00:00'), 'K&S  llc': Timedelta('-9 days +00:00:00'), 'K&S  trust': Timedelta('-12 days +00:00:00'), 'KAGO associates': Timedelta('-1 days +00:00:00'), 'KAGO co': Timedelta('0 days 00:00:00'), 'KAGO systems': Timedelta('-4 days +00:00:00'), 'KAGO us': Timedelta('-7 days +00:00:00'), 'KALE in': Timedelta('0 days 00:00:00'), 'KARE llc': Timedelta('8 days 00:00:00'), 'KARI ': Timedelta('-3 days +00:00:00'), 'KARI co': Timedelta('1 days 00:00:00'), 'KE corp': Timedelta('1 days 00:00:00'), 'KE corporation': Timedelta('2 days 00:00:00'), 'KE foundation': Timedelta('44 days 12:00:00'), 'KE in': Timedelta('1 days 00:00:00'), 'KE systems': Timedelta('1 days 00:00:00'), 'KE trust': Timedelta('24 days 12:00:00'), 'KE us': Timedelta('3 days 00:00:00'), \"KECK' co\": Timedelta('0 days 00:00:00'), 'KEEFE  ': Timedelta('0 days 00:00:00'), 'KEEFE  co': Timedelta('16 days 00:00:00'), 'KEEFE  in': Timedelta('1 days 00:00:00'), 'KEEFE  trust': Timedelta('-7 days +00:00:00'), 'KEEFE  us': Timedelta('-4 days +12:00:00'), 'KEHE  ': Timedelta('3 days 00:00:00'), 'KEHE  associates': Timedelta('2 days 16:00:00'), 'KEHE  co': Timedelta('-4 days +00:00:00'), 'KEHE  corp': Timedelta('3 days 00:00:00'), 'KEHE  corporation': Timedelta('4 days 12:00:00'), 'KEHE  foundation': Timedelta('16 days 16:00:00'), 'KEHE  in': Timedelta('3 days 12:00:00'), 'KEHE  llc': Timedelta('0 days 12:00:00'), 'KEHE  systems': Timedelta('0 days 16:00:00'), 'KEHE  trust': Timedelta('3 days 00:00:00'), 'KEHE  us': Timedelta('-1 days +16:00:00'), 'KEHE foundation': Timedelta('3 days 00:00:00'), 'KEHE systems': Timedelta('0 days 00:00:00'), 'KELLOGG  co': Timedelta('-7 days +00:00:00'), 'KELLOGG  in': Timedelta('42 days 00:00:00'), 'KELLY associates': Timedelta('-2 days +00:00:00'), 'KELLY corporation': Timedelta('0 days 00:00:00'), \"KEN' llc\": Timedelta('-4 days +00:00:00'), 'KENNETH ': Timedelta('0 days 16:00:00'), 'KENNETH associates': Timedelta('0 days 03:25:42.857142857'), 'KENNETH co': Timedelta('1 days 06:00:00'), 'KENNETH corp': Timedelta('18 days 00:00:00'), 'KENNETH corporation': Timedelta('1 days 06:00:00'), 'KENNETH foundation': Timedelta('0 days 08:00:00'), 'KENNETH in': Timedelta('-3 days +00:00:00'), 'KENNETH llc': Timedelta('-3 days +16:00:00'), 'KENNETH systems': Timedelta('1 days 16:00:00'), 'KENNETH trust': Timedelta('4 days 06:00:00'), 'KENNETH us': Timedelta('12 days 12:00:00'), 'KERR ': Timedelta('0 days 00:00:00'), 'KERR co': Timedelta('1 days 00:00:00'), 'KERR corporation': Timedelta('-55 days +00:00:00'), 'KERR llc': Timedelta('1 days 00:00:00'), 'KETTL associates': Timedelta('4 days 00:00:00'), 'KETTL corp': Timedelta('6 days 00:00:00'), 'KETTL trust': Timedelta('22 days 00:00:00'), 'KEURIG ': Timedelta('4 days 00:00:00'), 'KEURIG co': Timedelta('32 days 12:00:00'), 'KEURIG llc': Timedelta('24 days 00:00:00'), 'KEURIG trust': Timedelta('18 days 00:00:00'), 'KEYBRA corporation': Timedelta('5 days 00:00:00'), 'KEYBRA foundation': Timedelta('41 days 00:00:00'), 'KEYBRA trust': Timedelta('0 days 00:00:00'), 'KGL FOO co': Timedelta('0 days 00:00:00'), 'KIN foundation': Timedelta('0 days 00:00:00'), 'KING & associates': Timedelta('4 days 00:00:00'), 'KING S ': Timedelta('0 days 08:34:17.142857142'), 'KING S associates': Timedelta('0 days 09:20:00'), 'KING S co': Timedelta('0 days 09:00:00'), 'KING S corp': Timedelta('0 days 13:42:51.428571428'), 'KING S corporation': Timedelta('0 days 21:00:00'), 'KING S foundation': Timedelta('0 days 20:00:00'), 'KING S in': Timedelta('0 days 13:20:00'), 'KING S llc': Timedelta('0 days 05:32:18.461538461'), 'KING S systems': Timedelta('0 days 15:00:00'), 'KING S trust': Timedelta('0 days 05:20:00'), 'KING S us': Timedelta('0 days 14:00:00'), 'KITCH ': Timedelta('17 days 00:00:00'), 'KITCH corp': Timedelta('-5 days +00:00:00'), 'KITCH llc': Timedelta('2 days 00:00:00'), 'KITCH us': Timedelta('-3 days +00:00:00'), 'KMART systems': Timedelta('-15 days +00:00:00'), 'KOHL corp': Timedelta('1 days 00:00:00'), 'KOHL corporation': Timedelta('4 days 00:00:00'), 'KOHL us': Timedelta('-7 days +00:00:00'), 'KOL llc': Timedelta('2 days 00:00:00'), 'KR in': Timedelta('15 days 00:00:00'), 'KR llc': Timedelta('7 days 00:00:00'), 'KRAFT  ': Timedelta('10 days 05:46:40'), 'KRAFT  associates': Timedelta('9 days 05:26:02.264150943'), 'KRAFT  co': Timedelta('7 days 06:00:00'), 'KRAFT  corp': Timedelta('8 days 00:00:00'), 'KRAFT  corporation': Timedelta('10 days 17:13:02.608695652'), 'KRAFT  foundation': Timedelta('7 days 23:33:20'), 'KRAFT  in': Timedelta('8 days 19:16:43.278688524'), 'KRAFT  llc': Timedelta('6 days 00:42:21.176470588'), 'KRAFT  systems': Timedelta('3 days 22:00:00'), 'KRAFT  trust': Timedelta('9 days 07:49:33.913043477'), 'KRAFT  us': Timedelta('8 days 01:45:21.951219512'), 'KRAFT F ': Timedelta('42 days 10:26:05.217391304'), 'KRAFT F associates': Timedelta('39 days 17:37:57.551020408'), 'KRAFT F co': Timedelta('42 days 18:13:20'), 'KRAFT F corp': Timedelta('44 days 18:11:36.774193548'), 'KRAFT F corporation': Timedelta('41 days 10:08:00'), 'KRAFT F foundation': Timedelta('42 days 19:00:00'), 'KRAFT F in': Timedelta('42 days 03:16:21.818181818'), 'KRAFT F llc': Timedelta('40 days 05:37:01.276595744'), 'KRAFT F systems': Timedelta('46 days 15:00:00'), 'KRAFT F trust': Timedelta('42 days 04:00:00'), 'KRAFT F us': Timedelta('39 days 09:52:56.470588235'), 'KRAS ': Timedelta('-25 days +00:00:00'), 'KRAS associates': Timedelta('2 days 00:00:00'), 'KRAS co': Timedelta('-1 days +00:00:00'), 'KRAS corp': Timedelta('0 days 00:00:00'), 'KRAS corporation': Timedelta('-1 days +00:00:00'), 'KRAS foundation': Timedelta('-50 days +00:00:00'), 'KRAS in': Timedelta('0 days 00:00:00'), 'KRAS llc': Timedelta('0 days 00:00:00'), 'KRAS systems': Timedelta('0 days 00:00:00'), 'KRAS trust': Timedelta('0 days 00:00:00'), 'KRAS us': Timedelta('0 days 00:00:00'), 'KRFT FDS ': Timedelta('3 days 16:36:55.384615384'), 'KRFT FDS associates': Timedelta('3 days 21:00:00'), 'KRFT FDS co': Timedelta('13 days 00:00:00'), 'KRFT FDS corp': Timedelta('10 days 19:38:10.909090909'), 'KRFT FDS corporation': Timedelta('10 days 03:25:42.857142857'), 'KRFT FDS foundation': Timedelta('2 days 22:40:00'), 'KRFT FDS in': Timedelta('6 days 09:52:56.470588235'), 'KRFT FDS llc': Timedelta('13 days 10:54:32.727272727'), 'KRFT FDS systems': Timedelta('3 days 07:12:00'), 'KRFT FDS trust': Timedelta('0 days 06:32:43.636363636'), 'KRFT FDS us': Timedelta('10 days 09:36:00'), 'KROG ': Timedelta('0 days 10:54:32.727272727'), 'KROG associates': Timedelta('0 days 18:40:00'), 'KROG co': Timedelta('0 days 00:00:00'), 'KROG corp': Timedelta('0 days 07:30:00'), 'KROG corporation': Timedelta('0 days 09:13:50.769230769'), 'KROG foundation': Timedelta('0 days 06:00:00'), 'KROG in': Timedelta('0 days 09:36:00'), 'KROG llc': Timedelta('0 days 10:00:00'), 'KROG systems': Timedelta('3 days 18:00:00'), 'KROG trust': Timedelta('-1 days +10:00:00'), 'KROG us': Timedelta('0 days 10:17:08.571428571'), 'KROGE ': Timedelta('1 days 10:00:00'), 'KROGE associates': Timedelta('3 days 17:36:00'), 'KROGE co': Timedelta('0 days 20:18:27.692307692'), 'KROGE corp': Timedelta('0 days 12:00:00'), 'KROGE corporation': Timedelta('5 days 10:06:18.947368421'), 'KROGE foundation': Timedelta('0 days 13:05:27.272727272'), 'KROGE in': Timedelta('4 days 07:30:00'), 'KROGE llc': Timedelta('0 days 22:00:00'), 'KROGE systems': Timedelta('3 days 00:00:00'), 'KROGE trust': Timedelta('0 days 14:40:00'), 'KROGE us': Timedelta('0 days 13:20:00'), 'KROGER ': Timedelta('1 days 00:27:41.538461538'), 'KROGER associates': Timedelta('0 days 23:19:26.197183098'), 'KROGER co': Timedelta('0 days 13:10:35.294117647'), 'KROGER corp': Timedelta('1 days 22:38:52.394366197'), 'KROGER corporation': Timedelta('0 days 18:10:17.142857142'), 'KROGER foundation': Timedelta('2 days 02:35:04.615384615'), 'KROGER in': Timedelta('0 days 13:57:49.090909090'), 'KROGER llc': Timedelta('0 days 08:17:27.272727272'), 'KROGER systems': Timedelta('0 days 22:21:22.191780821'), 'KROGER trust': Timedelta('0 days 09:13:50.769230769'), 'KROGER us': Timedelta('0 days 16:00:00'), 'KRON trust': Timedelta('1 days 16:00:00'), 'KTA  llc': Timedelta('-12 days +00:00:00'), 'KUNA  co': Timedelta('2 days 00:00:00'), 'KUWAIT  corporation': Timedelta('10 days 00:00:00'), 'KWI associates': Timedelta('0 days 00:00:00'), 'KWI co': Timedelta('-2 days +00:00:00'), 'KWI corp': Timedelta('1 days 00:00:00'), 'KWI foundation': Timedelta('-2 days +00:00:00'), 'KWI llc': Timedelta('3 days 00:00:00'), 'KWI systems': Timedelta('-2 days +00:00:00'), 'KWI trust': Timedelta('0 days 00:00:00'), 'L&E IN ': Timedelta('-2 days +00:00:00'), 'L&E IN corp': Timedelta('-2 days +00:00:00'), 'L&E IN systems': Timedelta('-3 days +00:00:00'), 'LA SP in': Timedelta('-12 days +00:00:00'), 'LABAT associates': Timedelta('-1 days +12:00:00'), 'LABAT co': Timedelta('-2 days +00:00:00'), 'LABAT corporation': Timedelta('-2 days +00:00:00'), 'LABAT foundation': Timedelta('-1 days +00:00:00'), 'LABAT in': Timedelta('-4 days +00:00:00'), 'LABAT llc': Timedelta('-1 days +00:00:00'), 'LABAT systems': Timedelta('5 days 18:00:00'), 'LABAT trust': Timedelta('-1 days +00:00:00'), 'LABAT us': Timedelta('-1 days +00:00:00'), 'LAKE ': Timedelta('1 days 08:00:00'), 'LAKE associates': Timedelta('-1 days +00:00:00'), 'LAKE co': Timedelta('11 days 00:00:00'), 'LAKE corp': Timedelta('-2 days +00:00:00'), 'LAKE corporation': Timedelta('-10 days +08:00:00'), 'LAKE foundation': Timedelta('-1 days +00:00:00'), 'LAKE in': Timedelta('-22 days +16:00:00'), 'LAKE llc': Timedelta('7 days 00:00:00'), 'LAKE trust': Timedelta('-56 days +00:00:00'), 'LAKE us': Timedelta('6 days 00:00:00'), 'LAMM  corporation': Timedelta('-1 days +00:00:00'), 'LAND ': Timedelta('-23 days +00:00:00'), 'LAND associates': Timedelta('-22 days +00:00:00'), 'LAND co': Timedelta('-15 days +04:48:00'), 'LAND corp': Timedelta('-23 days +00:00:00'), 'LAND foundation': Timedelta('-23 days +00:00:00'), 'LAND llc': Timedelta('-24 days +12:00:00'), 'LAND systems': Timedelta('-24 days +00:00:00'), 'LAND trust': Timedelta('-22 days +00:00:00'), 'LATIN co': Timedelta('1 days 00:00:00'), 'LATIN corporation': Timedelta('2 days 00:00:00'), 'LAUREL ': Timedelta('-1 days +20:34:17.142857143'), 'LAUREL associates': Timedelta('0 days 00:00:00'), 'LAUREL co': Timedelta('0 days 00:00:00'), 'LAUREL corporation': Timedelta('0 days 00:00:00'), 'LAUREL foundation': Timedelta('0 days 00:00:00'), 'LAUREL llc': Timedelta('0 days 00:00:00'), 'LAUREL systems': Timedelta('8 days 00:00:00'), 'LAWL ': Timedelta('-13 days +00:00:00'), 'LAWL associates': Timedelta('0 days 12:00:00'), 'LAWL co': Timedelta('0 days 18:00:00'), 'LAWL corp': Timedelta('4 days 12:00:00'), 'LAWL corporation': Timedelta('-9 days +16:00:00'), 'LAWL foundation': Timedelta('-6 days +00:00:00'), 'LAWL in': Timedelta('-4 days +16:00:00'), 'LAWL llc': Timedelta('-7 days +18:00:00'), 'LAWL trust': Timedelta('2 days 00:00:00'), 'LAWR corporation': Timedelta('-2 days +00:00:00'), 'LAWR foundation': Timedelta('-6 days +00:00:00'), 'LDC llc': Timedelta('-3 days +00:00:00'), 'LDC us': Timedelta('-6 days +00:00:00'), 'LEE & co': Timedelta('7 days 00:00:00'), 'LEHI VAL in': Timedelta('3 days 00:00:00'), 'LES AL corp': Timedelta('4 days 00:00:00'), 'LES ALIM in': Timedelta('5 days 00:00:00'), 'LES ALIM us': Timedelta('2 days 00:00:00'), 'LES DIST foundation': Timedelta('12 days 00:00:00'), 'LES ENTRE ': Timedelta('5 days 00:00:00'), 'LES ENTRE associates': Timedelta('0 days 00:00:00'), 'LES ENTRE co': Timedelta('0 days 12:00:00'), 'LES ENTRE corp': Timedelta('-3 days +00:00:00'), 'LES ENTRE corporation': Timedelta('-2 days +12:00:00'), 'LES ENTRE foundation': Timedelta('-4 days +12:00:00'), 'LES ENTRE in': Timedelta('-6 days +00:00:00'), 'LES ENTRE trust': Timedelta('11 days 00:00:00'), 'LES ENTRE us': Timedelta('2 days 00:00:00'), 'LIBERT corp': Timedelta('20 days 00:00:00'), 'LIBERT llc': Timedelta('14 days 00:00:00'), 'LIDL ': Timedelta('0 days 00:00:00'), 'LIDL associates': Timedelta('0 days 00:00:00'), 'LIDL co': Timedelta('1 days 00:00:00'), 'LIDL corp': Timedelta('0 days 00:00:00'), 'LIDL foundation': Timedelta('0 days 00:00:00'), 'LIDL in': Timedelta('2 days 00:00:00'), 'LIDL llc': Timedelta('0 days 00:00:00'), 'LIDL systems': Timedelta('0 days 00:00:00'), 'LIDL trust': Timedelta('0 days 00:00:00'), 'LIPA co': Timedelta('0 days 00:00:00'), 'LIPA corp': Timedelta('8 days 12:00:00'), 'LIT co': Timedelta('0 days 00:00:00'), 'LIT systems': Timedelta('1 days 00:00:00'), 'LJ  llc': Timedelta('-2 days +00:00:00'), 'LOB ': Timedelta('1 days 08:52:10.434782608'), 'LOB associates': Timedelta('3 days 01:45:21.951219512'), 'LOB co': Timedelta('1 days 18:58:36.279069767'), 'LOB corp': Timedelta('1 days 01:17:50.270270270'), 'LOB corporation': Timedelta('1 days 02:24:00'), 'LOB foundation': Timedelta('0 days 16:23:24.878048780'), 'LOB in': Timedelta('0 days 13:12:00'), 'LOB llc': Timedelta('1 days 02:31:34.736842105'), 'LOB systems': Timedelta('2 days 08:15:00'), 'LOB trust': Timedelta('0 days 12:21:49.090909090'), 'LOB us': Timedelta('1 days 05:50:16.216216216'), 'LONE  trust': Timedelta('8 days 00:00:00'), 'LONG  in': Timedelta('-13 days +00:00:00'), 'LONGO  ': Timedelta('6 days 00:00:00'), 'LONGO  corp': Timedelta('3 days 00:00:00'), 'LONGO  corporation': Timedelta('2 days 00:00:00'), 'LONGO  in': Timedelta('3 days 00:00:00'), 'LONGO  llc': Timedelta('3 days 00:00:00'), 'LONGO  trust': Timedelta('1 days 00:00:00'), 'LONGO  us': Timedelta('2 days 08:00:00'), 'LOUD associates': Timedelta('121 days 00:00:00'), 'LUCA associates': Timedelta('8 days 12:00:00'), 'LUCA corporation': Timedelta('18 days 00:00:00'), 'LUCA foundation': Timedelta('8 days 00:00:00'), 'LUCA in': Timedelta('7 days 00:00:00'), 'M ': Timedelta('2 days 00:00:00'), 'M  ': Timedelta('5 days 04:00:00'), 'M  associates': Timedelta('5 days 18:00:00'), 'M  co': Timedelta('1 days 00:00:00'), 'M  corp': Timedelta('4 days 09:36:00'), 'M  corporation': Timedelta('1 days 00:00:00'), 'M  in': Timedelta('4 days 16:00:00'), 'M  systems': Timedelta('2 days 00:00:00'), 'M  trust': Timedelta('1 days 00:00:00'), 'M  us': Timedelta('5 days 08:00:00'), 'M &  foundation': Timedelta('4 days 00:00:00'), 'M &  llc': Timedelta('-6 days +00:00:00'), 'M B  ': Timedelta('2 days 17:08:34.285714285'), 'M B  associates': Timedelta('2 days 17:27:16.363636363'), 'M B  co': Timedelta('1 days 21:00:00'), 'M B  corp': Timedelta('2 days 02:40:00'), 'M B  corporation': Timedelta('1 days 16:00:00'), 'M B  foundation': Timedelta('2 days 14:24:00'), 'M B  in': Timedelta('1 days 10:00:00'), 'M B  llc': Timedelta('1 days 21:00:00'), 'M B  systems': Timedelta('2 days 00:00:00'), 'M B  trust': Timedelta('1 days 21:20:00'), 'M B  us': Timedelta('5 days 00:00:00'), 'M C  co': Timedelta('-3 days +00:00:00'), 'M C  foundation': Timedelta('26 days 00:00:00'), 'M K  corp': Timedelta('-8 days +00:00:00'), 'M K  llc': Timedelta('-3 days +00:00:00'), 'M associates': Timedelta('3 days 00:00:00'), 'M co': Timedelta('0 days 13:05:27.272727272'), 'M corp': Timedelta('-10 days +00:00:00'), 'M corporation': Timedelta('-10 days +19:12:00'), 'M foundation': Timedelta('1 days 14:24:00'), 'M in': Timedelta('0 days 09:36:00'), 'M llc': Timedelta('1 days 18:40:00'), 'M systems': Timedelta('0 days 20:34:17.142857142'), 'M trust': Timedelta('10 days 21:20:00'), 'M us': Timedelta('-2 days +09:36:00'), 'MAIN S corp': Timedelta('3 days 00:00:00'), 'MAINES ': Timedelta('0 days 00:00:00'), 'MAINES  ': Timedelta('0 days 00:00:00'), 'MAINES  co': Timedelta('0 days 00:00:00'), 'MAINES  llc': Timedelta('1 days 00:00:00'), 'MAINES  systems': Timedelta('2 days 00:00:00'), 'MAINES  us': Timedelta('0 days 00:00:00'), 'MAINES associates': Timedelta('1 days 00:00:00'), 'MAINES co': Timedelta('0 days 16:00:00'), 'MAINES corp': Timedelta('2 days 06:00:00'), 'MAINES corporation': Timedelta('0 days 16:00:00'), 'MAINES foundation': Timedelta('0 days 09:36:00'), 'MAINES in': Timedelta('2 days 14:24:00'), 'MAINES llc': Timedelta('1 days 13:20:00'), 'MAINES systems': Timedelta('2 days 04:48:00'), 'MAINES trust': Timedelta('2 days 00:00:00'), 'MAINES us': Timedelta('0 days 19:12:00'), 'MAITR systems': Timedelta('3 days 00:00:00'), 'MAKOT in': Timedelta('1 days 00:00:00'), 'MAM ': Timedelta('-7 days +00:00:00'), 'MAM co': Timedelta('-3 days +00:00:00'), 'MAM in': Timedelta('-11 days +00:00:00'), 'MAM trust': Timedelta('-5 days +00:00:00'), 'MANNI us': Timedelta('18 days 00:00:00'), 'MANU corp': Timedelta('4 days 00:00:00'), 'MANU systems': Timedelta('4 days 00:00:00'), 'MANU us': Timedelta('2 days 00:00:00'), 'MARAM ': Timedelta('-6 days +00:00:00'), 'MARC ': Timedelta('0 days 00:00:00'), 'MARC corporation': Timedelta('0 days 00:00:00'), 'MARC llc': Timedelta('0 days 00:00:00'), 'MARC systems': Timedelta('0 days 00:00:00'), 'MARC us': Timedelta('1 days 00:00:00'), 'MARCOS  ': Timedelta('-3 days +00:00:00'), 'MART co': Timedelta('-3 days +00:00:00'), 'MARTI ': Timedelta('-4 days +16:00:00'), 'MARTI associates': Timedelta('-4 days +00:00:00'), 'MARTI co': Timedelta('-25 days +00:00:00'), 'MARTI corp': Timedelta('-1 days +00:00:00'), 'MARTI corporation': Timedelta('0 days 12:00:00'), 'MARTI foundation': Timedelta('0 days 00:00:00'), 'MARTI llc': Timedelta('-3 days +00:00:00'), 'MARTI systems': Timedelta('-3 days +00:00:00'), 'MARTI trust': Timedelta('-7 days +00:00:00'), 'MARTI us': Timedelta('-2 days +12:00:00'), 'MARTIN ': Timedelta('5 days 00:00:00'), 'MARTIN  ': Timedelta('-1 days +00:00:00'), 'MARTIN  associates': Timedelta('2 days 00:00:00'), 'MARTIN  corp': Timedelta('3 days 00:00:00'), 'MARTIN  corporation': Timedelta('6 days 00:00:00'), 'MARTIN  foundation': Timedelta('5 days 00:00:00'), 'MARTIN  llc': Timedelta('0 days 00:00:00'), 'MARTIN  systems': Timedelta('4 days 00:00:00'), 'MARTIN  trust': Timedelta('2 days 00:00:00'), 'MARTIN  us': Timedelta('3 days 16:00:00'), 'MARTIN associates': Timedelta('2 days 00:00:00'), 'MARTIN co': Timedelta('4 days 21:00:00'), 'MARTIN corp': Timedelta('4 days 10:17:08.571428571'), 'MARTIN corporation': Timedelta('3 days 09:36:00'), 'MARTIN foundation': Timedelta('4 days 18:00:00'), 'MARTIN in': Timedelta('3 days 00:00:00'), 'MARTIN llc': Timedelta('3 days 09:36:00'), 'MARTIN systems': Timedelta('1 days 06:00:00'), 'MARTIN trust': Timedelta('3 days 00:00:00'), 'MARTIN us': Timedelta('3 days 12:00:00'), 'MASON ': Timedelta('1 days 00:00:00'), 'MASON foundation': Timedelta('-1 days +12:00:00'), 'MASON systems': Timedelta('0 days 00:00:00'), 'MASON us': Timedelta('0 days 00:00:00'), 'MASSIMO  associates': Timedelta('1 days 00:00:00'), 'MASSIMO  co': Timedelta('35 days 00:00:00'), 'MASSIMO  llc': Timedelta('-9 days +00:00:00'), 'MASSY D associates': Timedelta('3 days 00:00:00'), 'MASSY D co': Timedelta('0 days 00:00:00'), 'MASSY D corp': Timedelta('0 days 00:00:00'), 'MASSY D corporation': Timedelta('3 days 00:00:00'), 'MASSY D foundation': Timedelta('3 days 12:00:00'), 'MASSY D in': Timedelta('3 days 16:00:00'), 'MASSY D systems': Timedelta('12 days 12:00:00'), 'MASSY D trust': Timedelta('1 days 00:00:00'), 'MASSY D us': Timedelta('2 days 00:00:00'), 'MASTER ': Timedelta('1 days 00:00:00'), 'MASTER associates': Timedelta('-1 days +00:00:00'), 'MASTER co': Timedelta('2 days 12:00:00'), 'MASTER corp': Timedelta('-8 days +12:00:00'), 'MASTER corporation': Timedelta('-6 days +12:00:00'), 'MASTER foundation': Timedelta('-5 days +00:00:00'), 'MASTER in': Timedelta('3 days 08:00:00'), 'MASTER llc': Timedelta('4 days 00:00:00'), 'MASTER systems': Timedelta('1 days 16:00:00'), 'MASTER trust': Timedelta('7 days 00:00:00'), 'MASTER us': Timedelta('2 days 10:40:00'), 'MAX ': Timedelta('-11 days +00:00:00'), 'MAX foundation': Timedelta('-4 days +00:00:00'), 'MAXIMU corporation': Timedelta('-4 days +00:00:00'), 'MAXIMU foundation': Timedelta('-15 days +00:00:00'), 'MAXIMU in': Timedelta('-1 days +00:00:00'), 'MAXIMU llc': Timedelta('-5 days +00:00:00'), 'MAXIMU us': Timedelta('1 days 00:00:00'), 'MAYFIE corporation': Timedelta('33 days 00:00:00'), 'MAYR associates': Timedelta('15 days 00:00:00'), 'MAYR co': Timedelta('6 days 00:00:00'), 'MAYR in': Timedelta('4 days 00:00:00'), 'MAYR systems': Timedelta('-2 days +00:00:00'), 'MAYR us': Timedelta('2 days 00:00:00'), 'MBM  ': Timedelta('3 days 00:00:00'), 'MBM  associates': Timedelta('1 days 04:48:00'), 'MBM  co': Timedelta('2 days 00:00:00'), 'MBM  corp': Timedelta('2 days 00:00:00'), 'MBM  corporation': Timedelta('3 days 00:00:00'), 'MBM  foundation': Timedelta('1 days 18:00:00'), 'MBM  in': Timedelta('2 days 08:00:00'), 'MBM  llc': Timedelta('1 days 00:00:00'), 'MBM  systems': Timedelta('2 days 16:00:00'), 'MBM  trust': Timedelta('1 days 18:00:00'), 'MBM  us': Timedelta('6 days 08:00:00'), 'MBM/PF corp': Timedelta('2 days 00:00:00'), 'MBM/PF corporation': Timedelta('2 days 00:00:00'), 'MBM/PF foundation': Timedelta('2 days 00:00:00'), 'MBM/PF in': Timedelta('3 days 00:00:00'), 'MBM/PF us': Timedelta('3 days 00:00:00'), 'MC A ': Timedelta('-1 days +16:00:00'), 'MC A associates': Timedelta('-1 days +12:00:00'), 'MC A co': Timedelta('0 days 12:00:00'), 'MC A corp': Timedelta('-1 days +00:00:00'), 'MC A in': Timedelta('0 days 00:00:00'), 'MC A llc': Timedelta('-2 days +00:00:00'), 'MC A systems': Timedelta('-74 days +00:00:00'), 'MC A trust': Timedelta('-1 days +00:00:00'), 'MCCA corp': Timedelta('0 days 00:00:00'), 'MCCA llc': Timedelta('2 days 00:00:00'), 'MCL ': Timedelta('2 days 22:57:23.478260869'), 'MCL associates': Timedelta('2 days 00:00:00'), 'MCL co': Timedelta('1 days 03:18:37.241379310'), 'MCL corp': Timedelta('-2 days +19:42:51.428571429'), 'MCL corporation': Timedelta('1 days 04:48:00'), 'MCL foundation': Timedelta('2 days 11:39:25.714285714'), 'MCL in': Timedelta('6 days 03:52:15.483870966'), 'MCL llc': Timedelta('2 days 12:23:13.548387096'), 'MCL systems': Timedelta('1 days 09:20:00'), 'MCL trust': Timedelta('2 days 20:00:00'), 'MCL us': Timedelta('1 days 15:45:00'), 'MCLA corporation': Timedelta('0 days 00:00:00'), 'MCLA llc': Timedelta('-1 days +00:00:00'), 'MCLANE ': Timedelta('1 days 21:00:00'), 'MCLANE associates': Timedelta('0 days 00:00:00'), 'MCLANE co': Timedelta('-1 days +12:00:00'), 'MCLANE corp': Timedelta('2 days 13:42:51.428571428'), 'MCLANE corporation': Timedelta('0 days 03:00:00'), 'MCLANE foundation': Timedelta('-1 days +14:00:00'), 'MCLANE in': Timedelta('8 days 06:32:43.636363636'), 'MCLANE llc': Timedelta('0 days 14:24:00'), 'MCLANE systems': Timedelta('15 days 12:00:00'), 'MCLANE trust': Timedelta('3 days 21:00:00'), 'MCLANE us': Timedelta('2 days 00:00:00'), 'MDV/ ': Timedelta('0 days 14:46:09.230769230'), 'MDV/ associates': Timedelta('0 days 08:00:00'), 'MDV/ co': Timedelta('4 days 12:00:00'), 'MDV/ corp': Timedelta('0 days 12:00:00'), 'MDV/ corporation': Timedelta('0 days 10:06:18.947368421'), 'MDV/ foundation': Timedelta('1 days 18:00:00'), 'MDV/ in': Timedelta('0 days 01:30:00'), 'MDV/ llc': Timedelta('-1 days +22:30:00'), 'MDV/ systems': Timedelta('-1 days +22:00:00'), 'MDV/ trust': Timedelta('8 days 02:10:54.545454545'), 'MDV/ us': Timedelta('8 days 20:18:27.692307692'), 'ME T us': Timedelta('2 days 00:00:00'), 'MEIJ ': Timedelta('1 days 17:49:42.857142857'), 'MEIJ associates': Timedelta('1 days 04:48:00'), 'MEIJ co': Timedelta('2 days 01:22:17.142857142'), 'MEIJ corp': Timedelta('1 days 12:31:18.260869565'), 'MEIJ corporation': Timedelta('1 days 08:20:52.173913043'), 'MEIJ foundation': Timedelta('2 days 03:12:00'), 'MEIJ in': Timedelta('1 days 06:46:57.391304347'), 'MEIJ llc': Timedelta('1 days 02:35:40.540540540'), 'MEIJ systems': Timedelta('1 days 11:08:34.285714285'), 'MEIJ trust': Timedelta('1 days 12:00:00'), 'MEIJ us': Timedelta('1 days 07:32:34.285714285'), 'MEILLE ': Timedelta('2 days 00:00:00'), 'MEILLE co': Timedelta('0 days 00:00:00'), 'MEILLE llc': Timedelta('1 days 00:00:00'), 'MEILLE us': Timedelta('2 days 00:00:00'), 'MELLO systems': Timedelta('-2 days +00:00:00'), 'MENAS co': Timedelta('-3 days +00:00:00'), 'MENAS in': Timedelta('11 days 00:00:00'), 'MERCH ': Timedelta('-6 days +00:00:00'), 'MERCH corporation': Timedelta('-2 days +00:00:00'), 'MERCH foundation': Timedelta('-2 days +08:00:00'), 'MERCH in': Timedelta('-6 days +00:00:00'), 'MERCH trust': Timedelta('-1 days +00:00:00'), 'MERCH us': Timedelta('-3 days +00:00:00'), 'MERCHAN ': Timedelta('-2 days +00:00:00'), 'MERCHAN corp': Timedelta('-2 days +00:00:00'), 'MERI corporation': Timedelta('5 days 00:00:00'), 'MET in': Timedelta('0 days 00:00:00'), 'MET llc': Timedelta('-1 days +00:00:00'), 'MET trust': Timedelta('-1 days +00:00:00'), 'MET us': Timedelta('-2 days +00:00:00'), 'METRO  ': Timedelta('4 days 09:36:00'), 'METRO  associates': Timedelta('-2 days +21:10:35.294117648'), 'METRO  co': Timedelta('-1 days +15:00:00'), 'METRO  corp': Timedelta('5 days 03:41:32.307692307'), 'METRO  corporation': Timedelta('-1 days +18:51:25.714285715'), 'METRO  foundation': Timedelta('-2 days +18:27:41.538461539'), 'METRO  in': Timedelta('-1 days +16:48:00'), 'METRO  llc': Timedelta('-1 days +22:40:00'), 'METRO  systems': Timedelta('0 days 00:00:00'), 'METRO  trust': Timedelta('0 days 09:36:00'), 'METRO  us': Timedelta('-1 days +08:34:17.142857143'), 'MICH ': Timedelta('-1 days +06:00:00'), 'MICH associates': Timedelta('-2 days +00:00:00'), 'MICH corp': Timedelta('4 days 00:00:00'), 'MICH corporation': Timedelta('15 days 00:00:00'), 'MICH foundation': Timedelta('-3 days +00:00:00'), 'MICH in': Timedelta('-2 days +00:00:00'), 'MICH trust': Timedelta('-3 days +00:00:00'), 'MICHIGA trust': Timedelta('-9 days +00:00:00'), 'MICR trust': Timedelta('0 days 00:00:00'), 'MICRON associates': Timedelta('-7 days +00:00:00'), 'MID MO ': Timedelta('0 days 00:00:00'), 'MID MO associates': Timedelta('10 days 00:00:00'), 'MID MO co': Timedelta('0 days 00:00:00'), 'MID MO corp': Timedelta('0 days 04:48:00'), 'MID MO foundation': Timedelta('-7 days +00:00:00'), 'MID MO in': Timedelta('0 days 12:00:00'), 'MID MO llc': Timedelta('0 days 00:00:00'), 'MID MO systems': Timedelta('0 days 00:00:00'), 'MID MO trust': Timedelta('0 days 12:00:00'), 'MID MO us': Timedelta('0 days 09:36:00'), 'MID S in': Timedelta('-5 days +00:00:00'), 'MID S systems': Timedelta('-5 days +00:00:00'), 'MID S trust': Timedelta('-3 days +00:00:00'), 'MILK S associates': Timedelta('15 days 00:00:00'), 'MILK S foundation': Timedelta('1 days 00:00:00'), 'MILLENNIU llc': Timedelta('8 days 00:00:00'), 'MINA ': Timedelta('0 days 00:00:00'), 'MINERS  corporation': Timedelta('-53 days +00:00:00'), 'MINNESO ': Timedelta('20 days 00:00:00'), 'MITC associates': Timedelta('14 days 00:00:00'), 'MITC foundation': Timedelta('6 days 00:00:00'), 'MITC trust': Timedelta('11 days 00:00:00'), 'MITCH ': Timedelta('-1 days +18:00:00'), 'MITCH associates': Timedelta('0 days 08:00:00'), 'MITCH co': Timedelta('0 days 00:00:00'), 'MITCH corp': Timedelta('-12 days +04:48:00'), 'MITCH corporation': Timedelta('-1 days +14:24:00'), 'MITCH foundation': Timedelta('-2 days +06:00:00'), 'MITCH in': Timedelta('-1 days +00:00:00'), 'MITCH llc': Timedelta('-1 days +16:00:00'), 'MITCH systems': Timedelta('-15 days +12:00:00'), 'MITCH trust': Timedelta('0 days 00:00:00'), 'MITCH us': Timedelta('-19 days +00:00:00'), 'MIV corp': Timedelta('-13 days +00:00:00'), 'MIV in': Timedelta('27 days 00:00:00'), 'MIV llc': Timedelta('-13 days +00:00:00'), 'MIV us': Timedelta('120 days 00:00:00'), 'MON associates': Timedelta('5 days 00:00:00'), 'MON llc': Timedelta('15 days 00:00:00'), 'MONDE ': Timedelta('-3 days +00:00:00'), 'MONDE associates': Timedelta('3 days 12:00:00'), 'MONDE co': Timedelta('8 days 06:00:00'), 'MONDE corp': Timedelta('-3 days +00:00:00'), 'MONDE corporation': Timedelta('3 days 16:00:00'), 'MONDE foundation': Timedelta('4 days 08:00:00'), 'MONDE in': Timedelta('21 days 03:00:00'), 'MONDE llc': Timedelta('12 days 12:00:00'), 'MONDE systems': Timedelta('3 days 12:00:00'), 'MONDE trust': Timedelta('4 days 00:00:00'), 'MONDE us': Timedelta('5 days 00:00:00'), 'MONOGR ': Timedelta('1 days 00:00:00'), 'MONOGR associates': Timedelta('8 days 00:00:00'), 'MONOGR co': Timedelta('-1 days +00:00:00'), 'MONOGR corp': Timedelta('-15 days +12:00:00'), 'MONOGR corporation': Timedelta('1 days 00:00:00'), 'MONOGR foundation': Timedelta('14 days 00:00:00'), 'MONOGR in': Timedelta('0 days 00:00:00'), 'MONOGR systems': Timedelta('4 days 00:00:00'), 'MONOGR trust': Timedelta('1 days 00:00:00'), 'MONOGR us': Timedelta('11 days 00:00:00'), 'MORTON ': Timedelta('5 days 00:00:00'), 'MORTON co': Timedelta('1 days 00:00:00'), 'MORTON corporation': Timedelta('9 days 00:00:00'), 'MORTON in': Timedelta('-3 days +00:00:00'), 'MORTON trust': Timedelta('0 days 12:00:00'), 'MOUNTA systems': Timedelta('-8 days +00:00:00'), 'MR. DAIRY corp': Timedelta('3 days 00:00:00'), 'MR. DAIRY corporation': Timedelta('3 days 00:00:00'), 'MRS GE in': Timedelta('-2 days +00:00:00'), 'MRS GR co': Timedelta('-4 days +00:00:00'), 'MRS GR in': Timedelta('-3 days +00:00:00'), 'MRS GR systems': Timedelta('-5 days +00:00:00'), 'MRS GR trust': Timedelta('-3 days +12:00:00'), 'MRS S associates': Timedelta('-1 days +00:00:00'), 'MRS S corp': Timedelta('-1 days +00:00:00'), 'MTC  trust': Timedelta('0 days 00:00:00'), 'MTY TIKI ': Timedelta('-1 days +00:00:00'), 'MTY TIKI foundation': Timedelta('-7 days +00:00:00'), 'MTY TIKI us': Timedelta('-3 days +00:00:00'), 'MULT ': Timedelta('2 days 00:00:00'), 'MULT corporation': Timedelta('2 days 00:00:00'), 'MULT llc': Timedelta('7 days 00:00:00'), 'MULT trust': Timedelta('2 days 00:00:00'), 'MULT us': Timedelta('-1 days +00:00:00'), 'MY MOT ': Timedelta('1 days 00:00:00'), 'MY MOT corporation': Timedelta('6 days 00:00:00'), 'MY MOT trust': Timedelta('0 days 00:00:00'), 'NAPPIE associates': Timedelta('-1 days +00:00:00'), 'NAPPIE llc': Timedelta('-9 days +00:00:00'), 'NASH  ': Timedelta('-6 days +06:32:43.636363637'), 'NASH  associates': Timedelta('-6 days +15:16:21.818181819'), 'NASH  co': Timedelta('-4 days +10:40:00'), 'NASH  corp': Timedelta('-11 days +12:00:00'), 'NASH  corporation': Timedelta('-4 days +16:25:15.789473685'), 'NASH  foundation': Timedelta('0 days 13:20:00'), 'NASH  in': Timedelta('-8 days +06:00:00'), 'NASH  llc': Timedelta('-1 days +03:41:32.307692308'), 'NASH  systems': Timedelta('-2 days +13:42:51.428571429'), 'NASH  trust': Timedelta('-2 days +20:34:17.142857143'), 'NASH  us': Timedelta('-2 days +19:12:00'), 'NAT ': Timedelta('3 days 00:00:00'), 'NAT co': Timedelta('16 days 00:00:00'), 'NAT corp': Timedelta('2 days 00:00:00'), 'NAT foundation': Timedelta('0 days 12:00:00'), 'NAT llc': Timedelta('17 days 12:00:00'), 'NAT us': Timedelta('-2 days +00:00:00'), 'NATC ': Timedelta('0 days 00:00:00'), 'NATU in': Timedelta('1 days 00:00:00'), 'NATURA ': Timedelta('-6 days +12:00:00'), 'NATURA associates': Timedelta('-5 days +16:00:00'), 'NATURA co': Timedelta('-5 days +16:00:00'), 'NATURA corp': Timedelta('-4 days +20:00:00'), 'NATURA corporation': Timedelta('-9 days +00:00:00'), 'NATURA foundation': Timedelta('-6 days +00:00:00'), 'NATURA in': Timedelta('-6 days +17:08:34.285714286'), 'NATURA llc': Timedelta('11 days 00:00:00'), 'NATURA systems': Timedelta('-10 days +12:00:00'), 'NATURA trust': Timedelta('-9 days +00:00:00'), 'NATURA us': Timedelta('-8 days +12:00:00'), 'NE ': Timedelta('0 days 00:00:00'), 'NE co': Timedelta('19 days 00:00:00'), 'NE corp': Timedelta('3 days 00:00:00'), 'NE corporation': Timedelta('2 days 00:00:00'), 'NE systems': Timedelta('0 days 00:00:00'), 'NE trust': Timedelta('2 days 00:00:00'), 'NE us': Timedelta('0 days 00:00:00'), 'NE-M corp': Timedelta('2 days 00:00:00'), 'NEB corporation': Timedelta('3 days 00:00:00'), 'NEB foundation': Timedelta('6 days 00:00:00'), 'NES foundation': Timedelta('8 days 00:00:00'), 'NES systems': Timedelta('-1 days +00:00:00'), 'NEWE in': Timedelta('2 days 00:00:00'), 'NEWE trust': Timedelta('1 days 00:00:00'), 'NEX associates': Timedelta('0 days 00:00:00'), 'NEX co': Timedelta('-1 days +00:00:00'), 'NEX corp': Timedelta('0 days 00:00:00'), 'NEX corporation': Timedelta('1 days 00:00:00'), 'NEX foundation': Timedelta('18 days 00:00:00'), 'NEX in': Timedelta('-2 days +00:00:00'), 'NEX llc': Timedelta('0 days 18:00:00'), 'NEX trust': Timedelta('2 days 00:00:00'), 'NEX us': Timedelta('8 days 12:00:00'), 'NICH corp': Timedelta('6 days 00:00:00'), 'NICH corporation': Timedelta('-2 days +00:00:00'), 'NICH in': Timedelta('-2 days +00:00:00'), 'NICH llc': Timedelta('-5 days +08:00:00'), 'NICH trust': Timedelta('-1 days +12:00:00'), 'NICHOL ': Timedelta('0 days 16:00:00'), 'NICHOL us': Timedelta('-7 days +00:00:00'), 'NORTH corporation': Timedelta('-3 days +00:00:00'), 'NORTH llc': Timedelta('-2 days +00:00:00'), 'NORTHE trust': Timedelta('5 days 00:00:00'), 'NORTHERN ': Timedelta('-1 days +00:00:00'), 'NORTHERN llc': Timedelta('0 days 00:00:00'), 'NU ': Timedelta('6 days 00:00:00'), 'NU co': Timedelta('4 days 08:00:00'), 'NU corp': Timedelta('5 days 08:00:00'), 'NU corporation': Timedelta('0 days 00:00:00'), 'NU foundation': Timedelta('6 days 00:00:00'), 'NU in': Timedelta('3 days 00:00:00'), 'NU trust': Timedelta('4 days 00:00:00'), 'NU us': Timedelta('4 days 00:00:00'), 'NUGG foundation': Timedelta('-4 days +00:00:00'), 'NUT ': Timedelta('9 days 00:00:00'), 'O ': Timedelta('-1 days +00:00:00'), 'O H  associates': Timedelta('-4 days +00:00:00'), 'O corp': Timedelta('0 days 00:00:00'), 'O systems': Timedelta('5 days 00:00:00'), 'O us': Timedelta('3 days 12:00:00'), 'OCEA co': Timedelta('5 days 00:00:00'), 'OCEAN FA corp': Timedelta('-2 days +00:00:00'), 'OCEAN FA in': Timedelta('-8 days +00:00:00'), 'OK ': Timedelta('0 days 20:34:17.142857142'), 'OK associates': Timedelta('1 days 08:50:31.578947368'), 'OK co': Timedelta('0 days 22:00:00'), 'OK corp': Timedelta('0 days 12:37:53.684210526'), 'OK corporation': Timedelta('6 days 06:15:39.130434782'), 'OK foundation': Timedelta('1 days 06:24:00'), 'OK in': Timedelta('1 days 12:00:00'), 'OK llc': Timedelta('1 days 00:00:00'), 'OK systems': Timedelta('1 days 06:00:00'), 'OK trust': Timedelta('0 days 09:49:05.454545454'), 'OK us': Timedelta('1 days 01:20:00'), 'OLAM systems': Timedelta('18 days 00:00:00'), 'OLEAN llc': Timedelta('2 days 12:00:00'), 'OLEAN trust': Timedelta('-4 days +00:00:00'), 'OLLIE co': Timedelta('0 days 00:00:00'), 'OLLIE corp': Timedelta('2 days 00:00:00'), 'OLLIE corporation': Timedelta('1 days 00:00:00'), 'OLLIE foundation': Timedelta('-5 days +00:00:00'), 'OLLIE in': Timedelta('-2 days +00:00:00'), 'OLLIE llc': Timedelta('17 days 00:00:00'), 'OLLIE systems': Timedelta('5 days 00:00:00'), 'OLLIE trust': Timedelta('-4 days +00:00:00'), 'OMEGA AD ': Timedelta('4 days 00:00:00'), 'OMEGA AD corp': Timedelta('3 days 00:00:00'), 'OMEGA AD in': Timedelta('7 days 00:00:00'), 'OMEGA AD systems': Timedelta('2 days 00:00:00'), 'OMEGA AD us': Timedelta('3 days 00:00:00'), 'OREGO in': Timedelta('-6 days +00:00:00'), 'OREGON ': Timedelta('-2 days +00:00:00'), 'OREGON systems': Timedelta('11 days 00:00:00'), 'ORIO associates': Timedelta('-2 days +00:00:00'), 'OUT foundation': Timedelta('-24 days +00:00:00'), 'OVERH foundation': Timedelta('-47 days +00:00:00'), 'P co': Timedelta('-9 days +00:00:00'), 'PACK corp': Timedelta('21 days 00:00:00'), 'PANAMEX  co': Timedelta('8 days 12:00:00'), 'PANAMEX  corporation': Timedelta('11 days 00:00:00'), 'PANAMEX  in': Timedelta('-30 days +00:00:00'), 'PAPA ': Timedelta('-12 days +00:00:00'), 'PAPA  llc': Timedelta('5 days 00:00:00'), 'PAPA JO ': Timedelta('0 days 04:48:00'), 'PAPA JO associates': Timedelta('1 days 08:00:00'), 'PAPA JO co': Timedelta('1 days 12:00:00'), 'PAPA JO corp': Timedelta('1 days 08:00:00'), 'PAPA JO corporation': Timedelta('3 days 12:00:00'), 'PAPA JO foundation': Timedelta('-10 days +00:00:00'), 'PAPA JO in': Timedelta('0 days 00:00:00'), 'PAPA JO llc': Timedelta('-1 days +00:00:00'), 'PAPA JO systems': Timedelta('2 days 00:00:00'), 'PAPA JO trust': Timedelta('7 days 12:00:00'), 'PAPA JOH associates': Timedelta('0 days 00:00:00'), 'PAPA JOH co': Timedelta('4 days 00:00:00'), 'PAPA JOH llc': Timedelta('0 days 00:00:00'), 'PAPA JOH systems': Timedelta('7 days 00:00:00'), 'PAPA JOH us': Timedelta('-2 days +00:00:00'), 'PAPA associates': Timedelta('-7 days +00:00:00'), 'PAPA co': Timedelta('-6 days +12:00:00'), 'PAPA corporation': Timedelta('-8 days +00:00:00'), 'PARAM ': Timedelta('-2 days +08:00:00'), 'PARAM associates': Timedelta('-1 days +00:00:00'), 'PARAM co': Timedelta('-1 days +00:00:00'), 'PARAM corp': Timedelta('-3 days +00:00:00'), 'PARAM corporation': Timedelta('-1 days +00:00:00'), 'PARAM foundation': Timedelta('-4 days +00:00:00'), 'PARAM in': Timedelta('-3 days +12:00:00'), 'PARAM llc': Timedelta('-3 days +16:00:00'), 'PARAM systems': Timedelta('-4 days +06:00:00'), 'PARAM trust': Timedelta('-4 days +00:00:00'), 'PARK ': Timedelta('5 days 00:00:00'), 'PARK associates': Timedelta('2 days 00:00:00'), 'PARK co': Timedelta('3 days 00:00:00'), 'PARK corp': Timedelta('2 days 00:00:00'), 'PARK foundation': Timedelta('1 days 12:00:00'), 'PARK in': Timedelta('1 days 00:00:00'), 'PARK llc': Timedelta('-3 days +00:00:00'), 'PARK systems': Timedelta('2 days 12:00:00'), 'PARK trust': Timedelta('2 days 00:00:00'), 'PARK us': Timedelta('8 days 00:00:00'), 'PATIO  foundation': Timedelta('0 days 00:00:00'), 'PE co': Timedelta('-1 days +00:00:00'), 'PE corp': Timedelta('1 days 00:00:00'), 'PE llc': Timedelta('0 days 00:00:00'), 'PE systems': Timedelta('-1 days +00:00:00'), 'PE trust': Timedelta('-1 days +00:00:00'), 'PE us': Timedelta('5 days 00:00:00'), 'PEA ': Timedelta('5 days 04:48:00'), 'PEA associates': Timedelta('12 days 16:00:00'), 'PEA co': Timedelta('11 days 21:20:00'), 'PEA corp': Timedelta('4 days 20:34:17.142857142'), 'PEA corporation': Timedelta('6 days 01:50:46.153846153'), 'PEA foundation': Timedelta('13 days 14:24:00'), 'PEA in': Timedelta('6 days 08:00:00'), 'PEA llc': Timedelta('7 days 16:00:00'), 'PEA systems': Timedelta('11 days 08:34:17.142857142'), 'PEA trust': Timedelta('5 days 19:12:00'), 'PEA us': Timedelta('1 days 04:48:00'), 'PEAC associates': Timedelta('2 days 00:00:00'), 'PEAC corp': Timedelta('6 days 12:00:00'), 'PEAC corporation': Timedelta('2 days 00:00:00'), 'PEAC foundation': Timedelta('8 days 00:00:00'), 'PEAR ': Timedelta('0 days 00:00:00'), 'PENNSYLV ': Timedelta('-6 days +00:00:00'), 'PENNSYLV corporation': Timedelta('-3 days +00:00:00'), 'PEPP ': Timedelta('-1 days +00:00:00'), 'PEPPER ': Timedelta('0 days 00:00:00'), 'PEPS foundation': Timedelta('-49 days +00:00:00'), 'PEPS in': Timedelta('-26 days +12:00:00'), 'PEPS us': Timedelta('-45 days +00:00:00'), 'PERFOR ': Timedelta('1 days 08:00:00'), 'PERFOR associates': Timedelta('-1 days +11:22:06.315789474'), 'PERFOR co': Timedelta('1 days 23:13:32.903225806'), 'PERFOR corp': Timedelta('-1 days +16:56:28.235294118'), 'PERFOR corporation': Timedelta('1 days 09:52:56.470588235'), 'PERFOR foundation': Timedelta('1 days 03:00:00'), 'PERFOR in': Timedelta('-1 days +03:12:00'), 'PERFOR llc': Timedelta('-4 days +10:54:32.727272728'), 'PERFOR systems': Timedelta('-1 days +03:00:00'), 'PERFOR trust': Timedelta('-2 days +19:45:52.941176471'), 'PERFOR us': Timedelta('-1 days +00:00:00'), 'PERISH ': Timedelta('-1 days +00:00:00'), 'PERISH associates': Timedelta('1 days 06:00:00'), 'PERISH co': Timedelta('1 days 00:00:00'), 'PERISH corp': Timedelta('-1 days +00:00:00'), 'PERISH corporation': Timedelta('0 days 14:24:00'), 'PERISH foundation': Timedelta('3 days 12:00:00'), 'PERISH in': Timedelta('0 days 00:00:00'), 'PERISH llc': Timedelta('-1 days +02:24:00'), 'PERISH systems': Timedelta('-2 days +16:00:00'), 'PERISH trust': Timedelta('1 days 20:00:00'), 'PERISH us': Timedelta('-1 days +18:00:00'), 'PERKIN  llc': Timedelta('26 days 00:00:00'), 'PETE corp': Timedelta('-3 days +00:00:00'), 'PETE us': Timedelta('0 days 00:00:00'), 'PETER  co': Timedelta('-8 days +00:00:00'), 'PETER  in': Timedelta('-4 days +00:00:00'), 'PI associates': Timedelta('6 days 00:00:00'), 'PIGGLY ': Timedelta('-1 days +18:00:00'), 'PIGGLY associates': Timedelta('-1 days +06:00:00'), 'PIGGLY co': Timedelta('0 days 12:00:00'), 'PIGGLY corp': Timedelta('1 days 00:00:00'), 'PIGGLY corporation': Timedelta('-1 days +00:00:00'), 'PIGGLY foundation': Timedelta('-1 days +12:00:00'), 'PIGGLY in': Timedelta('-1 days +00:00:00'), 'PIGGLY llc': Timedelta('-1 days +00:00:00'), 'PIGGLY systems': Timedelta('0 days 04:48:00'), 'PIGGLY trust': Timedelta('-1 days +04:00:00'), 'PIGGLY us': Timedelta('-1 days +21:36:00'), 'PINNACL associates': Timedelta('0 days 00:00:00'), 'PIO associates': Timedelta('0 days 00:00:00'), 'PIO corp': Timedelta('1 days 00:00:00'), 'PIO in': Timedelta('3 days 00:00:00'), 'PIT ': Timedelta('0 days 00:00:00'), 'PIT associates': Timedelta('0 days 00:00:00'), 'PIT co': Timedelta('6 days 00:00:00'), 'PIT corporation': Timedelta('0 days 12:00:00'), 'PIT foundation': Timedelta('2 days 00:00:00'), 'PIT in': Timedelta('0 days 00:00:00'), 'PIT llc': Timedelta('-1 days +00:00:00'), 'PIT us': Timedelta('0 days 00:00:00'), 'PJ  ': Timedelta('1 days 00:00:00'), 'PJ ESP ': Timedelta('1 days 00:00:00'), 'PJ ESP corp': Timedelta('4 days 00:00:00'), 'PLAZA ': Timedelta('3 days 00:00:00'), 'PLAZA WA associates': Timedelta('10 days 00:00:00'), 'PLAZA WA corporation': Timedelta('1 days 00:00:00'), 'PLAZA WA llc': Timedelta('0 days 00:00:00'), 'PLAZA WA trust': Timedelta('-29 days +00:00:00'), 'PLAZA WA us': Timedelta('0 days 00:00:00'), 'PLAZA associates': Timedelta('13 days 16:00:00'), 'PLAZA co': Timedelta('0 days 00:00:00'), 'PLAZA corp': Timedelta('4 days 04:48:00'), 'PLAZA corporation': Timedelta('5 days 14:24:00'), 'PLAZA foundation': Timedelta('5 days 18:00:00'), 'PLAZA in': Timedelta('5 days 19:12:00'), 'PLAZA llc': Timedelta('6 days 18:00:00'), 'PLAZA systems': Timedelta('6 days 12:00:00'), 'PLAZA trust': Timedelta('2 days 04:48:00'), 'PLAZA us': Timedelta('0 days 06:00:00'), 'PO ': Timedelta('-21 days +00:00:00'), 'POCON co': Timedelta('0 days 00:00:00'), 'POCON us': Timedelta('3 days 00:00:00'), 'PORK associates': Timedelta('-2 days +00:00:00'), 'PORK systems': Timedelta('-3 days +00:00:00'), 'POST  ': Timedelta('8 days 00:00:00'), 'POST  associates': Timedelta('-1 days +00:00:00'), 'POST  co': Timedelta('-1 days +00:00:00'), 'POST  corp': Timedelta('-1 days +00:00:00'), 'POST  corporation': Timedelta('5 days 12:00:00'), 'POST  foundation': Timedelta('4 days 12:00:00'), 'POST  in': Timedelta('0 days 00:00:00'), 'POST  llc': Timedelta('1 days 00:00:00'), 'POST  trust': Timedelta('1 days 19:12:00'), 'POST  us': Timedelta('4 days 06:00:00'), 'POUCH corp': Timedelta('7 days 00:00:00'), 'POWE ': Timedelta('11 days 00:00:00'), 'POWE associates': Timedelta('19 days 12:00:00'), 'POWE co': Timedelta('18 days 12:00:00'), 'POWE corp': Timedelta('17 days 00:00:00'), 'POWE corporation': Timedelta('28 days 00:00:00'), 'POWE foundation': Timedelta('38 days 08:00:00'), 'POWE trust': Timedelta('40 days 00:00:00'), 'POWE us': Timedelta('33 days 00:00:00'), 'PR in': Timedelta('-64 days +00:00:00'), 'PRATT ': Timedelta('8 days 00:00:00'), 'PRATT associates': Timedelta('4 days 00:00:00'), 'PRATT co': Timedelta('13 days 00:00:00'), 'PRATT corp': Timedelta('5 days 12:00:00'), 'PRATT corporation': Timedelta('4 days 00:00:00'), 'PRATT llc': Timedelta('1 days 00:00:00'), 'PRATT systems': Timedelta('4 days 00:00:00'), 'PRATT trust': Timedelta('-1 days +19:12:00'), 'PRATT us': Timedelta('1 days 00:00:00'), \"PRATT' co\": Timedelta('-2 days +00:00:00'), \"PRATT' systems\": Timedelta('16 days 00:00:00'), 'PREF systems': Timedelta('-21 days +00:00:00'), 'PRES co': Timedelta('-3 days +00:00:00'), 'PRES corporation': Timedelta('-6 days +00:00:00'), 'PRES us': Timedelta('2 days 00:00:00'), 'PRIC ': Timedelta('1 days 00:00:00'), 'PRIC associates': Timedelta('1 days 00:00:00'), 'PRIC co': Timedelta('-1 days +16:00:00'), 'PRIC corp': Timedelta('2 days 00:00:00'), 'PRIC corporation': Timedelta('2 days 00:00:00'), 'PRIC foundation': Timedelta('-6 days +16:00:00'), 'PRIC in': Timedelta('1 days 00:00:00'), 'PRIC llc': Timedelta('0 days 00:00:00'), 'PRIC systems': Timedelta('-2 days +18:00:00'), 'PRIC trust': Timedelta('-1 days +12:00:00'), 'PRIC us': Timedelta('2 days 00:00:00'), 'PRIM ': Timedelta('1 days 12:00:00'), 'PRIM corp': Timedelta('0 days 16:00:00'), 'PRIM in': Timedelta('9 days 00:00:00'), 'PRIM llc': Timedelta('-8 days +00:00:00'), 'PRIM us': Timedelta('-6 days +12:00:00'), 'PRO corp': Timedelta('32 days 00:00:00'), 'PRO corporation': Timedelta('53 days 00:00:00'), 'PROFIC ': Timedelta('1 days 16:00:00'), 'PROFIC associates': Timedelta('2 days 00:00:00'), 'PROFIC co': Timedelta('1 days 00:00:00'), 'PROFIC corp': Timedelta('2 days 06:00:00'), 'PROFIC corporation': Timedelta('0 days 00:00:00'), 'PROFIC foundation': Timedelta('1 days 00:00:00'), 'PROFIC llc': Timedelta('2 days 12:00:00'), 'PROFIC trust': Timedelta('3 days 00:00:00'), 'PROFIC us': Timedelta('3 days 00:00:00'), 'PSC N systems': Timedelta('0 days 00:00:00'), 'PT HEI associates': Timedelta('46 days 00:00:00'), 'PU foundation': Timedelta('-18 days +00:00:00'), 'PUBLI ': Timedelta('0 days 17:42:51.428571428'), 'PUBLI associates': Timedelta('0 days 14:56:36.226415094'), 'PUBLI co': Timedelta('1 days 00:53:20'), 'PUBLI corp': Timedelta('0 days 07:20:48.979591836'), 'PUBLI corporation': Timedelta('0 days 21:12:33.488372093'), 'PUBLI foundation': Timedelta('0 days 05:53:12.452830188'), 'PUBLI in': Timedelta('0 days 14:18:56.842105263'), 'PUBLI llc': Timedelta('0 days 21:57:57.966101694'), 'PUBLI systems': Timedelta('2 days 21:20:00'), 'PUBLI trust': Timedelta('2 days 07:48:50.232558139'), 'PUBLI us': Timedelta('0 days 11:17:38.823529411'), 'Progres co': Timedelta('7 days 00:00:00'), 'QUAK corp': Timedelta('3 days 00:00:00'), 'QUAL associates': Timedelta('4 days 00:00:00'), 'QUAL co': Timedelta('6 days 00:00:00'), 'QUAL corp': Timedelta('3 days 00:00:00'), 'QUAL corporation': Timedelta('3 days 00:00:00'), 'QUAL in': Timedelta('4 days 00:00:00'), 'QUAL trust': Timedelta('2 days 00:00:00'), 'QUALIT corp': Timedelta('-15 days +00:00:00'), 'QUALITY C ': Timedelta('-4 days +00:00:00'), 'QUALITY C associates': Timedelta('-2 days +00:00:00'), 'QUALITY C corp': Timedelta('-2 days +00:00:00'), 'QUALITY C foundation': Timedelta('-5 days +12:00:00'), 'QUALITY C in': Timedelta('14 days 00:00:00'), 'QUALITY C llc': Timedelta('-2 days +12:00:00'), 'QUALITY C trust': Timedelta('-6 days +00:00:00'), 'QUALITY C us': Timedelta('-4 days +00:00:00'), 'QUESO systems': Timedelta('4 days 00:00:00'), 'QUI ': Timedelta('3 days 00:00:00'), 'QUI associates': Timedelta('0 days 08:00:00'), 'QUI co': Timedelta('1 days 08:00:00'), 'QUI corp': Timedelta('1 days 20:34:17.142857142'), 'QUI corporation': Timedelta('4 days 12:00:00'), 'QUI foundation': Timedelta('0 days 00:00:00'), 'QUI in': Timedelta('-1 days +20:00:00'), 'QUI llc': Timedelta('0 days 06:00:00'), 'QUI systems': Timedelta('-1 days +21:00:00'), 'QUI trust': Timedelta('-50 days +00:00:00'), 'QUI us': Timedelta('-9 days +04:48:00'), 'R  trust': Timedelta('-2 days +00:00:00'), 'R&G  in': Timedelta('-9 days +00:00:00'), 'RA ': Timedelta('0 days 22:44:12.631578947'), 'RA associates': Timedelta('2 days 16:56:28.235294117'), 'RA co': Timedelta('0 days 17:08:34.285714285'), 'RA corp': Timedelta('5 days 04:00:00'), 'RA corporation': Timedelta('0 days 18:40:00'), 'RA foundation': Timedelta('0 days 18:27:41.538461538'), 'RA in': Timedelta('0 days 17:41:03.157894736'), 'RA llc': Timedelta('0 days 14:24:00'), 'RA systems': Timedelta('0 days 10:54:32.727272727'), 'RA trust': Timedelta('0 days 12:42:21.176470588'), 'RA us': Timedelta('0 days 18:00:00'), 'RAJ  us': Timedelta('4 days 00:00:00'), 'RALEY ': Timedelta('0 days 00:00:00'), 'RALEY associates': Timedelta('-1 days +12:00:00'), 'RALEY co': Timedelta('-1 days +00:00:00'), 'RALEY corp': Timedelta('-1 days +00:00:00'), 'RALEY foundation': Timedelta('8 days 00:00:00'), 'RALEY llc': Timedelta('0 days 00:00:00'), 'RALEY systems': Timedelta('1 days 00:00:00'), 'RALEY trust': Timedelta('-1 days +00:00:00'), 'RALEY us': Timedelta('-1 days +00:00:00'), 'RAMO corp': Timedelta('-8 days +00:00:00'), 'RASTEL associates': Timedelta('4 days 12:00:00'), 'RASTEL co': Timedelta('6 days 00:00:00'), 'RASTEL corp': Timedelta('5 days 00:00:00'), 'RASTEL corporation': Timedelta('4 days 00:00:00'), 'RASTEL foundation': Timedelta('2 days 12:00:00'), 'RASTEL llc': Timedelta('8 days 00:00:00'), 'RASTEL systems': Timedelta('5 days 12:00:00'), 'RASTEL trust': Timedelta('2 days 00:00:00'), 'RASTEL us': Timedelta('1 days 00:00:00'), 'RDP F ': Timedelta('3 days 00:00:00'), 'RDP F corporation': Timedelta('0 days 00:00:00'), 'RE ': Timedelta('1 days 00:00:00'), 'RE co': Timedelta('1 days 00:00:00'), 'REDNE associates': Timedelta('2 days 00:00:00'), 'REDNE foundation': Timedelta('-27 days +12:00:00'), 'REDNE in': Timedelta('-3 days +00:00:00'), 'REDNE llc': Timedelta('-4 days +00:00:00'), 'REDNE systems': Timedelta('-2 days +00:00:00'), 'REDNE us': Timedelta('-4 days +12:00:00'), 'REGI in': Timedelta('-2 days +00:00:00'), 'REGI llc': Timedelta('7 days 00:00:00'), 'REGI trust': Timedelta('13 days 00:00:00'), 'REGI us': Timedelta('3 days 00:00:00'), 'REINHA ': Timedelta('1 days 02:24:00'), 'REINHA associates': Timedelta('-1 days +12:00:00'), 'REINHA co': Timedelta('1 days 10:54:32.727272727'), 'REINHA corp': Timedelta('0 days 13:20:00'), 'REINHA corporation': Timedelta('0 days 21:20:00'), 'REINHA foundation': Timedelta('1 days 21:20:00'), 'REINHA in': Timedelta('5 days 15:00:00'), 'REINHA llc': Timedelta('0 days 10:17:08.571428571'), 'REINHA systems': Timedelta('0 days 15:00:00'), 'REINHA trust': Timedelta('0 days 03:25:42.857142857'), 'REINHA us': Timedelta('3 days 08:00:00'), 'REND associates': Timedelta('-14 days +00:00:00'), 'REQU ': Timedelta('2 days 00:00:00'), 'REQU co': Timedelta('2 days 00:00:00'), 'REQU corporation': Timedelta('2 days 00:00:00'), 'REQU us': Timedelta('1 days 12:00:00'), 'RESER ': Timedelta('0 days 00:00:00'), 'RESER associates': Timedelta('-1 days +00:00:00'), 'RESER co': Timedelta('0 days 00:00:00'), 'RESER corp': Timedelta('1 days 08:00:00'), 'RESER corporation': Timedelta('1 days 00:00:00'), 'RESER foundation': Timedelta('0 days 16:00:00'), 'RESER in': Timedelta('0 days 00:00:00'), 'RESER llc': Timedelta('0 days 12:00:00'), 'RESER trust': Timedelta('12 days 00:00:00'), 'RESER us': Timedelta('1 days 12:00:00'), 'REST ': Timedelta('-1 days +12:00:00'), 'REST associates': Timedelta('5 days 00:00:00'), 'REST llc': Timedelta('0 days 12:00:00'), 'REST systems': Timedelta('5 days 00:00:00'), 'REST trust': Timedelta('0 days 00:00:00'), 'RESTA ': Timedelta('1 days 03:18:37.241379310'), 'RESTA associates': Timedelta('0 days 12:00:00'), 'RESTA co': Timedelta('0 days 06:27:41.538461538'), 'RESTA corp': Timedelta('-1 days +17:08:34.285714286'), 'RESTA corporation': Timedelta('1 days 18:14:24'), 'RESTA foundation': Timedelta('0 days 21:28:25.263157894'), 'RESTA in': Timedelta('0 days 05:00:00'), 'RESTA llc': Timedelta('0 days 09:13:50.769230769'), 'RESTA systems': Timedelta('-1 days +14:46:09.230769231'), 'RESTA trust': Timedelta('0 days 13:42:51.428571428'), 'RESTA us': Timedelta('0 days 19:49:33.913043478'), 'RESTAU ': Timedelta('0 days 20:00:00'), 'RESTAU associates': Timedelta('0 days 09:36:00'), 'RESTAU co': Timedelta('2 days 12:00:00'), 'RESTAU corp': Timedelta('0 days 00:00:00'), 'RESTAU corporation': Timedelta('0 days 00:00:00'), 'RESTAU foundation': Timedelta('0 days 00:00:00'), 'RESTAU in': Timedelta('0 days 00:00:00'), 'RESTAU llc': Timedelta('0 days 00:00:00'), 'RESTAU systems': Timedelta('1 days 03:25:42.857142857'), 'RESTAU trust': Timedelta('0 days 00:00:00'), 'RESTAU us': Timedelta('0 days 00:00:00'), 'RESTO corporation': Timedelta('-2 days +00:00:00'), 'RESTO foundation': Timedelta('3 days 00:00:00'), 'RESTO in': Timedelta('10 days 00:00:00'), 'REY  corp': Timedelta('0 days 00:00:00'), 'RI corp': Timedelta('0 days 00:00:00'), 'RICH ': Timedelta('-1 days +16:00:00'), 'RICH associates': Timedelta('-1 days +08:00:00'), 'RICH co': Timedelta('-1 days +00:00:00'), 'RICH corp': Timedelta('1 days 00:00:00'), 'RICH corporation': Timedelta('-1 days +00:00:00'), 'RICH foundation': Timedelta('0 days 18:00:00'), 'RICH in': Timedelta('-1 days +12:00:00'), 'RICH llc': Timedelta('-1 days +06:00:00'), 'RICH systems': Timedelta('-1 days +00:00:00'), 'RICH trust': Timedelta('2 days 12:00:00'), 'RICH us': Timedelta('-7 days +00:00:00'), 'RITE associates': Timedelta('3 days 12:00:00'), 'RITE co': Timedelta('4 days 16:00:00'), 'RITE corp': Timedelta('0 days 16:00:00'), 'RITE corporation': Timedelta('3 days 00:00:00'), 'RITE foundation': Timedelta('0 days 00:00:00'), 'RITE in': Timedelta('0 days 00:00:00'), 'RITE llc': Timedelta('0 days 12:00:00'), 'RITE systems': Timedelta('0 days 12:00:00'), 'RITE trust': Timedelta('5 days 12:00:00'), 'RITE us': Timedelta('0 days 00:00:00'), 'RIVER  llc': Timedelta('7 days 00:00:00'), 'ROADTOWN associates': Timedelta('2 days 00:00:00'), 'ROADTOWN co': Timedelta('0 days 00:00:00'), 'ROADTOWN in': Timedelta('-29 days +00:00:00'), 'ROCKLA ': Timedelta('-7 days +00:00:00'), 'RONALD ': Timedelta('3 days 00:00:00'), 'RONALD co': Timedelta('2 days 00:00:00'), 'RONALD corp': Timedelta('2 days 00:00:00'), 'RONALD corporation': Timedelta('4 days 00:00:00'), 'RONALD foundation': Timedelta('5 days 00:00:00'), 'RONALD in': Timedelta('-3 days +16:00:00'), 'RONALD systems': Timedelta('2 days 00:00:00'), 'ROSK corporation': Timedelta('5 days 00:00:00'), 'ROU ': Timedelta('1 days 00:00:00'), 'ROU associates': Timedelta('1 days 00:00:00'), 'ROU co': Timedelta('1 days 06:00:00'), 'ROU corp': Timedelta('1 days 10:17:08.571428571'), 'ROU corporation': Timedelta('0 days 04:48:00'), 'ROU foundation': Timedelta('1 days 12:00:00'), 'ROU in': Timedelta('0 days 19:12:00'), 'ROU llc': Timedelta('0 days 00:00:00'), 'ROU systems': Timedelta('0 days 18:00:00'), 'ROU trust': Timedelta('1 days 00:00:00'), 'ROU us': Timedelta('0 days 04:00:00'), 'ROUNDY in': Timedelta('26 days 00:00:00'), 'ROUNDY trust': Timedelta('23 days 00:00:00'), 'RT FRES in': Timedelta('6 days 00:00:00'), 'RT FRES llc': Timedelta('1 days 00:00:00'), \"RUCKER'S in\": Timedelta('-4 days +00:00:00'), 'RUIZ F foundation': Timedelta('0 days 00:00:00'), 'RUIZ F systems': Timedelta('6 days 00:00:00'), 'RUSSO  corporation': Timedelta('0 days 00:00:00'), 'S  trust': Timedelta('11 days 00:00:00'), 'S &  foundation': Timedelta('-7 days +00:00:00'), 'S &  systems': Timedelta('-5 days +00:00:00'), 'S AB ': Timedelta('-2 days +00:00:00'), 'S AB associates': Timedelta('-4 days +00:00:00'), 'S AB corp': Timedelta('-5 days +00:00:00'), 'S AB corporation': Timedelta('-5 days +00:00:00'), 'S AB foundation': Timedelta('-5 days +00:00:00'), 'S AB in': Timedelta('-5 days +18:00:00'), 'S AB systems': Timedelta('-5 days +00:00:00'), 'S AB trust': Timedelta('-5 days +00:00:00'), 'S AB us': Timedelta('-1 days +00:00:00'), 'S&S  associates': Timedelta('13 days 00:00:00'), 'SA ': Timedelta('0 days 02:21:38.360655737'), 'SA associates': Timedelta('1 days 01:54:17.142857142'), 'SA co': Timedelta('-1 days +11:20:43.636363637'), 'SA corp': Timedelta('0 days 08:54:32.727272727'), 'SA corporation': Timedelta('0 days 22:46:09.230769230'), 'SA foundation': Timedelta('0 days 23:27:16.363636363'), 'SA in': Timedelta('0 days 08:28:14.117647058'), 'SA llc': Timedelta('0 days 03:44:15.737704918'), 'SA systems': Timedelta('0 days 20:13:53.057851239'), 'SA trust': Timedelta('0 days 11:54:02.975206611'), 'SA us': Timedelta('0 days 10:31:23.076923076'), 'SABRINA ': Timedelta('0 days 00:00:00'), 'SAF llc': Timedelta('6 days 00:00:00'), 'SAFEW ': Timedelta('1 days 05:27:16.363636363'), 'SAFEW associates': Timedelta('1 days 01:08:34.285714285'), 'SAFEW co': Timedelta('1 days 00:00:00'), 'SAFEW corp': Timedelta('1 days 01:05:27.272727272'), 'SAFEW corporation': Timedelta('1 days 07:18:15.652173913'), 'SAFEW foundation': Timedelta('0 days 15:31:45.882352941'), 'SAFEW in': Timedelta('0 days 21:36:00'), 'SAFEW llc': Timedelta('0 days 22:57:23.478260869'), 'SAFEW systems': Timedelta('0 days 12:31:18.260869565'), 'SAFEW trust': Timedelta('0 days 23:00:00'), 'SAFEW us': Timedelta('0 days 15:39:07.826086956'), 'SALM associates': Timedelta('0 days 00:00:00'), 'SALM co': Timedelta('3 days 00:00:00'), 'SALM trust': Timedelta('-2 days +00:00:00'), 'SAPUTO  ': Timedelta('5 days 00:00:00'), 'SAPUTO  associates': Timedelta('3 days 00:00:00'), 'SAPUTO  corp': Timedelta('-5 days +00:00:00'), 'SAPUTO  corporation': Timedelta('-2 days +00:00:00'), 'SAPUTO  foundation': Timedelta('-5 days +00:00:00'), 'SAPUTO  llc': Timedelta('0 days 12:00:00'), 'SAPUTO  systems': Timedelta('2 days 00:00:00'), 'SARA LE ': Timedelta('-27 days +00:00:00'), 'SARA LE associates': Timedelta('-24 days +00:00:00'), 'SARA LE foundation': Timedelta('-24 days +12:00:00'), 'SARA LE systems': Timedelta('-22 days +00:00:00'), 'SARNO ': Timedelta('4 days 00:00:00'), 'SARNO systems': Timedelta('3 days 00:00:00'), 'SAVE M associates': Timedelta('4 days 00:00:00'), 'SAVE M co': Timedelta('0 days 00:00:00'), 'SAVE M corp': Timedelta('3 days 08:00:00'), 'SAVE M corporation': Timedelta('11 days 00:00:00'), 'SAVE M foundation': Timedelta('9 days 00:00:00'), 'SAVE M in': Timedelta('-1 days +00:00:00'), 'SAVE M llc': Timedelta('-1 days +00:00:00'), 'SAVE M trust': Timedelta('7 days 16:00:00'), 'SAVE M us': Timedelta('5 days 06:00:00'), 'SAVE-ON- ': Timedelta('4 days 16:00:00'), 'SAVE-ON- associates': Timedelta('-4 days +16:00:00'), 'SAVE-ON- co': Timedelta('-1 days +02:40:00'), 'SAVE-ON- corporation': Timedelta('0 days 20:34:17.142857142'), 'SAVE-ON- foundation': Timedelta('-1 days +00:00:00'), 'SAVE-ON- in': Timedelta('3 days 12:00:00'), 'SAVE-ON- llc': Timedelta('-2 days +08:00:00'), 'SAVE-ON- systems': Timedelta('0 days 00:00:00'), 'SAVE-ON- trust': Timedelta('-3 days +16:00:00'), 'SAVE-ON- us': Timedelta('0 days 20:00:00'), 'SCAV corporation': Timedelta('12 days 00:00:00'), 'SCHE us': Timedelta('12 days 00:00:00'), 'SCHNU ': Timedelta('-1 days +09:36:00'), 'SCHNU associates': Timedelta('-1 days +16:00:00'), 'SCHNU co': Timedelta('-2 days +12:00:00'), 'SCHNU corp': Timedelta('-1 days +16:00:00'), 'SCHNU corporation': Timedelta('0 days 20:00:00'), 'SCHNU foundation': Timedelta('0 days 14:24:00'), 'SCHNU in': Timedelta('22 days 18:00:00'), 'SCHNU llc': Timedelta('0 days 16:00:00'), 'SCHNU systems': Timedelta('3 days 00:00:00'), 'SCHNU trust': Timedelta('1 days 00:00:00'), 'SCHNU us': Timedelta('9 days 16:00:00'), 'SCHWANS associates': Timedelta('0 days 00:00:00'), 'SCHWANS corp': Timedelta('0 days 00:00:00'), 'SCHWANS corporation': Timedelta('0 days 00:00:00'), 'SCHWANS llc': Timedelta('0 days 00:00:00'), 'SCHWANS trust': Timedelta('0 days 00:00:00'), 'SCHWANS us': Timedelta('0 days 00:00:00'), 'SD  associates': Timedelta('3 days 00:00:00'), 'SELECT systems': Timedelta('8 days 00:00:00'), 'SHAM ': Timedelta('-12 days +00:00:00'), 'SHAM associates': Timedelta('-12 days +12:00:00'), 'SHAM co': Timedelta('-11 days +08:00:00'), 'SHAM corp': Timedelta('-12 days +04:00:00'), 'SHAM corporation': Timedelta('-9 days +04:00:00'), 'SHAM foundation': Timedelta('-3 days +18:00:00'), 'SHAM in': Timedelta('-8 days +18:00:00'), 'SHAM llc': Timedelta('-7 days +06:51:25.714285715'), 'SHAM systems': Timedelta('-8 days +14:24:00'), 'SHAM trust': Timedelta('-6 days +16:00:00'), 'SHAM us': Timedelta('-11 days +18:00:00'), 'SHANGHAI us': Timedelta('0 days 00:00:00'), 'SHARP S associates': Timedelta('-2 days +16:00:00'), 'SHARP S co': Timedelta('0 days 00:00:00'), 'SHARP S corp': Timedelta('-5 days +16:00:00'), 'SHARP S foundation': Timedelta('-1 days +00:00:00'), 'SHARP S in': Timedelta('-1 days +00:00:00'), 'SHARP S llc': Timedelta('-4 days +00:00:00'), 'SHARP S systems': Timedelta('-3 days +12:00:00'), 'SHARP S trust': Timedelta('-4 days +16:00:00'), 'SHARP S us': Timedelta('-6 days +16:00:00'), 'SHAWS  ': Timedelta('2 days 00:00:00'), 'SHAWS  associates': Timedelta('0 days 00:00:00'), 'SHAWS  co': Timedelta('0 days 19:12:00'), 'SHAWS  corp': Timedelta('2 days 08:00:00'), 'SHAWS  corporation': Timedelta('1 days 16:00:00'), 'SHAWS  foundation': Timedelta('0 days 00:00:00'), 'SHAWS  in': Timedelta('0 days 18:00:00'), 'SHAWS  llc': Timedelta('0 days 00:00:00'), 'SHAWS  systems': Timedelta('0 days 08:00:00'), 'SHAWS  trust': Timedelta('0 days 18:00:00'), 'SHAWS  us': Timedelta('0 days 19:12:00'), 'SHEET ': Timedelta('-1 days +00:00:00'), 'SHEET in': Timedelta('0 days 00:00:00'), 'SHEET systems': Timedelta('3 days 00:00:00'), 'SHER corporation': Timedelta('-2 days +00:00:00'), \"SHERM'S  co\": Timedelta('-2 days +00:00:00'), \"SHERM'S  foundation\": Timedelta('-4 days +12:00:00'), \"SHERM'S  llc\": Timedelta('-2 days +00:00:00'), \"SHERM'S  systems\": Timedelta('-6 days +00:00:00'), \"SHERM'S  trust\": Timedelta('-2 days +00:00:00'), \"SHERM'S  us\": Timedelta('-2 days +00:00:00'), 'SHERWO ': Timedelta('-2 days +12:00:00'), 'SHERWO associates': Timedelta('0 days 00:00:00'), 'SHERWO co': Timedelta('2 days 00:00:00'), 'SHERWO corp': Timedelta('-2 days +00:00:00'), 'SHERWO foundation': Timedelta('-2 days +00:00:00'), 'SHERWO in': Timedelta('-1 days +00:00:00'), 'SHERWO systems': Timedelta('1 days 00:00:00'), 'SHETA ': Timedelta('1 days 00:00:00'), 'SHETA trust': Timedelta('0 days 00:00:00'), 'SHOPPE ': Timedelta('4 days 19:12:00'), 'SHOPPE associates': Timedelta('9 days 04:00:00'), 'SHOPPE co': Timedelta('4 days 09:36:00'), 'SHOPPE corp': Timedelta('17 days 13:42:51.428571428'), 'SHOPPE corporation': Timedelta('9 days 22:00:00'), 'SHOPPE foundation': Timedelta('5 days 00:00:00'), 'SHOPPE in': Timedelta('3 days 00:00:00'), 'SHOPPE llc': Timedelta('3 days 14:24:00'), 'SHOPPE systems': Timedelta('5 days 00:00:00'), 'SHOPPE trust': Timedelta('7 days 17:08:34.285714285'), 'SHOPPE us': Timedelta('7 days 02:40:00'), 'SI corp': Timedelta('2 days 00:00:00'), 'SI foundation': Timedelta('1 days 00:00:00'), 'SIGMA A corp': Timedelta('-5 days +00:00:00'), 'SIGMA A corporation': Timedelta('-3 days +00:00:00'), 'SIGMA A llc': Timedelta('-4 days +00:00:00'), 'SIGMA A trust': Timedelta('4 days 00:00:00'), 'SIGMA AL ': Timedelta('-10 days +00:00:00'), 'SIGMA AL associates': Timedelta('-6 days +00:00:00'), 'SIGMA AL corporation': Timedelta('-15 days +00:00:00'), 'SIGMA AL llc': Timedelta('-7 days +00:00:00'), 'SIGMA AL us': Timedelta('-5 days +00:00:00'), 'SILVE associates': Timedelta('8 days 00:00:00'), 'SILVE trust': Timedelta('-2 days +00:00:00'), 'SIMPLO ': Timedelta('12 days 00:00:00'), 'SIMPLO trust': Timedelta('-15 days +00:00:00'), 'SING ': Timedelta('4 days 00:00:00'), 'SING associates': Timedelta('1 days 00:00:00'), 'SING corp': Timedelta('-1 days +00:00:00'), 'SING corporation': Timedelta('2 days 00:00:00'), 'SING in': Timedelta('0 days 00:00:00'), 'SING systems': Timedelta('-2 days +12:00:00'), 'SING us': Timedelta('1 days 16:00:00'), 'SKID ': Timedelta('4 days 00:00:00'), 'SKID corp': Timedelta('0 days 00:00:00'), 'SKID corporation': Timedelta('2 days 00:00:00'), 'SKID llc': Timedelta('2 days 00:00:00'), 'SKID systems': Timedelta('-1 days +00:00:00'), 'SKID trust': Timedelta('0 days 00:00:00'), 'SKID us': Timedelta('-1 days +00:00:00'), 'SMART &  ': Timedelta('-6 days +09:00:00'), 'SMART &  associates': Timedelta('-6 days +12:00:00'), 'SMART &  co': Timedelta('-6 days +13:42:51.428571429'), 'SMART &  corp': Timedelta('-15 days +00:00:00'), 'SMART &  corporation': Timedelta('2 days 09:36:00'), 'SMART &  foundation': Timedelta('-6 days +15:00:00'), 'SMART &  in': Timedelta('2 days 12:00:00'), 'SMART &  llc': Timedelta('2 days 00:00:00'), 'SMART &  systems': Timedelta('0 days 08:00:00'), 'SMART &  trust': Timedelta('0 days 00:00:00'), 'SMART &  us': Timedelta('0 days 08:00:00'), \"SMITH'S \": Timedelta('0 days 16:56:28.235294117'), \"SMITH'S associates\": Timedelta('0 days 17:36:00'), \"SMITH'S co\": Timedelta('0 days 10:17:08.571428571'), \"SMITH'S corp\": Timedelta('0 days 14:40:00'), \"SMITH'S corporation\": Timedelta('0 days 02:00:00'), \"SMITH'S foundation\": Timedelta('0 days 21:28:25.263157894'), \"SMITH'S in\": Timedelta('0 days 09:00:00'), \"SMITH'S llc\": Timedelta('0 days 09:13:50.769230769'), \"SMITH'S systems\": Timedelta('0 days 08:34:17.142857142'), \"SMITH'S trust\": Timedelta('0 days 22:09:13.846153846'), \"SMITH'S us\": Timedelta('5 days 00:00:00'), 'SMITHFIE ': Timedelta('-3 days +00:00:00'), 'SMITHFIE associates': Timedelta('-2 days +00:00:00'), 'SMITHFIE co': Timedelta('-9 days +12:00:00'), 'SMITHFIE corp': Timedelta('-3 days +12:00:00'), 'SMITHFIE corporation': Timedelta('-3 days +00:00:00'), 'SMITHFIE foundation': Timedelta('-2 days +00:00:00'), 'SMITHFIE llc': Timedelta('-3 days +12:00:00'), 'SMITHFIE systems': Timedelta('-3 days +00:00:00'), 'SMITHFIE trust': Timedelta('-4 days +12:00:00'), 'SMITHFIE us': Timedelta('-4 days +16:00:00'), 'SNOW C corporation': Timedelta('-3 days +00:00:00'), 'SNOW C in': Timedelta('-7 days +00:00:00'), 'SNOW C us': Timedelta('-1 days +00:00:00'), 'SO ': Timedelta('9 days 19:12:00'), 'SO associates': Timedelta('3 days 12:00:00'), 'SO co': Timedelta('6 days 00:00:00'), 'SO corp': Timedelta('5 days 18:00:00'), 'SO corporation': Timedelta('6 days 02:17:08.571428571'), 'SO foundation': Timedelta('4 days 22:51:25.714285714'), 'SO in': Timedelta('4 days 21:54:46.956521738'), 'SO llc': Timedelta('8 days 02:40:00'), 'SO systems': Timedelta('4 days 11:00:00'), 'SO trust': Timedelta('5 days 15:31:45.882352941'), 'SO us': Timedelta('4 days 22:51:25.714285714'), 'SOB ': Timedelta('4 days 17:08:34.285714285'), 'SOB associates': Timedelta('12 days 16:00:00'), 'SOB co': Timedelta('6 days 00:00:00'), 'SOB corp': Timedelta('5 days 00:00:00'), 'SOB corporation': Timedelta('6 days 20:18:27.692307692'), 'SOB foundation': Timedelta('4 days 09:36:00'), 'SOB in': Timedelta('4 days 00:00:00'), 'SOB llc': Timedelta('4 days 08:00:00'), 'SOB systems': Timedelta('5 days 10:40:00'), 'SOB trust': Timedelta('4 days 15:00:00'), 'SOB us': Timedelta('7 days 08:00:00'), 'SOCIETE  corporation': Timedelta('3 days 00:00:00'), 'SOCIETE  in': Timedelta('5 days 00:00:00'), 'SOCIETE  llc': Timedelta('4 days 12:00:00'), 'SOCIETE  systems': Timedelta('4 days 00:00:00'), 'SODEXHO  ': Timedelta('-9 days +00:00:00'), 'SODEXHO  associates': Timedelta('18 days 00:00:00'), 'SODEXHO  co': Timedelta('1 days 12:00:00'), 'SODEXHO  corporation': Timedelta('66 days 00:00:00'), 'SODEXHO  in': Timedelta('87 days 00:00:00'), 'SOLOM associates': Timedelta('3 days 00:00:00'), 'SOLOM co': Timedelta('15 days 00:00:00'), 'SOLOM corp': Timedelta('4 days 00:00:00'), 'SOLOM in': Timedelta('-6 days +00:00:00'), 'SOLOM systems': Timedelta('0 days 00:00:00'), 'SOP co': Timedelta('2 days 00:00:00'), 'SOP llc': Timedelta('4 days 00:00:00'), 'SOTO ': Timedelta('-9 days +00:00:00'), 'SOTO in': Timedelta('-5 days +00:00:00'), 'SOTO trust': Timedelta('3 days 00:00:00'), 'SOUTH  trust': Timedelta('-12 days +00:00:00'), 'SOUTH  us': Timedelta('-1 days +00:00:00'), 'SOUTH corporation': Timedelta('6 days 00:00:00'), 'SOUTH in': Timedelta('-1 days +00:00:00'), 'SOUTH llc': Timedelta('13 days 00:00:00'), 'SOUTHE associates': Timedelta('0 days 00:00:00'), 'SOUTHE co': Timedelta('-5 days +00:00:00'), 'SOUTHE corp': Timedelta('-2 days +00:00:00'), 'SOUTHE corporation': Timedelta('-3 days +06:00:00'), 'SOUTHE foundation': Timedelta('0 days 00:00:00'), 'SOUTHE llc': Timedelta('0 days 00:00:00'), 'SOUTHE systems': Timedelta('1 days 16:00:00'), 'SOUTHE trust': Timedelta('0 days 12:00:00'), 'SPANIS associates': Timedelta('-13 days +00:00:00'), 'SPAR ': Timedelta('-2 days +16:00:00'), 'SPAR associates': Timedelta('0 days 00:00:00'), 'SPAR co': Timedelta('-1 days +10:40:00'), 'SPAR corp': Timedelta('-1 days +17:08:34.285714286'), 'SPAR corporation': Timedelta('-1 days +12:00:00'), 'SPAR foundation': Timedelta('-1 days +04:48:00'), 'SPAR in': Timedelta('0 days 00:00:00'), 'SPAR llc': Timedelta('-1 days +16:00:00'), 'SPAR systems': Timedelta('0 days 00:00:00'), 'SPAR trust': Timedelta('-1 days +06:00:00'), 'SPAR us': Timedelta('0 days 00:00:00'), 'SPECIA ': Timedelta('11 days 00:00:00'), 'SPECIA associates': Timedelta('-2 days +00:00:00'), 'SPECIALT ': Timedelta('0 days 00:00:00'), 'SPECIALT in': Timedelta('-75 days +00:00:00'), 'SPECS us': Timedelta('13 days 00:00:00'), 'SPLASH foundation': Timedelta('-17 days +00:00:00'), 'SPRIN in': Timedelta('-6 days +00:00:00'), 'ST in': Timedelta('9 days 00:00:00'), 'STAC corp': Timedelta('20 days 00:00:00'), 'STANZ  associates': Timedelta('-3 days +00:00:00'), 'STAR F foundation': Timedelta('2 days 00:00:00'), 'STAR F us': Timedelta('1 days 12:00:00'), 'STATER  ': Timedelta('1 days 00:00:00'), 'STATER  associates': Timedelta('0 days 06:00:00'), 'STATER  co': Timedelta('0 days 00:00:00'), 'STATER  corp': Timedelta('2 days 18:00:00'), 'STATER  corporation': Timedelta('1 days 12:00:00'), 'STATER  foundation': Timedelta('-19 days +12:00:00'), 'STATER  in': Timedelta('2 days 03:25:42.857142857'), 'STATER  llc': Timedelta('0 days 00:00:00'), 'STATER  systems': Timedelta('-11 days +00:00:00'), 'STATER  trust': Timedelta('5 days 12:00:00'), 'STATER  us': Timedelta('0 days 00:00:00'), 'STEVE corp': Timedelta('0 days 00:00:00'), 'STEVEN  trust': Timedelta('10 days 00:00:00'), 'STEWAR co': Timedelta('-3 days +00:00:00'), 'STEWAR corp': Timedelta('-1 days +00:00:00'), 'STEWAR llc': Timedelta('3 days 00:00:00'), 'STEWAR trust': Timedelta('1 days 12:00:00'), 'STEWAR us': Timedelta('2 days 00:00:00'), 'STEWART foundation': Timedelta('3 days 00:00:00'), 'STUD co': Timedelta('1 days 00:00:00'), 'STUD llc': Timedelta('6 days 00:00:00'), 'STUR trust': Timedelta('4 days 00:00:00'), 'SUGAR  ': Timedelta('12 days 00:00:00'), 'SUGAR  associates': Timedelta('10 days 04:48:00'), 'SUGAR  co': Timedelta('12 days 00:00:00'), 'SUGAR  corp': Timedelta('11 days 06:00:00'), 'SUGAR  corporation': Timedelta('9 days 12:00:00'), 'SUGAR  foundation': Timedelta('9 days 12:00:00'), 'SUGAR  in': Timedelta('11 days 00:00:00'), 'SUGAR  llc': Timedelta('-1 days +00:00:00'), 'SUGAR  systems': Timedelta('12 days 00:00:00'), 'SUGAR  trust': Timedelta('17 days 00:00:00'), 'SUGARP corporation': Timedelta('5 days 00:00:00'), 'SUGARP trust': Timedelta('6 days 00:00:00'), 'SUI ': Timedelta('-2 days +00:00:00'), 'SUI associates': Timedelta('-2 days +00:00:00'), 'SUI co': Timedelta('-2 days +00:00:00'), 'SUI foundation': Timedelta('-4 days +12:00:00'), 'SUI in': Timedelta('-2 days +00:00:00'), 'SUI llc': Timedelta('-2 days +00:00:00'), 'SUIS corp': Timedelta('-2 days +00:00:00'), 'SUIS foundation': Timedelta('-1 days +00:00:00'), 'SUIS in': Timedelta('-2 days +00:00:00'), 'SUIS llc': Timedelta('-1 days +00:00:00'), 'SUIS systems': Timedelta('-1 days +00:00:00'), 'SUIS trust': Timedelta('-1 days +00:00:00'), 'SUIS us': Timedelta('-2 days +00:00:00'), 'SUN  foundation': Timedelta('2 days 00:00:00'), 'SUNN in': Timedelta('14 days 00:00:00'), 'SUNN llc': Timedelta('21 days 00:00:00'), 'SUNRIS llc': Timedelta('2 days 00:00:00'), 'SUPE ': Timedelta('0 days 06:12:24.827586206'), 'SUPE associates': Timedelta('0 days 20:49:48.679245283'), 'SUPE co': Timedelta('5 days 06:15:39.130434782'), 'SUPE corp': Timedelta('1 days 16:24:00'), 'SUPE corporation': Timedelta('1 days 08:24:56.103896103'), 'SUPE foundation': Timedelta('2 days 02:05:13.043478260'), 'SUPE in': Timedelta('1 days 05:42:51.428571428'), 'SUPE llc': Timedelta('-1 days +08:48:58.775510205'), 'SUPE systems': Timedelta('0 days 07:20:48.979591836'), 'SUPE trust': Timedelta('1 days 11:04:36.923076923'), 'SUPE us': Timedelta('3 days 00:43:38.181818181'), 'SUPER  ': Timedelta('1 days 16:00:00'), 'SUPER  associates': Timedelta('3 days 00:00:00'), 'SUPER  co': Timedelta('0 days 08:00:00'), 'SUPER  corp': Timedelta('3 days 03:00:00'), 'SUPER  corporation': Timedelta('2 days 18:00:00'), 'SUPER  foundation': Timedelta('0 days 00:00:00'), 'SUPER  in': Timedelta('0 days 00:00:00'), 'SUPER  llc': Timedelta('4 days 00:00:00'), 'SUPER  systems': Timedelta('0 days 20:34:17.142857142'), 'SUPER  trust': Timedelta('-1 days +15:00:00'), 'SUPER  us': Timedelta('0 days 19:12:00'), 'SUPER associates': Timedelta('0 days 00:00:00'), 'SUPER corp': Timedelta('0 days 00:00:00'), 'SUPER trust': Timedelta('4 days 00:00:00'), 'SUPERB associates': Timedelta('0 days 00:00:00'), 'SUPERB co': Timedelta('1 days 12:00:00'), 'SUPERB corp': Timedelta('2 days 12:00:00'), 'SUPERB in': Timedelta('1 days 12:00:00'), 'SUPERB systems': Timedelta('-1 days +12:00:00'), 'SUPERB trust': Timedelta('0 days 12:00:00'), 'SUPERI associates': Timedelta('4 days 00:00:00'), 'SUPERI corp': Timedelta('4 days 00:00:00'), 'SUPERI systems': Timedelta('6 days 12:00:00'), 'SUPERV associates': Timedelta('-11 days +00:00:00'), 'SUPERV corp': Timedelta('-20 days +00:00:00'), 'SUPERV foundation': Timedelta('8 days 00:00:00'), 'SUPERV systems': Timedelta('2 days 12:00:00'), 'SUPERVAL ': Timedelta('10 days 00:00:00'), 'SUPERVAL associates': Timedelta('8 days 00:00:00'), 'SUPERVAL corp': Timedelta('14 days 00:00:00'), 'SUPERVAL foundation': Timedelta('9 days 00:00:00'), 'SUPERVAL in': Timedelta('18 days 00:00:00'), 'SUPERVAL us': Timedelta('7 days 00:00:00'), 'SURL corporation': Timedelta('-1 days +00:00:00'), 'SURL us': Timedelta('13 days 00:00:00'), 'SWEET  ': Timedelta('-2 days +00:00:00'), 'SWEET  corp': Timedelta('-4 days +00:00:00'), 'SWEET  corporation': Timedelta('-3 days +00:00:00'), 'SWEET  foundation': Timedelta('-3 days +00:00:00'), 'SYGMA ': Timedelta('-1 days +00:00:00'), 'SYGMA associates': Timedelta('2 days 08:00:00'), 'SYGMA co': Timedelta('-1 days +22:17:08.571428572'), 'SYGMA corp': Timedelta('2 days 04:00:00'), 'SYGMA corporation': Timedelta('0 days 20:00:00'), 'SYGMA foundation': Timedelta('1 days 00:00:00'), 'SYGMA in': Timedelta('2 days 21:49:05.454545454'), 'SYGMA llc': Timedelta('-1 days +20:00:00'), 'SYGMA systems': Timedelta('-1 days +18:40:00'), 'SYGMA trust': Timedelta('-2 days +20:18:27.692307693'), 'SYGMA us': Timedelta('-1 days +13:05:27.272727273'), 'SYS ': Timedelta('-2 days +00:00:00'), 'SYS systems': Timedelta('0 days 00:00:00'), 'SYSC ': Timedelta('3 days 09:36:00'), 'SYSC associates': Timedelta('5 days 09:28:25.263157894'), 'SYSC co': Timedelta('3 days 07:20:00'), 'SYSC corp': Timedelta('10 days 22:24:00'), 'SYSC corporation': Timedelta('4 days 05:42:51.428571428'), 'SYSC foundation': Timedelta('3 days 18:15:39.130434782'), 'SYSC in': Timedelta('3 days 11:14:02.553191489'), 'SYSC llc': Timedelta('2 days 19:03:31.764705882'), 'SYSC systems': Timedelta('3 days 22:58:43.404255319'), 'SYSC trust': Timedelta('5 days 14:30:00'), 'SYSC us': Timedelta('5 days 17:08:34.285714284'), 'SYSCO ': Timedelta('1 days 19:12:00'), 'SYSCO  ': Timedelta('1 days 16:39:11.020408163'), 'SYSCO  associates': Timedelta('2 days 05:38:49.411764705'), 'SYSCO  co': Timedelta('1 days 11:15:55.102040816'), 'SYSCO  corp': Timedelta('1 days 02:00:00'), 'SYSCO  corporation': Timedelta('1 days 01:53:41.052631578'), 'SYSCO  foundation': Timedelta('0 days 12:52:40.975609756'), 'SYSCO  in': Timedelta('2 days 00:00:00'), 'SYSCO  llc': Timedelta('1 days 10:51:25.714285714'), 'SYSCO  systems': Timedelta('1 days 03:04:36.923076923'), 'SYSCO  trust': Timedelta('2 days 06:38:17.872340425'), 'SYSCO  us': Timedelta('1 days 21:00:00'), 'SYSCO F ': Timedelta('2 days 08:50:31.578947368'), 'SYSCO F associates': Timedelta('2 days 10:09:13.846153846'), 'SYSCO F co': Timedelta('0 days 12:00:00'), 'SYSCO F corp': Timedelta('0 days 04:21:49.090909090'), 'SYSCO F corporation': Timedelta('2 days 06:24:00'), 'SYSCO F foundation': Timedelta('1 days 00:00:00'), 'SYSCO F in': Timedelta('2 days 09:17:25.161290322'), 'SYSCO F llc': Timedelta('2 days 03:07:49.565217391'), 'SYSCO F systems': Timedelta('2 days 18:00:00'), 'SYSCO F trust': Timedelta('1 days 07:47:01.621621621'), 'SYSCO F us': Timedelta('1 days 12:40:00'), 'SYSCO FO ': Timedelta('2 days 00:00:00'), 'SYSCO FO associates': Timedelta('1 days 18:00:00'), 'SYSCO FO co': Timedelta('-1 days +20:00:00'), 'SYSCO FO corp': Timedelta('2 days 19:12:00'), 'SYSCO FO corporation': Timedelta('1 days 03:25:42.857142857'), 'SYSCO FO foundation': Timedelta('2 days 06:00:00'), 'SYSCO FO in': Timedelta('2 days 19:12:00'), 'SYSCO FO llc': Timedelta('5 days 13:42:51.428571428'), 'SYSCO FO systems': Timedelta('3 days 21:00:00'), 'SYSCO FO trust': Timedelta('1 days 03:00:00'), 'SYSCO FO us': Timedelta('2 days 09:36:00'), 'SYSCO IN ': Timedelta('2 days 12:00:00'), 'SYSCO IN associates': Timedelta('1 days 00:00:00'), 'SYSCO IN co': Timedelta('1 days 12:00:00'), 'SYSCO IN corp': Timedelta('1 days 00:00:00'), 'SYSCO IN corporation': Timedelta('1 days 16:00:00'), 'SYSCO IN foundation': Timedelta('2 days 00:00:00'), 'SYSCO IN in': Timedelta('1 days 00:00:00'), 'SYSCO IN llc': Timedelta('2 days 00:00:00'), 'SYSCO IN trust': Timedelta('15 days 12:00:00'), 'SYSCO IN us': Timedelta('1 days 00:00:00'), 'SYSCO associates': Timedelta('1 days 12:00:00'), 'SYSCO co': Timedelta('0 days 15:31:45.882352941'), 'SYSCO corp': Timedelta('1 days 18:00:00'), 'SYSCO corporation': Timedelta('0 days 01:15:47.368421052'), 'SYSCO foundation': Timedelta('2 days 22:24:00'), 'SYSCO in': Timedelta('1 days 08:28:14.117647058'), 'SYSCO llc': Timedelta('1 days 01:50:46.153846153'), 'SYSCO systems': Timedelta('2 days 00:00:00'), 'SYSCO trust': Timedelta('0 days 12:00:00'), 'SYSCO us': Timedelta('1 days 09:13:50.769230769'), 'SYSTEMS ': Timedelta('4 days 12:00:00'), 'SYSTEMS associates': Timedelta('2 days 14:24:00'), 'SYSTEMS co': Timedelta('2 days 06:00:00'), 'SYSTEMS corporation': Timedelta('2 days 08:00:00'), 'SYSTEMS foundation': Timedelta('2 days 00:00:00'), 'SYSTEMS in': Timedelta('3 days 00:00:00'), 'SYSTEMS systems': Timedelta('3 days 03:25:42.857142857'), 'SYSTEMS trust': Timedelta('2 days 19:12:00'), 'SYSTEMS us': Timedelta('2 days 00:00:00'), 'T & R associates': Timedelta('10 days 00:00:00'), 'T C JA foundation': Timedelta('46 days 00:00:00'), 'T MA co': Timedelta('-13 days +00:00:00'), 'T MA llc': Timedelta('6 days 00:00:00'), 'T MA systems': Timedelta('-11 days +00:00:00'), 'TAMA trust': Timedelta('1 days 00:00:00'), 'TANKER corporation': Timedelta('-1 days +00:00:00'), 'TANKER us': Timedelta('0 days 00:00:00'), 'TAP associates': Timedelta('-8 days +12:00:00'), 'TAP co': Timedelta('-9 days +00:00:00'), 'TAP foundation': Timedelta('-5 days +00:00:00'), 'TAPA associates': Timedelta('-12 days +00:00:00'), 'TAPA co': Timedelta('-14 days +12:00:00'), 'TAPA foundation': Timedelta('-9 days +00:00:00'), 'TAPA in': Timedelta('4 days 00:00:00'), 'TAPA trust': Timedelta('-12 days +00:00:00'), 'TARG ': Timedelta('1 days 18:33:36'), 'TARG associates': Timedelta('2 days 05:24:30.422535211'), 'TARG co': Timedelta('3 days 09:02:36.521739130'), 'TARG corp': Timedelta('1 days 06:00:00'), 'TARG corporation': Timedelta('2 days 07:48:00'), 'TARG foundation': Timedelta('2 days 15:39:07.826086956'), 'TARG in': Timedelta('1 days 15:47:50.886075949'), 'TARG llc': Timedelta('2 days 12:08:53.333333333'), 'TARG systems': Timedelta('3 days 04:29:00.659340659'), 'TARG trust': Timedelta('2 days 02:42:34.838709677'), 'TARG us': Timedelta('2 days 01:21:07.605633802'), 'TAYLOR corporation': Timedelta('8 days 00:00:00'), 'TAYLOR llc': Timedelta('-6 days +00:00:00'), 'TEE in': Timedelta('0 days 00:00:00'), 'TEE systems': Timedelta('3 days 00:00:00'), 'TENNES ': Timedelta('0 days 00:00:00'), 'TENNES corporation': Timedelta('4 days 00:00:00'), 'TERI NI ': Timedelta('0 days 00:00:00'), 'TFC co': Timedelta('1 days 00:00:00'), 'TFC corporation': Timedelta('1 days 00:00:00'), 'TFC llc': Timedelta('-1 days +00:00:00'), 'TFC trust': Timedelta('4 days 00:00:00'), 'TFC us': Timedelta('3 days 00:00:00'), 'THAYE ': Timedelta('0 days 00:00:00'), 'THE  ': Timedelta('54 days 16:48:00'), 'THE  associates': Timedelta('70 days 00:00:00'), 'THE  co': Timedelta('61 days 04:48:00'), 'THE  corp': Timedelta('57 days 17:36:00'), 'THE  corporation': Timedelta('71 days 10:40:00'), 'THE  foundation': Timedelta('56 days 14:24:00'), 'THE  in': Timedelta('62 days 02:00:00'), 'THE  llc': Timedelta('67 days 12:00:00'), 'THE  systems': Timedelta('56 days 03:25:42.857142857'), 'THE  trust': Timedelta('34 days 19:12:00'), 'THE  us': Timedelta('62 days 08:00:00'), 'THE NO ': Timedelta('0 days 00:00:00'), 'THE NO associates': Timedelta('1 days 12:00:00'), 'THE NO co': Timedelta('0 days 00:00:00'), 'THE NO corporation': Timedelta('3 days 00:00:00'), 'THE NO foundation': Timedelta('0 days 00:00:00'), 'THE NO in': Timedelta('-3 days +12:00:00'), 'THE NO systems': Timedelta('0 days 00:00:00'), 'THE NO trust': Timedelta('-1 days +00:00:00'), 'THE NO us': Timedelta('-1 days +00:00:00'), 'THE P associates': Timedelta('-8 days +00:00:00'), 'THE P corp': Timedelta('-4 days +12:00:00'), 'THE SQUA foundation': Timedelta('3 days 00:00:00'), 'THE SQUA trust': Timedelta('1 days 00:00:00'), 'THE WA ': Timedelta('48 days 00:00:00'), 'THE WA associates': Timedelta('23 days 00:00:00'), 'THE YOUN corp': Timedelta('-5 days +00:00:00'), 'THERM systems': Timedelta('69 days 00:00:00'), 'THERM us': Timedelta('19 days 00:00:00'), 'THUR trust': Timedelta('0 days 00:00:00'), 'TIM H ': Timedelta('32 days 12:00:00'), 'TIM H corporation': Timedelta('3 days 00:00:00'), 'TIM H foundation': Timedelta('32 days 00:00:00'), 'TIMES ': Timedelta('0 days 16:00:00'), 'TIMES associates': Timedelta('-1 days +16:00:00'), 'TIMES co': Timedelta('0 days 16:00:00'), 'TIMES corp': Timedelta('0 days 00:00:00'), 'TIMES corporation': Timedelta('0 days 08:00:00'), 'TIMES foundation': Timedelta('1 days 12:00:00'), 'TIMES in': Timedelta('1 days 08:00:00'), 'TIMES llc': Timedelta('1 days 00:00:00'), 'TIMES trust': Timedelta('0 days 00:00:00'), 'TIPTON associates': Timedelta('45 days 00:00:00'), 'TONY llc': Timedelta('5 days 00:00:00'), 'TONY us': Timedelta('1 days 00:00:00'), 'TORONTO in': Timedelta('2 days 00:00:00'), 'TOTA ': Timedelta('-4 days +00:00:00'), 'TOTA associates': Timedelta('-1 days +00:00:00'), 'TOTA llc': Timedelta('-1 days +00:00:00'), 'TOTA us': Timedelta('-5 days +00:00:00'), 'TOUC ': Timedelta('6 days 00:00:00'), 'TOUC corp': Timedelta('6 days 00:00:00'), 'TOUC foundation': Timedelta('7 days 00:00:00'), 'TOUC llc': Timedelta('-2 days +12:00:00'), 'TR corporation': Timedelta('-8 days +00:00:00'), 'TRA corp': Timedelta('11 days 00:00:00'), 'TRA corporation': Timedelta('7 days 00:00:00'), 'TRA systems': Timedelta('7 days 00:00:00'), 'TREE  co': Timedelta('-3 days +00:00:00'), 'TREE  corporation': Timedelta('1 days 00:00:00'), 'TREE  in': Timedelta('86 days 12:00:00'), 'TREE  llc': Timedelta('77 days 00:00:00'), 'TREE  us': Timedelta('76 days 00:00:00'), 'TREEHOU associates': Timedelta('-13 days +00:00:00'), 'TREEHOU co': Timedelta('6 days 00:00:00'), 'TREEHOU in': Timedelta('-14 days +00:00:00'), 'TRI- corp': Timedelta('-23 days +00:00:00'), 'TRI- in': Timedelta('-21 days +00:00:00'), 'TRIPLE co': Timedelta('-4 days +00:00:00'), 'TRO ': Timedelta('-7 days +00:00:00'), 'TRO foundation': Timedelta('0 days 00:00:00'), 'TRUI corporation': Timedelta('-1 days +00:00:00'), \"TUFO' in\": Timedelta('4 days 00:00:00'), 'TZETZ ': Timedelta('7 days 00:00:00'), 'U R M  ': Timedelta('0 days 00:00:00'), 'U R M  associates': Timedelta('-12 days +18:00:00'), 'U R M  co': Timedelta('0 days 00:00:00'), 'U R M  corp': Timedelta('0 days 00:00:00'), 'U R M  corporation': Timedelta('0 days 00:00:00'), 'U R M  foundation': Timedelta('3 days 09:36:00'), 'U R M  in': Timedelta('-75 days +00:00:00'), 'U R M  llc': Timedelta('2 days 16:00:00'), 'U R M  systems': Timedelta('-25 days +00:00:00'), 'U R M  trust': Timedelta('1 days 00:00:00'), 'U R M  us': Timedelta('0 days 00:00:00'), 'UN systems': Timedelta('1 days 00:00:00'), 'UN trust': Timedelta('15 days 00:00:00'), 'UNF corp': Timedelta('39 days 00:00:00'), 'UNI ': Timedelta('-4 days +00:00:00'), 'UNIFIE ': Timedelta('0 days 09:36:00'), 'UNIFIE associates': Timedelta('7 days 04:21:49.090909090'), 'UNIFIE co': Timedelta('8 days 00:00:00'), 'UNIFIE corp': Timedelta('0 days 22:24:00'), 'UNIFIE corporation': Timedelta('1 days 00:00:00'), 'UNIFIE foundation': Timedelta('4 days 15:25:42.857142857'), 'UNIFIE in': Timedelta('0 days 21:49:05.454545454'), 'UNIFIE llc': Timedelta('2 days 09:00:00'), 'UNIFIE systems': Timedelta('1 days 03:41:32.307692307'), 'UNIFIE trust': Timedelta('1 days 04:48:00'), 'UNIFIE us': Timedelta('10 days 06:32:43.636363636'), 'UNIT us': Timedelta('-2 days +00:00:00'), 'UNITE ': Timedelta('1 days 22:51:25.714285714'), 'UNITE associates': Timedelta('1 days 00:00:00'), 'UNITE co': Timedelta('1 days 16:00:00'), 'UNITE corp': Timedelta('-5 days +19:12:00'), 'UNITE corporation': Timedelta('-4 days +16:00:00'), 'UNITE foundation': Timedelta('-13 days +00:00:00'), 'UNITE in': Timedelta('0 days 09:36:00'), 'UNITE llc': Timedelta('1 days 06:00:00'), 'UNITE systems': Timedelta('-6 days +02:40:00'), 'UNITE trust': Timedelta('-2 days +02:40:00'), 'UNITE us': Timedelta('-1 days +16:00:00'), 'UNITED  ': Timedelta('0 days 00:00:00'), 'UNITED  in': Timedelta('5 days 00:00:00'), 'UNITED  systems': Timedelta('0 days 00:00:00'), 'UNITED  us': Timedelta('0 days 00:00:00'), 'UPPER co': Timedelta('-5 days +00:00:00'), 'UPPER corp': Timedelta('5 days 00:00:00'), 'UPPER systems': Timedelta('-3 days +00:00:00'), 'UPST corp': Timedelta('6 days 00:00:00'), 'US  ': Timedelta('1 days 22:53:01.395348837'), 'US  associates': Timedelta('4 days 03:47:22.105263157'), 'US  co': Timedelta('1 days 13:46:40'), 'US  corp': Timedelta('2 days 20:12:37.894736842'), 'US  corporation': Timedelta('1 days 13:47:14.042553191'), 'US  foundation': Timedelta('1 days 21:57:26.808510638'), 'US  in': Timedelta('1 days 11:04:36.923076923'), 'US  llc': Timedelta('2 days 03:07:49.565217391'), 'US  systems': Timedelta('1 days 20:09:36'), 'US  trust': Timedelta('1 days 03:06:40'), 'US  us': Timedelta('1 days 16:48:00'), 'US FOO ': Timedelta('1 days 00:00:00'), 'US us': Timedelta('2 days 00:00:00'), 'UTZ Q co': Timedelta('-7 days +00:00:00'), 'UTZ Q corp': Timedelta('-14 days +12:00:00'), 'UTZ Q corporation': Timedelta('-5 days +00:00:00'), 'UTZ Q foundation': Timedelta('-5 days +00:00:00'), 'UTZ Q in': Timedelta('-7 days +00:00:00'), 'UTZ Q systems': Timedelta('-7 days +00:00:00'), 'UTZ Q trust': Timedelta('-9 days +00:00:00'), 'UTZ Q us': Timedelta('-5 days +00:00:00'), 'VALE ': Timedelta('-8 days +00:00:00'), 'VALE corp': Timedelta('-8 days +00:00:00'), 'VALE in': Timedelta('0 days 00:00:00'), 'VALLEY trust': Timedelta('6 days 00:00:00'), 'VALUE co': Timedelta('-1 days +00:00:00'), 'VAN  ': Timedelta('-10 days +00:00:00'), 'VAN  corp': Timedelta('-10 days +00:00:00'), 'VAN  us': Timedelta('38 days 00:00:00'), 'VANE co': Timedelta('4 days 00:00:00'), 'VANE corporation': Timedelta('3 days 00:00:00'), 'VANNE systems': Timedelta('13 days 00:00:00'), 'VANTAG llc': Timedelta('7 days 00:00:00'), 'VARI corp': Timedelta('4 days 00:00:00'), 'VARI corporation': Timedelta('-2 days +00:00:00'), 'VARI foundation': Timedelta('5 days 00:00:00'), 'VARI llc': Timedelta('4 days 00:00:00'), 'VARI us': Timedelta('8 days 00:00:00'), 'VEG PR associates': Timedelta('12 days 12:00:00'), 'VEG PR in': Timedelta('-1 days +00:00:00'), 'VENDO associates': Timedelta('-1 days +00:00:00'), 'VENDO corp': Timedelta('0 days 00:00:00'), 'VENDO in': Timedelta('-1 days +00:00:00'), 'VENDO us': Timedelta('0 days 00:00:00'), 'VENT associates': Timedelta('-10 days +00:00:00'), 'VENT co': Timedelta('-25 days +00:00:00'), 'VENT corp': Timedelta('-18 days +00:00:00'), 'VENT systems': Timedelta('6 days 00:00:00'), 'VENT trust': Timedelta('-25 days +00:00:00'), 'VERI llc': Timedelta('1 days 00:00:00'), 'VF G trust': Timedelta('-2 days +00:00:00'), 'VIEL ': Timedelta('4 days 00:00:00'), 'VIEL in': Timedelta('-1 days +00:00:00'), 'VILA ': Timedelta('2 days 00:00:00'), 'VILA associates': Timedelta('4 days 00:00:00'), 'VILA corp': Timedelta('0 days 00:00:00'), 'VILA corporation': Timedelta('-1 days +12:00:00'), 'VILA foundation': Timedelta('-2 days +00:00:00'), 'VILA us': Timedelta('1 days 00:00:00'), 'VIP  ': Timedelta('107 days 00:00:00'), 'VIP  corp': Timedelta('1 days 00:00:00'), 'VIT ': Timedelta('-33 days +00:00:00'), 'VIT corporation': Timedelta('9 days 00:00:00'), 'VIT in': Timedelta('-52 days +00:00:00'), 'VITC ': Timedelta('-23 days +00:00:00'), 'VITC corporation': Timedelta('-22 days +00:00:00'), 'VITC in': Timedelta('0 days 00:00:00'), 'W H ': Timedelta('-4 days +00:00:00'), 'W H associates': Timedelta('0 days 00:00:00'), 'W H co': Timedelta('25 days 12:00:00'), 'W LEE  co': Timedelta('-4 days +00:00:00'), 'W LEE  systems': Timedelta('-2 days +00:00:00'), 'W LEE  trust': Timedelta('-2 days +08:00:00'), 'W LEE  us': Timedelta('-2 days +00:00:00'), 'WA ': Timedelta('-3 days +16:00:00'), 'WA associates': Timedelta('1 days 12:00:00'), 'WA co': Timedelta('2 days 00:00:00'), 'WA corp': Timedelta('-1 days +00:00:00'), 'WA foundation': Timedelta('2 days 00:00:00'), 'WA in': Timedelta('-1 days +12:00:00'), 'WA systems': Timedelta('-1 days +16:00:00'), 'WAGNE in': Timedelta('5 days 00:00:00'), 'WAGNE llc': Timedelta('-2 days +00:00:00'), 'WAKE ': Timedelta('-1 days +20:18:27.692307693'), 'WAKE associates': Timedelta('-3 days +23:04:36.923076924'), 'WAKE co': Timedelta('1 days 12:00:00'), 'WAKE corp': Timedelta('0 days 13:50:46.153846153'), 'WAKE corporation': Timedelta('-4 days +12:00:00'), 'WAKE foundation': Timedelta('-6 days +22:57:23.478260870'), 'WAKE in': Timedelta('-7 days +02:40:00'), 'WAKE llc': Timedelta('0 days 03:16:21.818181818'), 'WAKE systems': Timedelta('-1 days +21:10:35.294117648'), 'WAKE trust': Timedelta('-6 days +00:49:39.310344828'), 'WAKE us': Timedelta('-5 days +00:00:00'), 'WAL MA ': Timedelta('6 days 18:00:00'), 'WAL MA associates': Timedelta('6 days 00:00:00'), 'WAL MA co': Timedelta('4 days 00:00:00'), 'WAL MA corp': Timedelta('6 days 18:00:00'), 'WAL MA corporation': Timedelta('5 days 16:00:00'), 'WAL MA foundation': Timedelta('8 days 00:00:00'), 'WAL MA llc': Timedelta('7 days 16:00:00'), 'WAL MA systems': Timedelta('10 days 00:00:00'), 'WAL MA us': Timedelta('5 days 00:00:00'), 'WAL-M ': Timedelta('9 days 13:37:17.837837837'), 'WAL-M associates': Timedelta('9 days 01:42:51.428571428'), 'WAL-M co': Timedelta('8 days 12:55:23.076923076'), 'WAL-M corp': Timedelta('9 days 19:12:00'), 'WAL-M corporation': Timedelta('10 days 07:32:34.285714285'), 'WAL-M foundation': Timedelta('10 days 04:12:00'), 'WAL-M in': Timedelta('8 days 18:56:50.526315789'), 'WAL-M llc': Timedelta('8 days 23:26:30.697674418'), 'WAL-M systems': Timedelta('9 days 09:13:50.769230769'), 'WAL-M trust': Timedelta('11 days 05:16:05.853658536'), 'WAL-M us': Timedelta('9 days 13:15:47.368421052'), 'WAL-MAR ': Timedelta('-3 days +21:00:24.269662922'), 'WAL-MAR associates': Timedelta('-2 days +01:03:13.170731708'), 'WAL-MAR co': Timedelta('-3 days +12:40:08.540925268'), 'WAL-MAR corp': Timedelta('-3 days +07:08:49.779837777'), 'WAL-MAR corporation': Timedelta('-3 days +11:10:53.410404626'), 'WAL-MAR foundation': Timedelta('-3 days +19:33:27.692307693'), 'WAL-MAR in': Timedelta('-3 days +11:31:31.525423729'), 'WAL-MAR llc': Timedelta('-3 days +09:19:03.529411765'), 'WAL-MAR systems': Timedelta('-3 days +14:57:58.042659975'), 'WAL-MAR trust': Timedelta('-3 days +16:23:27.166123779'), 'WAL-MAR us': Timedelta('-3 days +17:57:22.335766424'), 'WALG ': Timedelta('0 days 18:00:00'), 'WALG associates': Timedelta('10 days 00:00:00'), 'WALG co': Timedelta('5 days 14:24:00'), 'WALG corp': Timedelta('5 days 12:00:00'), 'WALG corporation': Timedelta('1 days 08:00:00'), 'WALG foundation': Timedelta('1 days 00:00:00'), 'WALG in': Timedelta('4 days 05:20:00'), 'WALG llc': Timedelta('13 days 17:08:34.285714285'), 'WALG systems': Timedelta('13 days 20:00:00'), 'WALG trust': Timedelta('0 days 04:48:00'), 'WALG us': Timedelta('12 days 14:24:00'), 'WALLA foundation': Timedelta('10 days 00:00:00'), 'WALLA in': Timedelta('-1 days +00:00:00'), 'WALLA llc': Timedelta('5 days 00:00:00'), 'WALLA systems': Timedelta('5 days 00:00:00'), 'WALLA trust': Timedelta('4 days 00:00:00'), 'WALM ': Timedelta('60 days 00:00:00'), 'WALT co': Timedelta('32 days 00:00:00'), 'WAUG corporation': Timedelta('-6 days +00:00:00'), 'WEGMAN ': Timedelta('1 days 00:00:00'), 'WEGMAN associates': Timedelta('2 days 08:00:00'), 'WEGMAN co': Timedelta('1 days 02:40:00'), 'WEGMAN corp': Timedelta('0 days 12:00:00'), 'WEGMAN corporation': Timedelta('0 days 18:00:00'), 'WEGMAN foundation': Timedelta('0 days 00:00:00'), 'WEGMAN in': Timedelta('1 days 13:05:27.272727272'), 'WEGMAN llc': Timedelta('0 days 08:43:38.181818181'), 'WEGMAN systems': Timedelta('0 days 16:00:00'), 'WEGMAN trust': Timedelta('1 days 02:40:00'), 'WEGMAN us': Timedelta('0 days 06:51:25.714285714'), 'WEIS ': Timedelta('1 days 08:00:00'), 'WEIS associates': Timedelta('0 days 10:17:08.571428571'), 'WEIS co': Timedelta('0 days 16:00:00'), 'WEIS corp': Timedelta('0 days 00:00:00'), 'WEIS corporation': Timedelta('0 days 21:00:00'), 'WEIS foundation': Timedelta('0 days 09:36:00'), 'WEIS in': Timedelta('0 days 14:24:00'), 'WEIS llc': Timedelta('0 days 16:00:00'), 'WEIS systems': Timedelta('0 days 13:42:51.428571428'), 'WEIS trust': Timedelta('0 days 16:48:00'), 'WEIS us': Timedelta('0 days 13:42:51.428571428'), 'WEST  ': Timedelta('4 days 08:00:00'), 'WEST  associates': Timedelta('11 days 00:00:00'), 'WEST  co': Timedelta('-8 days +00:00:00'), 'WEST  trust': Timedelta('5 days 00:00:00'), 'WEST P associates': Timedelta('7 days 00:00:00'), 'WEST P trust': Timedelta('4 days 00:00:00'), 'WEST llc': Timedelta('-6 days +00:00:00'), 'WESTCO foundation': Timedelta('-5 days +00:00:00'), 'WESTERN foundation': Timedelta('3 days 00:00:00'), 'WESTI ': Timedelta('-3 days +00:00:00'), 'WESTI associates': Timedelta('-2 days +00:00:00'), 'WESTI corporation': Timedelta('-6 days +08:00:00'), 'WESTI in': Timedelta('-6 days +00:00:00'), 'WHIT foundation': Timedelta('-7 days +00:00:00'), 'WHIT us': Timedelta('-2 days +00:00:00'), 'WILLI co': Timedelta('3 days 00:00:00'), 'WILLIAM systems': Timedelta('-1 days +00:00:00'), 'WINC ': Timedelta('0 days 21:15:25.714285714'), 'WINC associates': Timedelta('0 days 21:49:05.454545454'), 'WINC co': Timedelta('2 days 05:50:16.216216216'), 'WINC corp': Timedelta('-4 days +21:20:00'), 'WINC corporation': Timedelta('0 days 16:15:29.032258064'), 'WINC foundation': Timedelta('1 days 02:46:09.230769230'), 'WINC in': Timedelta('0 days 18:30:51.428571428'), 'WINC llc': Timedelta('0 days 20:00:00'), 'WINC systems': Timedelta('-1 days +14:24:00'), 'WINC trust': Timedelta('1 days 00:00:00'), 'WINC us': Timedelta('-1 days +08:53:20'), 'WINKLE ': Timedelta('0 days 00:00:00'), 'WINKLE associates': Timedelta('-1 days +16:00:00'), 'WINKLE co': Timedelta('0 days 00:00:00'), 'WINKLE in': Timedelta('-1 days +00:00:00'), 'WINKLE llc': Timedelta('0 days 00:00:00'), 'WINKLE us': Timedelta('0 days 00:00:00'), 'WISCO co': Timedelta('3 days 00:00:00'), 'WISCO corp': Timedelta('0 days 00:00:00'), 'WISCO corporation': Timedelta('2 days 00:00:00'), 'WISCO foundation': Timedelta('0 days 00:00:00'), 'WISE foundation': Timedelta('-1 days +00:00:00'), 'WOOD F associates': Timedelta('-8 days +00:00:00'), 'WOOD F corporation': Timedelta('-8 days +00:00:00'), 'WOOD F in': Timedelta('120 days 00:00:00'), 'WOOD F systems': Timedelta('-8 days +00:00:00'), 'WOOD F us': Timedelta('-8 days +00:00:00'), 'WOODM ': Timedelta('0 days 00:00:00'), 'WOODM associates': Timedelta('0 days 00:00:00'), 'WOODM corp': Timedelta('-2 days +00:00:00'), 'WOODM corporation': Timedelta('0 days 00:00:00'), 'WOODM foundation': Timedelta('6 days 00:00:00'), 'WOODM in': Timedelta('13 days 00:00:00'), 'WOODM llc': Timedelta('3 days 12:00:00'), 'WOODM systems': Timedelta('0 days 00:00:00'), 'WOODM trust': Timedelta('0 days 00:00:00'), 'WOR associates': Timedelta('1 days 00:00:00'), 'WOR systems': Timedelta('2 days 00:00:00'), 'WOR us': Timedelta('0 days 00:00:00'), 'WOW FA associates': Timedelta('3 days 00:00:00'), 'WOW FA in': Timedelta('1 days 00:00:00'), 'WR in': Timedelta('7 days 00:00:00'), 'WRT W co': Timedelta('-6 days +00:00:00'), 'Y H ': Timedelta('0 days 00:00:00'), 'Y H associates': Timedelta('-2 days +00:00:00'), 'Y H corporation': Timedelta('-1 days +16:00:00'), 'Y H llc': Timedelta('-1 days +16:00:00'), 'Y H systems': Timedelta('-1 days +16:00:00'), 'Y H trust': Timedelta('0 days 00:00:00'), 'YAEGER corp': Timedelta('0 days 00:00:00'), 'YAEGER in': Timedelta('-5 days +00:00:00'), 'YEN BROS ': Timedelta('0 days 00:00:00'), 'YEN BROS co': Timedelta('-1 days +00:00:00'), 'YEN BROS corp': Timedelta('0 days 00:00:00'), 'YEN BROS corporation': Timedelta('-1 days +12:00:00'), 'YEN BROS llc': Timedelta('-2 days +00:00:00'), 'ZARCO co': Timedelta('-1 days +00:00:00'), 'ZIYAD  us': Timedelta('6 days 00:00:00')}\n"
     ]
    }
   ],
   "source": [
    "map_dict=maindata.groupby(['name_customer'])['avg_delay'].mean().to_dict()\n",
    "print(map_dict)"
   ]
  },
  {
   "cell_type": "markdown",
   "id": "1d332525",
   "metadata": {
    "id": "1d332525"
   },
   "source": [
    "### Observe that the \"avg_delay\" column is in days format. You need to change the format into seconds\n",
    "\n",
    "- Days_format :  17 days 00:00:00\n",
    "- Format in seconds : 1641600.0"
   ]
  },
  {
   "cell_type": "code",
   "execution_count": 47,
   "id": "d5f1041e",
   "metadata": {
    "id": "d5f1041e"
   },
   "outputs": [],
   "source": [
    "maindata['avg_delay'] = maindata['avg_delay'].dt.seconds"
   ]
  },
  {
   "cell_type": "markdown",
   "id": "OvgtHSsx_O-n",
   "metadata": {
    "id": "OvgtHSsx_O-n"
   },
   "source": [
    "### Display the maindata dataframe "
   ]
  },
  {
   "cell_type": "code",
   "execution_count": 48,
   "id": "ec594203",
   "metadata": {},
   "outputs": [
    {
     "data": {
      "text/html": [
       "<div>\n",
       "<style scoped>\n",
       "    .dataframe tbody tr th:only-of-type {\n",
       "        vertical-align: middle;\n",
       "    }\n",
       "\n",
       "    .dataframe tbody tr th {\n",
       "        vertical-align: top;\n",
       "    }\n",
       "\n",
       "    .dataframe thead th {\n",
       "        text-align: right;\n",
       "    }\n",
       "</style>\n",
       "<table border=\"1\" class=\"dataframe\">\n",
       "  <thead>\n",
       "    <tr style=\"text-align: right;\">\n",
       "      <th></th>\n",
       "      <th>business_code</th>\n",
       "      <th>cust_number</th>\n",
       "      <th>name_customer</th>\n",
       "      <th>clear_date</th>\n",
       "      <th>buisness_year</th>\n",
       "      <th>doc_id</th>\n",
       "      <th>posting_date</th>\n",
       "      <th>due_in_date</th>\n",
       "      <th>baseline_create_date</th>\n",
       "      <th>cust_payment_terms</th>\n",
       "      <th>converted_usd</th>\n",
       "      <th>Delay</th>\n",
       "      <th>avg_delay</th>\n",
       "    </tr>\n",
       "  </thead>\n",
       "  <tbody>\n",
       "    <tr>\n",
       "      <th>0</th>\n",
       "      <td>U001</td>\n",
       "      <td>200769623</td>\n",
       "      <td>WAL-MAR corp</td>\n",
       "      <td>2020-02-11</td>\n",
       "      <td>2020</td>\n",
       "      <td>1930438491</td>\n",
       "      <td>2020-01-26</td>\n",
       "      <td>2020-02-10</td>\n",
       "      <td>2020-01-26</td>\n",
       "      <td>NAH4</td>\n",
       "      <td>54273.280</td>\n",
       "      <td>1 days</td>\n",
       "      <td>25729</td>\n",
       "    </tr>\n",
       "    <tr>\n",
       "      <th>1</th>\n",
       "      <td>U001</td>\n",
       "      <td>200980828</td>\n",
       "      <td>BEN E</td>\n",
       "      <td>2019-08-08</td>\n",
       "      <td>2019</td>\n",
       "      <td>1929646410</td>\n",
       "      <td>2019-07-22</td>\n",
       "      <td>2019-08-11</td>\n",
       "      <td>2019-07-22</td>\n",
       "      <td>NAD1</td>\n",
       "      <td>79656.600</td>\n",
       "      <td>-3 days</td>\n",
       "      <td>0</td>\n",
       "    </tr>\n",
       "    <tr>\n",
       "      <th>2</th>\n",
       "      <td>U001</td>\n",
       "      <td>200792734</td>\n",
       "      <td>MDV/ trust</td>\n",
       "      <td>2019-12-30</td>\n",
       "      <td>2019</td>\n",
       "      <td>1929873765</td>\n",
       "      <td>2019-09-14</td>\n",
       "      <td>2019-09-29</td>\n",
       "      <td>2019-09-14</td>\n",
       "      <td>NAA8</td>\n",
       "      <td>2253.860</td>\n",
       "      <td>92 days</td>\n",
       "      <td>7854</td>\n",
       "    </tr>\n",
       "    <tr>\n",
       "      <th>4</th>\n",
       "      <td>U001</td>\n",
       "      <td>200769623</td>\n",
       "      <td>WAL-MAR foundation</td>\n",
       "      <td>2019-11-25</td>\n",
       "      <td>2019</td>\n",
       "      <td>1930147974</td>\n",
       "      <td>2019-11-13</td>\n",
       "      <td>2019-11-28</td>\n",
       "      <td>2019-11-13</td>\n",
       "      <td>NAH4</td>\n",
       "      <td>33133.290</td>\n",
       "      <td>-3 days</td>\n",
       "      <td>70407</td>\n",
       "    </tr>\n",
       "    <tr>\n",
       "      <th>5</th>\n",
       "      <td>CA02</td>\n",
       "      <td>140106181</td>\n",
       "      <td>THE  corporation</td>\n",
       "      <td>2019-12-04</td>\n",
       "      <td>2019</td>\n",
       "      <td>2960581231</td>\n",
       "      <td>2019-09-20</td>\n",
       "      <td>2019-10-04</td>\n",
       "      <td>2019-09-24</td>\n",
       "      <td>CA10</td>\n",
       "      <td>15558.088</td>\n",
       "      <td>61 days</td>\n",
       "      <td>38400</td>\n",
       "    </tr>\n",
       "    <tr>\n",
       "      <th>...</th>\n",
       "      <td>...</td>\n",
       "      <td>...</td>\n",
       "      <td>...</td>\n",
       "      <td>...</td>\n",
       "      <td>...</td>\n",
       "      <td>...</td>\n",
       "      <td>...</td>\n",
       "      <td>...</td>\n",
       "      <td>...</td>\n",
       "      <td>...</td>\n",
       "      <td>...</td>\n",
       "      <td>...</td>\n",
       "      <td>...</td>\n",
       "    </tr>\n",
       "    <tr>\n",
       "      <th>49994</th>\n",
       "      <td>U001</td>\n",
       "      <td>200762301</td>\n",
       "      <td>C&amp;S WH trust</td>\n",
       "      <td>2019-07-25</td>\n",
       "      <td>2019</td>\n",
       "      <td>1929600989</td>\n",
       "      <td>2019-10-07</td>\n",
       "      <td>2019-07-25</td>\n",
       "      <td>2019-07-10</td>\n",
       "      <td>NAC6</td>\n",
       "      <td>84780.400</td>\n",
       "      <td>0 days</td>\n",
       "      <td>53100</td>\n",
       "    </tr>\n",
       "    <tr>\n",
       "      <th>49996</th>\n",
       "      <td>U001</td>\n",
       "      <td>200769623</td>\n",
       "      <td>WAL-MAR co</td>\n",
       "      <td>2019-09-03</td>\n",
       "      <td>2019</td>\n",
       "      <td>1929744070</td>\n",
       "      <td>2019-08-15</td>\n",
       "      <td>2019-08-30</td>\n",
       "      <td>2019-08-15</td>\n",
       "      <td>NAH4</td>\n",
       "      <td>6766.540</td>\n",
       "      <td>4 days</td>\n",
       "      <td>45608</td>\n",
       "    </tr>\n",
       "    <tr>\n",
       "      <th>49997</th>\n",
       "      <td>U001</td>\n",
       "      <td>200772595</td>\n",
       "      <td>SAFEW associates</td>\n",
       "      <td>2020-03-05</td>\n",
       "      <td>2020</td>\n",
       "      <td>1930536775</td>\n",
       "      <td>2020-02-19</td>\n",
       "      <td>2020-03-05</td>\n",
       "      <td>2020-02-19</td>\n",
       "      <td>NAA8</td>\n",
       "      <td>6120.860</td>\n",
       "      <td>0 days</td>\n",
       "      <td>4114</td>\n",
       "    </tr>\n",
       "    <tr>\n",
       "      <th>49998</th>\n",
       "      <td>U001</td>\n",
       "      <td>200726979</td>\n",
       "      <td>BJ'S  llc</td>\n",
       "      <td>2019-12-12</td>\n",
       "      <td>2019</td>\n",
       "      <td>1930198546</td>\n",
       "      <td>2019-11-27</td>\n",
       "      <td>2019-12-12</td>\n",
       "      <td>2019-11-27</td>\n",
       "      <td>NAA8</td>\n",
       "      <td>63.480</td>\n",
       "      <td>0 days</td>\n",
       "      <td>49002</td>\n",
       "    </tr>\n",
       "    <tr>\n",
       "      <th>49999</th>\n",
       "      <td>U001</td>\n",
       "      <td>200020431</td>\n",
       "      <td>DEC corp</td>\n",
       "      <td>2019-01-15</td>\n",
       "      <td>2019</td>\n",
       "      <td>1928576325</td>\n",
       "      <td>2019-05-01</td>\n",
       "      <td>2019-01-24</td>\n",
       "      <td>2019-01-01</td>\n",
       "      <td>NAM4</td>\n",
       "      <td>1790.300</td>\n",
       "      <td>-9 days</td>\n",
       "      <td>8452</td>\n",
       "    </tr>\n",
       "  </tbody>\n",
       "</table>\n",
       "<p>39158 rows × 13 columns</p>\n",
       "</div>"
      ],
      "text/plain": [
       "      business_code cust_number       name_customer clear_date  buisness_year  \\\n",
       "0              U001   200769623        WAL-MAR corp 2020-02-11           2020   \n",
       "1              U001   200980828              BEN E  2019-08-08           2019   \n",
       "2              U001   200792734          MDV/ trust 2019-12-30           2019   \n",
       "4              U001   200769623  WAL-MAR foundation 2019-11-25           2019   \n",
       "5              CA02   140106181    THE  corporation 2019-12-04           2019   \n",
       "...             ...         ...                 ...        ...            ...   \n",
       "49994          U001   200762301        C&S WH trust 2019-07-25           2019   \n",
       "49996          U001   200769623          WAL-MAR co 2019-09-03           2019   \n",
       "49997          U001   200772595    SAFEW associates 2020-03-05           2020   \n",
       "49998          U001   200726979           BJ'S  llc 2019-12-12           2019   \n",
       "49999          U001   200020431            DEC corp 2019-01-15           2019   \n",
       "\n",
       "           doc_id posting_date due_in_date baseline_create_date  \\\n",
       "0      1930438491   2020-01-26  2020-02-10           2020-01-26   \n",
       "1      1929646410   2019-07-22  2019-08-11           2019-07-22   \n",
       "2      1929873765   2019-09-14  2019-09-29           2019-09-14   \n",
       "4      1930147974   2019-11-13  2019-11-28           2019-11-13   \n",
       "5      2960581231   2019-09-20  2019-10-04           2019-09-24   \n",
       "...           ...          ...         ...                  ...   \n",
       "49994  1929600989   2019-10-07  2019-07-25           2019-07-10   \n",
       "49996  1929744070   2019-08-15  2019-08-30           2019-08-15   \n",
       "49997  1930536775   2020-02-19  2020-03-05           2020-02-19   \n",
       "49998  1930198546   2019-11-27  2019-12-12           2019-11-27   \n",
       "49999  1928576325   2019-05-01  2019-01-24           2019-01-01   \n",
       "\n",
       "      cust_payment_terms  converted_usd   Delay  avg_delay  \n",
       "0                   NAH4      54273.280  1 days      25729  \n",
       "1                   NAD1      79656.600 -3 days          0  \n",
       "2                   NAA8       2253.860 92 days       7854  \n",
       "4                   NAH4      33133.290 -3 days      70407  \n",
       "5                   CA10      15558.088 61 days      38400  \n",
       "...                  ...            ...     ...        ...  \n",
       "49994               NAC6      84780.400  0 days      53100  \n",
       "49996               NAH4       6766.540  4 days      45608  \n",
       "49997               NAA8       6120.860  0 days       4114  \n",
       "49998               NAA8         63.480  0 days      49002  \n",
       "49999               NAM4       1790.300 -9 days       8452  \n",
       "\n",
       "[39158 rows x 13 columns]"
      ]
     },
     "execution_count": 48,
     "metadata": {},
     "output_type": "execute_result"
    }
   ],
   "source": [
    "maindata"
   ]
  },
  {
   "cell_type": "markdown",
   "id": "ae24c7bb",
   "metadata": {
    "id": "ae24c7bb"
   },
   "source": [
    "### Since you have created the \"avg_delay\" column from \"Delay\" and \"clear_date\" column, there is no need of these two columns anymore \n",
    "\n",
    "- You are expected to drop \"Delay\" and \"clear_date\" columns from maindata dataframe "
   ]
  },
  {
   "cell_type": "code",
   "execution_count": 49,
   "id": "78a61ab9",
   "metadata": {
    "id": "78a61ab9"
   },
   "outputs": [],
   "source": [
    "maindata.drop(['Delay','clear_date'], axis=1,inplace=True)"
   ]
  },
  {
   "cell_type": "code",
   "execution_count": 50,
   "id": "ac8c0ec2",
   "metadata": {},
   "outputs": [
    {
     "data": {
      "text/html": [
       "<div>\n",
       "<style scoped>\n",
       "    .dataframe tbody tr th:only-of-type {\n",
       "        vertical-align: middle;\n",
       "    }\n",
       "\n",
       "    .dataframe tbody tr th {\n",
       "        vertical-align: top;\n",
       "    }\n",
       "\n",
       "    .dataframe thead th {\n",
       "        text-align: right;\n",
       "    }\n",
       "</style>\n",
       "<table border=\"1\" class=\"dataframe\">\n",
       "  <thead>\n",
       "    <tr style=\"text-align: right;\">\n",
       "      <th></th>\n",
       "      <th>business_code</th>\n",
       "      <th>cust_number</th>\n",
       "      <th>name_customer</th>\n",
       "      <th>buisness_year</th>\n",
       "      <th>doc_id</th>\n",
       "      <th>posting_date</th>\n",
       "      <th>due_in_date</th>\n",
       "      <th>baseline_create_date</th>\n",
       "      <th>cust_payment_terms</th>\n",
       "      <th>converted_usd</th>\n",
       "      <th>avg_delay</th>\n",
       "    </tr>\n",
       "  </thead>\n",
       "  <tbody>\n",
       "    <tr>\n",
       "      <th>0</th>\n",
       "      <td>U001</td>\n",
       "      <td>200769623</td>\n",
       "      <td>WAL-MAR corp</td>\n",
       "      <td>2020</td>\n",
       "      <td>1930438491</td>\n",
       "      <td>2020-01-26</td>\n",
       "      <td>2020-02-10</td>\n",
       "      <td>2020-01-26</td>\n",
       "      <td>NAH4</td>\n",
       "      <td>54273.280</td>\n",
       "      <td>25729</td>\n",
       "    </tr>\n",
       "    <tr>\n",
       "      <th>1</th>\n",
       "      <td>U001</td>\n",
       "      <td>200980828</td>\n",
       "      <td>BEN E</td>\n",
       "      <td>2019</td>\n",
       "      <td>1929646410</td>\n",
       "      <td>2019-07-22</td>\n",
       "      <td>2019-08-11</td>\n",
       "      <td>2019-07-22</td>\n",
       "      <td>NAD1</td>\n",
       "      <td>79656.600</td>\n",
       "      <td>0</td>\n",
       "    </tr>\n",
       "    <tr>\n",
       "      <th>2</th>\n",
       "      <td>U001</td>\n",
       "      <td>200792734</td>\n",
       "      <td>MDV/ trust</td>\n",
       "      <td>2019</td>\n",
       "      <td>1929873765</td>\n",
       "      <td>2019-09-14</td>\n",
       "      <td>2019-09-29</td>\n",
       "      <td>2019-09-14</td>\n",
       "      <td>NAA8</td>\n",
       "      <td>2253.860</td>\n",
       "      <td>7854</td>\n",
       "    </tr>\n",
       "    <tr>\n",
       "      <th>4</th>\n",
       "      <td>U001</td>\n",
       "      <td>200769623</td>\n",
       "      <td>WAL-MAR foundation</td>\n",
       "      <td>2019</td>\n",
       "      <td>1930147974</td>\n",
       "      <td>2019-11-13</td>\n",
       "      <td>2019-11-28</td>\n",
       "      <td>2019-11-13</td>\n",
       "      <td>NAH4</td>\n",
       "      <td>33133.290</td>\n",
       "      <td>70407</td>\n",
       "    </tr>\n",
       "    <tr>\n",
       "      <th>5</th>\n",
       "      <td>CA02</td>\n",
       "      <td>140106181</td>\n",
       "      <td>THE  corporation</td>\n",
       "      <td>2019</td>\n",
       "      <td>2960581231</td>\n",
       "      <td>2019-09-20</td>\n",
       "      <td>2019-10-04</td>\n",
       "      <td>2019-09-24</td>\n",
       "      <td>CA10</td>\n",
       "      <td>15558.088</td>\n",
       "      <td>38400</td>\n",
       "    </tr>\n",
       "    <tr>\n",
       "      <th>...</th>\n",
       "      <td>...</td>\n",
       "      <td>...</td>\n",
       "      <td>...</td>\n",
       "      <td>...</td>\n",
       "      <td>...</td>\n",
       "      <td>...</td>\n",
       "      <td>...</td>\n",
       "      <td>...</td>\n",
       "      <td>...</td>\n",
       "      <td>...</td>\n",
       "      <td>...</td>\n",
       "    </tr>\n",
       "    <tr>\n",
       "      <th>49994</th>\n",
       "      <td>U001</td>\n",
       "      <td>200762301</td>\n",
       "      <td>C&amp;S WH trust</td>\n",
       "      <td>2019</td>\n",
       "      <td>1929600989</td>\n",
       "      <td>2019-10-07</td>\n",
       "      <td>2019-07-25</td>\n",
       "      <td>2019-07-10</td>\n",
       "      <td>NAC6</td>\n",
       "      <td>84780.400</td>\n",
       "      <td>53100</td>\n",
       "    </tr>\n",
       "    <tr>\n",
       "      <th>49996</th>\n",
       "      <td>U001</td>\n",
       "      <td>200769623</td>\n",
       "      <td>WAL-MAR co</td>\n",
       "      <td>2019</td>\n",
       "      <td>1929744070</td>\n",
       "      <td>2019-08-15</td>\n",
       "      <td>2019-08-30</td>\n",
       "      <td>2019-08-15</td>\n",
       "      <td>NAH4</td>\n",
       "      <td>6766.540</td>\n",
       "      <td>45608</td>\n",
       "    </tr>\n",
       "    <tr>\n",
       "      <th>49997</th>\n",
       "      <td>U001</td>\n",
       "      <td>200772595</td>\n",
       "      <td>SAFEW associates</td>\n",
       "      <td>2020</td>\n",
       "      <td>1930536775</td>\n",
       "      <td>2020-02-19</td>\n",
       "      <td>2020-03-05</td>\n",
       "      <td>2020-02-19</td>\n",
       "      <td>NAA8</td>\n",
       "      <td>6120.860</td>\n",
       "      <td>4114</td>\n",
       "    </tr>\n",
       "    <tr>\n",
       "      <th>49998</th>\n",
       "      <td>U001</td>\n",
       "      <td>200726979</td>\n",
       "      <td>BJ'S  llc</td>\n",
       "      <td>2019</td>\n",
       "      <td>1930198546</td>\n",
       "      <td>2019-11-27</td>\n",
       "      <td>2019-12-12</td>\n",
       "      <td>2019-11-27</td>\n",
       "      <td>NAA8</td>\n",
       "      <td>63.480</td>\n",
       "      <td>49002</td>\n",
       "    </tr>\n",
       "    <tr>\n",
       "      <th>49999</th>\n",
       "      <td>U001</td>\n",
       "      <td>200020431</td>\n",
       "      <td>DEC corp</td>\n",
       "      <td>2019</td>\n",
       "      <td>1928576325</td>\n",
       "      <td>2019-05-01</td>\n",
       "      <td>2019-01-24</td>\n",
       "      <td>2019-01-01</td>\n",
       "      <td>NAM4</td>\n",
       "      <td>1790.300</td>\n",
       "      <td>8452</td>\n",
       "    </tr>\n",
       "  </tbody>\n",
       "</table>\n",
       "<p>39158 rows × 11 columns</p>\n",
       "</div>"
      ],
      "text/plain": [
       "      business_code cust_number       name_customer  buisness_year  \\\n",
       "0              U001   200769623        WAL-MAR corp           2020   \n",
       "1              U001   200980828              BEN E            2019   \n",
       "2              U001   200792734          MDV/ trust           2019   \n",
       "4              U001   200769623  WAL-MAR foundation           2019   \n",
       "5              CA02   140106181    THE  corporation           2019   \n",
       "...             ...         ...                 ...            ...   \n",
       "49994          U001   200762301        C&S WH trust           2019   \n",
       "49996          U001   200769623          WAL-MAR co           2019   \n",
       "49997          U001   200772595    SAFEW associates           2020   \n",
       "49998          U001   200726979           BJ'S  llc           2019   \n",
       "49999          U001   200020431            DEC corp           2019   \n",
       "\n",
       "           doc_id posting_date due_in_date baseline_create_date  \\\n",
       "0      1930438491   2020-01-26  2020-02-10           2020-01-26   \n",
       "1      1929646410   2019-07-22  2019-08-11           2019-07-22   \n",
       "2      1929873765   2019-09-14  2019-09-29           2019-09-14   \n",
       "4      1930147974   2019-11-13  2019-11-28           2019-11-13   \n",
       "5      2960581231   2019-09-20  2019-10-04           2019-09-24   \n",
       "...           ...          ...         ...                  ...   \n",
       "49994  1929600989   2019-10-07  2019-07-25           2019-07-10   \n",
       "49996  1929744070   2019-08-15  2019-08-30           2019-08-15   \n",
       "49997  1930536775   2020-02-19  2020-03-05           2020-02-19   \n",
       "49998  1930198546   2019-11-27  2019-12-12           2019-11-27   \n",
       "49999  1928576325   2019-05-01  2019-01-24           2019-01-01   \n",
       "\n",
       "      cust_payment_terms  converted_usd  avg_delay  \n",
       "0                   NAH4      54273.280      25729  \n",
       "1                   NAD1      79656.600          0  \n",
       "2                   NAA8       2253.860       7854  \n",
       "4                   NAH4      33133.290      70407  \n",
       "5                   CA10      15558.088      38400  \n",
       "...                  ...            ...        ...  \n",
       "49994               NAC6      84780.400      53100  \n",
       "49996               NAH4       6766.540      45608  \n",
       "49997               NAA8       6120.860       4114  \n",
       "49998               NAA8         63.480      49002  \n",
       "49999               NAM4       1790.300       8452  \n",
       "\n",
       "[39158 rows x 11 columns]"
      ]
     },
     "execution_count": 50,
     "metadata": {},
     "output_type": "execute_result"
    }
   ],
   "source": [
    "maindata"
   ]
  },
  {
   "cell_type": "markdown",
   "id": "ae724bfc",
   "metadata": {
    "id": "ae724bfc"
   },
   "source": [
    "# Splitting of Train and the Test Data"
   ]
  },
  {
   "cell_type": "markdown",
   "id": "cb6f0264",
   "metadata": {
    "id": "cb6f0264"
   },
   "source": [
    "### You need to split the \"maindata\" columns into X and y dataframe\n",
    "\n",
    "- Note - y should have the target column i.e. \"avg_delay\" and the other column should be in X\n",
    "\n",
    "- X is going to hold the source fields and y will be going to hold the target fields"
   ]
  },
  {
   "cell_type": "code",
   "execution_count": 51,
   "id": "75ab29ab",
   "metadata": {
    "id": "75ab29ab"
   },
   "outputs": [],
   "source": [
    "X = maindata.drop(['avg_delay'], axis=1)"
   ]
  },
  {
   "cell_type": "code",
   "execution_count": 52,
   "id": "6412c62b",
   "metadata": {
    "id": "6412c62b"
   },
   "outputs": [],
   "source": [
    "y = maindata['avg_delay']"
   ]
  },
  {
   "cell_type": "markdown",
   "id": "1c2942bf",
   "metadata": {
    "id": "1c2942bf"
   },
   "source": [
    "#### You are expected to split both the dataframes into train and test format in 60:40 ratio \n",
    "\n",
    "- Note - The expected output should be in \"X_train\", \"X_loc_test\", \"y_train\", \"y_loc_test\" format "
   ]
  },
  {
   "cell_type": "code",
   "execution_count": 53,
   "id": "d92160a5",
   "metadata": {
    "id": "d92160a5"
   },
   "outputs": [],
   "source": [
    "X_train, X_loc_test, y_train, y_loc_test = train_test_split(X, y, test_size=0.4, shuffle=False, random_state=0)"
   ]
  },
  {
   "cell_type": "markdown",
   "id": "p4OME62pDufR",
   "metadata": {
    "id": "p4OME62pDufR"
   },
   "source": [
    "### Please check for the number of rows and columns of all the new dataframes (all 4)"
   ]
  },
  {
   "cell_type": "code",
   "execution_count": 54,
   "id": "48328d0a",
   "metadata": {
    "id": "48328d0a"
   },
   "outputs": [
    {
     "data": {
      "text/html": [
       "<div>\n",
       "<style scoped>\n",
       "    .dataframe tbody tr th:only-of-type {\n",
       "        vertical-align: middle;\n",
       "    }\n",
       "\n",
       "    .dataframe tbody tr th {\n",
       "        vertical-align: top;\n",
       "    }\n",
       "\n",
       "    .dataframe thead th {\n",
       "        text-align: right;\n",
       "    }\n",
       "</style>\n",
       "<table border=\"1\" class=\"dataframe\">\n",
       "  <thead>\n",
       "    <tr style=\"text-align: right;\">\n",
       "      <th></th>\n",
       "      <th>business_code</th>\n",
       "      <th>cust_number</th>\n",
       "      <th>name_customer</th>\n",
       "      <th>buisness_year</th>\n",
       "      <th>doc_id</th>\n",
       "      <th>posting_date</th>\n",
       "      <th>due_in_date</th>\n",
       "      <th>baseline_create_date</th>\n",
       "      <th>cust_payment_terms</th>\n",
       "      <th>converted_usd</th>\n",
       "    </tr>\n",
       "  </thead>\n",
       "  <tbody>\n",
       "    <tr>\n",
       "      <th>0</th>\n",
       "      <td>U001</td>\n",
       "      <td>200769623</td>\n",
       "      <td>WAL-MAR corp</td>\n",
       "      <td>2020</td>\n",
       "      <td>1930438491</td>\n",
       "      <td>2020-01-26</td>\n",
       "      <td>2020-02-10</td>\n",
       "      <td>2020-01-26</td>\n",
       "      <td>NAH4</td>\n",
       "      <td>54273.280</td>\n",
       "    </tr>\n",
       "    <tr>\n",
       "      <th>1</th>\n",
       "      <td>U001</td>\n",
       "      <td>200980828</td>\n",
       "      <td>BEN E</td>\n",
       "      <td>2019</td>\n",
       "      <td>1929646410</td>\n",
       "      <td>2019-07-22</td>\n",
       "      <td>2019-08-11</td>\n",
       "      <td>2019-07-22</td>\n",
       "      <td>NAD1</td>\n",
       "      <td>79656.600</td>\n",
       "    </tr>\n",
       "    <tr>\n",
       "      <th>2</th>\n",
       "      <td>U001</td>\n",
       "      <td>200792734</td>\n",
       "      <td>MDV/ trust</td>\n",
       "      <td>2019</td>\n",
       "      <td>1929873765</td>\n",
       "      <td>2019-09-14</td>\n",
       "      <td>2019-09-29</td>\n",
       "      <td>2019-09-14</td>\n",
       "      <td>NAA8</td>\n",
       "      <td>2253.860</td>\n",
       "    </tr>\n",
       "    <tr>\n",
       "      <th>4</th>\n",
       "      <td>U001</td>\n",
       "      <td>200769623</td>\n",
       "      <td>WAL-MAR foundation</td>\n",
       "      <td>2019</td>\n",
       "      <td>1930147974</td>\n",
       "      <td>2019-11-13</td>\n",
       "      <td>2019-11-28</td>\n",
       "      <td>2019-11-13</td>\n",
       "      <td>NAH4</td>\n",
       "      <td>33133.290</td>\n",
       "    </tr>\n",
       "    <tr>\n",
       "      <th>5</th>\n",
       "      <td>CA02</td>\n",
       "      <td>140106181</td>\n",
       "      <td>THE  corporation</td>\n",
       "      <td>2019</td>\n",
       "      <td>2960581231</td>\n",
       "      <td>2019-09-20</td>\n",
       "      <td>2019-10-04</td>\n",
       "      <td>2019-09-24</td>\n",
       "      <td>CA10</td>\n",
       "      <td>15558.088</td>\n",
       "    </tr>\n",
       "  </tbody>\n",
       "</table>\n",
       "</div>"
      ],
      "text/plain": [
       "  business_code cust_number       name_customer  buisness_year      doc_id  \\\n",
       "0          U001   200769623        WAL-MAR corp           2020  1930438491   \n",
       "1          U001   200980828              BEN E            2019  1929646410   \n",
       "2          U001   200792734          MDV/ trust           2019  1929873765   \n",
       "4          U001   200769623  WAL-MAR foundation           2019  1930147974   \n",
       "5          CA02   140106181    THE  corporation           2019  2960581231   \n",
       "\n",
       "  posting_date due_in_date baseline_create_date cust_payment_terms  \\\n",
       "0   2020-01-26  2020-02-10           2020-01-26               NAH4   \n",
       "1   2019-07-22  2019-08-11           2019-07-22               NAD1   \n",
       "2   2019-09-14  2019-09-29           2019-09-14               NAA8   \n",
       "4   2019-11-13  2019-11-28           2019-11-13               NAH4   \n",
       "5   2019-09-20  2019-10-04           2019-09-24               CA10   \n",
       "\n",
       "   converted_usd  \n",
       "0      54273.280  \n",
       "1      79656.600  \n",
       "2       2253.860  \n",
       "4      33133.290  \n",
       "5      15558.088  "
      ]
     },
     "execution_count": 54,
     "metadata": {},
     "output_type": "execute_result"
    }
   ],
   "source": [
    "X_train.head()"
   ]
  },
  {
   "cell_type": "code",
   "execution_count": 55,
   "id": "46813c52",
   "metadata": {},
   "outputs": [
    {
     "data": {
      "text/html": [
       "<div>\n",
       "<style scoped>\n",
       "    .dataframe tbody tr th:only-of-type {\n",
       "        vertical-align: middle;\n",
       "    }\n",
       "\n",
       "    .dataframe tbody tr th {\n",
       "        vertical-align: top;\n",
       "    }\n",
       "\n",
       "    .dataframe thead th {\n",
       "        text-align: right;\n",
       "    }\n",
       "</style>\n",
       "<table border=\"1\" class=\"dataframe\">\n",
       "  <thead>\n",
       "    <tr style=\"text-align: right;\">\n",
       "      <th></th>\n",
       "      <th>business_code</th>\n",
       "      <th>cust_number</th>\n",
       "      <th>name_customer</th>\n",
       "      <th>buisness_year</th>\n",
       "      <th>doc_id</th>\n",
       "      <th>posting_date</th>\n",
       "      <th>due_in_date</th>\n",
       "      <th>baseline_create_date</th>\n",
       "      <th>cust_payment_terms</th>\n",
       "      <th>converted_usd</th>\n",
       "    </tr>\n",
       "  </thead>\n",
       "  <tbody>\n",
       "    <tr>\n",
       "      <th>29666</th>\n",
       "      <td>U001</td>\n",
       "      <td>200769623</td>\n",
       "      <td>WAL-MAR corp</td>\n",
       "      <td>2020</td>\n",
       "      <td>1930400968</td>\n",
       "      <td>2020-01-15</td>\n",
       "      <td>2020-01-30</td>\n",
       "      <td>2020-01-15</td>\n",
       "      <td>NAH4</td>\n",
       "      <td>5126.33</td>\n",
       "    </tr>\n",
       "    <tr>\n",
       "      <th>29668</th>\n",
       "      <td>U001</td>\n",
       "      <td>200769623</td>\n",
       "      <td>WAL-MAR llc</td>\n",
       "      <td>2020</td>\n",
       "      <td>1930443367</td>\n",
       "      <td>2020-01-29</td>\n",
       "      <td>2020-02-13</td>\n",
       "      <td>2020-01-29</td>\n",
       "      <td>NAH4</td>\n",
       "      <td>15451.74</td>\n",
       "    </tr>\n",
       "    <tr>\n",
       "      <th>29669</th>\n",
       "      <td>U001</td>\n",
       "      <td>200793568</td>\n",
       "      <td>SUPE</td>\n",
       "      <td>2019</td>\n",
       "      <td>1929076573</td>\n",
       "      <td>2019-03-04</td>\n",
       "      <td>2019-04-18</td>\n",
       "      <td>2019-04-03</td>\n",
       "      <td>NAA8</td>\n",
       "      <td>2450.94</td>\n",
       "    </tr>\n",
       "    <tr>\n",
       "      <th>29670</th>\n",
       "      <td>U001</td>\n",
       "      <td>200769623</td>\n",
       "      <td>WAL-MAR co</td>\n",
       "      <td>2020</td>\n",
       "      <td>1930386381</td>\n",
       "      <td>2020-11-01</td>\n",
       "      <td>2020-01-26</td>\n",
       "      <td>2020-01-11</td>\n",
       "      <td>NAH4</td>\n",
       "      <td>49501.09</td>\n",
       "    </tr>\n",
       "    <tr>\n",
       "      <th>29671</th>\n",
       "      <td>U001</td>\n",
       "      <td>CCCA02</td>\n",
       "      <td>KRAFT  associates</td>\n",
       "      <td>2019</td>\n",
       "      <td>1929268532</td>\n",
       "      <td>2019-08-05</td>\n",
       "      <td>2019-06-12</td>\n",
       "      <td>2019-05-08</td>\n",
       "      <td>NAG2</td>\n",
       "      <td>16016.00</td>\n",
       "    </tr>\n",
       "  </tbody>\n",
       "</table>\n",
       "</div>"
      ],
      "text/plain": [
       "      business_code cust_number      name_customer  buisness_year      doc_id  \\\n",
       "29666          U001   200769623       WAL-MAR corp           2020  1930400968   \n",
       "29668          U001   200769623        WAL-MAR llc           2020  1930443367   \n",
       "29669          U001   200793568              SUPE            2019  1929076573   \n",
       "29670          U001   200769623         WAL-MAR co           2020  1930386381   \n",
       "29671          U001      CCCA02  KRAFT  associates           2019  1929268532   \n",
       "\n",
       "      posting_date due_in_date baseline_create_date cust_payment_terms  \\\n",
       "29666   2020-01-15  2020-01-30           2020-01-15               NAH4   \n",
       "29668   2020-01-29  2020-02-13           2020-01-29               NAH4   \n",
       "29669   2019-03-04  2019-04-18           2019-04-03               NAA8   \n",
       "29670   2020-11-01  2020-01-26           2020-01-11               NAH4   \n",
       "29671   2019-08-05  2019-06-12           2019-05-08               NAG2   \n",
       "\n",
       "       converted_usd  \n",
       "29666        5126.33  \n",
       "29668       15451.74  \n",
       "29669        2450.94  \n",
       "29670       49501.09  \n",
       "29671       16016.00  "
      ]
     },
     "execution_count": 55,
     "metadata": {},
     "output_type": "execute_result"
    }
   ],
   "source": [
    "X_loc_test.head()"
   ]
  },
  {
   "cell_type": "code",
   "execution_count": 56,
   "id": "7dc32785",
   "metadata": {},
   "outputs": [
    {
     "data": {
      "text/plain": [
       "0    25729\n",
       "1        0\n",
       "2     7854\n",
       "4    70407\n",
       "5    38400\n",
       "Name: avg_delay, dtype: int64"
      ]
     },
     "execution_count": 56,
     "metadata": {},
     "output_type": "execute_result"
    }
   ],
   "source": [
    "y_train.head()"
   ]
  },
  {
   "cell_type": "code",
   "execution_count": 57,
   "id": "87e3b32d",
   "metadata": {},
   "outputs": [
    {
     "data": {
      "text/plain": [
       "29666    25729\n",
       "29668    33543\n",
       "29669    22344\n",
       "29670    45608\n",
       "29671    19562\n",
       "Name: avg_delay, dtype: int64"
      ]
     },
     "execution_count": 57,
     "metadata": {},
     "output_type": "execute_result"
    }
   ],
   "source": [
    "y_loc_test.head()"
   ]
  },
  {
   "cell_type": "markdown",
   "id": "4a68ed71",
   "metadata": {
    "id": "4a68ed71"
   },
   "source": [
    "### Now you are expected to split the \"X_loc_test\" and \"y_loc_test\" dataset into \"Test\" and \"Validation\" (as the names given below) dataframe with 50:50 format \n",
    "\n",
    "- Note - The expected output should be in \"X_val\", \"X_test\", \"y_val\", \"y_test\" format"
   ]
  },
  {
   "cell_type": "code",
   "execution_count": 58,
   "id": "b56c62f2",
   "metadata": {
    "id": "b56c62f2"
   },
   "outputs": [],
   "source": [
    "X_val, X_test, y_val, y_test = train_test_split(X_loc_test, y_loc_test, test_size=0.5, shuffle=False, random_state=0)"
   ]
  },
  {
   "cell_type": "markdown",
   "id": "bJTSAskvERH1",
   "metadata": {
    "id": "bJTSAskvERH1"
   },
   "source": [
    "### Please check for the number of rows and columns of all the 4 dataframes "
   ]
  },
  {
   "cell_type": "code",
   "execution_count": 59,
   "id": "845d7564",
   "metadata": {
    "id": "845d7564"
   },
   "outputs": [
    {
     "data": {
      "text/html": [
       "<div>\n",
       "<style scoped>\n",
       "    .dataframe tbody tr th:only-of-type {\n",
       "        vertical-align: middle;\n",
       "    }\n",
       "\n",
       "    .dataframe tbody tr th {\n",
       "        vertical-align: top;\n",
       "    }\n",
       "\n",
       "    .dataframe thead th {\n",
       "        text-align: right;\n",
       "    }\n",
       "</style>\n",
       "<table border=\"1\" class=\"dataframe\">\n",
       "  <thead>\n",
       "    <tr style=\"text-align: right;\">\n",
       "      <th></th>\n",
       "      <th>business_code</th>\n",
       "      <th>cust_number</th>\n",
       "      <th>name_customer</th>\n",
       "      <th>buisness_year</th>\n",
       "      <th>doc_id</th>\n",
       "      <th>posting_date</th>\n",
       "      <th>due_in_date</th>\n",
       "      <th>baseline_create_date</th>\n",
       "      <th>cust_payment_terms</th>\n",
       "      <th>converted_usd</th>\n",
       "    </tr>\n",
       "  </thead>\n",
       "  <tbody>\n",
       "    <tr>\n",
       "      <th>29666</th>\n",
       "      <td>U001</td>\n",
       "      <td>200769623</td>\n",
       "      <td>WAL-MAR corp</td>\n",
       "      <td>2020</td>\n",
       "      <td>1930400968</td>\n",
       "      <td>2020-01-15</td>\n",
       "      <td>2020-01-30</td>\n",
       "      <td>2020-01-15</td>\n",
       "      <td>NAH4</td>\n",
       "      <td>5126.33</td>\n",
       "    </tr>\n",
       "    <tr>\n",
       "      <th>29668</th>\n",
       "      <td>U001</td>\n",
       "      <td>200769623</td>\n",
       "      <td>WAL-MAR llc</td>\n",
       "      <td>2020</td>\n",
       "      <td>1930443367</td>\n",
       "      <td>2020-01-29</td>\n",
       "      <td>2020-02-13</td>\n",
       "      <td>2020-01-29</td>\n",
       "      <td>NAH4</td>\n",
       "      <td>15451.74</td>\n",
       "    </tr>\n",
       "    <tr>\n",
       "      <th>29669</th>\n",
       "      <td>U001</td>\n",
       "      <td>200793568</td>\n",
       "      <td>SUPE</td>\n",
       "      <td>2019</td>\n",
       "      <td>1929076573</td>\n",
       "      <td>2019-03-04</td>\n",
       "      <td>2019-04-18</td>\n",
       "      <td>2019-04-03</td>\n",
       "      <td>NAA8</td>\n",
       "      <td>2450.94</td>\n",
       "    </tr>\n",
       "    <tr>\n",
       "      <th>29670</th>\n",
       "      <td>U001</td>\n",
       "      <td>200769623</td>\n",
       "      <td>WAL-MAR co</td>\n",
       "      <td>2020</td>\n",
       "      <td>1930386381</td>\n",
       "      <td>2020-11-01</td>\n",
       "      <td>2020-01-26</td>\n",
       "      <td>2020-01-11</td>\n",
       "      <td>NAH4</td>\n",
       "      <td>49501.09</td>\n",
       "    </tr>\n",
       "    <tr>\n",
       "      <th>29671</th>\n",
       "      <td>U001</td>\n",
       "      <td>CCCA02</td>\n",
       "      <td>KRAFT  associates</td>\n",
       "      <td>2019</td>\n",
       "      <td>1929268532</td>\n",
       "      <td>2019-08-05</td>\n",
       "      <td>2019-06-12</td>\n",
       "      <td>2019-05-08</td>\n",
       "      <td>NAG2</td>\n",
       "      <td>16016.00</td>\n",
       "    </tr>\n",
       "  </tbody>\n",
       "</table>\n",
       "</div>"
      ],
      "text/plain": [
       "      business_code cust_number      name_customer  buisness_year      doc_id  \\\n",
       "29666          U001   200769623       WAL-MAR corp           2020  1930400968   \n",
       "29668          U001   200769623        WAL-MAR llc           2020  1930443367   \n",
       "29669          U001   200793568              SUPE            2019  1929076573   \n",
       "29670          U001   200769623         WAL-MAR co           2020  1930386381   \n",
       "29671          U001      CCCA02  KRAFT  associates           2019  1929268532   \n",
       "\n",
       "      posting_date due_in_date baseline_create_date cust_payment_terms  \\\n",
       "29666   2020-01-15  2020-01-30           2020-01-15               NAH4   \n",
       "29668   2020-01-29  2020-02-13           2020-01-29               NAH4   \n",
       "29669   2019-03-04  2019-04-18           2019-04-03               NAA8   \n",
       "29670   2020-11-01  2020-01-26           2020-01-11               NAH4   \n",
       "29671   2019-08-05  2019-06-12           2019-05-08               NAG2   \n",
       "\n",
       "       converted_usd  \n",
       "29666        5126.33  \n",
       "29668       15451.74  \n",
       "29669        2450.94  \n",
       "29670       49501.09  \n",
       "29671       16016.00  "
      ]
     },
     "execution_count": 59,
     "metadata": {},
     "output_type": "execute_result"
    }
   ],
   "source": [
    "X_val.head()"
   ]
  },
  {
   "cell_type": "code",
   "execution_count": 60,
   "id": "219d1aca",
   "metadata": {},
   "outputs": [
    {
     "data": {
      "text/html": [
       "<div>\n",
       "<style scoped>\n",
       "    .dataframe tbody tr th:only-of-type {\n",
       "        vertical-align: middle;\n",
       "    }\n",
       "\n",
       "    .dataframe tbody tr th {\n",
       "        vertical-align: top;\n",
       "    }\n",
       "\n",
       "    .dataframe thead th {\n",
       "        text-align: right;\n",
       "    }\n",
       "</style>\n",
       "<table border=\"1\" class=\"dataframe\">\n",
       "  <thead>\n",
       "    <tr style=\"text-align: right;\">\n",
       "      <th></th>\n",
       "      <th>business_code</th>\n",
       "      <th>cust_number</th>\n",
       "      <th>name_customer</th>\n",
       "      <th>buisness_year</th>\n",
       "      <th>doc_id</th>\n",
       "      <th>posting_date</th>\n",
       "      <th>due_in_date</th>\n",
       "      <th>baseline_create_date</th>\n",
       "      <th>cust_payment_terms</th>\n",
       "      <th>converted_usd</th>\n",
       "    </tr>\n",
       "  </thead>\n",
       "  <tbody>\n",
       "    <tr>\n",
       "      <th>39759</th>\n",
       "      <td>U001</td>\n",
       "      <td>200794332</td>\n",
       "      <td>COST in</td>\n",
       "      <td>2020</td>\n",
       "      <td>1930411617</td>\n",
       "      <td>2020-01-20</td>\n",
       "      <td>2020-02-04</td>\n",
       "      <td>2020-01-20</td>\n",
       "      <td>NAAX</td>\n",
       "      <td>3288.37</td>\n",
       "    </tr>\n",
       "    <tr>\n",
       "      <th>39760</th>\n",
       "      <td>U001</td>\n",
       "      <td>200126819</td>\n",
       "      <td>MCLANE corp</td>\n",
       "      <td>2019</td>\n",
       "      <td>1929881409</td>\n",
       "      <td>2019-09-18</td>\n",
       "      <td>2019-10-03</td>\n",
       "      <td>2019-09-18</td>\n",
       "      <td>NAA8</td>\n",
       "      <td>77371.56</td>\n",
       "    </tr>\n",
       "    <tr>\n",
       "      <th>39761</th>\n",
       "      <td>U001</td>\n",
       "      <td>200744019</td>\n",
       "      <td>TARG corp</td>\n",
       "      <td>2019</td>\n",
       "      <td>1930052008</td>\n",
       "      <td>2019-10-25</td>\n",
       "      <td>2019-11-09</td>\n",
       "      <td>2019-10-25</td>\n",
       "      <td>NAA8</td>\n",
       "      <td>41361.34</td>\n",
       "    </tr>\n",
       "    <tr>\n",
       "      <th>39764</th>\n",
       "      <td>U001</td>\n",
       "      <td>200704045</td>\n",
       "      <td>RA in</td>\n",
       "      <td>2019</td>\n",
       "      <td>1929083576</td>\n",
       "      <td>2019-04-04</td>\n",
       "      <td>2019-06-08</td>\n",
       "      <td>2019-04-04</td>\n",
       "      <td>NAGD</td>\n",
       "      <td>27372.59</td>\n",
       "    </tr>\n",
       "    <tr>\n",
       "      <th>39765</th>\n",
       "      <td>U001</td>\n",
       "      <td>200769623</td>\n",
       "      <td>WAL-MAR trust</td>\n",
       "      <td>2019</td>\n",
       "      <td>1929527404</td>\n",
       "      <td>2019-06-22</td>\n",
       "      <td>2019-07-07</td>\n",
       "      <td>2019-06-22</td>\n",
       "      <td>NAH4</td>\n",
       "      <td>433.09</td>\n",
       "    </tr>\n",
       "  </tbody>\n",
       "</table>\n",
       "</div>"
      ],
      "text/plain": [
       "      business_code cust_number  name_customer  buisness_year      doc_id  \\\n",
       "39759          U001   200794332        COST in           2020  1930411617   \n",
       "39760          U001   200126819    MCLANE corp           2019  1929881409   \n",
       "39761          U001   200744019      TARG corp           2019  1930052008   \n",
       "39764          U001   200704045          RA in           2019  1929083576   \n",
       "39765          U001   200769623  WAL-MAR trust           2019  1929527404   \n",
       "\n",
       "      posting_date due_in_date baseline_create_date cust_payment_terms  \\\n",
       "39759   2020-01-20  2020-02-04           2020-01-20               NAAX   \n",
       "39760   2019-09-18  2019-10-03           2019-09-18               NAA8   \n",
       "39761   2019-10-25  2019-11-09           2019-10-25               NAA8   \n",
       "39764   2019-04-04  2019-06-08           2019-04-04               NAGD   \n",
       "39765   2019-06-22  2019-07-07           2019-06-22               NAH4   \n",
       "\n",
       "       converted_usd  \n",
       "39759        3288.37  \n",
       "39760       77371.56  \n",
       "39761       41361.34  \n",
       "39764       27372.59  \n",
       "39765         433.09  "
      ]
     },
     "execution_count": 60,
     "metadata": {},
     "output_type": "execute_result"
    }
   ],
   "source": [
    "X_test.head()"
   ]
  },
  {
   "cell_type": "code",
   "execution_count": 61,
   "id": "eaafb7b9",
   "metadata": {},
   "outputs": [
    {
     "data": {
      "text/plain": [
       "29666    25729\n",
       "29668    33543\n",
       "29669    22344\n",
       "29670    45608\n",
       "29671    19562\n",
       "Name: avg_delay, dtype: int64"
      ]
     },
     "execution_count": 61,
     "metadata": {},
     "output_type": "execute_result"
    }
   ],
   "source": [
    "y_val.head()"
   ]
  },
  {
   "cell_type": "code",
   "execution_count": 62,
   "id": "8cf30bdf",
   "metadata": {},
   "outputs": [
    {
     "data": {
      "text/plain": [
       "39759    16690\n",
       "39760    49371\n",
       "39761    21600\n",
       "39764    63663\n",
       "39765    59007\n",
       "Name: avg_delay, dtype: int64"
      ]
     },
     "execution_count": 62,
     "metadata": {},
     "output_type": "execute_result"
    }
   ],
   "source": [
    "y_test.head()"
   ]
  },
  {
   "cell_type": "markdown",
   "id": "110fa872",
   "metadata": {
    "id": "110fa872"
   },
   "source": [
    "# Exploratory Data Analysis (EDA) "
   ]
  },
  {
   "cell_type": "markdown",
   "id": "ffc8fe0f",
   "metadata": {
    "id": "ffc8fe0f"
   },
   "source": [
    "### Distribution Plot of the target variable (use the dataframe which contains the target field)\n",
    "\n",
    "- Note - You are expected to make a distribution plot for the target variable "
   ]
  },
  {
   "cell_type": "code",
   "execution_count": 63,
   "id": "ba2bf8ed",
   "metadata": {
    "id": "ba2bf8ed"
   },
   "outputs": [
    {
     "data": {
      "text/plain": [
       "<AxesSubplot:xlabel='avg_delay', ylabel='Count'>"
      ]
     },
     "execution_count": 63,
     "metadata": {},
     "output_type": "execute_result"
    },
    {
     "data": {
      "image/png": "[encoded data removed]",
      "text/plain": [
       "<Figure size 432x288 with 1 Axes>"
      ]
     },
     "metadata": {
      "needs_background": "light"
     },
     "output_type": "display_data"
    }
   ],
   "source": [
    "sns.histplot(y)"
   ]
  },
  {
   "cell_type": "markdown",
   "id": "d0e323a3",
   "metadata": {
    "id": "d0e323a3"
   },
   "source": [
    "### You are expected to group the X_train dataset on 'name_customer' column with 'doc_id' in the x_train set\n",
    "\n",
    "### Need to store the outcome into a new dataframe \n",
    "\n",
    "- Note code given for groupby statement- X_train.groupby(by=['name_customer'], as_index=False)['doc_id'].count()"
   ]
  },
  {
   "cell_type": "code",
   "execution_count": 64,
   "id": "f7acf0ee",
   "metadata": {
    "id": "f7acf0ee"
   },
   "outputs": [
    {
     "data": {
      "text/plain": [
       "<AxesSubplot:>"
      ]
     },
     "execution_count": 64,
     "metadata": {},
     "output_type": "execute_result"
    },
    {
     "data": {
      "image/png": "[encoded data removed]",
      "text/plain": [
       "<Figure size 432x288 with 1 Axes>"
      ]
     },
     "metadata": {
      "needs_background": "light"
     },
     "output_type": "display_data"
    }
   ],
   "source": [
    "g = X_train.groupby(by=['name_customer'], as_index=False)['doc_id'].count()\n",
    "g.plot()"
   ]
  },
  {
   "cell_type": "markdown",
   "id": "cA43bFffFt6i",
   "metadata": {
    "id": "cA43bFffFt6i"
   },
   "source": [
    "### You can make another distribution plot of the \"doc_id\" column from x_train"
   ]
  },
  {
   "cell_type": "code",
   "execution_count": 65,
   "id": "ff972438",
   "metadata": {},
   "outputs": [
    {
     "data": {
      "text/plain": [
       "<AxesSubplot:xlabel='doc_id', ylabel='Density'>"
      ]
     },
     "execution_count": 65,
     "metadata": {},
     "output_type": "execute_result"
    },
    {
     "data": {
      "image/png": "[encoded data removed]",
      "text/plain": [
       "<Figure size 432x288 with 1 Axes>"
      ]
     },
     "metadata": {
      "needs_background": "light"
     },
     "output_type": "display_data"
    }
   ],
   "source": [
    "sns.kdeplot(X_train['doc_id'])"
   ]
  },
  {
   "cell_type": "markdown",
   "id": "fba2c44f",
   "metadata": {
    "id": "fba2c44f"
   },
   "source": [
    "#### Create a Distribution plot only for business_year and a seperate distribution plot of \"business_year\" column along with the doc_id\" column\n"
   ]
  },
  {
   "cell_type": "code",
   "execution_count": 66,
   "id": "31f5b144",
   "metadata": {},
   "outputs": [
    {
     "data": {
      "text/plain": [
       "<AxesSubplot:xlabel='buisness_year', ylabel='Count'>"
      ]
     },
     "execution_count": 66,
     "metadata": {},
     "output_type": "execute_result"
    },
    {
     "data": {
      "image/png": "[encoded data removed]",
      "text/plain": [
       "<Figure size 432x288 with 1 Axes>"
      ]
     },
     "metadata": {
      "needs_background": "light"
     },
     "output_type": "display_data"
    }
   ],
   "source": [
    "sns.histplot(X_train['buisness_year'])"
   ]
  },
  {
   "cell_type": "code",
   "execution_count": 67,
   "id": "4fecec77",
   "metadata": {
    "id": "4fecec77"
   },
   "outputs": [
    {
     "data": {
      "text/plain": [
       "<AxesSubplot:xlabel='buisness_year', ylabel='doc_id'>"
      ]
     },
     "execution_count": 67,
     "metadata": {},
     "output_type": "execute_result"
    },
    {
     "data": {
      "image/png": "[encoded data removed]",
      "text/plain": [
       "<Figure size 432x288 with 1 Axes>"
      ]
     },
     "metadata": {
      "needs_background": "light"
     },
     "output_type": "display_data"
    }
   ],
   "source": [
    "sns.scatterplot(data=X_train.merge(y_train,on = X_train.index), x='buisness_year', y='doc_id')"
   ]
  },
  {
   "cell_type": "markdown",
   "id": "968fbcc9",
   "metadata": {
    "id": "968fbcc9"
   },
   "source": [
    "# Feature Engineering "
   ]
  },
  {
   "cell_type": "markdown",
   "id": "jbh6CyGqH3XE",
   "metadata": {
    "id": "jbh6CyGqH3XE"
   },
   "source": [
    "### Display and describe the X_train dataframe "
   ]
  },
  {
   "cell_type": "code",
   "execution_count": 68,
   "id": "e6bcf307",
   "metadata": {
    "id": "e6bcf307"
   },
   "outputs": [
    {
     "data": {
      "text/html": [
       "<div>\n",
       "<style scoped>\n",
       "    .dataframe tbody tr th:only-of-type {\n",
       "        vertical-align: middle;\n",
       "    }\n",
       "\n",
       "    .dataframe tbody tr th {\n",
       "        vertical-align: top;\n",
       "    }\n",
       "\n",
       "    .dataframe thead th {\n",
       "        text-align: right;\n",
       "    }\n",
       "</style>\n",
       "<table border=\"1\" class=\"dataframe\">\n",
       "  <thead>\n",
       "    <tr style=\"text-align: right;\">\n",
       "      <th></th>\n",
       "      <th>business_code</th>\n",
       "      <th>cust_number</th>\n",
       "      <th>name_customer</th>\n",
       "      <th>buisness_year</th>\n",
       "      <th>doc_id</th>\n",
       "      <th>posting_date</th>\n",
       "      <th>due_in_date</th>\n",
       "      <th>baseline_create_date</th>\n",
       "      <th>cust_payment_terms</th>\n",
       "      <th>converted_usd</th>\n",
       "    </tr>\n",
       "  </thead>\n",
       "  <tbody>\n",
       "    <tr>\n",
       "      <th>0</th>\n",
       "      <td>U001</td>\n",
       "      <td>200769623</td>\n",
       "      <td>WAL-MAR corp</td>\n",
       "      <td>2020</td>\n",
       "      <td>1930438491</td>\n",
       "      <td>2020-01-26</td>\n",
       "      <td>2020-02-10</td>\n",
       "      <td>2020-01-26</td>\n",
       "      <td>NAH4</td>\n",
       "      <td>54273.280</td>\n",
       "    </tr>\n",
       "    <tr>\n",
       "      <th>1</th>\n",
       "      <td>U001</td>\n",
       "      <td>200980828</td>\n",
       "      <td>BEN E</td>\n",
       "      <td>2019</td>\n",
       "      <td>1929646410</td>\n",
       "      <td>2019-07-22</td>\n",
       "      <td>2019-08-11</td>\n",
       "      <td>2019-07-22</td>\n",
       "      <td>NAD1</td>\n",
       "      <td>79656.600</td>\n",
       "    </tr>\n",
       "    <tr>\n",
       "      <th>2</th>\n",
       "      <td>U001</td>\n",
       "      <td>200792734</td>\n",
       "      <td>MDV/ trust</td>\n",
       "      <td>2019</td>\n",
       "      <td>1929873765</td>\n",
       "      <td>2019-09-14</td>\n",
       "      <td>2019-09-29</td>\n",
       "      <td>2019-09-14</td>\n",
       "      <td>NAA8</td>\n",
       "      <td>2253.860</td>\n",
       "    </tr>\n",
       "    <tr>\n",
       "      <th>4</th>\n",
       "      <td>U001</td>\n",
       "      <td>200769623</td>\n",
       "      <td>WAL-MAR foundation</td>\n",
       "      <td>2019</td>\n",
       "      <td>1930147974</td>\n",
       "      <td>2019-11-13</td>\n",
       "      <td>2019-11-28</td>\n",
       "      <td>2019-11-13</td>\n",
       "      <td>NAH4</td>\n",
       "      <td>33133.290</td>\n",
       "    </tr>\n",
       "    <tr>\n",
       "      <th>5</th>\n",
       "      <td>CA02</td>\n",
       "      <td>140106181</td>\n",
       "      <td>THE  corporation</td>\n",
       "      <td>2019</td>\n",
       "      <td>2960581231</td>\n",
       "      <td>2019-09-20</td>\n",
       "      <td>2019-10-04</td>\n",
       "      <td>2019-09-24</td>\n",
       "      <td>CA10</td>\n",
       "      <td>15558.088</td>\n",
       "    </tr>\n",
       "  </tbody>\n",
       "</table>\n",
       "</div>"
      ],
      "text/plain": [
       "  business_code cust_number       name_customer  buisness_year      doc_id  \\\n",
       "0          U001   200769623        WAL-MAR corp           2020  1930438491   \n",
       "1          U001   200980828              BEN E            2019  1929646410   \n",
       "2          U001   200792734          MDV/ trust           2019  1929873765   \n",
       "4          U001   200769623  WAL-MAR foundation           2019  1930147974   \n",
       "5          CA02   140106181    THE  corporation           2019  2960581231   \n",
       "\n",
       "  posting_date due_in_date baseline_create_date cust_payment_terms  \\\n",
       "0   2020-01-26  2020-02-10           2020-01-26               NAH4   \n",
       "1   2019-07-22  2019-08-11           2019-07-22               NAD1   \n",
       "2   2019-09-14  2019-09-29           2019-09-14               NAA8   \n",
       "4   2019-11-13  2019-11-28           2019-11-13               NAH4   \n",
       "5   2019-09-20  2019-10-04           2019-09-24               CA10   \n",
       "\n",
       "   converted_usd  \n",
       "0      54273.280  \n",
       "1      79656.600  \n",
       "2       2253.860  \n",
       "4      33133.290  \n",
       "5      15558.088  "
      ]
     },
     "execution_count": 68,
     "metadata": {},
     "output_type": "execute_result"
    }
   ],
   "source": [
    "X_train.head()"
   ]
  },
  {
   "cell_type": "code",
   "execution_count": 69,
   "id": "08ccc819",
   "metadata": {
    "id": "08ccc819"
   },
   "outputs": [
    {
     "data": {
      "text/html": [
       "<div>\n",
       "<style scoped>\n",
       "    .dataframe tbody tr th:only-of-type {\n",
       "        vertical-align: middle;\n",
       "    }\n",
       "\n",
       "    .dataframe tbody tr th {\n",
       "        vertical-align: top;\n",
       "    }\n",
       "\n",
       "    .dataframe thead th {\n",
       "        text-align: right;\n",
       "    }\n",
       "</style>\n",
       "<table border=\"1\" class=\"dataframe\">\n",
       "  <thead>\n",
       "    <tr style=\"text-align: right;\">\n",
       "      <th></th>\n",
       "      <th>buisness_year</th>\n",
       "      <th>doc_id</th>\n",
       "      <th>converted_usd</th>\n",
       "    </tr>\n",
       "  </thead>\n",
       "  <tbody>\n",
       "    <tr>\n",
       "      <th>count</th>\n",
       "      <td>23494.000000</td>\n",
       "      <td>2.349400e+04</td>\n",
       "      <td>23494.000000</td>\n",
       "    </tr>\n",
       "    <tr>\n",
       "      <th>mean</th>\n",
       "      <td>2019.132842</td>\n",
       "      <td>2.012017e+09</td>\n",
       "      <td>30762.476822</td>\n",
       "    </tr>\n",
       "    <tr>\n",
       "      <th>std</th>\n",
       "      <td>0.339412</td>\n",
       "      <td>2.853757e+08</td>\n",
       "      <td>36595.303329</td>\n",
       "    </tr>\n",
       "    <tr>\n",
       "      <th>min</th>\n",
       "      <td>2019.000000</td>\n",
       "      <td>1.928502e+09</td>\n",
       "      <td>2.400000</td>\n",
       "    </tr>\n",
       "    <tr>\n",
       "      <th>25%</th>\n",
       "      <td>2019.000000</td>\n",
       "      <td>1.929181e+09</td>\n",
       "      <td>4620.800000</td>\n",
       "    </tr>\n",
       "    <tr>\n",
       "      <th>50%</th>\n",
       "      <td>2019.000000</td>\n",
       "      <td>1.929733e+09</td>\n",
       "      <td>17027.670000</td>\n",
       "    </tr>\n",
       "    <tr>\n",
       "      <th>75%</th>\n",
       "      <td>2019.000000</td>\n",
       "      <td>1.930209e+09</td>\n",
       "      <td>45545.810000</td>\n",
       "    </tr>\n",
       "    <tr>\n",
       "      <th>max</th>\n",
       "      <td>2020.000000</td>\n",
       "      <td>9.500000e+09</td>\n",
       "      <td>668593.360000</td>\n",
       "    </tr>\n",
       "  </tbody>\n",
       "</table>\n",
       "</div>"
      ],
      "text/plain": [
       "       buisness_year        doc_id  converted_usd\n",
       "count   23494.000000  2.349400e+04   23494.000000\n",
       "mean     2019.132842  2.012017e+09   30762.476822\n",
       "std         0.339412  2.853757e+08   36595.303329\n",
       "min      2019.000000  1.928502e+09       2.400000\n",
       "25%      2019.000000  1.929181e+09    4620.800000\n",
       "50%      2019.000000  1.929733e+09   17027.670000\n",
       "75%      2019.000000  1.930209e+09   45545.810000\n",
       "max      2020.000000  9.500000e+09  668593.360000"
      ]
     },
     "execution_count": 69,
     "metadata": {},
     "output_type": "execute_result"
    }
   ],
   "source": [
    "X_train.describe()"
   ]
  },
  {
   "cell_type": "markdown",
   "id": "abd7ac8b",
   "metadata": {
    "id": "abd7ac8b"
   },
   "source": [
    "#### The \"business_code\" column inside X_train, is a categorical column, so you need to perform Labelencoder on that particular column\n",
    "\n",
    "- Note - call the Label Encoder from sklearn library and use the fit() function on \"business_code\" column\n",
    "- Note - Please fill in the blanks (two) to complete this code"
   ]
  },
  {
   "cell_type": "code",
   "execution_count": 70,
   "id": "7c223545",
   "metadata": {
    "id": "7c223545"
   },
   "outputs": [
    {
     "data": {
      "text/plain": [
       "LabelEncoder()"
      ]
     },
     "execution_count": 70,
     "metadata": {},
     "output_type": "execute_result"
    }
   ],
   "source": [
    "from sklearn.preprocessing import LabelEncoder\n",
    "business_coder = LabelEncoder()\n",
    "business_coder.fit(X_train['business_code'])"
   ]
  },
  {
   "cell_type": "markdown",
   "id": "f86f7d9c",
   "metadata": {
    "id": "f86f7d9c"
   },
   "source": [
    "#### You are expected to store the value into a new column i.e. \"business_code_enc\"\n",
    "\n",
    "- Note - For Training set you are expected to use fit_trainsform()\n",
    "- Note - For Test set you are expected to use the trainsform()\n",
    "- Note - For Validation set you are expected to use the trainsform()\n",
    "\n",
    "\n",
    "- Partial code is provided, please fill in the blanks "
   ]
  },
  {
   "cell_type": "code",
   "execution_count": 71,
   "id": "4269c307",
   "metadata": {
    "id": "4269c307"
   },
   "outputs": [],
   "source": [
    "X_train['business_code_enc'] = business_coder.fit_transform(X_train['business_code'])"
   ]
  },
  {
   "cell_type": "code",
   "execution_count": 72,
   "id": "70a53712",
   "metadata": {
    "id": "70a53712"
   },
   "outputs": [],
   "source": [
    "X_val['business_code_enc'] = business_coder.transform(X_val['business_code'])\n",
    "X_test['business_code_enc'] = business_coder.transform(X_test['business_code'])"
   ]
  },
  {
   "cell_type": "markdown",
   "id": "gdNYxTkqNfmz",
   "metadata": {
    "id": "gdNYxTkqNfmz"
   },
   "source": [
    "### Display \"business_code\" and \"business_code_enc\" together from X_train dataframe "
   ]
  },
  {
   "cell_type": "code",
   "execution_count": 73,
   "id": "1196a002",
   "metadata": {
    "id": "1196a002"
   },
   "outputs": [
    {
     "data": {
      "text/html": [
       "<div>\n",
       "<style scoped>\n",
       "    .dataframe tbody tr th:only-of-type {\n",
       "        vertical-align: middle;\n",
       "    }\n",
       "\n",
       "    .dataframe tbody tr th {\n",
       "        vertical-align: top;\n",
       "    }\n",
       "\n",
       "    .dataframe thead th {\n",
       "        text-align: right;\n",
       "    }\n",
       "</style>\n",
       "<table border=\"1\" class=\"dataframe\">\n",
       "  <thead>\n",
       "    <tr style=\"text-align: right;\">\n",
       "      <th></th>\n",
       "      <th>business_code</th>\n",
       "      <th>business_code_enc</th>\n",
       "    </tr>\n",
       "  </thead>\n",
       "  <tbody>\n",
       "    <tr>\n",
       "      <th>0</th>\n",
       "      <td>U001</td>\n",
       "      <td>1</td>\n",
       "    </tr>\n",
       "    <tr>\n",
       "      <th>1</th>\n",
       "      <td>U001</td>\n",
       "      <td>1</td>\n",
       "    </tr>\n",
       "    <tr>\n",
       "      <th>2</th>\n",
       "      <td>U001</td>\n",
       "      <td>1</td>\n",
       "    </tr>\n",
       "    <tr>\n",
       "      <th>4</th>\n",
       "      <td>U001</td>\n",
       "      <td>1</td>\n",
       "    </tr>\n",
       "    <tr>\n",
       "      <th>5</th>\n",
       "      <td>CA02</td>\n",
       "      <td>0</td>\n",
       "    </tr>\n",
       "    <tr>\n",
       "      <th>...</th>\n",
       "      <td>...</td>\n",
       "      <td>...</td>\n",
       "    </tr>\n",
       "    <tr>\n",
       "      <th>29659</th>\n",
       "      <td>U001</td>\n",
       "      <td>1</td>\n",
       "    </tr>\n",
       "    <tr>\n",
       "      <th>29662</th>\n",
       "      <td>U001</td>\n",
       "      <td>1</td>\n",
       "    </tr>\n",
       "    <tr>\n",
       "      <th>29663</th>\n",
       "      <td>U001</td>\n",
       "      <td>1</td>\n",
       "    </tr>\n",
       "    <tr>\n",
       "      <th>29664</th>\n",
       "      <td>U001</td>\n",
       "      <td>1</td>\n",
       "    </tr>\n",
       "    <tr>\n",
       "      <th>29665</th>\n",
       "      <td>U001</td>\n",
       "      <td>1</td>\n",
       "    </tr>\n",
       "  </tbody>\n",
       "</table>\n",
       "<p>23494 rows × 2 columns</p>\n",
       "</div>"
      ],
      "text/plain": [
       "      business_code  business_code_enc\n",
       "0              U001                  1\n",
       "1              U001                  1\n",
       "2              U001                  1\n",
       "4              U001                  1\n",
       "5              CA02                  0\n",
       "...             ...                ...\n",
       "29659          U001                  1\n",
       "29662          U001                  1\n",
       "29663          U001                  1\n",
       "29664          U001                  1\n",
       "29665          U001                  1\n",
       "\n",
       "[23494 rows x 2 columns]"
      ]
     },
     "execution_count": 73,
     "metadata": {},
     "output_type": "execute_result"
    }
   ],
   "source": [
    "X_train[['business_code','business_code_enc']]"
   ]
  },
  {
   "cell_type": "markdown",
   "id": "11477224",
   "metadata": {
    "id": "11477224"
   },
   "source": [
    "#### Create a function called \"custom\" for dropping the columns 'business_code' from train, test and validation dataframe\n",
    "\n",
    "- Note - Fill in the blank to complete the code"
   ]
  },
  {
   "cell_type": "code",
   "execution_count": 74,
   "id": "1052868a",
   "metadata": {
    "id": "1052868a"
   },
   "outputs": [],
   "source": [
    "def custom(col ,traindf = X_train,valdf = X_val,testdf = X_test):\n",
    "    traindf.drop(col, axis =1,inplace=True)\n",
    "    valdf.drop(col,axis=1 , inplace=True)\n",
    "    testdf.drop(col,axis=1 , inplace=True)\n",
    "\n",
    "    return traindf,valdf ,testdf"
   ]
  },
  {
   "cell_type": "markdown",
   "id": "rI--ZuMbNLne",
   "metadata": {
    "id": "rI--ZuMbNLne"
   },
   "source": [
    "### Call the function by passing the column name which needed to be dropped from train, test and validation dataframes. Return updated dataframes to be stored in X_train ,X_val, X_test  \n",
    "\n",
    "- Note = Fill in the blank to complete the code "
   ]
  },
  {
   "cell_type": "code",
   "execution_count": 75,
   "id": "1a0f955c",
   "metadata": {
    "id": "1a0f955c"
   },
   "outputs": [],
   "source": [
    "X_train ,X_val, X_test = custom(['business_code'])"
   ]
  },
  {
   "cell_type": "markdown",
   "id": "28b5b27e",
   "metadata": {
    "id": "28b5b27e"
   },
   "source": [
    "### Manually replacing str values with numbers, Here we are trying manually replace the customer numbers with some specific values like, 'CCCA' as 1, 'CCU' as 2 and so on. Also we are converting the datatype \"cust_number\" field to int type.\n",
    "\n",
    "- We are doing it for all the three dataframes as shown below. This is fully completed code. No need to modify anything here \n",
    "\n"
   ]
  },
  {
   "cell_type": "code",
   "execution_count": 76,
   "id": "85dd129e",
   "metadata": {
    "id": "85dd129e"
   },
   "outputs": [],
   "source": [
    "X_train['cust_number'] = X_train['cust_number'].str.replace('CCCA',\"1\").str.replace('CCU',\"2\").str.replace('CC',\"3\").astype(int)\n",
    "X_test['cust_number'] = X_test['cust_number'].str.replace('CCCA',\"1\").str.replace('CCU',\"2\").str.replace('CC',\"3\").astype(int)\n",
    "X_val['cust_number'] = X_val['cust_number'].str.replace('CCCA',\"1\").str.replace('CCU',\"2\").str.replace('CC',\"3\").astype(int)\n"
   ]
  },
  {
   "cell_type": "markdown",
   "id": "U8vA-zmdPnJ8",
   "metadata": {
    "id": "U8vA-zmdPnJ8"
   },
   "source": [
    "#### It differs from LabelEncoder by handling new classes and providing a value for it [Unknown]. Unknown will be added in fit and transform will take care of new item. It gives unknown class id.\n",
    "\n",
    "#### This will fit the encoder for all the unique values and introduce unknown value\n",
    "\n",
    "- Note - Keep this code as it is, we will be using this later on.  "
   ]
  },
  {
   "cell_type": "code",
   "execution_count": 77,
   "id": "151f48ba",
   "metadata": {
    "id": "151f48ba"
   },
   "outputs": [],
   "source": [
    "#For encoding unseen labels\n",
    "class EncoderExt(object):\n",
    "    def __init__(self):\n",
    "        self.label_encoder = LabelEncoder()\n",
    "    def fit(self, data_list):\n",
    "        self.label_encoder = self.label_encoder.fit(list(data_list) + ['Unknown'])\n",
    "        self.classes_ = self.label_encoder.classes_\n",
    "        return self\n",
    "    def transform(self, data_list):\n",
    "        new_data_list = list(data_list)\n",
    "        for unique_item in np.unique(data_list):\n",
    "            if unique_item not in self.label_encoder.classes_:\n",
    "                new_data_list = ['Unknown' if x==unique_item else x for x in new_data_list]\n",
    "        return self.label_encoder.transform(new_data_list)"
   ]
  },
  {
   "cell_type": "markdown",
   "id": "254c64e6",
   "metadata": {
    "id": "254c64e6"
   },
   "source": [
    "### Use the user define Label Encoder function called \"EncoderExt\" for the \"name_customer\" column\n",
    "\n",
    "- Note - Keep the code as it is, no need to change"
   ]
  },
  {
   "cell_type": "code",
   "execution_count": 78,
   "id": "62b17eff",
   "metadata": {
    "id": "62b17eff"
   },
   "outputs": [],
   "source": [
    "label_encoder = EncoderExt()\n",
    "label_encoder.fit(X_train['name_customer'])\n",
    "X_train['name_customer_enc']=label_encoder.transform(X_train['name_customer'])\n",
    "X_val['name_customer_enc']=label_encoder.transform(X_val['name_customer'])\n",
    "X_test['name_customer_enc']=label_encoder.transform(X_test['name_customer'])"
   ]
  },
  {
   "cell_type": "markdown",
   "id": "mK7LMoy2QZhy",
   "metadata": {
    "id": "mK7LMoy2QZhy"
   },
   "source": [
    "### As we have created the a new column \"name_customer_enc\", so now drop \"name_customer\" column from all three dataframes\n",
    "\n",
    "- Note - Keep the code as it is, no need to change"
   ]
  },
  {
   "cell_type": "code",
   "execution_count": 79,
   "id": "ef85f1c0",
   "metadata": {
    "id": "ef85f1c0"
   },
   "outputs": [],
   "source": [
    "X_train ,X_val, X_test = custom(['name_customer'])"
   ]
  },
  {
   "cell_type": "markdown",
   "id": "3aa09d22",
   "metadata": {
    "id": "3aa09d22"
   },
   "source": [
    "### Using Label Encoder for the \"cust_payment_terms\" column\n",
    "\n",
    "- Note - Keep the code as it is, no need to change"
   ]
  },
  {
   "cell_type": "code",
   "execution_count": 80,
   "id": "6f9ab642",
   "metadata": {
    "id": "6f9ab642"
   },
   "outputs": [],
   "source": [
    "label_encoder1 = EncoderExt()\n",
    "label_encoder1.fit(X_train['cust_payment_terms'])\n",
    "X_train['cust_payment_terms_enc']=label_encoder1.transform(X_train['cust_payment_terms'])\n",
    "X_val['cust_payment_terms_enc']=label_encoder1.transform(X_val['cust_payment_terms'])\n",
    "X_test['cust_payment_terms_enc']=label_encoder1.transform(X_test['cust_payment_terms'])"
   ]
  },
  {
   "cell_type": "code",
   "execution_count": 81,
   "id": "55f9a7c2",
   "metadata": {
    "id": "55f9a7c2"
   },
   "outputs": [],
   "source": [
    "X_train ,X_val, X_test = custom(['cust_payment_terms'])"
   ]
  },
  {
   "cell_type": "markdown",
   "id": "0788f42b",
   "metadata": {
    "id": "0788f42b"
   },
   "source": [
    "## Check the datatype of all the columns of Train, Test and Validation dataframes realted to X\n",
    "\n",
    "- Note - You are expected yo use dtype"
   ]
  },
  {
   "cell_type": "code",
   "execution_count": 82,
   "id": "bc79a316",
   "metadata": {
    "id": "bc79a316"
   },
   "outputs": [
    {
     "data": {
      "text/plain": [
       "cust_number                        int32\n",
       "buisness_year                      int64\n",
       "doc_id                             int64\n",
       "posting_date              datetime64[ns]\n",
       "due_in_date               datetime64[ns]\n",
       "baseline_create_date      datetime64[ns]\n",
       "converted_usd                    float64\n",
       "business_code_enc                  int32\n",
       "name_customer_enc                  int32\n",
       "cust_payment_terms_enc             int32\n",
       "dtype: object"
      ]
     },
     "execution_count": 82,
     "metadata": {},
     "output_type": "execute_result"
    }
   ],
   "source": [
    "X_train.dtypes"
   ]
  },
  {
   "cell_type": "code",
   "execution_count": 83,
   "id": "b33242d8",
   "metadata": {
    "id": "b33242d8"
   },
   "outputs": [
    {
     "data": {
      "text/plain": [
       "cust_number                        int32\n",
       "buisness_year                      int64\n",
       "doc_id                             int64\n",
       "posting_date              datetime64[ns]\n",
       "due_in_date               datetime64[ns]\n",
       "baseline_create_date      datetime64[ns]\n",
       "converted_usd                    float64\n",
       "business_code_enc                  int32\n",
       "name_customer_enc                  int32\n",
       "cust_payment_terms_enc             int32\n",
       "dtype: object"
      ]
     },
     "execution_count": 83,
     "metadata": {},
     "output_type": "execute_result"
    }
   ],
   "source": [
    "X_test.dtypes"
   ]
  },
  {
   "cell_type": "code",
   "execution_count": 84,
   "id": "6bd4da71",
   "metadata": {
    "id": "6bd4da71"
   },
   "outputs": [
    {
     "data": {
      "text/plain": [
       "cust_number                        int32\n",
       "buisness_year                      int64\n",
       "doc_id                             int64\n",
       "posting_date              datetime64[ns]\n",
       "due_in_date               datetime64[ns]\n",
       "baseline_create_date      datetime64[ns]\n",
       "converted_usd                    float64\n",
       "business_code_enc                  int32\n",
       "name_customer_enc                  int32\n",
       "cust_payment_terms_enc             int32\n",
       "dtype: object"
      ]
     },
     "execution_count": 84,
     "metadata": {},
     "output_type": "execute_result"
    }
   ],
   "source": [
    "X_val.dtypes"
   ]
  },
  {
   "cell_type": "markdown",
   "id": "LVfvuPiWPeMB",
   "metadata": {
    "id": "LVfvuPiWPeMB"
   },
   "source": [
    "### From the above output you can notice their are multiple date columns with datetime format\n",
    "\n",
    "### In order to pass it into our model, we need to convert it into float format"
   ]
  },
  {
   "cell_type": "markdown",
   "id": "9d344db9",
   "metadata": {
    "id": "9d344db9"
   },
   "source": [
    "### You need to extract day, month and year from the \"posting_date\" column \n",
    "\n",
    "1.   Extract days from \"posting_date\" column and store it into a new column \"day_of_postingdate\" for train, test and validation dataset \n",
    "2.   Extract months from \"posting_date\" column and store it into a new column \"month_of_postingdate\" for train, test and validation dataset\n",
    "3.   Extract year from \"posting_date\" column and store it into a new column \"year_of_postingdate\" for train, test and validation dataset \n",
    "\n",
    "\n",
    "\n",
    "- Note - You are supposed yo use \n",
    "\n",
    "*   dt.day\n",
    "*   dt.month\n",
    "*   dt.year\n",
    "\n",
    "\n",
    "\n",
    "\n"
   ]
  },
  {
   "cell_type": "code",
   "execution_count": 85,
   "id": "6e3cdfd6",
   "metadata": {
    "id": "6e3cdfd6"
   },
   "outputs": [],
   "source": [
    "X_train['day_of_postingdate'] = X_train['posting_date'].dt.day\n",
    "X_train['month_of_postingdate'] = X_train['posting_date'].dt.month\n",
    "X_train['year_of_postingdate'] = X_train['posting_date'].dt.year\n",
    "\n",
    "X_val['day_of_postingdate'] = X_val['posting_date'].dt.day\n",
    "X_val['month_of_postingdate'] = X_val['posting_date'].dt.month\n",
    "X_val['year_of_postingdate'] = X_val['posting_date'].dt.year\n",
    "\n",
    "X_test['day_of_postingdate'] = X_test['posting_date'].dt.day\n",
    "X_test['month_of_postingdate'] = X_test['posting_date'].dt.month\n",
    "X_test['year_of_postingdate'] = X_test['posting_date'].dt.year"
   ]
  },
  {
   "cell_type": "markdown",
   "id": "GyI-F853Rxa7",
   "metadata": {
    "id": "GyI-F853Rxa7"
   },
   "source": [
    "### pass the \"posting_date\" column into the Custom function for train, test and validation dataset"
   ]
  },
  {
   "cell_type": "code",
   "execution_count": 86,
   "id": "FQHtQkrnRx_V",
   "metadata": {
    "id": "FQHtQkrnRx_V"
   },
   "outputs": [],
   "source": [
    "X_train ,X_val, X_test = custom(['posting_date'])"
   ]
  },
  {
   "cell_type": "markdown",
   "id": "GMnCaEcKReSw",
   "metadata": {
    "id": "GMnCaEcKReSw"
   },
   "source": [
    "### You need to extract day, month and year from the \"baseline_create_date\" column \n",
    "\n",
    "1.   Extract days from \"baseline_create_date\" column and store it into a new column \"day_of_createdate\" for train, test and validation dataset \n",
    "2.   Extract months from \"baseline_create_date\" column and store it into a new column \"month_of_createdate\" for train, test and validation dataset\n",
    "3.   Extract year from \"baseline_create_date\" column and store it into a new column \"year_of_createdate\" for train, test and validation dataset \n",
    "\n",
    "\n",
    "\n",
    "- Note - You are supposed yo use \n",
    "\n",
    "*   dt.day\n",
    "*   dt.month\n",
    "*   dt.year\n",
    "\n",
    "\n",
    "- Note - Do as it is been shown in the previous two code boxes"
   ]
  },
  {
   "cell_type": "markdown",
   "id": "ee4d83d0",
   "metadata": {
    "id": "ee4d83d0"
   },
   "source": [
    "### Extracting Day, Month, Year for 'baseline_create_date' column"
   ]
  },
  {
   "cell_type": "code",
   "execution_count": 87,
   "id": "32b240e1",
   "metadata": {
    "id": "32b240e1"
   },
   "outputs": [],
   "source": [
    "X_train['day_of_createdate'] = X_train['baseline_create_date'].dt.day\n",
    "X_train['month_of_createdate'] = X_train['baseline_create_date'].dt.month\n",
    "X_train['year_of_createdate'] = X_train['baseline_create_date'].dt.year\n",
    "\n",
    "X_val['day_of_createdate'] = X_val['baseline_create_date'].dt.day\n",
    "X_val['month_of_createdate'] = X_val['baseline_create_date'].dt.month\n",
    "X_val['year_of_createdate'] = X_val['baseline_create_date'].dt.year\n",
    "\n",
    "X_test['day_of_createdate'] = X_test['baseline_create_date'].dt.day\n",
    "X_test['month_of_createdate'] = X_test['baseline_create_date'].dt.month\n",
    "X_test['year_of_createdate'] = X_test['baseline_create_date'].dt.year"
   ]
  },
  {
   "cell_type": "markdown",
   "id": "cFgwkS5rSDDs",
   "metadata": {
    "id": "cFgwkS5rSDDs"
   },
   "source": [
    "### pass the \"baseline_create_date\" column into the Custom function for train, test and validation dataset"
   ]
  },
  {
   "cell_type": "code",
   "execution_count": 88,
   "id": "RGYa2BEQSDg3",
   "metadata": {
    "id": "RGYa2BEQSDg3"
   },
   "outputs": [],
   "source": [
    "X_train ,X_val, X_test = custom(['baseline_create_date'])"
   ]
  },
  {
   "cell_type": "markdown",
   "id": "77c7a0df",
   "metadata": {
    "id": "77c7a0df"
   },
   "source": [
    "### You need to extract day, month and year from the \"due_in_date\" column \n",
    "\n",
    "1.   Extract days from \"due_in_date\" column and store it into a new column \"day_of_due\" for train, test and validation dataset \n",
    "2.   Extract months from \"due_in_date\" column and store it into a new column \"month_of_due\" for train, test and validation dataset\n",
    "3.   Extract year from \"due_in_date\" column and store it into a new column \"year_of_due\" for train, test and validation dataset \n",
    "\n",
    "\n",
    "\n",
    "- Note - You are supposed yo use \n",
    "\n",
    "*   dt.day\n",
    "*   dt.month\n",
    "*   dt.year\n",
    "\n",
    "- Note - Do as it is been shown in the previous code"
   ]
  },
  {
   "cell_type": "code",
   "execution_count": 89,
   "id": "5c745547",
   "metadata": {
    "id": "5c745547"
   },
   "outputs": [],
   "source": [
    "X_train['day_of_due'] = X_train['due_in_date'].dt.day\n",
    "X_train['month_of_due'] = X_train['due_in_date'].dt.month\n",
    "X_train['year_of_due'] = X_train['due_in_date'].dt.year\n",
    "\n",
    "X_val['day_of_due'] = X_val['due_in_date'].dt.day\n",
    "X_val['month_of_due'] = X_val['due_in_date'].dt.month\n",
    "X_val['year_of_due'] = X_val['due_in_date'].dt.year\n",
    "\n",
    "X_test['day_of_due'] = X_test['due_in_date'].dt.day\n",
    "X_test['month_of_due'] = X_test['due_in_date'].dt.month\n",
    "X_test['year_of_due'] = X_test['due_in_date'].dt.year"
   ]
  },
  {
   "cell_type": "markdown",
   "id": "FYLLzulGSvRd",
   "metadata": {
    "id": "FYLLzulGSvRd"
   },
   "source": [
    "pass the \"due_in_date\" column into the Custom function for train, test and validation dataset"
   ]
  },
  {
   "cell_type": "code",
   "execution_count": 90,
   "id": "1-s6QuY9Svrh",
   "metadata": {
    "id": "1-s6QuY9Svrh"
   },
   "outputs": [],
   "source": [
    "X_train ,X_val, X_test = custom(['due_in_date'])"
   ]
  },
  {
   "cell_type": "markdown",
   "id": "1ae5d052",
   "metadata": {
    "id": "1ae5d052"
   },
   "source": [
    "### Check for the datatypes for train, test and validation set again\n",
    "\n",
    "- Note - all the data type should be in either int64 or float64 format \n"
   ]
  },
  {
   "cell_type": "code",
   "execution_count": 91,
   "id": "2e3ed164",
   "metadata": {},
   "outputs": [
    {
     "data": {
      "text/plain": [
       "cust_number                 int32\n",
       "buisness_year               int64\n",
       "doc_id                      int64\n",
       "converted_usd             float64\n",
       "business_code_enc           int32\n",
       "name_customer_enc           int32\n",
       "cust_payment_terms_enc      int32\n",
       "day_of_postingdate          int64\n",
       "month_of_postingdate        int64\n",
       "year_of_postingdate         int64\n",
       "day_of_createdate           int64\n",
       "month_of_createdate         int64\n",
       "year_of_createdate          int64\n",
       "day_of_due                  int64\n",
       "month_of_due                int64\n",
       "year_of_due                 int64\n",
       "dtype: object"
      ]
     },
     "execution_count": 91,
     "metadata": {},
     "output_type": "execute_result"
    }
   ],
   "source": [
    "X_train.dtypes"
   ]
  },
  {
   "cell_type": "code",
   "execution_count": 92,
   "id": "42850f4d",
   "metadata": {},
   "outputs": [
    {
     "data": {
      "text/plain": [
       "cust_number                 int32\n",
       "buisness_year               int64\n",
       "doc_id                      int64\n",
       "converted_usd             float64\n",
       "business_code_enc           int32\n",
       "name_customer_enc           int32\n",
       "cust_payment_terms_enc      int32\n",
       "day_of_postingdate          int64\n",
       "month_of_postingdate        int64\n",
       "year_of_postingdate         int64\n",
       "day_of_createdate           int64\n",
       "month_of_createdate         int64\n",
       "year_of_createdate          int64\n",
       "day_of_due                  int64\n",
       "month_of_due                int64\n",
       "year_of_due                 int64\n",
       "dtype: object"
      ]
     },
     "execution_count": 92,
     "metadata": {},
     "output_type": "execute_result"
    }
   ],
   "source": [
    "X_test.dtypes"
   ]
  },
  {
   "cell_type": "code",
   "execution_count": 93,
   "id": "aee9d828",
   "metadata": {
    "id": "aee9d828"
   },
   "outputs": [
    {
     "data": {
      "text/plain": [
       "cust_number                 int32\n",
       "buisness_year               int64\n",
       "doc_id                      int64\n",
       "converted_usd             float64\n",
       "business_code_enc           int32\n",
       "name_customer_enc           int32\n",
       "cust_payment_terms_enc      int32\n",
       "day_of_postingdate          int64\n",
       "month_of_postingdate        int64\n",
       "year_of_postingdate         int64\n",
       "day_of_createdate           int64\n",
       "month_of_createdate         int64\n",
       "year_of_createdate          int64\n",
       "day_of_due                  int64\n",
       "month_of_due                int64\n",
       "year_of_due                 int64\n",
       "dtype: object"
      ]
     },
     "execution_count": 93,
     "metadata": {},
     "output_type": "execute_result"
    }
   ],
   "source": [
    "X_val.dtypes"
   ]
  },
  {
   "cell_type": "markdown",
   "id": "65810f55",
   "metadata": {
    "id": "65810f55"
   },
   "source": [
    "# Feature Selection"
   ]
  },
  {
   "cell_type": "markdown",
   "id": "4bb1ad9f",
   "metadata": {
    "id": "4bb1ad9f"
   },
   "source": [
    "### Filter Method\n",
    "\n",
    "- Calling the VarianceThreshold Function \n",
    "- Note - Keep the code as it is, no need to change "
   ]
  },
  {
   "cell_type": "code",
   "execution_count": 94,
   "id": "e882509f",
   "metadata": {
    "id": "e882509f"
   },
   "outputs": [
    {
     "data": {
      "text/plain": [
       "16"
      ]
     },
     "execution_count": 94,
     "metadata": {},
     "output_type": "execute_result"
    }
   ],
   "source": [
    "from sklearn.feature_selection import VarianceThreshold\n",
    "constant_filter = VarianceThreshold(threshold=0)\n",
    "constant_filter.fit(X_train)\n",
    "len(X_train.columns[constant_filter.get_support()])"
   ]
  },
  {
   "cell_type": "markdown",
   "id": "V9531H3jR-W2",
   "metadata": {
    "id": "V9531H3jR-W2"
   },
   "source": [
    "- Note - Keep the code as it is, no need to change \n"
   ]
  },
  {
   "cell_type": "code",
   "execution_count": 95,
   "id": "c77c12e1",
   "metadata": {
    "id": "c77c12e1"
   },
   "outputs": [
    {
     "name": "stdout",
     "output_type": "stream",
     "text": [
      "0\n"
     ]
    }
   ],
   "source": [
    "constant_columns = [column for column in X_train.columns\n",
    "                    if column not in X_train.columns[constant_filter.get_support()]]\n",
    "print(len(constant_columns))"
   ]
  },
  {
   "cell_type": "markdown",
   "id": "6d9b8610",
   "metadata": {
    "id": "6d9b8610"
   },
   "source": [
    "- transpose the feature matrice\n",
    "- print the number of duplicated features\n",
    "- select the duplicated features columns names\n",
    "\n",
    "- Note - Keep the code as it is, no need to change \n"
   ]
  },
  {
   "cell_type": "code",
   "execution_count": 96,
   "id": "0fb7db95",
   "metadata": {
    "id": "0fb7db95"
   },
   "outputs": [
    {
     "name": "stdout",
     "output_type": "stream",
     "text": [
      "0\n"
     ]
    }
   ],
   "source": [
    "x_train_T = X_train.T\n",
    "print(x_train_T.duplicated().sum())\n",
    "duplicated_columns = x_train_T[x_train_T.duplicated()].index.values"
   ]
  },
  {
   "cell_type": "markdown",
   "id": "510fa831",
   "metadata": {
    "id": "510fa831"
   },
   "source": [
    "### Filtering depending upon correlation matrix value\n",
    "- We have created a function called handling correlation which is going to return fields based on the correlation matrix value with a threshold of 0.8\n",
    "\n",
    "- Note - Keep the code as it is, no need to change "
   ]
  },
  {
   "cell_type": "code",
   "execution_count": 97,
   "id": "67731abc",
   "metadata": {
    "id": "67731abc"
   },
   "outputs": [],
   "source": [
    "def handling_correlation(X_train,threshold=0.8):\n",
    "    corr_features = set()\n",
    "    corr_matrix = X_train.corr()\n",
    "    for i in range(len(corr_matrix .columns)):\n",
    "        for j in range(i):\n",
    "            if abs(corr_matrix.iloc[i, j]) >threshold:\n",
    "                colname = corr_matrix.columns[i]\n",
    "                corr_features.add(colname)\n",
    "    return list(corr_features)"
   ]
  },
  {
   "cell_type": "markdown",
   "id": "JaE_6qVgSXl3",
   "metadata": {
    "id": "JaE_6qVgSXl3"
   },
   "source": [
    "- Note : Here we are trying to find out the relevant fields, from X_train\n",
    "- Please fill in the blanks to call handling_correlation() function with a threshold value of 0.85"
   ]
  },
  {
   "cell_type": "code",
   "execution_count": 98,
   "id": "dd91d1a2",
   "metadata": {
    "id": "dd91d1a2"
   },
   "outputs": [
    {
     "data": {
      "text/plain": [
       "['year_of_postingdate',\n",
       " 'year_of_due',\n",
       " 'day_of_createdate',\n",
       " 'year_of_createdate',\n",
       " 'month_of_due']"
      ]
     },
     "execution_count": 98,
     "metadata": {},
     "output_type": "execute_result"
    }
   ],
   "source": [
    "train=X_train.copy()\n",
    "handling_correlation(train.copy(),0.85)"
   ]
  },
  {
   "cell_type": "markdown",
   "id": "154da511",
   "metadata": {
    "id": "154da511"
   },
   "source": [
    "### Heatmap for X_train\n",
    "\n",
    "- Note - Keep the code as it is, no need to change"
   ]
  },
  {
   "cell_type": "code",
   "execution_count": 99,
   "id": "2e8f2fe4",
   "metadata": {
    "id": "2e8f2fe4"
   },
   "outputs": [
    {
     "data": {
      "text/plain": [
       "<AxesSubplot:title={'center':'Pearson Correlation of Features'}>"
      ]
     },
     "execution_count": 99,
     "metadata": {},
     "output_type": "execute_result"
    },
    {
     "data": {
      "image/png": "[encoded data removed]",
      "text/plain": [
       "<Figure size 1008x864 with 2 Axes>"
      ]
     },
     "metadata": {
      "needs_background": "light"
     },
     "output_type": "display_data"
    }
   ],
   "source": [
    "colormap = plt.cm.RdBu\n",
    "plt.figure(figsize=(14,12))\n",
    "plt.title('Pearson Correlation of Features', y=1.05, size=20)\n",
    "sns.heatmap(X_train.merge(y_train , on = X_train.index ).corr(),linewidths=0.1,vmax=1.0, \n",
    "            square=True, cmap='gist_rainbow_r', linecolor='white', annot=True)"
   ]
  },
  {
   "cell_type": "markdown",
   "id": "e3b0d745",
   "metadata": {
    "id": "e3b0d745"
   },
   "source": [
    "#### Calling variance threshold for threshold value = 0.8\n",
    "\n",
    "- Note -  Fill in the blanks to call the appropriate method"
   ]
  },
  {
   "cell_type": "code",
   "execution_count": 100,
   "id": "a9b2080f",
   "metadata": {
    "id": "a9b2080f"
   },
   "outputs": [
    {
     "data": {
      "text/plain": [
       "VarianceThreshold(threshold=0.8)"
      ]
     },
     "execution_count": 100,
     "metadata": {},
     "output_type": "execute_result"
    }
   ],
   "source": [
    "from sklearn.feature_selection import VarianceThreshold\n",
    "sel = VarianceThreshold(0.8)\n",
    "sel.fit(X_train)"
   ]
  },
  {
   "cell_type": "code",
   "execution_count": 101,
   "id": "6cb8c3dc",
   "metadata": {
    "id": "6cb8c3dc"
   },
   "outputs": [
    {
     "data": {
      "text/plain": [
       "array([1.79867713e+15, 1.15195317e-01, 8.14358365e+16, 1.33915922e+09,\n",
       "       2.89199371e-01, 1.06851239e+06, 1.17330626e+02, 8.15549689e+01,\n",
       "       1.18936898e+01, 1.15661120e-01, 7.71513423e+01, 1.22576245e+01,\n",
       "       1.15788866e-01, 7.61732267e+01, 1.20393869e+01, 1.18619907e-01])"
      ]
     },
     "execution_count": 101,
     "metadata": {},
     "output_type": "execute_result"
    }
   ],
   "source": [
    "sel.variances_"
   ]
  },
  {
   "cell_type": "markdown",
   "id": "62633a84",
   "metadata": {
    "id": "62633a84"
   },
   "source": [
    "### Features columns are \n",
    "- 'year_of_createdate' \n",
    "- 'year_of_due'\n",
    "- 'day_of_createdate'\n",
    "- 'year_of_postingdate'\n",
    "- 'month_of_due'\n",
    "- 'month_of_createdate'"
   ]
  },
  {
   "cell_type": "markdown",
   "id": "651f1ad0",
   "metadata": {
    "id": "651f1ad0"
   },
   "source": [
    "# Modelling \n",
    "\n",
    "#### Now you need to compare with different machine learning models, and needs to find out the best predicted model\n",
    "\n",
    "- Linear Regression\n",
    "- Decision Tree Regression\n",
    "- Random Forest Regression\n",
    "- Support Vector Regression\n",
    "- Extreme Gradient Boost Regression "
   ]
  },
  {
   "cell_type": "markdown",
   "id": "PicEhSuUUOkt",
   "metadata": {
    "id": "PicEhSuUUOkt"
   },
   "source": [
    "### You need to make different blank list for different evaluation matrix \n",
    "\n",
    "- MSE\n",
    "- R2\n",
    "- Algorithm"
   ]
  },
  {
   "cell_type": "code",
   "execution_count": 102,
   "id": "701e12b0",
   "metadata": {
    "id": "701e12b0"
   },
   "outputs": [],
   "source": [
    "MSE_Score = []\n",
    "R2_Score = []\n",
    "Algorithm = []\n",
    "from sklearn.metrics import mean_squared_error\n",
    "from sklearn.metrics import r2_score"
   ]
  },
  {
   "cell_type": "markdown",
   "id": "29310119",
   "metadata": {
    "id": "29310119"
   },
   "source": [
    "### You need to start with the baseline model Linear Regression\n",
    "\n",
    "- Step 1 : Call the Linear Regression from sklearn library\n",
    "- Step 2 : make an object of Linear Regression \n",
    "- Step 3 : fit the X_train and y_train dataframe into the object \n",
    "- Step 4 : Predict the output by passing the X_test Dataset into predict function\n",
    "\n",
    "\n",
    "\n",
    "\n",
    "- Note - Append the Algorithm name into the algorithm list for tracking purpose"
   ]
  },
  {
   "cell_type": "code",
   "execution_count": 103,
   "id": "6bdea395",
   "metadata": {
    "id": "6bdea395"
   },
   "outputs": [],
   "source": [
    "from sklearn.linear_model import LinearRegression\n",
    "Algorithm.append('Linear Regression')\n",
    "linear_regressor = LinearRegression()\n",
    "linear_regressor.fit(X_train, y_train)\n",
    "predicted= linear_regressor.predict(X_test)"
   ]
  },
  {
   "cell_type": "markdown",
   "id": "G02cpnBhXJ14",
   "metadata": {
    "id": "G02cpnBhXJ14"
   },
   "source": [
    "### Check for the \n",
    "\n",
    "- Mean Square Error\n",
    "- R Square Error \n",
    "\n",
    "for y_test and predicted dataset and store those data inside respective list for comparison "
   ]
  },
  {
   "cell_type": "code",
   "execution_count": 104,
   "id": "0f69ca19",
   "metadata": {
    "id": "0f69ca19"
   },
   "outputs": [],
   "source": [
    "MSE_Score.append(mean_squared_error(y_test, predicted))\n",
    "R2_Score.append(r2_score(y_test, predicted))"
   ]
  },
  {
   "cell_type": "markdown",
   "id": "CsmScbHjYMv1",
   "metadata": {
    "id": "CsmScbHjYMv1"
   },
   "source": [
    "### Check the same for the Validation set also "
   ]
  },
  {
   "cell_type": "code",
   "execution_count": 105,
   "id": "fe653295",
   "metadata": {
    "colab": {
     "base_uri": "https://localhost:8080/"
    },
    "executionInfo": {
     "elapsed": 10,
     "status": "ok",
     "timestamp": 1643093994094,
     "user": {
      "displayName": "Chandramouli Das",
      "photoUrl": "https://lh3.googleusercontent.com/a-/AOh14GgsMuDXf6PZsS77v0Q5x8metxFPnlLXsBC6Y3O7=s64",
      "userId": "13777762579346461395"
     },
     "user_tz": -330
    },
    "id": "fe653295",
    "outputId": "0c7429ca-50d0-42a2-96a1-effaa92f549e"
   },
   "outputs": [
    {
     "data": {
      "text/plain": [
       "25308.65362082515"
      ]
     },
     "execution_count": 105,
     "metadata": {},
     "output_type": "execute_result"
    }
   ],
   "source": [
    "predict_test= linear_regressor.predict(X_val)\n",
    "mean_squared_error(y_val, predict_test, squared=False)"
   ]
  },
  {
   "cell_type": "markdown",
   "id": "LokxV2LGYUVh",
   "metadata": {
    "id": "LokxV2LGYUVh"
   },
   "source": [
    "### Display The Comparison Lists"
   ]
  },
  {
   "cell_type": "code",
   "execution_count": 106,
   "id": "9c405bd3",
   "metadata": {
    "colab": {
     "base_uri": "https://localhost:8080/"
    },
    "executionInfo": {
     "elapsed": 8,
     "status": "ok",
     "timestamp": 1643093994095,
     "user": {
      "displayName": "Chandramouli Das",
      "photoUrl": "https://lh3.googleusercontent.com/a-/AOh14GgsMuDXf6PZsS77v0Q5x8metxFPnlLXsBC6Y3O7=s64",
      "userId": "13777762579346461395"
     },
     "user_tz": -330
    },
    "id": "9c405bd3",
    "outputId": "9d78f4a9-33fc-48d1-edc8-c997eca38de0"
   },
   "outputs": [
    {
     "name": "stdout",
     "output_type": "stream",
     "text": [
      "['Linear Regression'],[645691606.9124572],[0.011237632249952667],"
     ]
    }
   ],
   "source": [
    "for i in Algorithm, MSE_Score, R2_Score:\n",
    "    print(i,end=',')"
   ]
  },
  {
   "cell_type": "markdown",
   "id": "b0e65c86",
   "metadata": {
    "id": "b0e65c86"
   },
   "source": [
    "### You need to start with the baseline model Support Vector Regression\n",
    "\n",
    "- Step 1 : Call the Support Vector Regressor from sklearn library\n",
    "- Step 2 : make an object of SVR\n",
    "- Step 3 : fit the X_train and y_train dataframe into the object \n",
    "- Step 4 : Predict the output by passing the X_test Dataset into predict function\n",
    "\n",
    "\n",
    "\n",
    "\n",
    "- Note - Append the Algorithm name into the algorithm list for tracking purpose"
   ]
  },
  {
   "cell_type": "code",
   "execution_count": 107,
   "id": "ccb5de08",
   "metadata": {
    "id": "ccb5de08"
   },
   "outputs": [],
   "source": [
    "from sklearn.svm import SVR\n",
    "Algorithm.append('Support Vector Regression')\n",
    "svr = SVR()\n",
    "svr.fit(X_train, y_train)\n",
    "predicted= svr.predict(X_test)"
   ]
  },
  {
   "cell_type": "markdown",
   "id": "zz9kcrViYt7e",
   "metadata": {
    "id": "zz9kcrViYt7e"
   },
   "source": [
    "### Check for the \n",
    "\n",
    "- Mean Square Error\n",
    "- R Square Error \n",
    "\n",
    "for \"y_test\" and \"predicted\" dataset and store those data inside respective list for comparison "
   ]
  },
  {
   "cell_type": "code",
   "execution_count": 108,
   "id": "5bb9db76",
   "metadata": {
    "id": "5bb9db76"
   },
   "outputs": [],
   "source": [
    "MSE_Score.append(mean_squared_error(y_test, predicted))\n",
    "R2_Score.append(r2_score(y_test, predicted))"
   ]
  },
  {
   "cell_type": "markdown",
   "id": "0YAxd8N9Y0hJ",
   "metadata": {
    "id": "0YAxd8N9Y0hJ"
   },
   "source": [
    "### Check the same for the Validation set also "
   ]
  },
  {
   "cell_type": "code",
   "execution_count": 109,
   "id": "d6ee71b1",
   "metadata": {
    "id": "d6ee71b1"
   },
   "outputs": [
    {
     "data": {
      "text/plain": [
       "25609.2219981182"
      ]
     },
     "execution_count": 109,
     "metadata": {},
     "output_type": "execute_result"
    }
   ],
   "source": [
    "predict_test= svr.predict(X_val)\n",
    "mean_squared_error(y_val, predict_test, squared=False)"
   ]
  },
  {
   "cell_type": "markdown",
   "id": "eGcqS5EcY4BI",
   "metadata": {
    "id": "eGcqS5EcY4BI"
   },
   "source": [
    "### Display The Comparison Lists"
   ]
  },
  {
   "cell_type": "code",
   "execution_count": 110,
   "id": "aa72c1ec",
   "metadata": {
    "id": "aa72c1ec"
   },
   "outputs": [
    {
     "name": "stdout",
     "output_type": "stream",
     "text": [
      "['Linear Regression', 'Support Vector Regression'],[645691606.9124572, 653876647.673279],[0.011237632249952667, -0.001296308405555946],"
     ]
    }
   ],
   "source": [
    "for i in Algorithm, MSE_Score, R2_Score:\n",
    "    print(i,end=',')"
   ]
  },
  {
   "cell_type": "markdown",
   "id": "dad18bb3",
   "metadata": {
    "id": "dad18bb3"
   },
   "source": [
    "### Your next model would be Decision Tree Regression\n",
    "\n",
    "- Step 1 : Call the Decision Tree Regressor from sklearn library\n",
    "- Step 2 : make an object of Decision Tree\n",
    "- Step 3 : fit the X_train and y_train dataframe into the object \n",
    "- Step 4 : Predict the output by passing the X_test Dataset into predict function\n",
    "\n",
    "\n",
    "\n",
    "\n",
    "- Note - Append the Algorithm name into the algorithm list for tracking purpose"
   ]
  },
  {
   "cell_type": "code",
   "execution_count": 111,
   "id": "1b6a51eb",
   "metadata": {
    "id": "1b6a51eb"
   },
   "outputs": [],
   "source": [
    "from sklearn.tree import DecisionTreeRegressor\n",
    "Algorithm.append('DecisionTreeRegressor')\n",
    "decisiontree = DecisionTreeRegressor()\n",
    "decisiontree.fit(X_train, y_train)\n",
    "predicted= decisiontree.predict(X_test)"
   ]
  },
  {
   "cell_type": "markdown",
   "id": "AOzfgfeOZo3F",
   "metadata": {
    "id": "AOzfgfeOZo3F"
   },
   "source": [
    "### Check for the \n",
    "\n",
    "- Mean Square Error\n",
    "- R Square Error \n",
    "\n",
    "for y_test and predicted dataset and store those data inside respective list for comparison "
   ]
  },
  {
   "cell_type": "code",
   "execution_count": 112,
   "id": "776e6983",
   "metadata": {
    "id": "776e6983"
   },
   "outputs": [],
   "source": [
    "MSE_Score.append(mean_squared_error(y_test, predicted))\n",
    "R2_Score.append(r2_score(y_test, predicted))"
   ]
  },
  {
   "cell_type": "markdown",
   "id": "eI6d49DQZrhW",
   "metadata": {
    "id": "eI6d49DQZrhW"
   },
   "source": [
    "### Check the same for the Validation set also "
   ]
  },
  {
   "cell_type": "code",
   "execution_count": 113,
   "id": "155fb55c",
   "metadata": {
    "id": "155fb55c"
   },
   "outputs": [
    {
     "data": {
      "text/plain": [
       "14187.973541916534"
      ]
     },
     "execution_count": 113,
     "metadata": {},
     "output_type": "execute_result"
    }
   ],
   "source": [
    "predict_test= decisiontree.predict(X_val)\n",
    "mean_squared_error(y_val, predict_test, squared=False)"
   ]
  },
  {
   "cell_type": "markdown",
   "id": "sbGXvBLQZw5E",
   "metadata": {
    "id": "sbGXvBLQZw5E"
   },
   "source": [
    "### Display The Comparison Lists"
   ]
  },
  {
   "cell_type": "code",
   "execution_count": 114,
   "id": "1d74d515",
   "metadata": {
    "id": "1d74d515"
   },
   "outputs": [
    {
     "name": "stdout",
     "output_type": "stream",
     "text": [
      "['Linear Regression', 'Support Vector Regression', 'DecisionTreeRegressor'],[645691606.9124572, 653876647.673279, 219672717.14670584],[0.011237632249952667, -0.001296308405555946, 0.6636101296489181],"
     ]
    }
   ],
   "source": [
    "for i in Algorithm, MSE_Score, R2_Score:\n",
    "    print(i,end=',')"
   ]
  },
  {
   "cell_type": "markdown",
   "id": "4ae9979b",
   "metadata": {
    "id": "4ae9979b"
   },
   "source": [
    "### Your next model would be Random Forest Regression\n",
    "\n",
    "- Step 1 : Call the Random Forest Regressor from sklearn library\n",
    "- Step 2 : make an object of Random Forest\n",
    "- Step 3 : fit the X_train and y_train dataframe into the object \n",
    "- Step 4 : Predict the output by passing the X_test Dataset into predict function\n",
    "\n",
    "\n",
    "\n",
    "\n",
    "- Note - Append the Algorithm name into the algorithm list for tracking purpose"
   ]
  },
  {
   "cell_type": "code",
   "execution_count": 115,
   "id": "a69e476a",
   "metadata": {
    "id": "a69e476a"
   },
   "outputs": [],
   "source": [
    "from sklearn.ensemble import RandomForestRegressor\n",
    "Algorithm.append('RandomForestRegressor')\n",
    "random_forest = RandomForestRegressor()\n",
    "random_forest.fit(X_train, y_train)\n",
    "predicted= random_forest.predict(X_test)"
   ]
  },
  {
   "cell_type": "markdown",
   "id": "XNcEJF-6anof",
   "metadata": {
    "id": "XNcEJF-6anof"
   },
   "source": [
    "### Check for the \n",
    "\n",
    "- Mean Square Error\n",
    "- R Square Error \n",
    "\n",
    "for y_test and predicted dataset and store those data inside respective list for comparison "
   ]
  },
  {
   "cell_type": "code",
   "execution_count": 116,
   "id": "826f63f4",
   "metadata": {
    "id": "826f63f4"
   },
   "outputs": [],
   "source": [
    "MSE_Score.append(mean_squared_error(y_test, predicted))\n",
    "R2_Score.append(r2_score(y_test, predicted))"
   ]
  },
  {
   "cell_type": "markdown",
   "id": "yMbyr9V4ati1",
   "metadata": {
    "id": "yMbyr9V4ati1"
   },
   "source": [
    "### Check the same for the Validation set also "
   ]
  },
  {
   "cell_type": "code",
   "execution_count": 117,
   "id": "55b9fb54",
   "metadata": {
    "id": "55b9fb54"
   },
   "outputs": [
    {
     "data": {
      "text/plain": [
       "10363.951990259833"
      ]
     },
     "execution_count": 117,
     "metadata": {},
     "output_type": "execute_result"
    }
   ],
   "source": [
    "predict_test= random_forest.predict(X_val)\n",
    "mean_squared_error(y_val, predict_test, squared=False)"
   ]
  },
  {
   "cell_type": "markdown",
   "id": "tiBawcCsaw_Z",
   "metadata": {
    "id": "tiBawcCsaw_Z"
   },
   "source": [
    "### Display The Comparison Lists\n"
   ]
  },
  {
   "cell_type": "code",
   "execution_count": 118,
   "id": "8277c13e",
   "metadata": {
    "id": "8277c13e"
   },
   "outputs": [
    {
     "name": "stdout",
     "output_type": "stream",
     "text": [
      "['Linear Regression', 'Support Vector Regression', 'DecisionTreeRegressor', 'RandomForestRegressor'],[645691606.9124572, 653876647.673279, 219672717.14670584, 124094355.64038317],[0.011237632249952667, -0.001296308405555946, 0.6636101296489181, 0.8099714668832031],"
     ]
    }
   ],
   "source": [
    "for i in Algorithm, MSE_Score, R2_Score:\n",
    "    print(i,end=',')"
   ]
  },
  {
   "cell_type": "markdown",
   "id": "e6b21881",
   "metadata": {
    "id": "e6b21881"
   },
   "source": [
    "### The last but not the least model would be XGBoost or Extreme Gradient Boost Regression\n",
    "\n",
    "- Step 1 : Call the XGBoost Regressor from xgb library\n",
    "- Step 2 : make an object of Xgboost\n",
    "- Step 3 : fit the X_train and y_train dataframe into the object \n",
    "- Step 4 : Predict the output by passing the X_test Dataset into predict function\n",
    "\n",
    "\n",
    "\n",
    "\n",
    "- Note - Append the Algorithm name into the algorithm list for tracking purpose### Extreme Gradient Boost Regression\n",
    "- Note -  No need to change the code "
   ]
  },
  {
   "cell_type": "code",
   "execution_count": 120,
   "id": "705a38ec",
   "metadata": {
    "id": "705a38ec"
   },
   "outputs": [],
   "source": [
    "import xgboost as xgb\n",
    "Algorithm.append('XGB Regressor')\n",
    "regressor = xgb.XGBRegressor()\n",
    "regressor.fit(X_train, y_train)\n",
    "predicted = regressor.predict(X_test)"
   ]
  },
  {
   "cell_type": "markdown",
   "id": "ierNZkb9bQDD",
   "metadata": {
    "id": "ierNZkb9bQDD"
   },
   "source": [
    "### Check for the \n",
    "\n",
    "- Mean Square Error\n",
    "- R Square Error \n",
    "\n",
    "for y_test and predicted dataset and store those data inside respective list for comparison "
   ]
  },
  {
   "cell_type": "code",
   "execution_count": 121,
   "id": "507a9d2f",
   "metadata": {
    "id": "507a9d2f"
   },
   "outputs": [],
   "source": [
    "MSE_Score.append(mean_squared_error(y_test, predicted))\n",
    "R2_Score.append(r2_score(y_test, predicted))"
   ]
  },
  {
   "cell_type": "markdown",
   "id": "84UZ2ojsbWaH",
   "metadata": {
    "id": "84UZ2ojsbWaH"
   },
   "source": [
    "### Check the same for the Validation set also "
   ]
  },
  {
   "cell_type": "code",
   "execution_count": 122,
   "id": "e78ac250",
   "metadata": {
    "id": "e78ac250"
   },
   "outputs": [
    {
     "data": {
      "text/plain": [
       "13307.843365214365"
      ]
     },
     "execution_count": 122,
     "metadata": {},
     "output_type": "execute_result"
    }
   ],
   "source": [
    "predict_test= regressor.predict(X_val)\n",
    "mean_squared_error(y_val, predict_test, squared=False)"
   ]
  },
  {
   "cell_type": "markdown",
   "id": "9FJFyaVbbbAH",
   "metadata": {
    "id": "9FJFyaVbbbAH"
   },
   "source": [
    "### Display The Comparison Lists\n"
   ]
  },
  {
   "cell_type": "code",
   "execution_count": 123,
   "id": "f765ba35",
   "metadata": {
    "id": "f765ba35"
   },
   "outputs": [
    {
     "name": "stdout",
     "output_type": "stream",
     "text": [
      "['Linear Regression', 'Support Vector Regression', 'DecisionTreeRegressor', 'RandomForestRegressor', 'XGB Regressor'],[645691606.9124572, 653876647.673279, 219672717.14670584, 124094355.64038317, 182954731.25218],[0.011237632249952667, -0.001296308405555946, 0.6636101296489181, 0.8099714668832031, 0.719837223641494],"
     ]
    }
   ],
   "source": [
    "for i in Algorithm, MSE_Score, R2_Score:\n",
    "    print(i,end=',')"
   ]
  },
  {
   "cell_type": "markdown",
   "id": "a71bc90f",
   "metadata": {
    "id": "a71bc90f"
   },
   "source": [
    "## You need to make the comparison list into a comparison dataframe "
   ]
  },
  {
   "cell_type": "code",
   "execution_count": 124,
   "id": "ceda35d7",
   "metadata": {},
   "outputs": [
    {
     "data": {
      "text/html": [
       "<div>\n",
       "<style scoped>\n",
       "    .dataframe tbody tr th:only-of-type {\n",
       "        vertical-align: middle;\n",
       "    }\n",
       "\n",
       "    .dataframe tbody tr th {\n",
       "        vertical-align: top;\n",
       "    }\n",
       "\n",
       "    .dataframe thead th {\n",
       "        text-align: right;\n",
       "    }\n",
       "</style>\n",
       "<table border=\"1\" class=\"dataframe\">\n",
       "  <thead>\n",
       "    <tr style=\"text-align: right;\">\n",
       "      <th></th>\n",
       "      <th>Algorithm</th>\n",
       "      <th>MSE_Score</th>\n",
       "      <th>R2_Score</th>\n",
       "    </tr>\n",
       "  </thead>\n",
       "  <tbody>\n",
       "    <tr>\n",
       "      <th>0</th>\n",
       "      <td>Linear Regression</td>\n",
       "      <td>6.456916e+08</td>\n",
       "      <td>0.011238</td>\n",
       "    </tr>\n",
       "    <tr>\n",
       "      <th>1</th>\n",
       "      <td>Support Vector Regression</td>\n",
       "      <td>6.538766e+08</td>\n",
       "      <td>-0.001296</td>\n",
       "    </tr>\n",
       "    <tr>\n",
       "      <th>2</th>\n",
       "      <td>DecisionTreeRegressor</td>\n",
       "      <td>2.196727e+08</td>\n",
       "      <td>0.663610</td>\n",
       "    </tr>\n",
       "    <tr>\n",
       "      <th>3</th>\n",
       "      <td>RandomForestRegressor</td>\n",
       "      <td>1.240944e+08</td>\n",
       "      <td>0.809971</td>\n",
       "    </tr>\n",
       "    <tr>\n",
       "      <th>4</th>\n",
       "      <td>XGB Regressor</td>\n",
       "      <td>1.829547e+08</td>\n",
       "      <td>0.719837</td>\n",
       "    </tr>\n",
       "  </tbody>\n",
       "</table>\n",
       "</div>"
      ],
      "text/plain": [
       "                   Algorithm     MSE_Score  R2_Score\n",
       "0          Linear Regression  6.456916e+08  0.011238\n",
       "1  Support Vector Regression  6.538766e+08 -0.001296\n",
       "2      DecisionTreeRegressor  2.196727e+08  0.663610\n",
       "3      RandomForestRegressor  1.240944e+08  0.809971\n",
       "4              XGB Regressor  1.829547e+08  0.719837"
      ]
     },
     "execution_count": 124,
     "metadata": {},
     "output_type": "execute_result"
    }
   ],
   "source": [
    "results = pd.DataFrame({'Algorithm':Algorithm, 'MSE_Score' :MSE_Score, 'R2_Score' : R2_Score})\n",
    "results"
   ]
  },
  {
   "cell_type": "markdown",
   "id": "62e61c60",
   "metadata": {
    "id": "62e61c60"
   },
   "source": [
    "## Now from the Comparison table, you need to choose the best fit model\n",
    "\n",
    "- Step 1 - Fit X_train and y_train inside the model \n",
    "- Step 2 - Predict the X_test dataset\n",
    "- Step 3 - Predict the X_val dataset\n",
    "\n",
    "\n",
    "- Note - No need to change the code"
   ]
  },
  {
   "cell_type": "code",
   "execution_count": 125,
   "id": "3e07c258",
   "metadata": {
    "id": "3e07c258"
   },
   "outputs": [],
   "source": [
    "regressorfinal = xgb.XGBRegressor()\n",
    "regressorfinal.fit(X_train, y_train)\n",
    "predictedfinal = regressorfinal.predict(X_test)\n",
    "predict_testfinal = regressorfinal.predict(X_val)"
   ]
  },
  {
   "cell_type": "markdown",
   "id": "8e4df6c4",
   "metadata": {
    "id": "8e4df6c4"
   },
   "source": [
    "### Calculate the Mean Square Error for test dataset\n",
    "\n",
    "- Note - No need to change the code"
   ]
  },
  {
   "cell_type": "code",
   "execution_count": 126,
   "id": "5fb466d0",
   "metadata": {
    "id": "5fb466d0"
   },
   "outputs": [
    {
     "data": {
      "text/plain": [
       "13526.075973917195"
      ]
     },
     "execution_count": 126,
     "metadata": {},
     "output_type": "execute_result"
    }
   ],
   "source": [
    "mean_squared_error(y_test,predictedfinal,squared=False)"
   ]
  },
  {
   "cell_type": "markdown",
   "id": "ce27f87f",
   "metadata": {
    "id": "ce27f87f"
   },
   "source": [
    "### Calculate the mean Square Error for validation dataset"
   ]
  },
  {
   "cell_type": "code",
   "execution_count": 127,
   "id": "b47978ea",
   "metadata": {
    "id": "b47978ea"
   },
   "outputs": [
    {
     "data": {
      "text/plain": [
       "31922.077206204296"
      ]
     },
     "execution_count": 127,
     "metadata": {},
     "output_type": "execute_result"
    }
   ],
   "source": [
    "mean_squared_error(y_val,predictedfinal,squared=False)"
   ]
  },
  {
   "cell_type": "markdown",
   "id": "30014dbd",
   "metadata": {
    "id": "30014dbd"
   },
   "source": [
    "### Calculate the R2 score for test"
   ]
  },
  {
   "cell_type": "code",
   "execution_count": 128,
   "id": "8a162737",
   "metadata": {
    "id": "8a162737"
   },
   "outputs": [
    {
     "data": {
      "text/plain": [
       "0.719837223641494"
      ]
     },
     "execution_count": 128,
     "metadata": {},
     "output_type": "execute_result"
    }
   ],
   "source": [
    "r2_score(y_test,predictedfinal)"
   ]
  },
  {
   "cell_type": "markdown",
   "id": "1c9853b0",
   "metadata": {
    "id": "1c9853b0"
   },
   "source": [
    "### Calculate the R2 score for Validation"
   ]
  },
  {
   "cell_type": "code",
   "execution_count": 129,
   "id": "1a6dc77c",
   "metadata": {
    "id": "1a6dc77c"
   },
   "outputs": [
    {
     "data": {
      "text/plain": [
       "-0.5585868522988442"
      ]
     },
     "execution_count": 129,
     "metadata": {},
     "output_type": "execute_result"
    }
   ],
   "source": [
    "r2_score(y_val,predictedfinal)"
   ]
  },
  {
   "cell_type": "markdown",
   "id": "499522d9",
   "metadata": {
    "id": "499522d9"
   },
   "source": [
    "### Calculate the Accuracy for train Dataset "
   ]
  },
  {
   "cell_type": "code",
   "execution_count": 130,
   "id": "5448618e",
   "metadata": {},
   "outputs": [
    {
     "name": "stdout",
     "output_type": "stream",
     "text": [
      "97.37 %\n"
     ]
    }
   ],
   "source": [
    "accuracy = round(random_forest.score(X_train, y_train)*100,2)\n",
    "print(round(accuracy, 2), '%')"
   ]
  },
  {
   "cell_type": "markdown",
   "id": "12a1c921",
   "metadata": {
    "id": "12a1c921"
   },
   "source": [
    "### Calculate the accuracy for validation"
   ]
  },
  {
   "cell_type": "code",
   "execution_count": 131,
   "id": "50e96ced",
   "metadata": {},
   "outputs": [
    {
     "name": "stdout",
     "output_type": "stream",
     "text": [
      "83.57 %\n"
     ]
    }
   ],
   "source": [
    "accuracy = round(random_forest.score(X_val, y_val)*100,2)\n",
    "print(round(accuracy, 2), '%')"
   ]
  },
  {
   "cell_type": "markdown",
   "id": "79b82e84",
   "metadata": {
    "id": "79b82e84"
   },
   "source": [
    "### Calculate the accuracy for test"
   ]
  },
  {
   "cell_type": "code",
   "execution_count": 132,
   "id": "fe9cc0d2",
   "metadata": {},
   "outputs": [
    {
     "name": "stdout",
     "output_type": "stream",
     "text": [
      "81.0 %\n"
     ]
    }
   ],
   "source": [
    "accuracy = round(random_forest.score(X_test, y_test)*100,2)\n",
    "print(round(accuracy, 2), '%')"
   ]
  },
  {
   "cell_type": "markdown",
   "id": "9488a5d9",
   "metadata": {
    "id": "9488a5d9"
   },
   "source": [
    "## Specify the reason behind choosing your machine learning model \n",
    "\n",
    "- Note : Provide your answer as a text here"
   ]
  },
  {
   "cell_type": "markdown",
   "id": "6bfa42fa",
   "metadata": {},
   "source": [
    "The reason behind choosing the  random forest machine learning algorithm is that, after training the dataset I calulated the accuracy for test dataset for all the algorithms and got the accuracy of (80-81)%  for random forest algorithm which is highest amongst all the algorithms."
   ]
  },
  {
   "cell_type": "markdown",
   "id": "387a6519",
   "metadata": {
    "id": "387a6519"
   },
   "source": [
    "## Now you need to pass the Nulldata dataframe into this machine learning model\n",
    "\n",
    "#### In order to pass this Nulldata dataframe into the ML model, we need to perform the following\n",
    "\n",
    "- Step 1 : Label Encoding \n",
    "- Step 2 : Day, Month and Year extraction \n",
    "- Step 3 : Change all the column data type into int64 or float64\n",
    "- Step 4 : Need to drop the useless columns "
   ]
  },
  {
   "cell_type": "markdown",
   "id": "I7JuxAkdiAdI",
   "metadata": {
    "id": "I7JuxAkdiAdI"
   },
   "source": [
    "### Display the Nulldata "
   ]
  },
  {
   "cell_type": "code",
   "execution_count": 133,
   "id": "6d6a51d2",
   "metadata": {
    "id": "6d6a51d2"
   },
   "outputs": [
    {
     "data": {
      "text/html": [
       "<div>\n",
       "<style scoped>\n",
       "    .dataframe tbody tr th:only-of-type {\n",
       "        vertical-align: middle;\n",
       "    }\n",
       "\n",
       "    .dataframe tbody tr th {\n",
       "        vertical-align: top;\n",
       "    }\n",
       "\n",
       "    .dataframe thead th {\n",
       "        text-align: right;\n",
       "    }\n",
       "</style>\n",
       "<table border=\"1\" class=\"dataframe\">\n",
       "  <thead>\n",
       "    <tr style=\"text-align: right;\">\n",
       "      <th></th>\n",
       "      <th>business_code</th>\n",
       "      <th>cust_number</th>\n",
       "      <th>name_customer</th>\n",
       "      <th>clear_date</th>\n",
       "      <th>buisness_year</th>\n",
       "      <th>doc_id</th>\n",
       "      <th>posting_date</th>\n",
       "      <th>due_in_date</th>\n",
       "      <th>baseline_create_date</th>\n",
       "      <th>cust_payment_terms</th>\n",
       "      <th>converted_usd</th>\n",
       "    </tr>\n",
       "  </thead>\n",
       "  <tbody>\n",
       "    <tr>\n",
       "      <th>3</th>\n",
       "      <td>CA02</td>\n",
       "      <td>140105686</td>\n",
       "      <td>SYSC llc</td>\n",
       "      <td>NaT</td>\n",
       "      <td>2020</td>\n",
       "      <td>2960623488</td>\n",
       "      <td>2020-03-30</td>\n",
       "      <td>2020-04-10</td>\n",
       "      <td>2020-03-31</td>\n",
       "      <td>CA10</td>\n",
       "      <td>2309.79</td>\n",
       "    </tr>\n",
       "    <tr>\n",
       "      <th>7</th>\n",
       "      <td>U001</td>\n",
       "      <td>200744019</td>\n",
       "      <td>TARG us</td>\n",
       "      <td>NaT</td>\n",
       "      <td>2020</td>\n",
       "      <td>1930659387</td>\n",
       "      <td>2020-03-19</td>\n",
       "      <td>2020-04-03</td>\n",
       "      <td>2020-03-19</td>\n",
       "      <td>NAA8</td>\n",
       "      <td>11173.02</td>\n",
       "    </tr>\n",
       "    <tr>\n",
       "      <th>10</th>\n",
       "      <td>U001</td>\n",
       "      <td>200418007</td>\n",
       "      <td>AM</td>\n",
       "      <td>NaT</td>\n",
       "      <td>2020</td>\n",
       "      <td>1930610806</td>\n",
       "      <td>2020-11-03</td>\n",
       "      <td>2020-03-26</td>\n",
       "      <td>2020-03-11</td>\n",
       "      <td>NAA8</td>\n",
       "      <td>3525.59</td>\n",
       "    </tr>\n",
       "    <tr>\n",
       "      <th>14</th>\n",
       "      <td>U001</td>\n",
       "      <td>200739534</td>\n",
       "      <td>OK systems</td>\n",
       "      <td>NaT</td>\n",
       "      <td>2020</td>\n",
       "      <td>1930788296</td>\n",
       "      <td>2020-04-15</td>\n",
       "      <td>2020-04-30</td>\n",
       "      <td>2020-04-15</td>\n",
       "      <td>NAA8</td>\n",
       "      <td>121105.65</td>\n",
       "    </tr>\n",
       "    <tr>\n",
       "      <th>15</th>\n",
       "      <td>U001</td>\n",
       "      <td>200353024</td>\n",
       "      <td>DECA corporation</td>\n",
       "      <td>NaT</td>\n",
       "      <td>2020</td>\n",
       "      <td>1930817482</td>\n",
       "      <td>2020-04-23</td>\n",
       "      <td>2020-04-26</td>\n",
       "      <td>2020-04-16</td>\n",
       "      <td>NAM2</td>\n",
       "      <td>3726.06</td>\n",
       "    </tr>\n",
       "    <tr>\n",
       "      <th>...</th>\n",
       "      <td>...</td>\n",
       "      <td>...</td>\n",
       "      <td>...</td>\n",
       "      <td>...</td>\n",
       "      <td>...</td>\n",
       "      <td>...</td>\n",
       "      <td>...</td>\n",
       "      <td>...</td>\n",
       "      <td>...</td>\n",
       "      <td>...</td>\n",
       "      <td>...</td>\n",
       "    </tr>\n",
       "    <tr>\n",
       "      <th>49975</th>\n",
       "      <td>U001</td>\n",
       "      <td>200769623</td>\n",
       "      <td>WAL-MAR in</td>\n",
       "      <td>NaT</td>\n",
       "      <td>2020</td>\n",
       "      <td>1930624804</td>\n",
       "      <td>2020-10-03</td>\n",
       "      <td>2020-03-25</td>\n",
       "      <td>2020-03-10</td>\n",
       "      <td>NAH4</td>\n",
       "      <td>13114.99</td>\n",
       "    </tr>\n",
       "    <tr>\n",
       "      <th>49980</th>\n",
       "      <td>U001</td>\n",
       "      <td>200769623</td>\n",
       "      <td>WAL-MAR corporation</td>\n",
       "      <td>NaT</td>\n",
       "      <td>2020</td>\n",
       "      <td>1930850962</td>\n",
       "      <td>2020-03-05</td>\n",
       "      <td>2020-05-18</td>\n",
       "      <td>2020-05-03</td>\n",
       "      <td>NAH4</td>\n",
       "      <td>8899.71</td>\n",
       "    </tr>\n",
       "    <tr>\n",
       "      <th>49982</th>\n",
       "      <td>U001</td>\n",
       "      <td>200148860</td>\n",
       "      <td>DOLLA co</td>\n",
       "      <td>NaT</td>\n",
       "      <td>2020</td>\n",
       "      <td>1930637779</td>\n",
       "      <td>2020-11-03</td>\n",
       "      <td>2020-03-26</td>\n",
       "      <td>2020-03-11</td>\n",
       "      <td>NAA8</td>\n",
       "      <td>4967.06</td>\n",
       "    </tr>\n",
       "    <tr>\n",
       "      <th>49992</th>\n",
       "      <td>U001</td>\n",
       "      <td>200900909</td>\n",
       "      <td>SYSCO co</td>\n",
       "      <td>NaT</td>\n",
       "      <td>2020</td>\n",
       "      <td>1930702251</td>\n",
       "      <td>2020-03-25</td>\n",
       "      <td>2020-04-09</td>\n",
       "      <td>2020-03-25</td>\n",
       "      <td>NAA8</td>\n",
       "      <td>1998.64</td>\n",
       "    </tr>\n",
       "    <tr>\n",
       "      <th>49995</th>\n",
       "      <td>U001</td>\n",
       "      <td>200561861</td>\n",
       "      <td>CO corporation</td>\n",
       "      <td>NaT</td>\n",
       "      <td>2020</td>\n",
       "      <td>1930797071</td>\n",
       "      <td>2020-04-21</td>\n",
       "      <td>2020-05-06</td>\n",
       "      <td>2020-04-21</td>\n",
       "      <td>NAA8</td>\n",
       "      <td>3187.86</td>\n",
       "    </tr>\n",
       "  </tbody>\n",
       "</table>\n",
       "<p>9681 rows × 11 columns</p>\n",
       "</div>"
      ],
      "text/plain": [
       "      business_code cust_number        name_customer clear_date  \\\n",
       "3              CA02   140105686             SYSC llc        NaT   \n",
       "7              U001   200744019              TARG us        NaT   \n",
       "10             U001   200418007                  AM         NaT   \n",
       "14             U001   200739534           OK systems        NaT   \n",
       "15             U001   200353024     DECA corporation        NaT   \n",
       "...             ...         ...                  ...        ...   \n",
       "49975          U001   200769623           WAL-MAR in        NaT   \n",
       "49980          U001   200769623  WAL-MAR corporation        NaT   \n",
       "49982          U001   200148860             DOLLA co        NaT   \n",
       "49992          U001   200900909             SYSCO co        NaT   \n",
       "49995          U001   200561861       CO corporation        NaT   \n",
       "\n",
       "       buisness_year      doc_id posting_date due_in_date  \\\n",
       "3               2020  2960623488   2020-03-30  2020-04-10   \n",
       "7               2020  1930659387   2020-03-19  2020-04-03   \n",
       "10              2020  1930610806   2020-11-03  2020-03-26   \n",
       "14              2020  1930788296   2020-04-15  2020-04-30   \n",
       "15              2020  1930817482   2020-04-23  2020-04-26   \n",
       "...              ...         ...          ...         ...   \n",
       "49975           2020  1930624804   2020-10-03  2020-03-25   \n",
       "49980           2020  1930850962   2020-03-05  2020-05-18   \n",
       "49982           2020  1930637779   2020-11-03  2020-03-26   \n",
       "49992           2020  1930702251   2020-03-25  2020-04-09   \n",
       "49995           2020  1930797071   2020-04-21  2020-05-06   \n",
       "\n",
       "      baseline_create_date cust_payment_terms  converted_usd  \n",
       "3               2020-03-31               CA10        2309.79  \n",
       "7               2020-03-19               NAA8       11173.02  \n",
       "10              2020-03-11               NAA8        3525.59  \n",
       "14              2020-04-15               NAA8      121105.65  \n",
       "15              2020-04-16               NAM2        3726.06  \n",
       "...                    ...                ...            ...  \n",
       "49975           2020-03-10               NAH4       13114.99  \n",
       "49980           2020-05-03               NAH4        8899.71  \n",
       "49982           2020-03-11               NAA8        4967.06  \n",
       "49992           2020-03-25               NAA8        1998.64  \n",
       "49995           2020-04-21               NAA8        3187.86  \n",
       "\n",
       "[9681 rows x 11 columns]"
      ]
     },
     "execution_count": 133,
     "metadata": {},
     "output_type": "execute_result"
    }
   ],
   "source": [
    "nulldata"
   ]
  },
  {
   "cell_type": "markdown",
   "id": "Vamx5xqtiHCH",
   "metadata": {
    "id": "Vamx5xqtiHCH"
   },
   "source": [
    "### Check for the number of rows and columns in the nulldata"
   ]
  },
  {
   "cell_type": "code",
   "execution_count": 134,
   "id": "59de1092",
   "metadata": {
    "id": "59de1092"
   },
   "outputs": [
    {
     "data": {
      "text/plain": [
       "(9681, 11)"
      ]
     },
     "execution_count": 134,
     "metadata": {},
     "output_type": "execute_result"
    }
   ],
   "source": [
    "nulldata.shape"
   ]
  },
  {
   "cell_type": "markdown",
   "id": "BxzHNbBjpqXL",
   "metadata": {
    "id": "BxzHNbBjpqXL"
   },
   "source": [
    "### Check the Description and Information of the nulldata "
   ]
  },
  {
   "cell_type": "code",
   "execution_count": 135,
   "id": "a6294d29",
   "metadata": {
    "id": "a6294d29"
   },
   "outputs": [
    {
     "data": {
      "text/html": [
       "<div>\n",
       "<style scoped>\n",
       "    .dataframe tbody tr th:only-of-type {\n",
       "        vertical-align: middle;\n",
       "    }\n",
       "\n",
       "    .dataframe tbody tr th {\n",
       "        vertical-align: top;\n",
       "    }\n",
       "\n",
       "    .dataframe thead th {\n",
       "        text-align: right;\n",
       "    }\n",
       "</style>\n",
       "<table border=\"1\" class=\"dataframe\">\n",
       "  <thead>\n",
       "    <tr style=\"text-align: right;\">\n",
       "      <th></th>\n",
       "      <th>buisness_year</th>\n",
       "      <th>doc_id</th>\n",
       "      <th>converted_usd</th>\n",
       "    </tr>\n",
       "  </thead>\n",
       "  <tbody>\n",
       "    <tr>\n",
       "      <th>count</th>\n",
       "      <td>9681.0</td>\n",
       "      <td>9.681000e+03</td>\n",
       "      <td>9681.000000</td>\n",
       "    </tr>\n",
       "    <tr>\n",
       "      <th>mean</th>\n",
       "      <td>2020.0</td>\n",
       "      <td>2.006165e+09</td>\n",
       "      <td>32065.681125</td>\n",
       "    </tr>\n",
       "    <tr>\n",
       "      <th>std</th>\n",
       "      <td>0.0</td>\n",
       "      <td>2.673629e+08</td>\n",
       "      <td>35419.613688</td>\n",
       "    </tr>\n",
       "    <tr>\n",
       "      <th>min</th>\n",
       "      <td>2020.0</td>\n",
       "      <td>1.930535e+09</td>\n",
       "      <td>0.720000</td>\n",
       "    </tr>\n",
       "    <tr>\n",
       "      <th>25%</th>\n",
       "      <td>2020.0</td>\n",
       "      <td>1.930658e+09</td>\n",
       "      <td>5607.190000</td>\n",
       "    </tr>\n",
       "    <tr>\n",
       "      <th>50%</th>\n",
       "      <td>2020.0</td>\n",
       "      <td>1.930731e+09</td>\n",
       "      <td>19024.190000</td>\n",
       "    </tr>\n",
       "    <tr>\n",
       "      <th>75%</th>\n",
       "      <td>2020.0</td>\n",
       "      <td>1.930818e+09</td>\n",
       "      <td>47752.640000</td>\n",
       "    </tr>\n",
       "    <tr>\n",
       "      <th>max</th>\n",
       "      <td>2020.0</td>\n",
       "      <td>2.960636e+09</td>\n",
       "      <td>653644.800000</td>\n",
       "    </tr>\n",
       "  </tbody>\n",
       "</table>\n",
       "</div>"
      ],
      "text/plain": [
       "       buisness_year        doc_id  converted_usd\n",
       "count         9681.0  9.681000e+03    9681.000000\n",
       "mean          2020.0  2.006165e+09   32065.681125\n",
       "std              0.0  2.673629e+08   35419.613688\n",
       "min           2020.0  1.930535e+09       0.720000\n",
       "25%           2020.0  1.930658e+09    5607.190000\n",
       "50%           2020.0  1.930731e+09   19024.190000\n",
       "75%           2020.0  1.930818e+09   47752.640000\n",
       "max           2020.0  2.960636e+09  653644.800000"
      ]
     },
     "execution_count": 135,
     "metadata": {},
     "output_type": "execute_result"
    }
   ],
   "source": [
    "nulldata.describe()"
   ]
  },
  {
   "cell_type": "code",
   "execution_count": 136,
   "id": "5fe4acae",
   "metadata": {},
   "outputs": [
    {
     "name": "stdout",
     "output_type": "stream",
     "text": [
      "<class 'pandas.core.frame.DataFrame'>\n",
      "Int64Index: 9681 entries, 3 to 49995\n",
      "Data columns (total 11 columns):\n",
      " #   Column                Non-Null Count  Dtype         \n",
      "---  ------                --------------  -----         \n",
      " 0   business_code         9681 non-null   object        \n",
      " 1   cust_number           9681 non-null   object        \n",
      " 2   name_customer         9681 non-null   object        \n",
      " 3   clear_date            0 non-null      datetime64[ns]\n",
      " 4   buisness_year         9681 non-null   int64         \n",
      " 5   doc_id                9681 non-null   int64         \n",
      " 6   posting_date          9681 non-null   datetime64[ns]\n",
      " 7   due_in_date           9681 non-null   datetime64[ns]\n",
      " 8   baseline_create_date  9681 non-null   datetime64[ns]\n",
      " 9   cust_payment_terms    9681 non-null   object        \n",
      " 10  converted_usd         9681 non-null   float64       \n",
      "dtypes: datetime64[ns](4), float64(1), int64(2), object(4)\n",
      "memory usage: 907.6+ KB\n"
     ]
    }
   ],
   "source": [
    "nulldata.info()"
   ]
  },
  {
   "cell_type": "markdown",
   "id": "fe860d94",
   "metadata": {
    "id": "fe860d94"
   },
   "source": [
    "### Storing the Nulldata into a different dataset \n",
    "# for BACKUP"
   ]
  },
  {
   "cell_type": "code",
   "execution_count": 137,
   "id": "16352034",
   "metadata": {
    "id": "16352034"
   },
   "outputs": [],
   "source": [
    "nulldata1=nulldata.copy()"
   ]
  },
  {
   "cell_type": "code",
   "execution_count": 138,
   "id": "62556652",
   "metadata": {},
   "outputs": [
    {
     "data": {
      "text/html": [
       "<div>\n",
       "<style scoped>\n",
       "    .dataframe tbody tr th:only-of-type {\n",
       "        vertical-align: middle;\n",
       "    }\n",
       "\n",
       "    .dataframe tbody tr th {\n",
       "        vertical-align: top;\n",
       "    }\n",
       "\n",
       "    .dataframe thead th {\n",
       "        text-align: right;\n",
       "    }\n",
       "</style>\n",
       "<table border=\"1\" class=\"dataframe\">\n",
       "  <thead>\n",
       "    <tr style=\"text-align: right;\">\n",
       "      <th></th>\n",
       "      <th>business_code</th>\n",
       "      <th>cust_number</th>\n",
       "      <th>name_customer</th>\n",
       "      <th>clear_date</th>\n",
       "      <th>buisness_year</th>\n",
       "      <th>doc_id</th>\n",
       "      <th>posting_date</th>\n",
       "      <th>due_in_date</th>\n",
       "      <th>baseline_create_date</th>\n",
       "      <th>cust_payment_terms</th>\n",
       "      <th>converted_usd</th>\n",
       "    </tr>\n",
       "  </thead>\n",
       "  <tbody>\n",
       "    <tr>\n",
       "      <th>3</th>\n",
       "      <td>CA02</td>\n",
       "      <td>140105686</td>\n",
       "      <td>SYSC llc</td>\n",
       "      <td>NaT</td>\n",
       "      <td>2020</td>\n",
       "      <td>2960623488</td>\n",
       "      <td>2020-03-30</td>\n",
       "      <td>2020-04-10</td>\n",
       "      <td>2020-03-31</td>\n",
       "      <td>CA10</td>\n",
       "      <td>2309.79</td>\n",
       "    </tr>\n",
       "    <tr>\n",
       "      <th>7</th>\n",
       "      <td>U001</td>\n",
       "      <td>200744019</td>\n",
       "      <td>TARG us</td>\n",
       "      <td>NaT</td>\n",
       "      <td>2020</td>\n",
       "      <td>1930659387</td>\n",
       "      <td>2020-03-19</td>\n",
       "      <td>2020-04-03</td>\n",
       "      <td>2020-03-19</td>\n",
       "      <td>NAA8</td>\n",
       "      <td>11173.02</td>\n",
       "    </tr>\n",
       "    <tr>\n",
       "      <th>10</th>\n",
       "      <td>U001</td>\n",
       "      <td>200418007</td>\n",
       "      <td>AM</td>\n",
       "      <td>NaT</td>\n",
       "      <td>2020</td>\n",
       "      <td>1930610806</td>\n",
       "      <td>2020-11-03</td>\n",
       "      <td>2020-03-26</td>\n",
       "      <td>2020-03-11</td>\n",
       "      <td>NAA8</td>\n",
       "      <td>3525.59</td>\n",
       "    </tr>\n",
       "    <tr>\n",
       "      <th>14</th>\n",
       "      <td>U001</td>\n",
       "      <td>200739534</td>\n",
       "      <td>OK systems</td>\n",
       "      <td>NaT</td>\n",
       "      <td>2020</td>\n",
       "      <td>1930788296</td>\n",
       "      <td>2020-04-15</td>\n",
       "      <td>2020-04-30</td>\n",
       "      <td>2020-04-15</td>\n",
       "      <td>NAA8</td>\n",
       "      <td>121105.65</td>\n",
       "    </tr>\n",
       "    <tr>\n",
       "      <th>15</th>\n",
       "      <td>U001</td>\n",
       "      <td>200353024</td>\n",
       "      <td>DECA corporation</td>\n",
       "      <td>NaT</td>\n",
       "      <td>2020</td>\n",
       "      <td>1930817482</td>\n",
       "      <td>2020-04-23</td>\n",
       "      <td>2020-04-26</td>\n",
       "      <td>2020-04-16</td>\n",
       "      <td>NAM2</td>\n",
       "      <td>3726.06</td>\n",
       "    </tr>\n",
       "    <tr>\n",
       "      <th>...</th>\n",
       "      <td>...</td>\n",
       "      <td>...</td>\n",
       "      <td>...</td>\n",
       "      <td>...</td>\n",
       "      <td>...</td>\n",
       "      <td>...</td>\n",
       "      <td>...</td>\n",
       "      <td>...</td>\n",
       "      <td>...</td>\n",
       "      <td>...</td>\n",
       "      <td>...</td>\n",
       "    </tr>\n",
       "    <tr>\n",
       "      <th>49975</th>\n",
       "      <td>U001</td>\n",
       "      <td>200769623</td>\n",
       "      <td>WAL-MAR in</td>\n",
       "      <td>NaT</td>\n",
       "      <td>2020</td>\n",
       "      <td>1930624804</td>\n",
       "      <td>2020-10-03</td>\n",
       "      <td>2020-03-25</td>\n",
       "      <td>2020-03-10</td>\n",
       "      <td>NAH4</td>\n",
       "      <td>13114.99</td>\n",
       "    </tr>\n",
       "    <tr>\n",
       "      <th>49980</th>\n",
       "      <td>U001</td>\n",
       "      <td>200769623</td>\n",
       "      <td>WAL-MAR corporation</td>\n",
       "      <td>NaT</td>\n",
       "      <td>2020</td>\n",
       "      <td>1930850962</td>\n",
       "      <td>2020-03-05</td>\n",
       "      <td>2020-05-18</td>\n",
       "      <td>2020-05-03</td>\n",
       "      <td>NAH4</td>\n",
       "      <td>8899.71</td>\n",
       "    </tr>\n",
       "    <tr>\n",
       "      <th>49982</th>\n",
       "      <td>U001</td>\n",
       "      <td>200148860</td>\n",
       "      <td>DOLLA co</td>\n",
       "      <td>NaT</td>\n",
       "      <td>2020</td>\n",
       "      <td>1930637779</td>\n",
       "      <td>2020-11-03</td>\n",
       "      <td>2020-03-26</td>\n",
       "      <td>2020-03-11</td>\n",
       "      <td>NAA8</td>\n",
       "      <td>4967.06</td>\n",
       "    </tr>\n",
       "    <tr>\n",
       "      <th>49992</th>\n",
       "      <td>U001</td>\n",
       "      <td>200900909</td>\n",
       "      <td>SYSCO co</td>\n",
       "      <td>NaT</td>\n",
       "      <td>2020</td>\n",
       "      <td>1930702251</td>\n",
       "      <td>2020-03-25</td>\n",
       "      <td>2020-04-09</td>\n",
       "      <td>2020-03-25</td>\n",
       "      <td>NAA8</td>\n",
       "      <td>1998.64</td>\n",
       "    </tr>\n",
       "    <tr>\n",
       "      <th>49995</th>\n",
       "      <td>U001</td>\n",
       "      <td>200561861</td>\n",
       "      <td>CO corporation</td>\n",
       "      <td>NaT</td>\n",
       "      <td>2020</td>\n",
       "      <td>1930797071</td>\n",
       "      <td>2020-04-21</td>\n",
       "      <td>2020-05-06</td>\n",
       "      <td>2020-04-21</td>\n",
       "      <td>NAA8</td>\n",
       "      <td>3187.86</td>\n",
       "    </tr>\n",
       "  </tbody>\n",
       "</table>\n",
       "<p>9681 rows × 11 columns</p>\n",
       "</div>"
      ],
      "text/plain": [
       "      business_code cust_number        name_customer clear_date  \\\n",
       "3              CA02   140105686             SYSC llc        NaT   \n",
       "7              U001   200744019              TARG us        NaT   \n",
       "10             U001   200418007                  AM         NaT   \n",
       "14             U001   200739534           OK systems        NaT   \n",
       "15             U001   200353024     DECA corporation        NaT   \n",
       "...             ...         ...                  ...        ...   \n",
       "49975          U001   200769623           WAL-MAR in        NaT   \n",
       "49980          U001   200769623  WAL-MAR corporation        NaT   \n",
       "49982          U001   200148860             DOLLA co        NaT   \n",
       "49992          U001   200900909             SYSCO co        NaT   \n",
       "49995          U001   200561861       CO corporation        NaT   \n",
       "\n",
       "       buisness_year      doc_id posting_date due_in_date  \\\n",
       "3               2020  2960623488   2020-03-30  2020-04-10   \n",
       "7               2020  1930659387   2020-03-19  2020-04-03   \n",
       "10              2020  1930610806   2020-11-03  2020-03-26   \n",
       "14              2020  1930788296   2020-04-15  2020-04-30   \n",
       "15              2020  1930817482   2020-04-23  2020-04-26   \n",
       "...              ...         ...          ...         ...   \n",
       "49975           2020  1930624804   2020-10-03  2020-03-25   \n",
       "49980           2020  1930850962   2020-03-05  2020-05-18   \n",
       "49982           2020  1930637779   2020-11-03  2020-03-26   \n",
       "49992           2020  1930702251   2020-03-25  2020-04-09   \n",
       "49995           2020  1930797071   2020-04-21  2020-05-06   \n",
       "\n",
       "      baseline_create_date cust_payment_terms  converted_usd  \n",
       "3               2020-03-31               CA10        2309.79  \n",
       "7               2020-03-19               NAA8       11173.02  \n",
       "10              2020-03-11               NAA8        3525.59  \n",
       "14              2020-04-15               NAA8      121105.65  \n",
       "15              2020-04-16               NAM2        3726.06  \n",
       "...                    ...                ...            ...  \n",
       "49975           2020-03-10               NAH4       13114.99  \n",
       "49980           2020-05-03               NAH4        8899.71  \n",
       "49982           2020-03-11               NAA8        4967.06  \n",
       "49992           2020-03-25               NAA8        1998.64  \n",
       "49995           2020-04-21               NAA8        3187.86  \n",
       "\n",
       "[9681 rows x 11 columns]"
      ]
     },
     "execution_count": 138,
     "metadata": {},
     "output_type": "execute_result"
    }
   ],
   "source": [
    "nulldata1"
   ]
  },
  {
   "cell_type": "markdown",
   "id": "00f35b8c",
   "metadata": {
    "id": "00f35b8c"
   },
   "source": [
    "### Call the Label Encoder for Nulldata\n",
    "\n",
    "- Note - you are expected to fit \"business_code\" as it is a categorical variable\n",
    "- Note - No need to change the code"
   ]
  },
  {
   "cell_type": "code",
   "execution_count": 139,
   "id": "baf04b17",
   "metadata": {
    "id": "baf04b17"
   },
   "outputs": [],
   "source": [
    "from sklearn.preprocessing import LabelEncoder\n",
    "business_codern = LabelEncoder()\n",
    "business_codern.fit(nulldata['business_code'])\n",
    "nulldata['business_code_enc'] = business_codern.transform(nulldata['business_code'])"
   ]
  },
  {
   "cell_type": "markdown",
   "id": "ZCPBK9karIR-",
   "metadata": {
    "id": "ZCPBK9karIR-"
   },
   "source": [
    "### Now you need to manually replacing str values with numbers\n",
    "- Note - No need to change the code"
   ]
  },
  {
   "cell_type": "code",
   "execution_count": 140,
   "id": "c64924be",
   "metadata": {
    "id": "c64924be"
   },
   "outputs": [],
   "source": [
    "nulldata['cust_number'] = nulldata['cust_number'].str.replace('CCCA',\"1\").str.replace('CCU',\"2\").str.replace('CC',\"3\").astype(int)"
   ]
  },
  {
   "cell_type": "markdown",
   "id": "9a55f5f6",
   "metadata": {
    "id": "9a55f5f6"
   },
   "source": [
    "## You need to extract day, month and year from the \"clear_date\", \"posting_date\", \"due_in_date\", \"baseline_create_date\" columns\n",
    "\n",
    "\n",
    "##### 1.   Extract day from \"clear_date\" column and store it into 'day_of_cleardate'\n",
    "##### 2.   Extract month from \"clear_date\" column and store it into 'month_of_cleardate'\n",
    "##### 3.   Extract year from \"clear_date\" column and store it into 'year_of_cleardate'\n",
    "\n",
    "\n",
    "\n",
    "##### 4.   Extract day from \"posting_date\" column and store it into 'day_of_postingdate'\n",
    "##### 5.   Extract month from \"posting_date\" column and store it into 'month_of_postingdate'\n",
    "##### 6.   Extract year from \"posting_date\" column and store it into 'year_of_postingdate'\n",
    "\n",
    "\n",
    "\n",
    "\n",
    "##### 7.   Extract day from \"due_in_date\" column and store it into 'day_of_due'\n",
    "##### 8.   Extract month from \"due_in_date\" column and store it into 'month_of_due'\n",
    "##### 9.   Extract year from \"due_in_date\" column and store it into 'year_of_due'\n",
    "\n",
    "\n",
    "\n",
    "\n",
    "##### 10.   Extract day from \"baseline_create_date\" column and store it into 'day_of_createdate'\n",
    "##### 11.   Extract month from \"baseline_create_date\" column and store it into 'month_of_createdate'\n",
    "##### 12.   Extract year from \"baseline_create_date\" column and store it into 'year_of_createdate'\n",
    "\n",
    "\n",
    "\n",
    "\n",
    "- Note - You are supposed To use - \n",
    "\n",
    "*   dt.day\n",
    "*   dt.month\n",
    "*   dt.year"
   ]
  },
  {
   "cell_type": "code",
   "execution_count": 141,
   "id": "4166fbe4",
   "metadata": {
    "id": "4166fbe4"
   },
   "outputs": [],
   "source": [
    "nulldata['day_of_postingdate'] = nulldata['posting_date'].dt.day\n",
    "nulldata['month_of_postingdate'] = nulldata['posting_date'].dt.month\n",
    "nulldata['year_of_postingdate'] = nulldata['posting_date'].dt.year\n",
    "\n",
    "nulldata['day_of_createdate'] = nulldata['baseline_create_date'].dt.day\n",
    "nulldata['month_of_createdate'] = nulldata['baseline_create_date'].dt.month\n",
    "nulldata['year_of_createdate'] = nulldata['baseline_create_date'].dt.year\n",
    "\n",
    "nulldata['day_of_due'] = nulldata['due_in_date'].dt.day\n",
    "nulldata['month_of_due'] = nulldata['due_in_date'].dt.month\n",
    "nulldata['year_of_due'] = nulldata['due_in_date'].dt.year\n",
    "\n",
    "nulldata['day_of_cleardate'] = nulldata['clear_date'].dt.day\n",
    "nulldata['month_of_cleardate'] = nulldata['clear_date'].dt.month\n",
    "nulldata['year_of_cleardate'] = nulldata['clear_date'].dt.year"
   ]
  },
  {
   "cell_type": "code",
   "execution_count": 142,
   "id": "e6d634a9",
   "metadata": {},
   "outputs": [
    {
     "data": {
      "text/html": [
       "<div>\n",
       "<style scoped>\n",
       "    .dataframe tbody tr th:only-of-type {\n",
       "        vertical-align: middle;\n",
       "    }\n",
       "\n",
       "    .dataframe tbody tr th {\n",
       "        vertical-align: top;\n",
       "    }\n",
       "\n",
       "    .dataframe thead th {\n",
       "        text-align: right;\n",
       "    }\n",
       "</style>\n",
       "<table border=\"1\" class=\"dataframe\">\n",
       "  <thead>\n",
       "    <tr style=\"text-align: right;\">\n",
       "      <th></th>\n",
       "      <th>business_code</th>\n",
       "      <th>cust_number</th>\n",
       "      <th>name_customer</th>\n",
       "      <th>clear_date</th>\n",
       "      <th>buisness_year</th>\n",
       "      <th>doc_id</th>\n",
       "      <th>posting_date</th>\n",
       "      <th>due_in_date</th>\n",
       "      <th>baseline_create_date</th>\n",
       "      <th>cust_payment_terms</th>\n",
       "      <th>...</th>\n",
       "      <th>year_of_postingdate</th>\n",
       "      <th>day_of_createdate</th>\n",
       "      <th>month_of_createdate</th>\n",
       "      <th>year_of_createdate</th>\n",
       "      <th>day_of_due</th>\n",
       "      <th>month_of_due</th>\n",
       "      <th>year_of_due</th>\n",
       "      <th>day_of_cleardate</th>\n",
       "      <th>month_of_cleardate</th>\n",
       "      <th>year_of_cleardate</th>\n",
       "    </tr>\n",
       "  </thead>\n",
       "  <tbody>\n",
       "    <tr>\n",
       "      <th>3</th>\n",
       "      <td>CA02</td>\n",
       "      <td>140105686</td>\n",
       "      <td>SYSC llc</td>\n",
       "      <td>NaT</td>\n",
       "      <td>2020</td>\n",
       "      <td>2960623488</td>\n",
       "      <td>2020-03-30</td>\n",
       "      <td>2020-04-10</td>\n",
       "      <td>2020-03-31</td>\n",
       "      <td>CA10</td>\n",
       "      <td>...</td>\n",
       "      <td>2020</td>\n",
       "      <td>31</td>\n",
       "      <td>3</td>\n",
       "      <td>2020</td>\n",
       "      <td>10</td>\n",
       "      <td>4</td>\n",
       "      <td>2020</td>\n",
       "      <td>NaN</td>\n",
       "      <td>NaN</td>\n",
       "      <td>NaN</td>\n",
       "    </tr>\n",
       "    <tr>\n",
       "      <th>7</th>\n",
       "      <td>U001</td>\n",
       "      <td>200744019</td>\n",
       "      <td>TARG us</td>\n",
       "      <td>NaT</td>\n",
       "      <td>2020</td>\n",
       "      <td>1930659387</td>\n",
       "      <td>2020-03-19</td>\n",
       "      <td>2020-04-03</td>\n",
       "      <td>2020-03-19</td>\n",
       "      <td>NAA8</td>\n",
       "      <td>...</td>\n",
       "      <td>2020</td>\n",
       "      <td>19</td>\n",
       "      <td>3</td>\n",
       "      <td>2020</td>\n",
       "      <td>3</td>\n",
       "      <td>4</td>\n",
       "      <td>2020</td>\n",
       "      <td>NaN</td>\n",
       "      <td>NaN</td>\n",
       "      <td>NaN</td>\n",
       "    </tr>\n",
       "    <tr>\n",
       "      <th>10</th>\n",
       "      <td>U001</td>\n",
       "      <td>200418007</td>\n",
       "      <td>AM</td>\n",
       "      <td>NaT</td>\n",
       "      <td>2020</td>\n",
       "      <td>1930610806</td>\n",
       "      <td>2020-11-03</td>\n",
       "      <td>2020-03-26</td>\n",
       "      <td>2020-03-11</td>\n",
       "      <td>NAA8</td>\n",
       "      <td>...</td>\n",
       "      <td>2020</td>\n",
       "      <td>11</td>\n",
       "      <td>3</td>\n",
       "      <td>2020</td>\n",
       "      <td>26</td>\n",
       "      <td>3</td>\n",
       "      <td>2020</td>\n",
       "      <td>NaN</td>\n",
       "      <td>NaN</td>\n",
       "      <td>NaN</td>\n",
       "    </tr>\n",
       "    <tr>\n",
       "      <th>14</th>\n",
       "      <td>U001</td>\n",
       "      <td>200739534</td>\n",
       "      <td>OK systems</td>\n",
       "      <td>NaT</td>\n",
       "      <td>2020</td>\n",
       "      <td>1930788296</td>\n",
       "      <td>2020-04-15</td>\n",
       "      <td>2020-04-30</td>\n",
       "      <td>2020-04-15</td>\n",
       "      <td>NAA8</td>\n",
       "      <td>...</td>\n",
       "      <td>2020</td>\n",
       "      <td>15</td>\n",
       "      <td>4</td>\n",
       "      <td>2020</td>\n",
       "      <td>30</td>\n",
       "      <td>4</td>\n",
       "      <td>2020</td>\n",
       "      <td>NaN</td>\n",
       "      <td>NaN</td>\n",
       "      <td>NaN</td>\n",
       "    </tr>\n",
       "    <tr>\n",
       "      <th>15</th>\n",
       "      <td>U001</td>\n",
       "      <td>200353024</td>\n",
       "      <td>DECA corporation</td>\n",
       "      <td>NaT</td>\n",
       "      <td>2020</td>\n",
       "      <td>1930817482</td>\n",
       "      <td>2020-04-23</td>\n",
       "      <td>2020-04-26</td>\n",
       "      <td>2020-04-16</td>\n",
       "      <td>NAM2</td>\n",
       "      <td>...</td>\n",
       "      <td>2020</td>\n",
       "      <td>16</td>\n",
       "      <td>4</td>\n",
       "      <td>2020</td>\n",
       "      <td>26</td>\n",
       "      <td>4</td>\n",
       "      <td>2020</td>\n",
       "      <td>NaN</td>\n",
       "      <td>NaN</td>\n",
       "      <td>NaN</td>\n",
       "    </tr>\n",
       "    <tr>\n",
       "      <th>...</th>\n",
       "      <td>...</td>\n",
       "      <td>...</td>\n",
       "      <td>...</td>\n",
       "      <td>...</td>\n",
       "      <td>...</td>\n",
       "      <td>...</td>\n",
       "      <td>...</td>\n",
       "      <td>...</td>\n",
       "      <td>...</td>\n",
       "      <td>...</td>\n",
       "      <td>...</td>\n",
       "      <td>...</td>\n",
       "      <td>...</td>\n",
       "      <td>...</td>\n",
       "      <td>...</td>\n",
       "      <td>...</td>\n",
       "      <td>...</td>\n",
       "      <td>...</td>\n",
       "      <td>...</td>\n",
       "      <td>...</td>\n",
       "      <td>...</td>\n",
       "    </tr>\n",
       "    <tr>\n",
       "      <th>49975</th>\n",
       "      <td>U001</td>\n",
       "      <td>200769623</td>\n",
       "      <td>WAL-MAR in</td>\n",
       "      <td>NaT</td>\n",
       "      <td>2020</td>\n",
       "      <td>1930624804</td>\n",
       "      <td>2020-10-03</td>\n",
       "      <td>2020-03-25</td>\n",
       "      <td>2020-03-10</td>\n",
       "      <td>NAH4</td>\n",
       "      <td>...</td>\n",
       "      <td>2020</td>\n",
       "      <td>10</td>\n",
       "      <td>3</td>\n",
       "      <td>2020</td>\n",
       "      <td>25</td>\n",
       "      <td>3</td>\n",
       "      <td>2020</td>\n",
       "      <td>NaN</td>\n",
       "      <td>NaN</td>\n",
       "      <td>NaN</td>\n",
       "    </tr>\n",
       "    <tr>\n",
       "      <th>49980</th>\n",
       "      <td>U001</td>\n",
       "      <td>200769623</td>\n",
       "      <td>WAL-MAR corporation</td>\n",
       "      <td>NaT</td>\n",
       "      <td>2020</td>\n",
       "      <td>1930850962</td>\n",
       "      <td>2020-03-05</td>\n",
       "      <td>2020-05-18</td>\n",
       "      <td>2020-05-03</td>\n",
       "      <td>NAH4</td>\n",
       "      <td>...</td>\n",
       "      <td>2020</td>\n",
       "      <td>3</td>\n",
       "      <td>5</td>\n",
       "      <td>2020</td>\n",
       "      <td>18</td>\n",
       "      <td>5</td>\n",
       "      <td>2020</td>\n",
       "      <td>NaN</td>\n",
       "      <td>NaN</td>\n",
       "      <td>NaN</td>\n",
       "    </tr>\n",
       "    <tr>\n",
       "      <th>49982</th>\n",
       "      <td>U001</td>\n",
       "      <td>200148860</td>\n",
       "      <td>DOLLA co</td>\n",
       "      <td>NaT</td>\n",
       "      <td>2020</td>\n",
       "      <td>1930637779</td>\n",
       "      <td>2020-11-03</td>\n",
       "      <td>2020-03-26</td>\n",
       "      <td>2020-03-11</td>\n",
       "      <td>NAA8</td>\n",
       "      <td>...</td>\n",
       "      <td>2020</td>\n",
       "      <td>11</td>\n",
       "      <td>3</td>\n",
       "      <td>2020</td>\n",
       "      <td>26</td>\n",
       "      <td>3</td>\n",
       "      <td>2020</td>\n",
       "      <td>NaN</td>\n",
       "      <td>NaN</td>\n",
       "      <td>NaN</td>\n",
       "    </tr>\n",
       "    <tr>\n",
       "      <th>49992</th>\n",
       "      <td>U001</td>\n",
       "      <td>200900909</td>\n",
       "      <td>SYSCO co</td>\n",
       "      <td>NaT</td>\n",
       "      <td>2020</td>\n",
       "      <td>1930702251</td>\n",
       "      <td>2020-03-25</td>\n",
       "      <td>2020-04-09</td>\n",
       "      <td>2020-03-25</td>\n",
       "      <td>NAA8</td>\n",
       "      <td>...</td>\n",
       "      <td>2020</td>\n",
       "      <td>25</td>\n",
       "      <td>3</td>\n",
       "      <td>2020</td>\n",
       "      <td>9</td>\n",
       "      <td>4</td>\n",
       "      <td>2020</td>\n",
       "      <td>NaN</td>\n",
       "      <td>NaN</td>\n",
       "      <td>NaN</td>\n",
       "    </tr>\n",
       "    <tr>\n",
       "      <th>49995</th>\n",
       "      <td>U001</td>\n",
       "      <td>200561861</td>\n",
       "      <td>CO corporation</td>\n",
       "      <td>NaT</td>\n",
       "      <td>2020</td>\n",
       "      <td>1930797071</td>\n",
       "      <td>2020-04-21</td>\n",
       "      <td>2020-05-06</td>\n",
       "      <td>2020-04-21</td>\n",
       "      <td>NAA8</td>\n",
       "      <td>...</td>\n",
       "      <td>2020</td>\n",
       "      <td>21</td>\n",
       "      <td>4</td>\n",
       "      <td>2020</td>\n",
       "      <td>6</td>\n",
       "      <td>5</td>\n",
       "      <td>2020</td>\n",
       "      <td>NaN</td>\n",
       "      <td>NaN</td>\n",
       "      <td>NaN</td>\n",
       "    </tr>\n",
       "  </tbody>\n",
       "</table>\n",
       "<p>9681 rows × 24 columns</p>\n",
       "</div>"
      ],
      "text/plain": [
       "      business_code  cust_number        name_customer clear_date  \\\n",
       "3              CA02    140105686             SYSC llc        NaT   \n",
       "7              U001    200744019              TARG us        NaT   \n",
       "10             U001    200418007                  AM         NaT   \n",
       "14             U001    200739534           OK systems        NaT   \n",
       "15             U001    200353024     DECA corporation        NaT   \n",
       "...             ...          ...                  ...        ...   \n",
       "49975          U001    200769623           WAL-MAR in        NaT   \n",
       "49980          U001    200769623  WAL-MAR corporation        NaT   \n",
       "49982          U001    200148860             DOLLA co        NaT   \n",
       "49992          U001    200900909             SYSCO co        NaT   \n",
       "49995          U001    200561861       CO corporation        NaT   \n",
       "\n",
       "       buisness_year      doc_id posting_date due_in_date  \\\n",
       "3               2020  2960623488   2020-03-30  2020-04-10   \n",
       "7               2020  1930659387   2020-03-19  2020-04-03   \n",
       "10              2020  1930610806   2020-11-03  2020-03-26   \n",
       "14              2020  1930788296   2020-04-15  2020-04-30   \n",
       "15              2020  1930817482   2020-04-23  2020-04-26   \n",
       "...              ...         ...          ...         ...   \n",
       "49975           2020  1930624804   2020-10-03  2020-03-25   \n",
       "49980           2020  1930850962   2020-03-05  2020-05-18   \n",
       "49982           2020  1930637779   2020-11-03  2020-03-26   \n",
       "49992           2020  1930702251   2020-03-25  2020-04-09   \n",
       "49995           2020  1930797071   2020-04-21  2020-05-06   \n",
       "\n",
       "      baseline_create_date cust_payment_terms  ...  year_of_postingdate  \\\n",
       "3               2020-03-31               CA10  ...                 2020   \n",
       "7               2020-03-19               NAA8  ...                 2020   \n",
       "10              2020-03-11               NAA8  ...                 2020   \n",
       "14              2020-04-15               NAA8  ...                 2020   \n",
       "15              2020-04-16               NAM2  ...                 2020   \n",
       "...                    ...                ...  ...                  ...   \n",
       "49975           2020-03-10               NAH4  ...                 2020   \n",
       "49980           2020-05-03               NAH4  ...                 2020   \n",
       "49982           2020-03-11               NAA8  ...                 2020   \n",
       "49992           2020-03-25               NAA8  ...                 2020   \n",
       "49995           2020-04-21               NAA8  ...                 2020   \n",
       "\n",
       "       day_of_createdate  month_of_createdate  year_of_createdate  day_of_due  \\\n",
       "3                     31                    3                2020          10   \n",
       "7                     19                    3                2020           3   \n",
       "10                    11                    3                2020          26   \n",
       "14                    15                    4                2020          30   \n",
       "15                    16                    4                2020          26   \n",
       "...                  ...                  ...                 ...         ...   \n",
       "49975                 10                    3                2020          25   \n",
       "49980                  3                    5                2020          18   \n",
       "49982                 11                    3                2020          26   \n",
       "49992                 25                    3                2020           9   \n",
       "49995                 21                    4                2020           6   \n",
       "\n",
       "       month_of_due  year_of_due  day_of_cleardate  month_of_cleardate  \\\n",
       "3                 4         2020               NaN                 NaN   \n",
       "7                 4         2020               NaN                 NaN   \n",
       "10                3         2020               NaN                 NaN   \n",
       "14                4         2020               NaN                 NaN   \n",
       "15                4         2020               NaN                 NaN   \n",
       "...             ...          ...               ...                 ...   \n",
       "49975             3         2020               NaN                 NaN   \n",
       "49980             5         2020               NaN                 NaN   \n",
       "49982             3         2020               NaN                 NaN   \n",
       "49992             4         2020               NaN                 NaN   \n",
       "49995             5         2020               NaN                 NaN   \n",
       "\n",
       "       year_of_cleardate  \n",
       "3                    NaN  \n",
       "7                    NaN  \n",
       "10                   NaN  \n",
       "14                   NaN  \n",
       "15                   NaN  \n",
       "...                  ...  \n",
       "49975                NaN  \n",
       "49980                NaN  \n",
       "49982                NaN  \n",
       "49992                NaN  \n",
       "49995                NaN  \n",
       "\n",
       "[9681 rows x 24 columns]"
      ]
     },
     "execution_count": 142,
     "metadata": {},
     "output_type": "execute_result"
    }
   ],
   "source": [
    "nulldata"
   ]
  },
  {
   "cell_type": "markdown",
   "id": "QeHWJYrAvOC6",
   "metadata": {
    "id": "QeHWJYrAvOC6"
   },
   "source": [
    "### Use Label Encoder1 of all the following columns - \n",
    "- 'cust_payment_terms' and store into 'cust_payment_terms_enc'\n",
    "- 'business_code' and store into 'business_code_enc'\n",
    "- 'name_customer' and store into 'name_customer_enc'\n",
    "\n",
    "Note - No need to change the code"
   ]
  },
  {
   "cell_type": "code",
   "execution_count": 143,
   "id": "bac330e2",
   "metadata": {
    "id": "bac330e2"
   },
   "outputs": [],
   "source": [
    "nulldata['cust_payment_terms_enc']=label_encoder1.transform(nulldata['cust_payment_terms'])\n",
    "nulldata['business_code_enc']=label_encoder1.transform(nulldata['business_code'])\n",
    "nulldata['name_customer_enc']=label_encoder.transform(nulldata['name_customer'])\n"
   ]
  },
  {
   "cell_type": "markdown",
   "id": "zD9I-XqQwC28",
   "metadata": {
    "id": "zD9I-XqQwC28"
   },
   "source": [
    "### Check for the datatypes of all the columns of Nulldata"
   ]
  },
  {
   "cell_type": "code",
   "execution_count": 144,
   "id": "d4f72517",
   "metadata": {
    "id": "d4f72517"
   },
   "outputs": [
    {
     "data": {
      "text/plain": [
       "business_code                     object\n",
       "cust_number                        int32\n",
       "name_customer                     object\n",
       "clear_date                datetime64[ns]\n",
       "buisness_year                      int64\n",
       "doc_id                             int64\n",
       "posting_date              datetime64[ns]\n",
       "due_in_date               datetime64[ns]\n",
       "baseline_create_date      datetime64[ns]\n",
       "cust_payment_terms                object\n",
       "converted_usd                    float64\n",
       "business_code_enc                  int32\n",
       "day_of_postingdate                 int64\n",
       "month_of_postingdate               int64\n",
       "year_of_postingdate                int64\n",
       "day_of_createdate                  int64\n",
       "month_of_createdate                int64\n",
       "year_of_createdate                 int64\n",
       "day_of_due                         int64\n",
       "month_of_due                       int64\n",
       "year_of_due                        int64\n",
       "day_of_cleardate                 float64\n",
       "month_of_cleardate               float64\n",
       "year_of_cleardate                float64\n",
       "cust_payment_terms_enc             int32\n",
       "name_customer_enc                  int32\n",
       "dtype: object"
      ]
     },
     "execution_count": 144,
     "metadata": {},
     "output_type": "execute_result"
    }
   ],
   "source": [
    "nulldata.dtypes"
   ]
  },
  {
   "cell_type": "markdown",
   "id": "17cd5452",
   "metadata": {
    "id": "17cd5452"
   },
   "source": [
    "### Now you need to drop all the unnecessary columns - \n",
    "\n",
    "- 'business_code'\n",
    "- \"baseline_create_date\"\n",
    "- \"due_in_date\"\n",
    "- \"posting_date\"\n",
    "- \"name_customer\"\n",
    "- \"clear_date\"\n",
    "- \"cust_payment_terms\"\n",
    "- 'day_of_cleardate'\n",
    "- \"month_of_cleardate\"\n",
    "- \"year_of_cleardate\""
   ]
  },
  {
   "cell_type": "code",
   "execution_count": 145,
   "id": "b5005aef",
   "metadata": {},
   "outputs": [
    {
     "data": {
      "text/html": [
       "<div>\n",
       "<style scoped>\n",
       "    .dataframe tbody tr th:only-of-type {\n",
       "        vertical-align: middle;\n",
       "    }\n",
       "\n",
       "    .dataframe tbody tr th {\n",
       "        vertical-align: top;\n",
       "    }\n",
       "\n",
       "    .dataframe thead th {\n",
       "        text-align: right;\n",
       "    }\n",
       "</style>\n",
       "<table border=\"1\" class=\"dataframe\">\n",
       "  <thead>\n",
       "    <tr style=\"text-align: right;\">\n",
       "      <th></th>\n",
       "      <th>business_code</th>\n",
       "      <th>cust_number</th>\n",
       "      <th>name_customer</th>\n",
       "      <th>clear_date</th>\n",
       "      <th>buisness_year</th>\n",
       "      <th>doc_id</th>\n",
       "      <th>posting_date</th>\n",
       "      <th>due_in_date</th>\n",
       "      <th>baseline_create_date</th>\n",
       "      <th>cust_payment_terms</th>\n",
       "      <th>...</th>\n",
       "      <th>month_of_createdate</th>\n",
       "      <th>year_of_createdate</th>\n",
       "      <th>day_of_due</th>\n",
       "      <th>month_of_due</th>\n",
       "      <th>year_of_due</th>\n",
       "      <th>day_of_cleardate</th>\n",
       "      <th>month_of_cleardate</th>\n",
       "      <th>year_of_cleardate</th>\n",
       "      <th>cust_payment_terms_enc</th>\n",
       "      <th>name_customer_enc</th>\n",
       "    </tr>\n",
       "  </thead>\n",
       "  <tbody>\n",
       "    <tr>\n",
       "      <th>3</th>\n",
       "      <td>CA02</td>\n",
       "      <td>140105686</td>\n",
       "      <td>SYSC llc</td>\n",
       "      <td>NaT</td>\n",
       "      <td>2020</td>\n",
       "      <td>2960623488</td>\n",
       "      <td>2020-03-30</td>\n",
       "      <td>2020-04-10</td>\n",
       "      <td>2020-03-31</td>\n",
       "      <td>CA10</td>\n",
       "      <td>...</td>\n",
       "      <td>3</td>\n",
       "      <td>2020</td>\n",
       "      <td>10</td>\n",
       "      <td>4</td>\n",
       "      <td>2020</td>\n",
       "      <td>NaN</td>\n",
       "      <td>NaN</td>\n",
       "      <td>NaN</td>\n",
       "      <td>5</td>\n",
       "      <td>2712</td>\n",
       "    </tr>\n",
       "    <tr>\n",
       "      <th>7</th>\n",
       "      <td>U001</td>\n",
       "      <td>200744019</td>\n",
       "      <td>TARG us</td>\n",
       "      <td>NaT</td>\n",
       "      <td>2020</td>\n",
       "      <td>1930659387</td>\n",
       "      <td>2020-03-19</td>\n",
       "      <td>2020-04-03</td>\n",
       "      <td>2020-03-19</td>\n",
       "      <td>NAA8</td>\n",
       "      <td>...</td>\n",
       "      <td>3</td>\n",
       "      <td>2020</td>\n",
       "      <td>3</td>\n",
       "      <td>4</td>\n",
       "      <td>2020</td>\n",
       "      <td>NaN</td>\n",
       "      <td>NaN</td>\n",
       "      <td>NaN</td>\n",
       "      <td>20</td>\n",
       "      <td>2795</td>\n",
       "    </tr>\n",
       "    <tr>\n",
       "      <th>10</th>\n",
       "      <td>U001</td>\n",
       "      <td>200418007</td>\n",
       "      <td>AM</td>\n",
       "      <td>NaT</td>\n",
       "      <td>2020</td>\n",
       "      <td>1930610806</td>\n",
       "      <td>2020-11-03</td>\n",
       "      <td>2020-03-26</td>\n",
       "      <td>2020-03-11</td>\n",
       "      <td>NAA8</td>\n",
       "      <td>...</td>\n",
       "      <td>3</td>\n",
       "      <td>2020</td>\n",
       "      <td>26</td>\n",
       "      <td>3</td>\n",
       "      <td>2020</td>\n",
       "      <td>NaN</td>\n",
       "      <td>NaN</td>\n",
       "      <td>NaN</td>\n",
       "      <td>20</td>\n",
       "      <td>93</td>\n",
       "    </tr>\n",
       "    <tr>\n",
       "      <th>14</th>\n",
       "      <td>U001</td>\n",
       "      <td>200739534</td>\n",
       "      <td>OK systems</td>\n",
       "      <td>NaT</td>\n",
       "      <td>2020</td>\n",
       "      <td>1930788296</td>\n",
       "      <td>2020-04-15</td>\n",
       "      <td>2020-04-30</td>\n",
       "      <td>2020-04-15</td>\n",
       "      <td>NAA8</td>\n",
       "      <td>...</td>\n",
       "      <td>4</td>\n",
       "      <td>2020</td>\n",
       "      <td>30</td>\n",
       "      <td>4</td>\n",
       "      <td>2020</td>\n",
       "      <td>NaN</td>\n",
       "      <td>NaN</td>\n",
       "      <td>NaN</td>\n",
       "      <td>20</td>\n",
       "      <td>2021</td>\n",
       "    </tr>\n",
       "    <tr>\n",
       "      <th>15</th>\n",
       "      <td>U001</td>\n",
       "      <td>200353024</td>\n",
       "      <td>DECA corporation</td>\n",
       "      <td>NaT</td>\n",
       "      <td>2020</td>\n",
       "      <td>1930817482</td>\n",
       "      <td>2020-04-23</td>\n",
       "      <td>2020-04-26</td>\n",
       "      <td>2020-04-16</td>\n",
       "      <td>NAM2</td>\n",
       "      <td>...</td>\n",
       "      <td>4</td>\n",
       "      <td>2020</td>\n",
       "      <td>26</td>\n",
       "      <td>4</td>\n",
       "      <td>2020</td>\n",
       "      <td>NaN</td>\n",
       "      <td>NaN</td>\n",
       "      <td>NaN</td>\n",
       "      <td>34</td>\n",
       "      <td>722</td>\n",
       "    </tr>\n",
       "    <tr>\n",
       "      <th>...</th>\n",
       "      <td>...</td>\n",
       "      <td>...</td>\n",
       "      <td>...</td>\n",
       "      <td>...</td>\n",
       "      <td>...</td>\n",
       "      <td>...</td>\n",
       "      <td>...</td>\n",
       "      <td>...</td>\n",
       "      <td>...</td>\n",
       "      <td>...</td>\n",
       "      <td>...</td>\n",
       "      <td>...</td>\n",
       "      <td>...</td>\n",
       "      <td>...</td>\n",
       "      <td>...</td>\n",
       "      <td>...</td>\n",
       "      <td>...</td>\n",
       "      <td>...</td>\n",
       "      <td>...</td>\n",
       "      <td>...</td>\n",
       "      <td>...</td>\n",
       "    </tr>\n",
       "    <tr>\n",
       "      <th>49975</th>\n",
       "      <td>U001</td>\n",
       "      <td>200769623</td>\n",
       "      <td>WAL-MAR in</td>\n",
       "      <td>NaT</td>\n",
       "      <td>2020</td>\n",
       "      <td>1930624804</td>\n",
       "      <td>2020-10-03</td>\n",
       "      <td>2020-03-25</td>\n",
       "      <td>2020-03-10</td>\n",
       "      <td>NAH4</td>\n",
       "      <td>...</td>\n",
       "      <td>3</td>\n",
       "      <td>2020</td>\n",
       "      <td>25</td>\n",
       "      <td>3</td>\n",
       "      <td>2020</td>\n",
       "      <td>NaN</td>\n",
       "      <td>NaN</td>\n",
       "      <td>NaN</td>\n",
       "      <td>32</td>\n",
       "      <td>2987</td>\n",
       "    </tr>\n",
       "    <tr>\n",
       "      <th>49980</th>\n",
       "      <td>U001</td>\n",
       "      <td>200769623</td>\n",
       "      <td>WAL-MAR corporation</td>\n",
       "      <td>NaT</td>\n",
       "      <td>2020</td>\n",
       "      <td>1930850962</td>\n",
       "      <td>2020-03-05</td>\n",
       "      <td>2020-05-18</td>\n",
       "      <td>2020-05-03</td>\n",
       "      <td>NAH4</td>\n",
       "      <td>...</td>\n",
       "      <td>5</td>\n",
       "      <td>2020</td>\n",
       "      <td>18</td>\n",
       "      <td>5</td>\n",
       "      <td>2020</td>\n",
       "      <td>NaN</td>\n",
       "      <td>NaN</td>\n",
       "      <td>NaN</td>\n",
       "      <td>32</td>\n",
       "      <td>2985</td>\n",
       "    </tr>\n",
       "    <tr>\n",
       "      <th>49982</th>\n",
       "      <td>U001</td>\n",
       "      <td>200148860</td>\n",
       "      <td>DOLLA co</td>\n",
       "      <td>NaT</td>\n",
       "      <td>2020</td>\n",
       "      <td>1930637779</td>\n",
       "      <td>2020-11-03</td>\n",
       "      <td>2020-03-26</td>\n",
       "      <td>2020-03-11</td>\n",
       "      <td>NAA8</td>\n",
       "      <td>...</td>\n",
       "      <td>3</td>\n",
       "      <td>2020</td>\n",
       "      <td>26</td>\n",
       "      <td>3</td>\n",
       "      <td>2020</td>\n",
       "      <td>NaN</td>\n",
       "      <td>NaN</td>\n",
       "      <td>NaN</td>\n",
       "      <td>20</td>\n",
       "      <td>796</td>\n",
       "    </tr>\n",
       "    <tr>\n",
       "      <th>49992</th>\n",
       "      <td>U001</td>\n",
       "      <td>200900909</td>\n",
       "      <td>SYSCO co</td>\n",
       "      <td>NaT</td>\n",
       "      <td>2020</td>\n",
       "      <td>1930702251</td>\n",
       "      <td>2020-03-25</td>\n",
       "      <td>2020-04-09</td>\n",
       "      <td>2020-03-25</td>\n",
       "      <td>NAA8</td>\n",
       "      <td>...</td>\n",
       "      <td>3</td>\n",
       "      <td>2020</td>\n",
       "      <td>9</td>\n",
       "      <td>4</td>\n",
       "      <td>2020</td>\n",
       "      <td>NaN</td>\n",
       "      <td>NaN</td>\n",
       "      <td>NaN</td>\n",
       "      <td>20</td>\n",
       "      <td>2759</td>\n",
       "    </tr>\n",
       "    <tr>\n",
       "      <th>49995</th>\n",
       "      <td>U001</td>\n",
       "      <td>200561861</td>\n",
       "      <td>CO corporation</td>\n",
       "      <td>NaT</td>\n",
       "      <td>2020</td>\n",
       "      <td>1930797071</td>\n",
       "      <td>2020-04-21</td>\n",
       "      <td>2020-05-06</td>\n",
       "      <td>2020-04-21</td>\n",
       "      <td>NAA8</td>\n",
       "      <td>...</td>\n",
       "      <td>4</td>\n",
       "      <td>2020</td>\n",
       "      <td>6</td>\n",
       "      <td>5</td>\n",
       "      <td>2020</td>\n",
       "      <td>NaN</td>\n",
       "      <td>NaN</td>\n",
       "      <td>NaN</td>\n",
       "      <td>20</td>\n",
       "      <td>547</td>\n",
       "    </tr>\n",
       "  </tbody>\n",
       "</table>\n",
       "<p>9681 rows × 26 columns</p>\n",
       "</div>"
      ],
      "text/plain": [
       "      business_code  cust_number        name_customer clear_date  \\\n",
       "3              CA02    140105686             SYSC llc        NaT   \n",
       "7              U001    200744019              TARG us        NaT   \n",
       "10             U001    200418007                  AM         NaT   \n",
       "14             U001    200739534           OK systems        NaT   \n",
       "15             U001    200353024     DECA corporation        NaT   \n",
       "...             ...          ...                  ...        ...   \n",
       "49975          U001    200769623           WAL-MAR in        NaT   \n",
       "49980          U001    200769623  WAL-MAR corporation        NaT   \n",
       "49982          U001    200148860             DOLLA co        NaT   \n",
       "49992          U001    200900909             SYSCO co        NaT   \n",
       "49995          U001    200561861       CO corporation        NaT   \n",
       "\n",
       "       buisness_year      doc_id posting_date due_in_date  \\\n",
       "3               2020  2960623488   2020-03-30  2020-04-10   \n",
       "7               2020  1930659387   2020-03-19  2020-04-03   \n",
       "10              2020  1930610806   2020-11-03  2020-03-26   \n",
       "14              2020  1930788296   2020-04-15  2020-04-30   \n",
       "15              2020  1930817482   2020-04-23  2020-04-26   \n",
       "...              ...         ...          ...         ...   \n",
       "49975           2020  1930624804   2020-10-03  2020-03-25   \n",
       "49980           2020  1930850962   2020-03-05  2020-05-18   \n",
       "49982           2020  1930637779   2020-11-03  2020-03-26   \n",
       "49992           2020  1930702251   2020-03-25  2020-04-09   \n",
       "49995           2020  1930797071   2020-04-21  2020-05-06   \n",
       "\n",
       "      baseline_create_date cust_payment_terms  ...  month_of_createdate  \\\n",
       "3               2020-03-31               CA10  ...                    3   \n",
       "7               2020-03-19               NAA8  ...                    3   \n",
       "10              2020-03-11               NAA8  ...                    3   \n",
       "14              2020-04-15               NAA8  ...                    4   \n",
       "15              2020-04-16               NAM2  ...                    4   \n",
       "...                    ...                ...  ...                  ...   \n",
       "49975           2020-03-10               NAH4  ...                    3   \n",
       "49980           2020-05-03               NAH4  ...                    5   \n",
       "49982           2020-03-11               NAA8  ...                    3   \n",
       "49992           2020-03-25               NAA8  ...                    3   \n",
       "49995           2020-04-21               NAA8  ...                    4   \n",
       "\n",
       "       year_of_createdate  day_of_due  month_of_due  year_of_due  \\\n",
       "3                    2020          10             4         2020   \n",
       "7                    2020           3             4         2020   \n",
       "10                   2020          26             3         2020   \n",
       "14                   2020          30             4         2020   \n",
       "15                   2020          26             4         2020   \n",
       "...                   ...         ...           ...          ...   \n",
       "49975                2020          25             3         2020   \n",
       "49980                2020          18             5         2020   \n",
       "49982                2020          26             3         2020   \n",
       "49992                2020           9             4         2020   \n",
       "49995                2020           6             5         2020   \n",
       "\n",
       "       day_of_cleardate  month_of_cleardate  year_of_cleardate  \\\n",
       "3                   NaN                 NaN                NaN   \n",
       "7                   NaN                 NaN                NaN   \n",
       "10                  NaN                 NaN                NaN   \n",
       "14                  NaN                 NaN                NaN   \n",
       "15                  NaN                 NaN                NaN   \n",
       "...                 ...                 ...                ...   \n",
       "49975               NaN                 NaN                NaN   \n",
       "49980               NaN                 NaN                NaN   \n",
       "49982               NaN                 NaN                NaN   \n",
       "49992               NaN                 NaN                NaN   \n",
       "49995               NaN                 NaN                NaN   \n",
       "\n",
       "       cust_payment_terms_enc  name_customer_enc  \n",
       "3                           5               2712  \n",
       "7                          20               2795  \n",
       "10                         20                 93  \n",
       "14                         20               2021  \n",
       "15                         34                722  \n",
       "...                       ...                ...  \n",
       "49975                      32               2987  \n",
       "49980                      32               2985  \n",
       "49982                      20                796  \n",
       "49992                      20               2759  \n",
       "49995                      20                547  \n",
       "\n",
       "[9681 rows x 26 columns]"
      ]
     },
     "execution_count": 145,
     "metadata": {},
     "output_type": "execute_result"
    }
   ],
   "source": [
    "nulldata"
   ]
  },
  {
   "cell_type": "code",
   "execution_count": 146,
   "id": "d7c82076",
   "metadata": {
    "id": "d7c82076"
   },
   "outputs": [],
   "source": [
    "nulldata.drop(['business_code', 'baseline_create_date','due_in_date', 'posting_date','name_customer', 'clear_date', 'cust_payment_terms', 'day_of_cleardate','month_of_cleardate','year_of_cleardate'], axis = 1, inplace=True)"
   ]
  },
  {
   "cell_type": "markdown",
   "id": "Q_NCr9IPweVq",
   "metadata": {
    "id": "Q_NCr9IPweVq"
   },
   "source": [
    "### Check the information of the \"nulldata\" dataframe"
   ]
  },
  {
   "cell_type": "code",
   "execution_count": null,
   "id": "4e7ffee0",
   "metadata": {
    "id": "4e7ffee0"
   },
   "outputs": [],
   "source": [
    "nulldata.info()"
   ]
  },
  {
   "cell_type": "markdown",
   "id": "-XvjhWqmwi-C",
   "metadata": {
    "id": "-XvjhWqmwi-C"
   },
   "source": [
    "### Compare \"nulldata\" with the \"X_test\" dataframe \n",
    "\n",
    "- use info() method"
   ]
  },
  {
   "cell_type": "code",
   "execution_count": null,
   "id": "d46fee73",
   "metadata": {},
   "outputs": [],
   "source": [
    "X_test.info()"
   ]
  },
  {
   "cell_type": "code",
   "execution_count": null,
   "id": "7d1687f3",
   "metadata": {},
   "outputs": [],
   "source": [
    "nulldata.info()"
   ]
  },
  {
   "cell_type": "markdown",
   "id": "Us3ey-9zwqjq",
   "metadata": {
    "id": "Us3ey-9zwqjq"
   },
   "source": [
    "### You must have noticed that there is a mismatch in the column sequence while compairing the dataframes\n",
    "\n",
    "- Note - In order to fed into the machine learning model, you need to edit the sequence of \"nulldata\", similar to the \"X_test\" dataframe"
   ]
  },
  {
   "cell_type": "markdown",
   "id": "vduVNt1kxPW-",
   "metadata": {
    "id": "vduVNt1kxPW-"
   },
   "source": [
    "- Display all the columns of the X_test dataframe \n",
    "- Display all the columns of the Nulldata dataframe \n",
    "- Store the Nulldata with new sequence into a new dataframe \n",
    "\n",
    "\n",
    "- Note - The code is given below, no need to change "
   ]
  },
  {
   "cell_type": "code",
   "execution_count": null,
   "id": "6729353e",
   "metadata": {
    "id": "6729353e"
   },
   "outputs": [],
   "source": [
    "X_test.columns"
   ]
  },
  {
   "cell_type": "code",
   "execution_count": null,
   "id": "47bd9c5e",
   "metadata": {
    "id": "47bd9c5e"
   },
   "outputs": [],
   "source": [
    "nulldata.columns"
   ]
  },
  {
   "cell_type": "code",
   "execution_count": null,
   "id": "4c107b7e",
   "metadata": {},
   "outputs": [],
   "source": [
    "nulldata"
   ]
  },
  {
   "cell_type": "code",
   "execution_count": null,
   "id": "aa5a2103",
   "metadata": {
    "id": "aa5a2103"
   },
   "outputs": [],
   "source": [
    "nulldata2=nulldata[['cust_number', 'buisness_year', 'doc_id', 'converted_usd',\n",
    "       'business_code_enc', 'name_customer_enc', 'cust_payment_terms_enc',\n",
    "       'day_of_postingdate', 'month_of_postingdate', 'year_of_postingdate',\n",
    "       'day_of_createdate', 'month_of_createdate', 'year_of_createdate',\n",
    "       'day_of_due', 'month_of_due', 'year_of_due']]"
   ]
  },
  {
   "cell_type": "markdown",
   "id": "1dc8b021",
   "metadata": {
    "id": "1dc8b021"
   },
   "source": [
    "### Display the Final Dataset"
   ]
  },
  {
   "cell_type": "code",
   "execution_count": null,
   "id": "2f39785a",
   "metadata": {
    "id": "2f39785a"
   },
   "outputs": [],
   "source": [
    "nulldata2"
   ]
  },
  {
   "cell_type": "markdown",
   "id": "27b88c5a",
   "metadata": {
    "id": "27b88c5a"
   },
   "source": [
    "### Now you can pass this dataset into you final model and store it into \"final_result\""
   ]
  },
  {
   "cell_type": "code",
   "execution_count": null,
   "id": "9e0b6388",
   "metadata": {
    "id": "9e0b6388"
   },
   "outputs": [],
   "source": [
    "final_result = random_forest.predict(nulldata2)"
   ]
  },
  {
   "cell_type": "markdown",
   "id": "9653d3c6",
   "metadata": {
    "id": "9653d3c6"
   },
   "source": [
    "### you need to make the final_result as dataframe, with a column name \"avg_delay\"\n",
    "\n",
    "- Note - No need to change the code"
   ]
  },
  {
   "cell_type": "code",
   "execution_count": null,
   "id": "25ef814d",
   "metadata": {
    "id": "25ef814d"
   },
   "outputs": [],
   "source": [
    "final_result = pd.Series(final_result,name='avg_delay')"
   ]
  },
  {
   "cell_type": "markdown",
   "id": "C86staIhyf2C",
   "metadata": {
    "id": "C86staIhyf2C"
   },
   "source": [
    "### Display the \"avg_delay\" column"
   ]
  },
  {
   "cell_type": "code",
   "execution_count": null,
   "id": "4fd46406",
   "metadata": {
    "id": "4fd46406"
   },
   "outputs": [],
   "source": [
    "final_result"
   ]
  },
  {
   "cell_type": "markdown",
   "id": "44f71a7e",
   "metadata": {
    "id": "44f71a7e"
   },
   "source": [
    "### Now you need to merge this final_result dataframe with the BACKUP of \"nulldata\" Dataframe which we have created in earlier steps"
   ]
  },
  {
   "cell_type": "code",
   "execution_count": null,
   "id": "e8f0969d",
   "metadata": {
    "id": "e8f0969d"
   },
   "outputs": [],
   "source": [
    "nulldata1.reset_index(drop=True,inplace=True)\n",
    "Final = nulldata1.merge(final_result , on = nulldata.index )"
   ]
  },
  {
   "cell_type": "markdown",
   "id": "G-hLtxXgy4GZ",
   "metadata": {
    "id": "G-hLtxXgy4GZ"
   },
   "source": [
    "### Display the \"Final\" dataframe "
   ]
  },
  {
   "cell_type": "code",
   "execution_count": null,
   "id": "71fb4dc0",
   "metadata": {
    "id": "71fb4dc0"
   },
   "outputs": [],
   "source": [
    "Final"
   ]
  },
  {
   "cell_type": "markdown",
   "id": "4sc27Uz-y-0O",
   "metadata": {
    "id": "4sc27Uz-y-0O"
   },
   "source": [
    "### Check for the Number of Rows and Columns in your \"Final\" dataframe "
   ]
  },
  {
   "cell_type": "code",
   "execution_count": null,
   "id": "5iUXOIhzy_HR",
   "metadata": {
    "id": "5iUXOIhzy_HR"
   },
   "outputs": [],
   "source": [
    "Final.shape"
   ]
  },
  {
   "cell_type": "markdown",
   "id": "48886d2c",
   "metadata": {
    "id": "48886d2c"
   },
   "source": [
    "### Now, you need to do convert the below fields back into date and time format \n",
    "\n",
    "- Convert \"due_in_date\" into datetime format\n",
    "- Convert \"avg_delay\" into datetime format\n",
    "- Create a new column \"clear_date\" and store the sum of \"due_in_date\" and \"avg_delay\"\n",
    "- display the new \"clear_date\" column\n",
    "- Note - Code is given below, no need to change "
   ]
  },
  {
   "cell_type": "code",
   "execution_count": null,
   "id": "243abc2d",
   "metadata": {
    "id": "243abc2d"
   },
   "outputs": [],
   "source": [
    "Final['clear_date'] = pd.to_datetime(Final['due_in_date']) + pd.to_timedelta(Final['avg_delay'], unit='s')"
   ]
  },
  {
   "cell_type": "markdown",
   "id": "9QcX_fAjIkYR",
   "metadata": {
    "id": "9QcX_fAjIkYR"
   },
   "source": [
    "### Display the \"clear_date\" column"
   ]
  },
  {
   "cell_type": "code",
   "execution_count": null,
   "id": "740e1486",
   "metadata": {
    "id": "740e1486"
   },
   "outputs": [],
   "source": [
    "Final['clear_date']"
   ]
  },
  {
   "cell_type": "markdown",
   "id": "MSkNLq6-z7rZ",
   "metadata": {
    "id": "MSkNLq6-z7rZ"
   },
   "source": [
    "### Convert the average delay into number of days format \n",
    "\n",
    "- Note - Formula = avg_delay//(24 * 3600)\n",
    "- Note - full code is given for this, no need to change "
   ]
  },
  {
   "cell_type": "code",
   "execution_count": null,
   "id": "b81415a3",
   "metadata": {},
   "outputs": [],
   "source": [
    "Final['avg_delay']"
   ]
  },
  {
   "cell_type": "code",
   "execution_count": null,
   "id": "ce6b618a",
   "metadata": {
    "id": "ce6b618a"
   },
   "outputs": [],
   "source": [
    "Final['avg_delay'] = Final.apply(lambda row: row.avg_delay//(24 * 3600), axis = 1)"
   ]
  },
  {
   "cell_type": "markdown",
   "id": "wbBBZPjP0W7o",
   "metadata": {
    "id": "wbBBZPjP0W7o"
   },
   "source": [
    "### Display the \"avg_delay\" column "
   ]
  },
  {
   "cell_type": "code",
   "execution_count": null,
   "id": "a494982f",
   "metadata": {
    "id": "a494982f",
    "scrolled": true
   },
   "outputs": [],
   "source": [
    "Final[['avg_delay']]"
   ]
  },
  {
   "cell_type": "markdown",
   "id": "815d8811",
   "metadata": {
    "id": "815d8811"
   },
   "source": [
    "### Now you need to convert average delay column into bucket\n",
    "\n",
    "- Need to perform binning \n",
    "- create a list of bins i.e. bins= [0,15,30,45,60,100]\n",
    "- create a list of labels i.e. labels = ['0-15','16-30','31-45','46-60','Greatar than 60']\n",
    "- perform binning by using cut() function from \"Final\" dataframe\n",
    "\n",
    "\n",
    "- Please fill up the first two rows of the code"
   ]
  },
  {
   "cell_type": "code",
   "execution_count": null,
   "id": "c797e4b5",
   "metadata": {
    "id": "c797e4b5"
   },
   "outputs": [],
   "source": [
    "bins=  [-110,15,30,45,60,140]\n",
    "labels = ['0-15','16-30','31-45','46-60','Greatar than 60']\n",
    "Final['Aging Bucket'] = pd.cut(Final['avg_delay'], bins=bins, labels=labels, right=False)"
   ]
  },
  {
   "cell_type": "markdown",
   "id": "1c35725f",
   "metadata": {
    "id": "1c35725f"
   },
   "source": [
    "### Now you need to drop \"key_0\" and \"avg_delay\" columns from the \"Final\" Dataframe"
   ]
  },
  {
   "cell_type": "code",
   "execution_count": null,
   "id": "b31bc6a3",
   "metadata": {
    "id": "b31bc6a3"
   },
   "outputs": [],
   "source": [
    "Final.drop(['key_0','avg_delay'], axis=1,inplace=True)"
   ]
  },
  {
   "cell_type": "code",
   "execution_count": null,
   "id": "df82aabe",
   "metadata": {},
   "outputs": [],
   "source": [
    "Final"
   ]
  },
  {
   "cell_type": "markdown",
   "id": "Ui-tyIvU0-5u",
   "metadata": {
    "id": "Ui-tyIvU0-5u"
   },
   "source": [
    "### Display the count of each categoty of new \"Aging Bucket\" column "
   ]
  },
  {
   "cell_type": "code",
   "execution_count": null,
   "id": "a6e16218",
   "metadata": {
    "id": "a6e16218"
   },
   "outputs": [],
   "source": [
    "Final['Aging Bucket'].value_counts()"
   ]
  },
  {
   "cell_type": "markdown",
   "id": "kgYegy551GKJ",
   "metadata": {
    "id": "kgYegy551GKJ"
   },
   "source": [
    "### Display your final dataset with aging buckets "
   ]
  },
  {
   "cell_type": "code",
   "execution_count": null,
   "id": "c4bc87ec",
   "metadata": {
    "id": "c4bc87ec"
   },
   "outputs": [],
   "source": [
    "Final"
   ]
  },
  {
   "cell_type": "markdown",
   "id": "Ji7AoDCB1L_x",
   "metadata": {
    "id": "Ji7AoDCB1L_x"
   },
   "source": [
    "### Store this dataframe into the .csv format"
   ]
  },
  {
   "cell_type": "code",
   "execution_count": null,
   "id": "727d0b8d",
   "metadata": {
    "id": "727d0b8d"
   },
   "outputs": [],
   "source": [
    "Final.to_csv('HRC60417WK_ARYAMITRA_CHAUDHURI.csv')"
   ]
  },
  {
   "cell_type": "markdown",
   "id": "FK0fabl61SkC",
   "metadata": {
    "id": "FK0fabl61SkC"
   },
   "source": [
    "# END OF THE PROJECT"
   ]
  }
 ],
 "metadata": {
  "colab": {
   "collapsed_sections": [
    "62633a84"
   ],
   "name": "Payment date prediction.ipynb",
   "provenance": []
  },
  "kernelspec": {
   "display_name": "Python 3 (ipykernel)",
   "language": "python",
   "name": "python3"
  },
  "language_info": {
   "codemirror_mode": {
    "name": "ipython",
    "version": 3
   },
   "file_extension": ".py",
   "mimetype": "text/x-python",
   "name": "python",
   "nbconvert_exporter": "python",
   "pygments_lexer": "ipython3",
   "version": "3.10.4"
  }
 },
 "nbformat": 4,
 "nbformat_minor": 5
}
